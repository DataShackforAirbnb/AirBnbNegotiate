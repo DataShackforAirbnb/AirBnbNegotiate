{
 "cells": [
  {
   "cell_type": "code",
   "execution_count": 1,
   "metadata": {
    "collapsed": false
   },
   "outputs": [
    {
     "name": "stderr",
     "output_type": "stream",
     "text": [
      "/Users/fqian/anaconda/lib/python2.7/site-packages/matplotlib/font_manager.py:273: UserWarning: Matplotlib is building the font cache using fc-list. This may take a moment.\n",
      "  warnings.warn('Matplotlib is building the font cache using fc-list. This may take a moment.')\n"
     ]
    }
   ],
   "source": [
    "import pandas as pd\n",
    "import numpy as np\n",
    "import matplotlib.pyplot as plt\n",
    "import seaborn as sns\n",
    "%matplotlib inline  \n",
    "import datetime as dt\n",
    "\n",
    "pd.options.mode.chained_assignment = None  # default='warn'"
   ]
  },
  {
   "cell_type": "code",
   "execution_count": 30,
   "metadata": {
    "collapsed": false
   },
   "outputs": [],
   "source": [
    "from sklearn.linear_model import LinearRegression\n",
    "from sklearn.linear_model import LogisticRegression\n",
    "from sklearn.ensemble import RandomForestClassifier\n",
    "from sklearn.ensemble import RandomForestRegressor\n",
    "from sklearn.cross_validation import cross_val_predict\n",
    "from sklearn.cross_validation import cross_val_score\n",
    "from sklearn.preprocessing import PolynomialFeatures\n",
    "from sklearn.preprocessing import Imputer\n",
    "from sklearn import metrics\n",
    "from sklearn import svm"
   ]
  },
  {
   "cell_type": "markdown",
   "metadata": {},
   "source": [
    "## 1. Data Cleaning and Feature Engineering"
   ]
  },
  {
   "cell_type": "markdown",
   "metadata": {},
   "source": [
    "#### 1.1 First clean: only take the useful columns"
   ]
  },
  {
   "cell_type": "code",
   "execution_count": 3,
   "metadata": {
    "collapsed": false
   },
   "outputs": [],
   "source": [
    "round3 = pd.read_json(\"round3_merged.json\")\n",
    "round2 = pd.read_json(\"round2_merged.json\")\n",
    "round1 = pd.read_json(\"round1_merged.json\")"
   ]
  },
  {
   "cell_type": "code",
   "execution_count": 5,
   "metadata": {
    "collapsed": false
   },
   "outputs": [
    {
     "name": "stdout",
     "output_type": "stream",
     "text": [
      "Number of observations in round 3:  288\n",
      "Number of observations in round 2:  226\n",
      "Number of observations in round 1:  194\n"
     ]
    }
   ],
   "source": [
    "round3_clean = round3[[\"id\", \"host_id\", \"host_response_rate\", \"host_acceptance_rate\", \n",
    "                       \"host_total_listings_count\", \"instant_bookable\", \n",
    "                       \"room_type\", \"bucket_name\", \"discount_asked\", \"nightly_price\", \n",
    "                       \"decision\", \"price_agreed\", \"discount_agreed\", \"percent_agreed\",\n",
    "                       \"calendars\", \"price_requested\"]]\n",
    "round2_clean = round2[[\"id\", \"host_id\", \"host_response_rate\", \"host_acceptance_rate\", \n",
    "                       \"host_total_listings_count\", \"instant_bookable\", \n",
    "                       \"room_type\", \"bucket_name\", \"discount_asked\", \"nightly_price\", \n",
    "                       \"decision\", \"price_agreed\", \"discount_agreed\", \"percent_agreed\",\n",
    "                       \"calendars\", \"price_requested\"]]\n",
    "round1_clean = round1[[\"id\", \"host_id\", \"host_response_rate\", \"host_acceptance_rate\", \n",
    "                       \"host_total_listings_count\", \"instant_bookable\", \n",
    "                       \"room_type\", \"bucket_name\", \"discount_asked\", \"nightly_price\", \n",
    "                       \"availability\", \"price\", \"discount\",\n",
    "                       \"calendars\", \"price_requested\"]]\n",
    "\n",
    "print \"Number of observations in round 3: \", len(round3_clean)\n",
    "print \"Number of observations in round 2: \", len(round2_clean)\n",
    "print \"Number of observations in round 1: \", len(round1_clean)\n",
    "\n",
    "# round3_clean.reset_index(drop=True).head()"
   ]
  },
  {
   "cell_type": "code",
   "execution_count": 6,
   "metadata": {
    "collapsed": false
   },
   "outputs": [],
   "source": [
    "round1_clean = round1_clean.rename(columns = {\"availability\":\"decision\", \"price\":\"price_agreed\", \"discount\":\"percent_agreed\"})\n",
    "# round1_clean.head()"
   ]
  },
  {
   "cell_type": "code",
   "execution_count": 7,
   "metadata": {
    "collapsed": false
   },
   "outputs": [],
   "source": [
    "round1_clean = round1_clean.rename(columns = {\"availability\":\"decision\", \"price\":\"price_agreed\", \"discount\":\"percent_agreed\"})\n",
    "round1_clean[\"percent_agreed\"] = [np.nan if val==None else float(val.strip(\"%\"))/100. for val in  round1_clean.percent_agreed.values]\n",
    "\n",
    "combined = pd.concat([round1_clean, round2_clean, round3_clean], keys=[\"round1\", \"round2\", \"round3\"], ignore_index=False)\n",
    "combined[\"source\"] = combined.index.labels[0]+1\n",
    "combined = combined.reset_index(drop=True)"
   ]
  },
  {
   "cell_type": "code",
   "execution_count": 8,
   "metadata": {
    "collapsed": false
   },
   "outputs": [],
   "source": [
    "# combined.head()"
   ]
  },
  {
   "cell_type": "code",
   "execution_count": 9,
   "metadata": {
    "collapsed": false
   },
   "outputs": [
    {
     "data": {
      "text/plain": [
       "bucket_name                    0\n",
       "calendars                      0\n",
       "decision                       0\n",
       "discount_agreed              705\n",
       "discount_asked                 0\n",
       "host_acceptance_rate          56\n",
       "host_id                        0\n",
       "host_response_rate            20\n",
       "host_total_listings_count      0\n",
       "id                             0\n",
       "instant_bookable               0\n",
       "nightly_price                  0\n",
       "percent_agreed               703\n",
       "price_agreed                 573\n",
       "price_requested              283\n",
       "room_type                      0\n",
       "source                         0\n",
       "dtype: int64"
      ]
     },
     "execution_count": 9,
     "metadata": {},
     "output_type": "execute_result"
    }
   ],
   "source": [
    "combined.isnull().sum()"
   ]
  },
  {
   "cell_type": "markdown",
   "metadata": {},
   "source": [
    "#### 1.2 Add useful independent variables"
   ]
  },
  {
   "cell_type": "markdown",
   "metadata": {},
   "source": [
    "Add variables from the calendars:\n",
    "* median price\n",
    "* standard deviation （normalized, using the median price)"
   ]
  },
  {
   "cell_type": "code",
   "execution_count": 10,
   "metadata": {
    "collapsed": false,
    "scrolled": true
   },
   "outputs": [],
   "source": [
    "calendar_price =  np.array([(np.median(calendar[\"price_USD\"].values()), np.std(calendar[\"price_USD\"].values()), np.max(calendar[\"price_USD\"].values())) \n",
    "                            for calendar in combined[\"calendars\"].values])\n",
    "calendar_median_price = calendar_price[:,0]\n",
    "calendar_price_std = calendar_price[:,1]\n",
    "calendar_price_high = calendar_price[:,2]\n",
    "\n",
    "combined[\"price_median\"]=calendar_median_price\n",
    "combined[\"price_std\"]=calendar_price_std/calendar_median_price\n",
    "combined[\"orig_percent_off\"]=1-combined[\"nightly_price\"]/calendar_price_high"
   ]
  },
  {
   "cell_type": "markdown",
   "metadata": {},
   "source": [
    "* 1-month occupancy rate"
   ]
  },
  {
   "cell_type": "code",
   "execution_count": 11,
   "metadata": {
    "collapsed": false
   },
   "outputs": [],
   "source": [
    "key_1m = map(str, range(30))\n",
    "calendar_occupancy = [np.mean([calendar[\"availability\"][key] for key in key_1m]) for calendar in combined[\"calendars\"].values]\n",
    "\n",
    "combined[\"occupancy_1m\"]=calendar_occupancy"
   ]
  },
  {
   "cell_type": "markdown",
   "metadata": {},
   "source": [
    "Convert string variables to numeric:\n",
    "* whether room will be shared\n",
    "* whether instant booking is turned on\n",
    "* the response rate of the host (contains nans)"
   ]
  },
  {
   "cell_type": "code",
   "execution_count": 12,
   "metadata": {
    "collapsed": false
   },
   "outputs": [],
   "source": [
    "shared = combined[\"room_type\"].values\n",
    "combined[\"shared\"] = [x!=\"Entire home/apt\" for x in shared]\n",
    "# shared_binary\n",
    "\n",
    "instant = combined[\"instant_bookable\"].values\n",
    "combined[\"instant\"] = [x==\"t\" for x in shared]\n",
    "# instant_binary"
   ]
  },
  {
   "cell_type": "code",
   "execution_count": 13,
   "metadata": {
    "collapsed": false
   },
   "outputs": [
    {
     "name": "stderr",
     "output_type": "stream",
     "text": [
      "/Users/fqian/anaconda/lib/python2.7/site-packages/sklearn/utils/validation.py:386: DeprecationWarning: Passing 1d arrays as data is deprecated in 0.17 and willraise ValueError in 0.19. Reshape your data either using X.reshape(-1, 1) if your data has a single feature or X.reshape(1, -1) if it contains a single sample.\n",
      "  DeprecationWarning)\n"
     ]
    }
   ],
   "source": [
    "response_imputer = Imputer(copy=True, missing_values='NaN', strategy='mean', axis=1)\n",
    "response_num = np.array([float(response_rate.strip('%'))/100 for response_rate in combined[\"host_response_rate\"].fillna(value=\"-100%\").values])\n",
    "response_num = np.array([np.nan if x < 0 else x for x in response_num])\n",
    "# response_imputer.fit(response_num)\n",
    "response_imputed = response_imputer.fit_transform(response_num)[0]\n",
    "\n",
    "# print len(response_imputed)\n",
    "combined[\"response_rate\"] = response_imputed"
   ]
  },
  {
   "cell_type": "markdown",
   "metadata": {},
   "source": [
    "#### 1.3 Add indicators for the buckets\n",
    "\n",
    "Construct 11 variables: 3 types of orphans, 2 types of advances, and 3x2=6 types of interactions"
   ]
  },
  {
   "cell_type": "code",
   "execution_count": 14,
   "metadata": {
    "collapsed": false
   },
   "outputs": [],
   "source": [
    "opening_attr = combined[\"bucket_name\"].values\n",
    "# orphan = []\n",
    "# advance = []\n",
    "N = len(opening_attr)\n",
    "orp_1 = np.zeros(N)\n",
    "orp_2 = np.zeros(N)\n",
    "orp_3 = np.zeros(N)\n",
    "adv_1 = np.zeros(N)\n",
    "adv_2 = np.zeros(N)\n",
    "\n",
    "for (i,x) in enumerate(opening_attr):\n",
    "    if x == \"days1_weeks1\":\n",
    "        orp_1[i] = 1\n",
    "        orp_2[i] = 0\n",
    "        orp_3[i] = 0\n",
    "        adv_1[i] = 1\n",
    "        adv_2[i] = 0\n",
    "    elif x == \"days1_weeks2\":\n",
    "        orp_1[i] = 1\n",
    "        orp_2[i] = 0\n",
    "        orp_3[i] = 0\n",
    "        adv_1[i] = 0\n",
    "        adv_2[i] = 1\n",
    "    elif x == \"days1_weeksM\":\n",
    "        orp_1[i] = 1\n",
    "        orp_2[i] = 0\n",
    "        orp_3[i] = 0\n",
    "        adv_1[i] = 0\n",
    "        adv_2[i] = 0\n",
    "    elif x == \"days2_weeks1\":\n",
    "        orp_1[i] = 0\n",
    "        orp_2[i] = 1\n",
    "        orp_3[i] = 0\n",
    "        adv_1[i] = 1\n",
    "        adv_2[i] = 0\n",
    "    elif x == \"days2_weeks2\":\n",
    "        orp_1[i] = 0\n",
    "        orp_2[i] = 1\n",
    "        orp_3[i] = 0\n",
    "        adv_1[i] = 0\n",
    "        adv_2[i] = 1\n",
    "    elif x == \"days2_weeksM\":\n",
    "        orp_1[i] = 0\n",
    "        orp_2[i] = 1\n",
    "        orp_3[i] = 0\n",
    "        adv_1[i] = 0\n",
    "        adv_2[i] = 0\n",
    "    elif x == \"days3_weeks1\":\n",
    "        orp_1[i] = 0\n",
    "        orp_2[i] = 0\n",
    "        orp_3[i] = 1\n",
    "        adv_1[i] = 1\n",
    "        adv_2[i] = 0\n",
    "    elif x == \"days3_weeks2\":\n",
    "        orp_1[i] = 0\n",
    "        orp_2[i] = 0\n",
    "        orp_3[i] = 1\n",
    "        adv_1[i] = 0\n",
    "        adv_2[i] = 1\n",
    "    elif x == \"days3_weeksM\":\n",
    "        orp_1[i] = 0\n",
    "        orp_2[i] = 0\n",
    "        orp_3[i] = 1\n",
    "        adv_1[i] = 0\n",
    "        adv_2[i] = 0\n",
    "    elif x == \"daysM_weeks1\":\n",
    "        orp_1[i] = 0\n",
    "        orp_2[i] = 0\n",
    "        orp_3[i] = 0\n",
    "        adv_1[i] = 1\n",
    "        adv_2[i] = 0\n",
    "    elif x == \"daysM_weeks2\":\n",
    "        orp_1[i] = 0\n",
    "        orp_2[i] = 0\n",
    "        orp_3[i] = 0\n",
    "        adv_1[i] = 0\n",
    "        adv_2[i] = 1\n",
    "    elif x == \"daysM_weeksM\":\n",
    "        orp_1[i] = 0\n",
    "        orp_2[i] = 0\n",
    "        orp_3[i] = 0\n",
    "        adv_1[i] = 0\n",
    "        adv_2[i] = 0\n",
    "        \n",
    "combined[\"orp_1\"]=orp_1\n",
    "combined[\"orp_2\"]=orp_2\n",
    "combined[\"orp_3\"]=orp_3\n",
    "combined[\"adv_1\"]=adv_1\n",
    "combined[\"adv_2\"]=adv_2"
   ]
  },
  {
   "cell_type": "code",
   "execution_count": 15,
   "metadata": {
    "collapsed": false
   },
   "outputs": [],
   "source": [
    "combined[\"orp_1, adv_1\"] = combined[\"orp_1\"]*combined[\"adv_1\"]\n",
    "combined[\"orp_1, adv_2\"] = combined[\"orp_1\"]*combined[\"adv_2\"]\n",
    "combined[\"orp_2, adv_1\"] = combined[\"orp_2\"]*combined[\"adv_1\"]\n",
    "combined[\"orp_2, adv_2\"] = combined[\"orp_2\"]*combined[\"adv_2\"]\n",
    "combined[\"orp_3, adv_1\"] = combined[\"orp_3\"]*combined[\"adv_1\"]\n",
    "combined[\"orp_3, adv_2\"] = combined[\"orp_3\"]*combined[\"adv_2\"]"
   ]
  },
  {
   "cell_type": "code",
   "execution_count": 16,
   "metadata": {
    "collapsed": false
   },
   "outputs": [],
   "source": [
    "# combined.columns"
   ]
  },
  {
   "cell_type": "markdown",
   "metadata": {},
   "source": [
    "#### 1.4 Process the decision variables:\n",
    "\n",
    "Calculate the percentage of the discount agreed:"
   ]
  },
  {
   "cell_type": "code",
   "execution_count": 17,
   "metadata": {
    "collapsed": false
   },
   "outputs": [
    {
     "data": {
      "text/plain": [
       "decision\n",
       "-1    0.471751\n",
       " 0    0.316384\n",
       " 1    0.211864\n",
       "Name: id, dtype: float64"
      ]
     },
     "execution_count": 17,
     "metadata": {},
     "output_type": "execute_result"
    }
   ],
   "source": [
    "combined.groupby(\"decision\")[\"id\"].count()/len(combined)"
   ]
  },
  {
   "cell_type": "code",
   "execution_count": 18,
   "metadata": {
    "collapsed": false
   },
   "outputs": [],
   "source": [
    "orig_price = combined[\"nightly_price\"]\n",
    "price_agreed_percent = (np.nan_to_num(combined[\"price_agreed\"])/orig_price)\n",
    "discount_agreed1 = [0 if (d>=1 or d==0) else 1-d for d in price_agreed_percent]\n",
    "discount_agreed2 = np.nan_to_num(combined[\"discount_agreed\"]/orig_price)\n",
    "discount_agreed3 = np.nan_to_num(combined[\"percent_agreed\"])\n",
    "\n",
    "discount_obtained = np.max([discount_agreed1, discount_agreed2, discount_agreed3], axis=0)\n",
    "# print discount_agreed\n",
    "\n",
    "combined[\"discount_obtained\"] = discount_obtained"
   ]
  },
  {
   "cell_type": "markdown",
   "metadata": {},
   "source": [
    "#### 1.5 Again, only keep the useful columns"
   ]
  },
  {
   "cell_type": "code",
   "execution_count": 19,
   "metadata": {
    "collapsed": false
   },
   "outputs": [],
   "source": [
    "# combined.columns"
   ]
  },
  {
   "cell_type": "code",
   "execution_count": 20,
   "metadata": {
    "collapsed": true
   },
   "outputs": [],
   "source": [
    "combined_clean = combined[[\"host_total_listings_count\", \"response_rate\", \"instant\", \"shared\", \n",
    "                               \"price_median\", \"price_std\", \"occupancy_1m\",\n",
    "                               \"orp_1\", \"orp_2\", \"orp_3\", \"adv_1\", \"adv_2\", \n",
    "                               \"orp_1, adv_1\", \"orp_1, adv_2\", \"orp_2, adv_1\", \"orp_2, adv_2\", \"orp_3, adv_1\", \"orp_3, adv_2\",\n",
    "                               \"orig_percent_off\", \"discount_asked\", \"decision\", \"discount_obtained\", \"source\"]]"
   ]
  },
  {
   "cell_type": "code",
   "execution_count": 21,
   "metadata": {
    "collapsed": false
   },
   "outputs": [
    {
     "data": {
      "text/html": [
       "<div>\n",
       "<table border=\"1\" class=\"dataframe\">\n",
       "  <thead>\n",
       "    <tr style=\"text-align: right;\">\n",
       "      <th></th>\n",
       "      <th>host_total_listings_count</th>\n",
       "      <th>response_rate</th>\n",
       "      <th>instant</th>\n",
       "      <th>shared</th>\n",
       "      <th>price_median</th>\n",
       "      <th>price_std</th>\n",
       "      <th>occupancy_1m</th>\n",
       "      <th>orp_1</th>\n",
       "      <th>orp_2</th>\n",
       "      <th>orp_3</th>\n",
       "      <th>...</th>\n",
       "      <th>orp_1, adv_2</th>\n",
       "      <th>orp_2, adv_1</th>\n",
       "      <th>orp_2, adv_2</th>\n",
       "      <th>orp_3, adv_1</th>\n",
       "      <th>orp_3, adv_2</th>\n",
       "      <th>orig_percent_off</th>\n",
       "      <th>discount_asked</th>\n",
       "      <th>decision</th>\n",
       "      <th>discount_obtained</th>\n",
       "      <th>source</th>\n",
       "    </tr>\n",
       "  </thead>\n",
       "  <tbody>\n",
       "    <tr>\n",
       "      <th>0</th>\n",
       "      <td>1</td>\n",
       "      <td>1</td>\n",
       "      <td>False</td>\n",
       "      <td>True</td>\n",
       "      <td>45</td>\n",
       "      <td>0.090351</td>\n",
       "      <td>0.433333</td>\n",
       "      <td>0</td>\n",
       "      <td>0</td>\n",
       "      <td>0</td>\n",
       "      <td>...</td>\n",
       "      <td>0</td>\n",
       "      <td>0</td>\n",
       "      <td>0</td>\n",
       "      <td>0</td>\n",
       "      <td>0</td>\n",
       "      <td>0.055556</td>\n",
       "      <td>0.7</td>\n",
       "      <td>0</td>\n",
       "      <td>0</td>\n",
       "      <td>1</td>\n",
       "    </tr>\n",
       "    <tr>\n",
       "      <th>1</th>\n",
       "      <td>1</td>\n",
       "      <td>1</td>\n",
       "      <td>False</td>\n",
       "      <td>False</td>\n",
       "      <td>106</td>\n",
       "      <td>0.144629</td>\n",
       "      <td>0.700000</td>\n",
       "      <td>1</td>\n",
       "      <td>0</td>\n",
       "      <td>0</td>\n",
       "      <td>...</td>\n",
       "      <td>0</td>\n",
       "      <td>0</td>\n",
       "      <td>0</td>\n",
       "      <td>0</td>\n",
       "      <td>0</td>\n",
       "      <td>0.000000</td>\n",
       "      <td>0.7</td>\n",
       "      <td>-1</td>\n",
       "      <td>0</td>\n",
       "      <td>1</td>\n",
       "    </tr>\n",
       "    <tr>\n",
       "      <th>2</th>\n",
       "      <td>5</td>\n",
       "      <td>1</td>\n",
       "      <td>False</td>\n",
       "      <td>True</td>\n",
       "      <td>46</td>\n",
       "      <td>0.021650</td>\n",
       "      <td>0.366667</td>\n",
       "      <td>0</td>\n",
       "      <td>0</td>\n",
       "      <td>1</td>\n",
       "      <td>...</td>\n",
       "      <td>0</td>\n",
       "      <td>0</td>\n",
       "      <td>0</td>\n",
       "      <td>1</td>\n",
       "      <td>0</td>\n",
       "      <td>0.108696</td>\n",
       "      <td>0.9</td>\n",
       "      <td>-1</td>\n",
       "      <td>0</td>\n",
       "      <td>1</td>\n",
       "    </tr>\n",
       "    <tr>\n",
       "      <th>3</th>\n",
       "      <td>2</td>\n",
       "      <td>1</td>\n",
       "      <td>False</td>\n",
       "      <td>False</td>\n",
       "      <td>120</td>\n",
       "      <td>0.095207</td>\n",
       "      <td>0.500000</td>\n",
       "      <td>0</td>\n",
       "      <td>1</td>\n",
       "      <td>0</td>\n",
       "      <td>...</td>\n",
       "      <td>0</td>\n",
       "      <td>1</td>\n",
       "      <td>0</td>\n",
       "      <td>0</td>\n",
       "      <td>0</td>\n",
       "      <td>0.246269</td>\n",
       "      <td>0.7</td>\n",
       "      <td>-1</td>\n",
       "      <td>0</td>\n",
       "      <td>1</td>\n",
       "    </tr>\n",
       "    <tr>\n",
       "      <th>4</th>\n",
       "      <td>1</td>\n",
       "      <td>1</td>\n",
       "      <td>False</td>\n",
       "      <td>True</td>\n",
       "      <td>65</td>\n",
       "      <td>0.000000</td>\n",
       "      <td>0.933333</td>\n",
       "      <td>0</td>\n",
       "      <td>0</td>\n",
       "      <td>0</td>\n",
       "      <td>...</td>\n",
       "      <td>0</td>\n",
       "      <td>0</td>\n",
       "      <td>0</td>\n",
       "      <td>0</td>\n",
       "      <td>0</td>\n",
       "      <td>0.000000</td>\n",
       "      <td>0.6</td>\n",
       "      <td>0</td>\n",
       "      <td>0</td>\n",
       "      <td>1</td>\n",
       "    </tr>\n",
       "  </tbody>\n",
       "</table>\n",
       "<p>5 rows × 23 columns</p>\n",
       "</div>"
      ],
      "text/plain": [
       "   host_total_listings_count  response_rate instant shared  price_median  \\\n",
       "0                          1              1   False   True            45   \n",
       "1                          1              1   False  False           106   \n",
       "2                          5              1   False   True            46   \n",
       "3                          2              1   False  False           120   \n",
       "4                          1              1   False   True            65   \n",
       "\n",
       "   price_std  occupancy_1m  orp_1  orp_2  orp_3   ...    orp_1, adv_2  \\\n",
       "0   0.090351      0.433333      0      0      0   ...               0   \n",
       "1   0.144629      0.700000      1      0      0   ...               0   \n",
       "2   0.021650      0.366667      0      0      1   ...               0   \n",
       "3   0.095207      0.500000      0      1      0   ...               0   \n",
       "4   0.000000      0.933333      0      0      0   ...               0   \n",
       "\n",
       "   orp_2, adv_1  orp_2, adv_2  orp_3, adv_1  orp_3, adv_2  orig_percent_off  \\\n",
       "0             0             0             0             0          0.055556   \n",
       "1             0             0             0             0          0.000000   \n",
       "2             0             0             1             0          0.108696   \n",
       "3             1             0             0             0          0.246269   \n",
       "4             0             0             0             0          0.000000   \n",
       "\n",
       "   discount_asked  decision  discount_obtained  source  \n",
       "0             0.7         0                  0       1  \n",
       "1             0.7        -1                  0       1  \n",
       "2             0.9        -1                  0       1  \n",
       "3             0.7        -1                  0       1  \n",
       "4             0.6         0                  0       1  \n",
       "\n",
       "[5 rows x 23 columns]"
      ]
     },
     "execution_count": 21,
     "metadata": {},
     "output_type": "execute_result"
    }
   ],
   "source": [
    "combined_clean.head()"
   ]
  },
  {
   "cell_type": "markdown",
   "metadata": {},
   "source": [
    "## 2. Construct training samples\n",
    "\n",
    "For studying whether hosts are negotiable, we consider 2 types of acceptance rate:\n",
    "\n",
    "* Accepted / (Accepted + Rejected)\n",
    "* Accepted / (Accepted + Rejected + No Response)\n",
    "\n",
    "For studying how much discounts each host is willing to give, we only include hosts that gave a discount percentage.\n",
    "\n",
    "And, for each study, the discount asked may or may not be an important factor- we will see."
   ]
  },
  {
   "cell_type": "code",
   "execution_count": 26,
   "metadata": {
    "collapsed": false
   },
   "outputs": [],
   "source": [
    "mask_available = combined_clean[\"decision\"] != -1 \n",
    "mask_agreed = combined_clean[\"discount_obtained\"] != 0\n",
    "mask_no_source1 = combined_clean[\"source\"] != 1\n",
    "\n",
    "combined_available = combined_clean[mask_available]\n",
    "combined_agreed = combined_clean[mask_agreed * mask_no_source1]\n",
    "\n",
    "cal_param_1 = [\"orp_1\", \"orp_2\", \"orp_3\", \"adv_1\", \"adv_2\"]\n",
    "cal_param_2 = [\"orp_1, adv_1\", \"orp_1, adv_2\", \"orp_2, adv_1\", \"orp_2, adv_2\", \"orp_3, adv_1\", \"orp_3, adv_2\"]\n",
    "host_param = [\"orig_percent_off\", \"host_total_listings_count\", \"response_rate\", \"instant\", \"shared\",  \"price_median\", \"price_std\", \"occupancy_1m\"]\n",
    "param_rf = cal_param_1 + host_param\n",
    "param_lr = cal_param_1 + cal_param_2 + host_param\n",
    "\n",
    "X_responded_rf = combined_available[param_rf].values\n",
    "X_responded_lr = combined_available[param_lr].values\n",
    "Y_responded = combined_available[\"decision\"].values\n",
    "\n",
    "X_all_rf = combined_clean[param_rf].values\n",
    "X_all_lr = combined_clean[param_lr].values\n",
    "Y_all = combined_clean[\"decision\"].values \n",
    "Y_all = np.max(zip(Y_all,np.zeros(len(Y_all))), axis=1)\n",
    "\n",
    "X_discount_rf = combined_agreed[param_rf].values\n",
    "X_discount_lr = combined_agreed[param_lr].values\n",
    "Y_discount = combined_agreed[\"discount_obtained\"].values"
   ]
  },
  {
   "cell_type": "code",
   "execution_count": 23,
   "metadata": {
    "collapsed": false
   },
   "outputs": [],
   "source": [
    "# combined_agreed.head()"
   ]
  },
  {
   "cell_type": "code",
   "execution_count": 24,
   "metadata": {
    "collapsed": false
   },
   "outputs": [],
   "source": [
    "# print X_willing.shape\n",
    "# print X_willing_noda.shape\n",
    "# print Y_willing.shape\n",
    "\n",
    "# print X_willing_all.shape\n",
    "# print X_willing_all_noda.shape\n",
    "# print Y_willing_all.shape\n",
    "\n",
    "# print X_discount.shape\n",
    "# print X_discount_noda.shape\n",
    "# print Y_discount.shape"
   ]
  },
  {
   "cell_type": "code",
   "execution_count": 25,
   "metadata": {
    "collapsed": true
   },
   "outputs": [],
   "source": [
    "param_label_rf = [\"1-day orphan\", \"2-day orphan\", \"3-day_orphan\", \"Within 1 week\", \"1-2 weeks in advance\", \n",
    "               \"Percent off highest price\", \"Host listing count\", \"Host response rate\", \n",
    "               \"Instant bookable\", \"Space shared with host\", \"Usual price\", \"Price variation\", \"1-month occupancy\"]"
   ]
  },
  {
   "cell_type": "markdown",
   "metadata": {},
   "source": [
    "## 3. Model Fitting and Prediction\n",
    "\n",
    "\n",
    "### 3.1 Acceptance rate as Accepted / (Accepted + Rejected)"
   ]
  },
  {
   "cell_type": "code",
   "execution_count": 41,
   "metadata": {
    "collapsed": true
   },
   "outputs": [],
   "source": [
    "clf_rf = RandomForestClassifier(n_estimators=1000, \n",
    "                        max_features=int(np.sqrt(X_willing_noda.shape[1])), \n",
    "                        max_depth=None,\n",
    "                        min_samples_split=1)\n",
    "\n",
    "clf_rf.fit(X_all_rf,Y_all)\n",
    "Y_all_pred = clf_rf.predict(X_all_rf)\n",
    "Y_all_pred_prob = clf_rf.predict_proba(X_all_rf)[:,1]"
   ]
  },
  {
   "cell_type": "code",
   "execution_count": 45,
   "metadata": {
    "collapsed": false
   },
   "outputs": [
    {
     "name": "stdout",
     "output_type": "stream",
     "text": [
      "1.0\n"
     ]
    }
   ],
   "source": [
    "roc_rf = metrics.roc_curve(Y_all, Y_all_pred_prob)\n",
    "auc_rf = metrics.roc_auc_score(Y_all, Y_all_pred_prob)\n",
    "print auc_rf"
   ]
  },
  {
   "cell_type": "code",
   "execution_count": 44,
   "metadata": {
    "collapsed": false
   },
   "outputs": [
    {
     "name": "stdout",
     "output_type": "stream",
     "text": [
      "1.0\n"
     ]
    }
   ],
   "source": [
    "# Precision\n",
    "precision_rf = metrics.precision_score(Y_all, Y_all_pred)\n",
    "print precision_rf"
   ]
  },
  {
   "cell_type": "code",
   "execution_count": 29,
   "metadata": {
    "collapsed": false
   },
   "outputs": [],
   "source": [
    "def model_fitting(X_rf, X_lr, Y, label=None, fold=10):\n",
    "    clf_rf = RandomForestClassifier(n_estimators=1000, \n",
    "                            max_features=int(np.sqrt(X_willing_noda.shape[1])), \n",
    "                            max_depth=None,\n",
    "                            min_samples_split=1)\n",
    "    \n",
    "    clf_rf.fit(X_rf,Y)\n",
    "    \n",
    "    cv_scores = -cross_val_score(clf, X, Y, scoring='mean_squared_error', cv=fold)\n",
    "    print \"Average Cross Validation Accuracy: \\n\", 1-np.mean(cv_scores)\n",
    "    print \"Cross Validation Accuracies by Fold: \\n\", 1 - np.array(cv_scores)\n",
    "    \n",
    "\n",
    "    importances = clf.feature_importances_\n",
    "    std = np.std([tree.feature_importances_ for tree in clf.estimators_],\n",
    "                 axis=0)\n",
    "    indices = np.argsort(importances)[::1]\n",
    "    param_label_sorted = [label[ind] for ind in indices]\n",
    "\n",
    "    # Print the feature ranking\n",
    "    # print(\"Feature ranking:\")\n",
    "\n",
    "    # for f in range(X.shape[1]):\n",
    "        # print(\"%d. %s (feature %d, importance: %f)\" % (f + 1, param_label[indices[f]], indices[f], importances[indices[f]]))\n",
    "\n",
    "    # Plot the feature importances of the forest\n",
    "    plt.figure(figsize=(16,10))\n",
    "    plt.title(\"Feature Importance\", fontsize=30)\n",
    "    plt.barh(range(X.shape[1]), importances[indices],color=\"green\", align=\"center\")\n",
    "    # plt.axvline(x=0.05, color=\"red\", ls=\"--\")\n",
    "    plt.yticks(range(X.shape[1]), param_label_sorted,  fontsize=16)\n",
    "    plt.xticks(fontsize=16)\n",
    "    plt.ylim([-1, X.shape[1]])\n",
    "    plt.xlim([0,0.25])\n",
    "    plt.grid(False)\n",
    "    plt.show()\n",
    "    \n",
    "    if name==\"lr\":\n",
    "        sign = [\"(-)\" if s<0 else \"(+)\" for s in np.sign(np.ravel(clf.coef_))]\n",
    "        print \"Coefficients: \\n\"\n",
    "        return [x[0] + x[1] for x in zip(param_label_noda, sign)]"
   ]
  },
  {
   "cell_type": "markdown",
   "metadata": {},
   "source": [
    "#### Random Forest: Accuracy and Feature Importance\n",
    "\n",
    "Ensemble methods: http://scikit-learn.org/stable/modules/ensemble.html\n",
    "* random sample (with replacement)\n",
    "* random feature\n",
    "* average probablistic prediction"
   ]
  },
  {
   "cell_type": "code",
   "execution_count": 157,
   "metadata": {
    "collapsed": false
   },
   "outputs": [
    {
     "name": "stdout",
     "output_type": "stream",
     "text": [
      "Average Cross Validation Accuracy: \n",
      "0.582574679943\n",
      "Cross Validation Accuracies by Fold: \n",
      "[ 0.57894737  0.63157895  0.55263158  0.68421053  0.51351351  0.48648649\n",
      "  0.62162162  0.59459459  0.64864865  0.51351351]\n"
     ]
    },
    {
     "data": {
      "image/png": "[encoded data removed]",
      "text/plain": [
       "<matplotlib.figure.Figure at 0x10c7bf3d0>"
      ]
     },
     "metadata": {},
     "output_type": "display_data"
    }
   ],
   "source": [
    "rf = RandomForestClassifier(n_estimators=1000, \n",
    "                            max_features=int(np.sqrt(X_willing_noda.shape[1])), \n",
    "                            max_depth=None,\n",
    "                            min_samples_split=1)\n",
    "model_fitting(\"rf\", rf, X_willing_noda, Y_willing, label=label)"
   ]
  },
  {
   "cell_type": "markdown",
   "metadata": {},
   "source": [
    "#### Logistic Regression: Sign of the Feature"
   ]
  },
  {
   "cell_type": "code",
   "execution_count": 156,
   "metadata": {
    "collapsed": false
   },
   "outputs": [
    {
     "name": "stdout",
     "output_type": "stream",
     "text": [
      "Average Cross Validation Accuracy: \n",
      "0.606685633001\n",
      "Cross Validation Accuracies by Fold: \n",
      "[ 0.57894737  0.63157895  0.57894737  0.73684211  0.59459459  0.56756757\n",
      "  0.62162162  0.56756757  0.59459459  0.59459459]\n",
      "Coefficients: \n",
      "\n"
     ]
    }
   ],
   "source": [
    "lr = LogisticRegression()\n",
    "label = model_fitting(\"lr\", lr, X_willing_noda, Y_willing)"
   ]
  },
  {
   "cell_type": "markdown",
   "metadata": {},
   "source": [
    "#### SVM: better prediction?"
   ]
  },
  {
   "cell_type": "code",
   "execution_count": 28,
   "metadata": {
    "collapsed": false
   },
   "outputs": [
    {
     "name": "stdout",
     "output_type": "stream",
     "text": [
      "Average Cross Validation Accuracy: \n",
      "0.62012802276\n",
      "Cross Validation Accuracies by Fold: \n",
      "[ 0.68421053  0.57894737  0.63157895  0.65789474  0.56756757  0.59459459\n",
      "  0.64864865  0.7027027   0.45945946  0.67567568]\n"
     ]
    }
   ],
   "source": [
    "svm = svm.SVC()\n",
    "model_fitting(\"svm\", svm, X_willing_noda, Y_willing)"
   ]
  },
  {
   "cell_type": "markdown",
   "metadata": {},
   "source": [
    "#### Let's be crazy: 8 classifiers together"
   ]
  },
  {
   "cell_type": "code",
   "execution_count": 38,
   "metadata": {
    "collapsed": false
   },
   "outputs": [
    {
     "name": "stdout",
     "output_type": "stream",
     "text": [
      "Average Cross Validation Accuracy:\n",
      "Nearest Neighbors:  0.612375533428\n",
      "Linear SVM:  0.596088193457\n",
      "RBF SVM:  0.598790896159\n",
      "Decision Tree:  0.518278805121\n",
      "Random Forest:  0.582361308677\n",
      "AdaBoost:  0.585419630156\n",
      "Naive Bayes:  0.550568990043\n",
      "Linear Discriminant Analysis:  0.606685633001\n",
      "Quadratic Discriminant Analysis:  0.561166429587\n"
     ]
    },
    {
     "name": "stderr",
     "output_type": "stream",
     "text": [
      "/Users/fqian/anaconda/lib/python2.7/site-packages/sklearn/discriminant_analysis.py:387: UserWarning: Variables are collinear.\n",
      "  warnings.warn(\"Variables are collinear.\")\n",
      "/Users/fqian/anaconda/lib/python2.7/site-packages/sklearn/discriminant_analysis.py:688: UserWarning: Variables are collinear\n",
      "  warnings.warn(\"Variables are collinear\")\n"
     ]
    }
   ],
   "source": [
    "from matplotlib.colors import ListedColormap\n",
    "from sklearn.cross_validation import train_test_split\n",
    "from sklearn.preprocessing import StandardScaler\n",
    "from sklearn.datasets import make_moons, make_circles, make_classification\n",
    "from sklearn.neighbors import KNeighborsClassifier\n",
    "from sklearn.svm import SVC\n",
    "from sklearn.tree import DecisionTreeClassifier\n",
    "from sklearn.ensemble import RandomForestClassifier, AdaBoostClassifier\n",
    "from sklearn.naive_bayes import GaussianNB\n",
    "from sklearn.discriminant_analysis import LinearDiscriminantAnalysis\n",
    "from sklearn.discriminant_analysis import QuadraticDiscriminantAnalysis\n",
    "\n",
    "names = [\"Nearest Neighbors\", \"Linear SVM\", \"RBF SVM\", \"Decision Tree\",\n",
    "         \"Random Forest\", \"AdaBoost\", \"Naive Bayes\", \"Linear Discriminant Analysis\",\n",
    "         \"Quadratic Discriminant Analysis\"]\n",
    "classifiers = [\n",
    "    KNeighborsClassifier(3),\n",
    "    SVC(kernel=\"linear\", C=0.025),\n",
    "    SVC(gamma=2, C=1),\n",
    "    DecisionTreeClassifier(max_depth=None),\n",
    "    RandomForestClassifier(max_depth=None, n_estimators=1000, max_features=5),\n",
    "    AdaBoostClassifier(),\n",
    "    GaussianNB(),\n",
    "    LinearDiscriminantAnalysis(),\n",
    "    QuadraticDiscriminantAnalysis()]\n",
    "\n",
    "print \"Average Cross Validation Accuracy:\"\n",
    "for name, clf in zip(names, classifiers):\n",
    "    clf.fit(X_willing_noda, Y_willing)\n",
    "    cv_scores = -cross_val_score(clf, X_willing_noda, Y_willing, scoring='mean_squared_error', cv=10)\n",
    "\n",
    "    print \"%s: \"%name, 1-np.mean(cv_scores)"
   ]
  },
  {
   "cell_type": "markdown",
   "metadata": {},
   "source": [
    "### 3.2 Accepted / (Accepted + Rejected + No Response)"
   ]
  },
  {
   "cell_type": "code",
   "execution_count": 30,
   "metadata": {
    "collapsed": false
   },
   "outputs": [
    {
     "name": "stdout",
     "output_type": "stream",
     "text": [
      "Average Cross Validation Accuracy: \n",
      "0.786720321932\n",
      "Cross Validation Accuracies by Fold: \n",
      "[ 0.78873239  0.78873239  0.78873239  0.78873239  0.78873239  0.78873239\n",
      "  0.78873239  0.77464789  0.78571429  0.78571429]\n",
      "Coefficients: \n",
      "\n"
     ]
    },
    {
     "data": {
      "text/plain": [
       "['1-day orphan(-)',\n",
       " '2-day orphan(-)',\n",
       " '3-day_orphan(+)',\n",
       " 'Within 1 week(-)',\n",
       " '1-2 weeks in advance(+)',\n",
       " '1-day orphan within 1 week(-)',\n",
       " '1-day orphan 1-2 weeks in advance(+)',\n",
       " '2-day orphan within 1 week(+)',\n",
       " '2-day orphan 1-2 weeks in advance(+)',\n",
       " '3-day orphan within 1 week(-)',\n",
       " '3-day orphan 1-2 weeks in advance(-)',\n",
       " 'Percent off highest price(+)',\n",
       " 'Host listing count(-)',\n",
       " 'Host response rate(+)',\n",
       " 'Instant bookable(+)',\n",
       " 'Space shared with host(-)',\n",
       " 'Usual price(+)',\n",
       " 'Price variation(-)',\n",
       " '1-month occupancy(-)']"
      ]
     },
     "execution_count": 30,
     "metadata": {},
     "output_type": "execute_result"
    }
   ],
   "source": [
    "lr_all = LogisticRegression()\n",
    "model_fitting(\"lr\", lr_all, X_willing_all_noda, Y_willing_all)"
   ]
  },
  {
   "cell_type": "code",
   "execution_count": 32,
   "metadata": {
    "collapsed": false
   },
   "outputs": [
    {
     "name": "stdout",
     "output_type": "stream",
     "text": [
      "Average Cross Validation Accuracy: \n",
      "0.769758551308\n",
      "Cross Validation Accuracies by Fold: \n",
      "[ 0.78873239  0.77464789  0.77464789  0.77464789  0.74647887  0.77464789\n",
      "  0.77464789  0.76056338  0.78571429  0.74285714]\n"
     ]
    },
    {
     "data": {
      "image/png": "[encoded data removed]",
      "text/plain": [
       "<matplotlib.figure.Figure at 0x10c7f7c50>"
      ]
     },
     "metadata": {},
     "output_type": "display_data"
    }
   ],
   "source": [
    "rf_all = RandomForestClassifier(n_estimators=1000, \n",
    "                            max_features=int(np.sqrt(X_willing_all_noda.shape[1])), \n",
    "                            max_depth=None,\n",
    "                            min_samples_split=1)\n",
    "model_fitting(\"rf\", rf_all, X_willing_all_noda, Y_willing_all, label=param_label)"
   ]
  },
  {
   "cell_type": "markdown",
   "metadata": {},
   "source": [
    "### Prediction"
   ]
  },
  {
   "cell_type": "code",
   "execution_count": 34,
   "metadata": {
    "collapsed": false
   },
   "outputs": [],
   "source": [
    "prediction_all_noda = rf_all.predict_proba(X_willing_all_noda)"
   ]
  },
  {
   "cell_type": "code",
   "execution_count": 36,
   "metadata": {
    "collapsed": false
   },
   "outputs": [
    {
     "name": "stdout",
     "output_type": "stream",
     "text": [
      "[[ 0.882  0.118]\n",
      " [ 0.928  0.072]\n",
      " [ 0.907  0.093]\n",
      " ..., \n",
      " [ 0.934  0.066]\n",
      " [ 0.887  0.113]\n",
      " [ 0.824  0.176]]\n"
     ]
    }
   ],
   "source": [
    "print prediction_all_noda"
   ]
  },
  {
   "cell_type": "code",
   "execution_count": 158,
   "metadata": {
    "collapsed": false
   },
   "outputs": [
    {
     "name": "stdout",
     "output_type": "stream",
     "text": [
      "Average Cross Validation Accuracy: \n",
      "0.786720321932\n",
      "Cross Validation Accuracies by Fold: \n",
      "[ 0.78873239  0.78873239  0.78873239  0.78873239  0.78873239  0.78873239\n",
      "  0.78873239  0.77464789  0.78571429  0.78571429]\n",
      "Coefficients: \n",
      "\n"
     ]
    }
   ],
   "source": [
    "lr_all = LogisticRegression()\n",
    "label_all = model_fitting(\"lr\", lr_all, X_willing_all_noda, Y_willing_all)"
   ]
  },
  {
   "cell_type": "code",
   "execution_count": 41,
   "metadata": {
    "collapsed": false
   },
   "outputs": [
    {
     "name": "stdout",
     "output_type": "stream",
     "text": [
      "Average Cross Validation Accuracy: \n",
      "0.790965794769\n",
      "Cross Validation Accuracies by Fold: \n",
      "[ 0.78873239  0.8028169   0.76056338  0.78873239  0.81690141  0.78873239\n",
      "  0.78873239  0.78873239  0.78571429  0.8       ]\n"
     ]
    }
   ],
   "source": [
    "svm_all = svm.SVC()\n",
    "model_fitting(\"svm\", svm_all, X_willing_all_noda, Y_willing_all)"
   ]
  },
  {
   "cell_type": "code",
   "execution_count": 43,
   "metadata": {
    "collapsed": false
   },
   "outputs": [],
   "source": [
    "from matplotlib.colors import ListedColormap\n",
    "from sklearn.cross_validation import train_test_split\n",
    "from sklearn.preprocessing import StandardScaler\n",
    "from sklearn.datasets import make_moons, make_circles, make_classification\n",
    "from sklearn.neighbors import KNeighborsClassifier\n",
    "from sklearn.svm import SVC\n",
    "from sklearn.tree import DecisionTreeClassifier\n",
    "from sklearn.ensemble import RandomForestClassifier, AdaBoostClassifier\n",
    "from sklearn.naive_bayes import GaussianNB\n",
    "from sklearn.discriminant_analysis import LinearDiscriminantAnalysis\n",
    "from sklearn.discriminant_analysis import QuadraticDiscriminantAnalysis\n",
    "\n",
    "names = [\"Nearest Neighbors\", \"Linear SVM\", \"RBF SVM\", \"Decision Tree\",\n",
    "         \"Random Forest\", \"AdaBoost\", \"Naive Bayes\", \"Linear Discriminant Analysis\",\n",
    "         \"Quadratic Discriminant Analysis\"]\n",
    "classifiers = [\n",
    "    KNeighborsClassifier(3),\n",
    "    SVC(kernel=\"linear\", C=0.025),\n",
    "    SVC(gamma=2, C=1),\n",
    "    DecisionTreeClassifier(max_depth=None),\n",
    "    RandomForestClassifier(max_depth=None, n_estimators=1000, max_features=5),\n",
    "    AdaBoostClassifier(),\n",
    "    GaussianNB(),\n",
    "    LinearDiscriminantAnalysis(),\n",
    "    QuadraticDiscriminantAnalysis()]\n",
    "\n",
    "print \"Average Cross Validation Accuracy:\"\n",
    "for name, clf in zip(names, classifiers):\n",
    "    clf.fit(X_willing_noda, Y_willing)\n",
    "    cv_scores = -cross_val_score(clf, X_willing_all_noda, Y_willing_all, scoring='mean_squared_error', cv=10)\n",
    "\n",
    "    print \"%s: \"%name, 1-np.mean(cv_scores)"
   ]
  },
  {
   "cell_type": "markdown",
   "metadata": {},
   "source": [
    "### 3.3 Discount Obtained\n",
    "\n",
    "Now, instead of classifiers, I used regressors for random forest, and linear regression instead of logistic."
   ]
  },
  {
   "cell_type": "code",
   "execution_count": 39,
   "metadata": {
    "collapsed": false
   },
   "outputs": [
    {
     "name": "stdout",
     "output_type": "stream",
     "text": [
      "Average Cross Validation Accuracy: \n",
      "0.989078360707\n",
      "Cross Validation Accuracies by Fold: \n",
      "[ 0.99335897  0.9895792   0.99070962  0.98966017  0.98953599  0.98641354\n",
      "  0.98720376  0.99150823  0.99143745  0.9813767 ]\n"
     ]
    },
    {
     "data": {
      "image/png": "[encoded data removed]",
      "text/plain": [
       "<matplotlib.figure.Figure at 0x10c7804d0>"
      ]
     },
     "metadata": {},
     "output_type": "display_data"
    }
   ],
   "source": [
    "rf_discount = RandomForestRegressor(n_estimators=1000, \n",
    "                            max_features=int(np.sqrt(X_discount_noda.shape[1])), \n",
    "                            max_depth=None,\n",
    "                            min_samples_split=1)\n",
    "model_fitting(\"rf\", rf_discount, X_discount_noda, Y_discount, label=param_label)"
   ]
  },
  {
   "cell_type": "markdown",
   "metadata": {},
   "source": [
    "### RF Prediction"
   ]
  },
  {
   "cell_type": "code",
   "execution_count": 40,
   "metadata": {
    "collapsed": false
   },
   "outputs": [],
   "source": [
    "prediction_rf_discount = rf_discount.predict(X_discount_noda)"
   ]
  },
  {
   "cell_type": "code",
   "execution_count": 41,
   "metadata": {
    "collapsed": false
   },
   "outputs": [
    {
     "data": {
      "text/plain": [
       "array([ 0.14939684,  0.1296054 ,  0.25769984,  0.12906442,  0.11501588,\n",
       "        0.14974324,  0.21648512,  0.13126406,  0.18075144,  0.1213762 ,\n",
       "        0.21408413,  0.19276148,  0.12228808,  0.09192057,  0.30026389,\n",
       "        0.09480977,  0.20904564,  0.14757676,  0.12293031,  0.19249732,\n",
       "        0.12221091,  0.14980282,  0.12775719,  0.20990666,  0.07891178,\n",
       "        0.16982275,  0.20025222,  0.09512496,  0.20308813,  0.1971    ,\n",
       "        0.25660388,  0.10389145,  0.21235392,  0.24484426,  0.17310458,\n",
       "        0.25074932,  0.09035041,  0.19795771,  0.19208528,  0.09627746,\n",
       "        0.20346191,  0.19644221,  0.20511438,  0.19801581,  0.14246145,\n",
       "        0.25592523,  0.26849119,  0.17472709,  0.26048793,  0.23660067,\n",
       "        0.25378941,  0.14041059,  0.3169547 ,  0.12343784,  0.26524546,\n",
       "        0.17839151,  0.15185363,  0.10911971,  0.12121986,  0.14693635,\n",
       "        0.13778641,  0.10983904,  0.14541444,  0.26789284,  0.26144269,\n",
       "        0.12757025,  0.21345945,  0.09047057,  0.14111179,  0.16520205,\n",
       "        0.09216116,  0.24601989,  0.15618766,  0.16951164,  0.21633102,\n",
       "        0.20207889,  0.12715704,  0.2131656 ,  0.11301638,  0.07957327,\n",
       "        0.24911548,  0.10908758,  0.19248323,  0.15937289,  0.14450827,\n",
       "        0.32518768,  0.32502624,  0.15620416,  0.20899271,  0.1425814 ,\n",
       "        0.11728845])"
      ]
     },
     "execution_count": 41,
     "metadata": {},
     "output_type": "execute_result"
    }
   ],
   "source": [
    "prediction_rf_discount"
   ]
  },
  {
   "cell_type": "code",
   "execution_count": 161,
   "metadata": {
    "collapsed": false
   },
   "outputs": [
    {
     "name": "stdout",
     "output_type": "stream",
     "text": [
      "Average Cross Validation Accuracy: \n",
      "0.984941573391\n",
      "Cross Validation Accuracies by Fold: \n",
      "[ 0.98977596  0.987797    0.97246924  0.98250821  0.99001684  0.98123999\n",
      "  0.98597878  0.99017449  0.98727643  0.98217881]\n",
      "Coefficients: \n",
      "\n"
     ]
    }
   ],
   "source": [
    "lr_discount = LinearRegression()\n",
    "lr_discount.fit(X_discount_noda, Y_discount)\n",
    "\n",
    "lr_discount_scores = -cross_val_score(lr_discount, X_discount_noda, Y_discount, scoring='mean_squared_error', cv=10)\n",
    "print \"Average Cross Validation Accuracy: \\n\", 1-np.mean(lr_discount_scores)\n",
    "print \"Cross Validation Accuracies by Fold: \\n\", 1 - np.array(lr_discount_scores)\n",
    "print \"Coefficients: \\n\"\n",
    "\n",
    "sign = [\"(-)\" if s<0 else \"(+)\" for s in np.sign(np.ravel(clf.coef_))]\n",
    "label_discount = [x[0] + x[1] for x in zip(param_label_noda, sign)]"
   ]
  },
  {
   "cell_type": "code",
   "execution_count": 148,
   "metadata": {
    "collapsed": false
   },
   "outputs": [
    {
     "data": {
      "text/plain": [
       "array([ 0.19783081,  0.13095463,  0.2471574 ,  0.1789376 ,  0.17018553,\n",
       "        0.19433957,  0.29514555,  0.17919247,  0.16480945,  0.15839812,\n",
       "        0.15146601,  0.16159424,  0.16243784,  0.15750335,  0.18473816,\n",
       "        0.15812256,  0.13087054,  0.15776836,  0.15180314,  0.22285515,\n",
       "        0.2225996 ,  0.15956708,  0.16651866,  0.14141779,  0.15224587,\n",
       "        0.13724983,  0.12783468,  0.2061625 ,  0.22912628,  0.1819324 ,\n",
       "        0.21982342,  0.19520809,  0.16067879,  0.23910065,  0.18315374,\n",
       "        0.2414067 ,  0.10355458,  0.14891011,  0.21766376,  0.12852787,\n",
       "        0.15051861,  0.15013583,  0.17703905,  0.18895105,  0.15710597,\n",
       "        0.16691157,  0.22515351,  0.18543086,  0.20311969,  0.19536473,\n",
       "        0.14319243,  0.13820189,  0.20581424,  0.12680039,  0.19304993,\n",
       "        0.18174871,  0.18264584,  0.14704357,  0.17225239,  0.20215673,\n",
       "        0.09518621,  0.17738162,  0.18554979,  0.19295387,  0.24412544,\n",
       "        0.16735348,  0.18380058,  0.13136943,  0.21279775,  0.16220536,\n",
       "        0.16986553,  0.17218319,  0.17190169,  0.18165189,  0.21902798,\n",
       "        0.15507393,  0.1633782 ,  0.14122341,  0.18970226,  0.16425056,\n",
       "        0.15638526,  0.13055422,  0.17137303,  0.17671286,  0.19931964,\n",
       "        0.26285654,  0.20837323,  0.13485765,  0.22820018,  0.17907823,\n",
       "        0.14976448])"
      ]
     },
     "execution_count": 148,
     "metadata": {},
     "output_type": "execute_result"
    }
   ],
   "source": [
    "lr_discount.predict(X_discount_noda)"
   ]
  },
  {
   "cell_type": "code",
   "execution_count": 149,
   "metadata": {
    "collapsed": false
   },
   "outputs": [
    {
     "data": {
      "text/plain": [
       "array([ 0.11904762,  0.11111111,  0.32330827,  0.09677419,  0.1       ,\n",
       "        0.12727273,  0.19678715,  0.10169492,  0.17808219,  0.09090909,\n",
       "        0.25925926,  0.23566879,  0.09090909,  0.06382979,  0.36666667,\n",
       "        0.05      ,  0.23913043,  0.125     ,  0.11111111,  0.20634921,\n",
       "        0.1       ,  0.13333333,  0.09090909,  0.25373134,  0.03448276,\n",
       "        0.18367347,  0.22222222,  0.05      ,  0.20849421,  0.20512821,\n",
       "        0.31818182,  0.04545455,  0.25      ,  0.28994083,  0.18360656,\n",
       "        0.3       ,  0.07692308,  0.22222222,  0.15254237,  0.05555556,\n",
       "        0.25      ,  0.22222222,  0.2       ,  0.2020202 ,  0.12564767,\n",
       "        0.3258427 ,  0.29090909,  0.15384615,  0.29139073,  0.27350427,\n",
       "        0.31034483,  0.12121212,  0.4       ,  0.13333333,  0.30555556,\n",
       "        0.16      ,  0.11144578,  0.05897114,  0.07692308,  0.11538462,\n",
       "        0.13793103,  0.0625    ,  0.10714286,  0.31034483,  0.30177824,\n",
       "        0.11764706,  0.2248062 ,  0.07142857,  0.11111111,  0.15384615,\n",
       "        0.03846154,  0.30693069,  0.14285714,  0.15966387,  0.21428571,\n",
       "        0.2173913 ,  0.13043478,  0.25      ,  0.06666667,  0.03333333,\n",
       "        0.33333333,  0.07142857,  0.2037037 ,  0.11838791,  0.11764706,\n",
       "        0.4       ,  0.43181818,  0.11764706,  0.2244898 ,  0.11320755,\n",
       "        0.10179641])"
      ]
     },
     "execution_count": 149,
     "metadata": {},
     "output_type": "execute_result"
    }
   ],
   "source": [
    "Y_discount"
   ]
  },
  {
   "cell_type": "markdown",
   "metadata": {},
   "source": [
    "#### Variables against discounts given"
   ]
  },
  {
   "cell_type": "code",
   "execution_count": 139,
   "metadata": {
    "collapsed": false
   },
   "outputs": [
    {
     "data": {
      "text/plain": [
       "<matplotlib.collections.PathCollection at 0x10d9d52d0>"
      ]
     },
     "execution_count": 139,
     "metadata": {},
     "output_type": "execute_result"
    },
    {
     "data": {
      "image/png": "[encoded data removed]",
      "text/plain": [
       "<matplotlib.figure.Figure at 0x10dcac3d0>"
      ]
     },
     "metadata": {},
     "output_type": "display_data"
    }
   ],
   "source": [
    "plt.scatter(combined_agreed[\"price_median\"], combined_agreed[\"discount_obtained\"])"
   ]
  },
  {
   "cell_type": "code",
   "execution_count": 140,
   "metadata": {
    "collapsed": false
   },
   "outputs": [
    {
     "data": {
      "text/plain": [
       "<matplotlib.collections.PathCollection at 0x10a064e10>"
      ]
     },
     "execution_count": 140,
     "metadata": {},
     "output_type": "execute_result"
    },
    {
     "data": {
      "image/png": "[encoded data removed]",
      "text/plain": [
       "<matplotlib.figure.Figure at 0x109f1c450>"
      ]
     },
     "metadata": {},
     "output_type": "display_data"
    }
   ],
   "source": [
    "plt.scatter(combined_agreed[\"price_std\"], combined_agreed[\"discount_obtained\"])"
   ]
  },
  {
   "cell_type": "code",
   "execution_count": 142,
   "metadata": {
    "collapsed": false
   },
   "outputs": [
    {
     "data": {
      "text/plain": [
       "<matplotlib.collections.PathCollection at 0x1123464d0>"
      ]
     },
     "execution_count": 142,
     "metadata": {},
     "output_type": "execute_result"
    },
    {
     "data": {
      "image/png": "[encoded data removed]",
      "text/plain": [
       "<matplotlib.figure.Figure at 0x110f9db10>"
      ]
     },
     "metadata": {},
     "output_type": "display_data"
    }
   ],
   "source": [
    "plt.scatter(combined_agreed[\"occupancy_1m\"], combined_agreed[\"discount_obtained\"])"
   ]
  },
  {
   "cell_type": "code",
   "execution_count": 143,
   "metadata": {
    "collapsed": false
   },
   "outputs": [
    {
     "data": {
      "text/plain": [
       "<matplotlib.collections.PathCollection at 0x11247fc10>"
      ]
     },
     "execution_count": 143,
     "metadata": {},
     "output_type": "execute_result"
    },
    {
     "data": {
      "image/png": "[encoded data removed]",
      "text/plain": [
       "<matplotlib.figure.Figure at 0x10df62810>"
      ]
     },
     "metadata": {},
     "output_type": "display_data"
    }
   ],
   "source": [
    "plt.scatter(combined_agreed[\"orig_percent_off\"], combined_agreed[\"discount_obtained\"])"
   ]
  },
  {
   "cell_type": "code",
   "execution_count": 146,
   "metadata": {
    "collapsed": false
   },
   "outputs": [
    {
     "data": {
      "text/plain": [
       "<matplotlib.collections.PathCollection at 0x11261f9d0>"
      ]
     },
     "execution_count": 146,
     "metadata": {},
     "output_type": "execute_result"
    },
    {
     "data": {
      "image/png": "[encoded data removed]",
      "text/plain": [
       "<matplotlib.figure.Figure at 0x11244c510>"
      ]
     },
     "metadata": {},
     "output_type": "display_data"
    }
   ],
   "source": [
    "plt.scatter(combined_agreed[\"host_total_listings_count\"], combined_agreed[\"discount_obtained\"])"
   ]
  },
  {
   "cell_type": "code",
   "execution_count": 147,
   "metadata": {
    "collapsed": false
   },
   "outputs": [
    {
     "data": {
      "text/plain": [
       "<matplotlib.collections.PathCollection at 0x1125dcd50>"
      ]
     },
     "execution_count": 147,
     "metadata": {},
     "output_type": "execute_result"
    },
    {
     "data": {
      "image/png": "[encoded data removed]",
      "text/plain": [
       "<matplotlib.figure.Figure at 0x120f178d0>"
      ]
     },
     "metadata": {},
     "output_type": "display_data"
    }
   ],
   "source": [
    "plt.scatter(combined_agreed[\"response_rate\"], combined_agreed[\"discount_obtained\"])"
   ]
  },
  {
   "cell_type": "code",
   "execution_count": 138,
   "metadata": {
    "collapsed": false
   },
   "outputs": [
    {
     "data": {
      "text/html": [
       "<div>\n",
       "<table border=\"1\" class=\"dataframe\">\n",
       "  <thead>\n",
       "    <tr style=\"text-align: right;\">\n",
       "      <th></th>\n",
       "      <th>host_total_listings_count</th>\n",
       "      <th>response_rate</th>\n",
       "      <th>instant</th>\n",
       "      <th>shared</th>\n",
       "      <th>price_median</th>\n",
       "      <th>price_std</th>\n",
       "      <th>occupancy_1m</th>\n",
       "      <th>orp_1</th>\n",
       "      <th>orp_2</th>\n",
       "      <th>orp_3</th>\n",
       "      <th>...</th>\n",
       "      <th>orp_1, adv_2</th>\n",
       "      <th>orp_2, adv_1</th>\n",
       "      <th>orp_2, adv_2</th>\n",
       "      <th>orp_3, adv_1</th>\n",
       "      <th>orp_3, adv_2</th>\n",
       "      <th>orig_percent_off</th>\n",
       "      <th>discount_asked</th>\n",
       "      <th>decision</th>\n",
       "      <th>discount_obtained</th>\n",
       "      <th>source</th>\n",
       "    </tr>\n",
       "  </thead>\n",
       "  <tbody>\n",
       "    <tr>\n",
       "      <th>195</th>\n",
       "      <td>1</td>\n",
       "      <td>0.90</td>\n",
       "      <td>False</td>\n",
       "      <td>False</td>\n",
       "      <td>210</td>\n",
       "      <td>0.000000</td>\n",
       "      <td>0.100000</td>\n",
       "      <td>0</td>\n",
       "      <td>0</td>\n",
       "      <td>1</td>\n",
       "      <td>...</td>\n",
       "      <td>0</td>\n",
       "      <td>0</td>\n",
       "      <td>0</td>\n",
       "      <td>1</td>\n",
       "      <td>0</td>\n",
       "      <td>0.000000</td>\n",
       "      <td>0.9</td>\n",
       "      <td>1</td>\n",
       "      <td>0.119048</td>\n",
       "      <td>2</td>\n",
       "    </tr>\n",
       "    <tr>\n",
       "      <th>200</th>\n",
       "      <td>1</td>\n",
       "      <td>0.92</td>\n",
       "      <td>False</td>\n",
       "      <td>True</td>\n",
       "      <td>90</td>\n",
       "      <td>0.188228</td>\n",
       "      <td>0.333333</td>\n",
       "      <td>0</td>\n",
       "      <td>0</td>\n",
       "      <td>0</td>\n",
       "      <td>...</td>\n",
       "      <td>0</td>\n",
       "      <td>0</td>\n",
       "      <td>0</td>\n",
       "      <td>0</td>\n",
       "      <td>0</td>\n",
       "      <td>0.357143</td>\n",
       "      <td>0.9</td>\n",
       "      <td>1</td>\n",
       "      <td>0.111111</td>\n",
       "      <td>2</td>\n",
       "    </tr>\n",
       "    <tr>\n",
       "      <th>202</th>\n",
       "      <td>1</td>\n",
       "      <td>0.76</td>\n",
       "      <td>False</td>\n",
       "      <td>False</td>\n",
       "      <td>130</td>\n",
       "      <td>0.078299</td>\n",
       "      <td>0.133333</td>\n",
       "      <td>0</td>\n",
       "      <td>0</td>\n",
       "      <td>0</td>\n",
       "      <td>...</td>\n",
       "      <td>0</td>\n",
       "      <td>0</td>\n",
       "      <td>0</td>\n",
       "      <td>0</td>\n",
       "      <td>0</td>\n",
       "      <td>0.029197</td>\n",
       "      <td>0.7</td>\n",
       "      <td>1</td>\n",
       "      <td>0.323308</td>\n",
       "      <td>2</td>\n",
       "    </tr>\n",
       "    <tr>\n",
       "      <th>203</th>\n",
       "      <td>1</td>\n",
       "      <td>1.00</td>\n",
       "      <td>False</td>\n",
       "      <td>False</td>\n",
       "      <td>135</td>\n",
       "      <td>0.124332</td>\n",
       "      <td>0.233333</td>\n",
       "      <td>0</td>\n",
       "      <td>0</td>\n",
       "      <td>1</td>\n",
       "      <td>...</td>\n",
       "      <td>0</td>\n",
       "      <td>0</td>\n",
       "      <td>0</td>\n",
       "      <td>0</td>\n",
       "      <td>1</td>\n",
       "      <td>0.179894</td>\n",
       "      <td>0.9</td>\n",
       "      <td>1</td>\n",
       "      <td>0.096774</td>\n",
       "      <td>2</td>\n",
       "    </tr>\n",
       "    <tr>\n",
       "      <th>204</th>\n",
       "      <td>3</td>\n",
       "      <td>0.90</td>\n",
       "      <td>False</td>\n",
       "      <td>True</td>\n",
       "      <td>65</td>\n",
       "      <td>0.041439</td>\n",
       "      <td>0.633333</td>\n",
       "      <td>0</td>\n",
       "      <td>0</td>\n",
       "      <td>0</td>\n",
       "      <td>...</td>\n",
       "      <td>0</td>\n",
       "      <td>0</td>\n",
       "      <td>0</td>\n",
       "      <td>0</td>\n",
       "      <td>0</td>\n",
       "      <td>0.111111</td>\n",
       "      <td>0.8</td>\n",
       "      <td>1</td>\n",
       "      <td>0.100000</td>\n",
       "      <td>2</td>\n",
       "    </tr>\n",
       "  </tbody>\n",
       "</table>\n",
       "<p>5 rows × 23 columns</p>\n",
       "</div>"
      ],
      "text/plain": [
       "     host_total_listings_count  response_rate instant shared  price_median  \\\n",
       "195                          1           0.90   False  False           210   \n",
       "200                          1           0.92   False   True            90   \n",
       "202                          1           0.76   False  False           130   \n",
       "203                          1           1.00   False  False           135   \n",
       "204                          3           0.90   False   True            65   \n",
       "\n",
       "     price_std  occupancy_1m  orp_1  orp_2  orp_3   ...    orp_1, adv_2  \\\n",
       "195   0.000000      0.100000      0      0      1   ...               0   \n",
       "200   0.188228      0.333333      0      0      0   ...               0   \n",
       "202   0.078299      0.133333      0      0      0   ...               0   \n",
       "203   0.124332      0.233333      0      0      1   ...               0   \n",
       "204   0.041439      0.633333      0      0      0   ...               0   \n",
       "\n",
       "     orp_2, adv_1  orp_2, adv_2  orp_3, adv_1  orp_3, adv_2  orig_percent_off  \\\n",
       "195             0             0             1             0          0.000000   \n",
       "200             0             0             0             0          0.357143   \n",
       "202             0             0             0             0          0.029197   \n",
       "203             0             0             0             1          0.179894   \n",
       "204             0             0             0             0          0.111111   \n",
       "\n",
       "     discount_asked  decision  discount_obtained  source  \n",
       "195             0.9         1           0.119048       2  \n",
       "200             0.9         1           0.111111       2  \n",
       "202             0.7         1           0.323308       2  \n",
       "203             0.9         1           0.096774       2  \n",
       "204             0.8         1           0.100000       2  \n",
       "\n",
       "[5 rows x 23 columns]"
      ]
     },
     "execution_count": 138,
     "metadata": {},
     "output_type": "execute_result"
    }
   ],
   "source": [
    "combined_agreed.head()"
   ]
  },
  {
   "cell_type": "code",
   "execution_count": null,
   "metadata": {
    "collapsed": true
   },
   "outputs": [],
   "source": [
    "\"orig_percent_off\", \"host_total_listings_count\", \"response_rate"
   ]
  }
 ],
 "metadata": {
  "kernelspec": {
   "display_name": "Python 2",
   "language": "python",
   "name": "python2"
  },
  "language_info": {
   "codemirror_mode": {
    "name": "ipython",
    "version": 2
   },
   "file_extension": ".py",
   "mimetype": "text/x-python",
   "name": "python",
   "nbconvert_exporter": "python",
   "pygments_lexer": "ipython2",
   "version": "2.7.11"
  }
 },
 "nbformat": 4,
 "nbformat_minor": 0
}
