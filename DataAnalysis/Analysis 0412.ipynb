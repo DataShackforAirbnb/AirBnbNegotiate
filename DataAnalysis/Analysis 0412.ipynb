{
 "cells": [
  {
   "cell_type": "code",
   "execution_count": 80,
   "metadata": {
    "collapsed": false
   },
   "outputs": [],
   "source": [
    "import pandas as pd\n",
    "import numpy as np\n",
    "import matplotlib.pyplot as plt\n",
    "import seaborn as sns\n",
    "%matplotlib inline  \n",
    "import datetime as dt\n",
    "\n",
    "pd.options.mode.chained_assignment = None  # default='warn'"
   ]
  },
  {
   "cell_type": "code",
   "execution_count": 124,
   "metadata": {
    "collapsed": true
   },
   "outputs": [],
   "source": [
    "from sklearn.linear_model import LinearRegression\n",
    "from sklearn.linear_model import LogisticRegression\n",
    "from sklearn.ensemble import RandomForestClassifier\n",
    "from sklearn.ensemble import RandomForestRegressor\n",
    "from sklearn.cross_validation import cross_val_predict\n",
    "from sklearn.cross_validation import cross_val_score\n",
    "from sklearn.preprocessing import PolynomialFeatures\n",
    "from sklearn.preprocessing import Imputer\n",
    "from sklearn import svm"
   ]
  },
  {
   "cell_type": "markdown",
   "metadata": {},
   "source": [
    "## 1. Data Cleaning and Feature Engineering"
   ]
  },
  {
   "cell_type": "markdown",
   "metadata": {},
   "source": [
    "#### 1.1 First clean: only take the useful columns"
   ]
  },
  {
   "cell_type": "code",
   "execution_count": 82,
   "metadata": {
    "collapsed": false
   },
   "outputs": [],
   "source": [
    "round3 = pd.read_json(\"round3_merged.json\")\n",
    "round2 = pd.read_json(\"round2_merged.json\")\n",
    "round1 = pd.read_json(\"round1_merged.json\")"
   ]
  },
  {
   "cell_type": "code",
   "execution_count": 83,
   "metadata": {
    "collapsed": false,
    "scrolled": false
   },
   "outputs": [
    {
     "name": "stdout",
     "output_type": "stream",
     "text": [
      "Index([u'Unnamed: 0', u'account', u'actions', u'availability', u'beds',\n",
      "       u'bucket_name', u'calendars', u'decision', u'discount_agreed',\n",
      "       u'discount_asked', u'discount_obtained', u'extra_people',\n",
      "       u'guests_included', u'host_acceptance_rate', u'host_id',\n",
      "       u'host_is_superhost', u'host_name', u'host_response_rate',\n",
      "       u'host_response_time', u'host_total_listings_count', u'host_url', u'id',\n",
      "       u'instant_bookable', u'listing_url', u'minimum_nights',\n",
      "       u'monthly_price', u'nightly_plus_guest_price', u'nightly_price',\n",
      "       u'nightly_price_scraped', u'number_of_reviews', u'openings',\n",
      "       u'percent_agreed', u'price_agreed', u'price_requested', u'response',\n",
      "       u'room_type'],\n",
      "      dtype='object')\n",
      "Index([u'Unnamed: 0', u'account', u'actions', u'availability', u'beds',\n",
      "       u'bucket_name', u'calendars', u'decision', u'discount_agreed',\n",
      "       u'discount_asked', u'discount_obtained', u'host_acceptance_rate',\n",
      "       u'host_id', u'host_is_superhost', u'host_name', u'host_response_rate',\n",
      "       u'host_response_time', u'host_total_listings_count', u'host_url', u'id',\n",
      "       u'instant_bookable', u'listing_url', u'minimum_nights',\n",
      "       u'monthly_price', u'nightly_price', u'nightly_price_scraped',\n",
      "       u'number_of_reviews', u'openings', u'percent_agreed', u'price_agreed',\n",
      "       u'price_requested', u'response', u'room_type'],\n",
      "      dtype='object')\n",
      "Index([u'Unnamed: 0', u'actions', u'availability', u'beds', u'bucket_name',\n",
      "       u'calendars', u'discount', u'discount_asked', u'host_acceptance_rate',\n",
      "       u'host_id', u'host_is_superhost', u'host_name', u'host_response_rate',\n",
      "       u'host_response_time', u'host_total_listings_count', u'host_url', u'id',\n",
      "       u'instant_bookable', u'listing_url', u'minimum_nights',\n",
      "       u'monthly_price', u'nightly_price', u'nightly_price_scraped',\n",
      "       u'number_of_reviews', u'openings', u'price', u'price_requested',\n",
      "       u'response', u'room_type'],\n",
      "      dtype='object')\n"
     ]
    }
   ],
   "source": [
    "print round3.columns\n",
    "print round2.columns\n",
    "print round1.columns"
   ]
  },
  {
   "cell_type": "code",
   "execution_count": 84,
   "metadata": {
    "collapsed": false
   },
   "outputs": [
    {
     "name": "stdout",
     "output_type": "stream",
     "text": [
      "Number of observations in round 3:  288\n",
      "Number of observations in round 2:  226\n",
      "Number of observations in round 1:  194\n"
     ]
    }
   ],
   "source": [
    "round3_clean = round3[[\"id\", \"host_id\", \"host_response_rate\", \"host_acceptance_rate\", \n",
    "                       \"host_total_listings_count\", \"instant_bookable\", \n",
    "                       \"room_type\", \"bucket_name\", \"discount_asked\", \"nightly_price\", \n",
    "                       \"decision\", \"price_agreed\", \"discount_agreed\", \"percent_agreed\",\n",
    "                       \"calendars\", \"price_requested\"]]\n",
    "round2_clean = round2[[\"id\", \"host_id\", \"host_response_rate\", \"host_acceptance_rate\", \n",
    "                       \"host_total_listings_count\", \"instant_bookable\", \n",
    "                       \"room_type\", \"bucket_name\", \"discount_asked\", \"nightly_price\", \n",
    "                       \"decision\", \"price_agreed\", \"discount_agreed\", \"percent_agreed\",\n",
    "                       \"calendars\", \"price_requested\"]]\n",
    "round1_clean = round1[[\"id\", \"host_id\", \"host_response_rate\", \"host_acceptance_rate\", \n",
    "                       \"host_total_listings_count\", \"instant_bookable\", \n",
    "                       \"room_type\", \"bucket_name\", \"discount_asked\", \"nightly_price\", \n",
    "                       \"availability\", \"price\", \"discount\",\n",
    "                       \"calendars\", \"price_requested\"]]\n",
    "\n",
    "print \"Number of observations in round 3: \", len(round3_clean)\n",
    "print \"Number of observations in round 2: \", len(round2_clean)\n",
    "print \"Number of observations in round 1: \", len(round1_clean)\n",
    "\n",
    "# round3_clean.reset_index(drop=True).head()"
   ]
  },
  {
   "cell_type": "code",
   "execution_count": 85,
   "metadata": {
    "collapsed": false
   },
   "outputs": [
    {
     "data": {
      "text/html": [
       "<div>\n",
       "<table border=\"1\" class=\"dataframe\">\n",
       "  <thead>\n",
       "    <tr style=\"text-align: right;\">\n",
       "      <th></th>\n",
       "      <th>id</th>\n",
       "      <th>host_id</th>\n",
       "      <th>host_response_rate</th>\n",
       "      <th>host_acceptance_rate</th>\n",
       "      <th>host_total_listings_count</th>\n",
       "      <th>instant_bookable</th>\n",
       "      <th>room_type</th>\n",
       "      <th>bucket_name</th>\n",
       "      <th>discount_asked</th>\n",
       "      <th>nightly_price</th>\n",
       "      <th>decision</th>\n",
       "      <th>price_agreed</th>\n",
       "      <th>percent_agreed</th>\n",
       "      <th>calendars</th>\n",
       "      <th>price_requested</th>\n",
       "    </tr>\n",
       "  </thead>\n",
       "  <tbody>\n",
       "    <tr>\n",
       "      <th>0</th>\n",
       "      <td>5557381</td>\n",
       "      <td>28811542</td>\n",
       "      <td>100%</td>\n",
       "      <td>100%</td>\n",
       "      <td>1</td>\n",
       "      <td>t</td>\n",
       "      <td>Private room</td>\n",
       "      <td>daysM_weeks1</td>\n",
       "      <td>0.7</td>\n",
       "      <td>51</td>\n",
       "      <td>0</td>\n",
       "      <td>NaN</td>\n",
       "      <td>None</td>\n",
       "      <td>{u'date': {u'24': u'2016-04-20', u'25': u'2016...</td>\n",
       "      <td>35</td>\n",
       "    </tr>\n",
       "    <tr>\n",
       "      <th>1</th>\n",
       "      <td>9147025</td>\n",
       "      <td>403032</td>\n",
       "      <td>100%</td>\n",
       "      <td>100%</td>\n",
       "      <td>1</td>\n",
       "      <td>f</td>\n",
       "      <td>Entire home/apt</td>\n",
       "      <td>days1_weeksM</td>\n",
       "      <td>0.7</td>\n",
       "      <td>134</td>\n",
       "      <td>-1</td>\n",
       "      <td>NaN</td>\n",
       "      <td>None</td>\n",
       "      <td>{u'date': {u'24': u'2016-04-20', u'25': u'2016...</td>\n",
       "      <td>90</td>\n",
       "    </tr>\n",
       "    <tr>\n",
       "      <th>10</th>\n",
       "      <td>2745620</td>\n",
       "      <td>1172202</td>\n",
       "      <td>100%</td>\n",
       "      <td>100%</td>\n",
       "      <td>5</td>\n",
       "      <td>t</td>\n",
       "      <td>Private room</td>\n",
       "      <td>days3_weeks1</td>\n",
       "      <td>0.9</td>\n",
       "      <td>41</td>\n",
       "      <td>-1</td>\n",
       "      <td>NaN</td>\n",
       "      <td>None</td>\n",
       "      <td>{u'date': {u'24': u'2016-04-20', u'25': u'2016...</td>\n",
       "      <td>35</td>\n",
       "    </tr>\n",
       "    <tr>\n",
       "      <th>100</th>\n",
       "      <td>7879486</td>\n",
       "      <td>38964485</td>\n",
       "      <td>100%</td>\n",
       "      <td>92%</td>\n",
       "      <td>2</td>\n",
       "      <td>f</td>\n",
       "      <td>Entire home/apt</td>\n",
       "      <td>days2_weeks1</td>\n",
       "      <td>0.7</td>\n",
       "      <td>101</td>\n",
       "      <td>-1</td>\n",
       "      <td>NaN</td>\n",
       "      <td>None</td>\n",
       "      <td>{u'date': {u'24': u'2016-04-20', u'25': u'2016...</td>\n",
       "      <td>70</td>\n",
       "    </tr>\n",
       "    <tr>\n",
       "      <th>101</th>\n",
       "      <td>3557570</td>\n",
       "      <td>1594959</td>\n",
       "      <td>100%</td>\n",
       "      <td>None</td>\n",
       "      <td>1</td>\n",
       "      <td>f</td>\n",
       "      <td>Private room</td>\n",
       "      <td>daysM_weeks2</td>\n",
       "      <td>0.6</td>\n",
       "      <td>65</td>\n",
       "      <td>0</td>\n",
       "      <td>NaN</td>\n",
       "      <td>None</td>\n",
       "      <td>{u'date': {u'24': u'2016-04-20', u'25': u'2016...</td>\n",
       "      <td>35</td>\n",
       "    </tr>\n",
       "  </tbody>\n",
       "</table>\n",
       "</div>"
      ],
      "text/plain": [
       "          id   host_id host_response_rate host_acceptance_rate  \\\n",
       "0    5557381  28811542               100%                 100%   \n",
       "1    9147025    403032               100%                 100%   \n",
       "10   2745620   1172202               100%                 100%   \n",
       "100  7879486  38964485               100%                  92%   \n",
       "101  3557570   1594959               100%                 None   \n",
       "\n",
       "     host_total_listings_count instant_bookable        room_type  \\\n",
       "0                            1                t     Private room   \n",
       "1                            1                f  Entire home/apt   \n",
       "10                           5                t     Private room   \n",
       "100                          2                f  Entire home/apt   \n",
       "101                          1                f     Private room   \n",
       "\n",
       "      bucket_name  discount_asked  nightly_price  decision  price_agreed  \\\n",
       "0    daysM_weeks1             0.7             51         0           NaN   \n",
       "1    days1_weeksM             0.7            134        -1           NaN   \n",
       "10   days3_weeks1             0.9             41        -1           NaN   \n",
       "100  days2_weeks1             0.7            101        -1           NaN   \n",
       "101  daysM_weeks2             0.6             65         0           NaN   \n",
       "\n",
       "    percent_agreed                                          calendars  \\\n",
       "0             None  {u'date': {u'24': u'2016-04-20', u'25': u'2016...   \n",
       "1             None  {u'date': {u'24': u'2016-04-20', u'25': u'2016...   \n",
       "10            None  {u'date': {u'24': u'2016-04-20', u'25': u'2016...   \n",
       "100           None  {u'date': {u'24': u'2016-04-20', u'25': u'2016...   \n",
       "101           None  {u'date': {u'24': u'2016-04-20', u'25': u'2016...   \n",
       "\n",
       "     price_requested  \n",
       "0                 35  \n",
       "1                 90  \n",
       "10                35  \n",
       "100               70  \n",
       "101               35  "
      ]
     },
     "execution_count": 85,
     "metadata": {},
     "output_type": "execute_result"
    }
   ],
   "source": [
    "round1_clean = round1_clean.rename(columns = {\"availability\":\"decision\", \"price\":\"price_agreed\", \"discount\":\"percent_agreed\"})\n",
    "round1_clean.head()"
   ]
  },
  {
   "cell_type": "code",
   "execution_count": 86,
   "metadata": {
    "collapsed": false
   },
   "outputs": [],
   "source": [
    "round1_clean = round1_clean.rename(columns = {\"availability\":\"decision\", \"price\":\"price_agreed\", \"discount\":\"percent_agreed\"})\n",
    "round1_clean[\"percent_agreed\"] = [np.nan if val==None else float(val.strip(\"%\"))/100. for val in  round1_clean.percent_agreed.values]\n",
    "\n",
    "combined = pd.concat([round1_clean, round2_clean, round3_clean], keys=[\"round1\", \"round2\", \"round3\"], ignore_index=False)\n",
    "combined[\"source\"] = combined.index.labels[0]+1\n",
    "combined = combined.reset_index(drop=True)"
   ]
  },
  {
   "cell_type": "code",
   "execution_count": 87,
   "metadata": {
    "collapsed": false
   },
   "outputs": [
    {
     "data": {
      "text/html": [
       "<div>\n",
       "<table border=\"1\" class=\"dataframe\">\n",
       "  <thead>\n",
       "    <tr style=\"text-align: right;\">\n",
       "      <th></th>\n",
       "      <th>bucket_name</th>\n",
       "      <th>calendars</th>\n",
       "      <th>decision</th>\n",
       "      <th>discount_agreed</th>\n",
       "      <th>discount_asked</th>\n",
       "      <th>host_acceptance_rate</th>\n",
       "      <th>host_id</th>\n",
       "      <th>host_response_rate</th>\n",
       "      <th>host_total_listings_count</th>\n",
       "      <th>id</th>\n",
       "      <th>instant_bookable</th>\n",
       "      <th>nightly_price</th>\n",
       "      <th>percent_agreed</th>\n",
       "      <th>price_agreed</th>\n",
       "      <th>price_requested</th>\n",
       "      <th>room_type</th>\n",
       "      <th>source</th>\n",
       "    </tr>\n",
       "  </thead>\n",
       "  <tbody>\n",
       "    <tr>\n",
       "      <th>0</th>\n",
       "      <td>daysM_weeks1</td>\n",
       "      <td>{u'date': {u'24': u'2016-04-20', u'25': u'2016...</td>\n",
       "      <td>0</td>\n",
       "      <td>NaN</td>\n",
       "      <td>0.7</td>\n",
       "      <td>100%</td>\n",
       "      <td>28811542</td>\n",
       "      <td>100%</td>\n",
       "      <td>1</td>\n",
       "      <td>5557381</td>\n",
       "      <td>t</td>\n",
       "      <td>51</td>\n",
       "      <td>NaN</td>\n",
       "      <td>NaN</td>\n",
       "      <td>35</td>\n",
       "      <td>Private room</td>\n",
       "      <td>1</td>\n",
       "    </tr>\n",
       "    <tr>\n",
       "      <th>1</th>\n",
       "      <td>days1_weeksM</td>\n",
       "      <td>{u'date': {u'24': u'2016-04-20', u'25': u'2016...</td>\n",
       "      <td>-1</td>\n",
       "      <td>NaN</td>\n",
       "      <td>0.7</td>\n",
       "      <td>100%</td>\n",
       "      <td>403032</td>\n",
       "      <td>100%</td>\n",
       "      <td>1</td>\n",
       "      <td>9147025</td>\n",
       "      <td>f</td>\n",
       "      <td>134</td>\n",
       "      <td>NaN</td>\n",
       "      <td>NaN</td>\n",
       "      <td>90</td>\n",
       "      <td>Entire home/apt</td>\n",
       "      <td>1</td>\n",
       "    </tr>\n",
       "    <tr>\n",
       "      <th>2</th>\n",
       "      <td>days3_weeks1</td>\n",
       "      <td>{u'date': {u'24': u'2016-04-20', u'25': u'2016...</td>\n",
       "      <td>-1</td>\n",
       "      <td>NaN</td>\n",
       "      <td>0.9</td>\n",
       "      <td>100%</td>\n",
       "      <td>1172202</td>\n",
       "      <td>100%</td>\n",
       "      <td>5</td>\n",
       "      <td>2745620</td>\n",
       "      <td>t</td>\n",
       "      <td>41</td>\n",
       "      <td>NaN</td>\n",
       "      <td>NaN</td>\n",
       "      <td>35</td>\n",
       "      <td>Private room</td>\n",
       "      <td>1</td>\n",
       "    </tr>\n",
       "    <tr>\n",
       "      <th>3</th>\n",
       "      <td>days2_weeks1</td>\n",
       "      <td>{u'date': {u'24': u'2016-04-20', u'25': u'2016...</td>\n",
       "      <td>-1</td>\n",
       "      <td>NaN</td>\n",
       "      <td>0.7</td>\n",
       "      <td>92%</td>\n",
       "      <td>38964485</td>\n",
       "      <td>100%</td>\n",
       "      <td>2</td>\n",
       "      <td>7879486</td>\n",
       "      <td>f</td>\n",
       "      <td>101</td>\n",
       "      <td>NaN</td>\n",
       "      <td>NaN</td>\n",
       "      <td>70</td>\n",
       "      <td>Entire home/apt</td>\n",
       "      <td>1</td>\n",
       "    </tr>\n",
       "    <tr>\n",
       "      <th>4</th>\n",
       "      <td>daysM_weeks2</td>\n",
       "      <td>{u'date': {u'24': u'2016-04-20', u'25': u'2016...</td>\n",
       "      <td>0</td>\n",
       "      <td>NaN</td>\n",
       "      <td>0.6</td>\n",
       "      <td>None</td>\n",
       "      <td>1594959</td>\n",
       "      <td>100%</td>\n",
       "      <td>1</td>\n",
       "      <td>3557570</td>\n",
       "      <td>f</td>\n",
       "      <td>65</td>\n",
       "      <td>NaN</td>\n",
       "      <td>NaN</td>\n",
       "      <td>35</td>\n",
       "      <td>Private room</td>\n",
       "      <td>1</td>\n",
       "    </tr>\n",
       "  </tbody>\n",
       "</table>\n",
       "</div>"
      ],
      "text/plain": [
       "    bucket_name                                          calendars  decision  \\\n",
       "0  daysM_weeks1  {u'date': {u'24': u'2016-04-20', u'25': u'2016...         0   \n",
       "1  days1_weeksM  {u'date': {u'24': u'2016-04-20', u'25': u'2016...        -1   \n",
       "2  days3_weeks1  {u'date': {u'24': u'2016-04-20', u'25': u'2016...        -1   \n",
       "3  days2_weeks1  {u'date': {u'24': u'2016-04-20', u'25': u'2016...        -1   \n",
       "4  daysM_weeks2  {u'date': {u'24': u'2016-04-20', u'25': u'2016...         0   \n",
       "\n",
       "   discount_agreed  discount_asked host_acceptance_rate   host_id  \\\n",
       "0              NaN             0.7                 100%  28811542   \n",
       "1              NaN             0.7                 100%    403032   \n",
       "2              NaN             0.9                 100%   1172202   \n",
       "3              NaN             0.7                  92%  38964485   \n",
       "4              NaN             0.6                 None   1594959   \n",
       "\n",
       "  host_response_rate  host_total_listings_count       id instant_bookable  \\\n",
       "0               100%                          1  5557381                t   \n",
       "1               100%                          1  9147025                f   \n",
       "2               100%                          5  2745620                t   \n",
       "3               100%                          2  7879486                f   \n",
       "4               100%                          1  3557570                f   \n",
       "\n",
       "   nightly_price  percent_agreed  price_agreed  price_requested  \\\n",
       "0             51             NaN           NaN               35   \n",
       "1            134             NaN           NaN               90   \n",
       "2             41             NaN           NaN               35   \n",
       "3            101             NaN           NaN               70   \n",
       "4             65             NaN           NaN               35   \n",
       "\n",
       "         room_type  source  \n",
       "0     Private room       1  \n",
       "1  Entire home/apt       1  \n",
       "2     Private room       1  \n",
       "3  Entire home/apt       1  \n",
       "4     Private room       1  "
      ]
     },
     "execution_count": 87,
     "metadata": {},
     "output_type": "execute_result"
    }
   ],
   "source": [
    "combined.head()"
   ]
  },
  {
   "cell_type": "code",
   "execution_count": 88,
   "metadata": {
    "collapsed": false
   },
   "outputs": [
    {
     "data": {
      "text/plain": [
       "bucket_name                    0\n",
       "calendars                      0\n",
       "decision                       0\n",
       "discount_agreed              705\n",
       "discount_asked                 0\n",
       "host_acceptance_rate          56\n",
       "host_id                        0\n",
       "host_response_rate            20\n",
       "host_total_listings_count      0\n",
       "id                             0\n",
       "instant_bookable               0\n",
       "nightly_price                  0\n",
       "percent_agreed               703\n",
       "price_agreed                 573\n",
       "price_requested              283\n",
       "room_type                      0\n",
       "source                         0\n",
       "dtype: int64"
      ]
     },
     "execution_count": 88,
     "metadata": {},
     "output_type": "execute_result"
    }
   ],
   "source": [
    "combined.isnull().sum()"
   ]
  },
  {
   "cell_type": "markdown",
   "metadata": {},
   "source": [
    "#### 1.2 Add useful independent variables"
   ]
  },
  {
   "cell_type": "markdown",
   "metadata": {},
   "source": [
    "Add variables from the calendars:\n",
    "* median price\n",
    "* standard deviation （normalized, using the median price)"
   ]
  },
  {
   "cell_type": "code",
   "execution_count": 89,
   "metadata": {
    "collapsed": false,
    "scrolled": true
   },
   "outputs": [],
   "source": [
    "calendar_price =  np.array([(np.median(calendar[\"price_USD\"].values()), np.std(calendar[\"price_USD\"].values()), np.max(calendar[\"price_USD\"].values())) \n",
    "                            for calendar in combined[\"calendars\"].values])\n",
    "calendar_median_price = calendar_price[:,0]\n",
    "calendar_price_std = calendar_price[:,1]\n",
    "calendar_price_high = calendar_price[:,2]\n",
    "\n",
    "combined[\"price_median\"]=calendar_median_price\n",
    "combined[\"price_std\"]=calendar_price_std/calendar_median_price\n",
    "combined[\"orig_percent_off\"]=1-combined[\"nightly_price\"]/calendar_price_high"
   ]
  },
  {
   "cell_type": "markdown",
   "metadata": {},
   "source": [
    "* 1-month occupancy rate"
   ]
  },
  {
   "cell_type": "code",
   "execution_count": 90,
   "metadata": {
    "collapsed": false
   },
   "outputs": [],
   "source": [
    "key_1m = map(str, range(30))\n",
    "calendar_occupancy = [np.mean([calendar[\"availability\"][key] for key in key_1m]) for calendar in combined[\"calendars\"].values]\n",
    "\n",
    "combined[\"occupancy_1m\"]=calendar_occupancy"
   ]
  },
  {
   "cell_type": "markdown",
   "metadata": {},
   "source": [
    "Convert string variables to numeric:\n",
    "* whether room will be shared\n",
    "* whether instant booking is turned on\n",
    "* the response rate of the host (contains nans)"
   ]
  },
  {
   "cell_type": "code",
   "execution_count": 91,
   "metadata": {
    "collapsed": false
   },
   "outputs": [],
   "source": [
    "shared = combined[\"room_type\"].values\n",
    "combined[\"shared\"] = [x!=\"Entire home/apt\" for x in shared]\n",
    "# shared_binary\n",
    "\n",
    "instant = combined[\"instant_bookable\"].values\n",
    "combined[\"instant\"] = [x==\"t\" for x in shared]\n",
    "# instant_binary"
   ]
  },
  {
   "cell_type": "code",
   "execution_count": 92,
   "metadata": {
    "collapsed": false
   },
   "outputs": [
    {
     "name": "stderr",
     "output_type": "stream",
     "text": [
      "/Users/fqian/anaconda/lib/python2.7/site-packages/sklearn/utils/validation.py:386: DeprecationWarning: Passing 1d arrays as data is deprecated in 0.17 and willraise ValueError in 0.19. Reshape your data either using X.reshape(-1, 1) if your data has a single feature or X.reshape(1, -1) if it contains a single sample.\n",
      "  DeprecationWarning)\n"
     ]
    }
   ],
   "source": [
    "response_imputer = Imputer(copy=True, missing_values='NaN', strategy='mean', axis=1)\n",
    "response_num = np.array([float(response_rate.strip('%'))/100 for response_rate in combined[\"host_response_rate\"].fillna(value=\"-100%\").values])\n",
    "response_num = np.array([np.nan if x < 0 else x for x in response_num])\n",
    "# response_imputer.fit(response_num)\n",
    "response_imputed = response_imputer.fit_transform(response_num)[0]\n",
    "\n",
    "# print len(response_imputed)\n",
    "combined[\"response_rate\"] = response_imputed"
   ]
  },
  {
   "cell_type": "markdown",
   "metadata": {},
   "source": [
    "#### 1.3 Add indicators for the buckets\n",
    "\n",
    "Construct 11 variables: 3 types of orphans, 2 types of advances, and 3x2=6 types of interactions"
   ]
  },
  {
   "cell_type": "code",
   "execution_count": 93,
   "metadata": {
    "collapsed": false
   },
   "outputs": [],
   "source": [
    "opening_attr = combined[\"bucket_name\"].values\n",
    "# orphan = []\n",
    "# advance = []\n",
    "N = len(opening_attr)\n",
    "orp_1 = np.zeros(N)\n",
    "orp_2 = np.zeros(N)\n",
    "orp_3 = np.zeros(N)\n",
    "adv_1 = np.zeros(N)\n",
    "adv_2 = np.zeros(N)\n",
    "\n",
    "for (i,x) in enumerate(opening_attr):\n",
    "    if x == \"days1_weeks1\":\n",
    "        orp_1[i] = 1\n",
    "        orp_2[i] = 0\n",
    "        orp_3[i] = 0\n",
    "        adv_1[i] = 1\n",
    "        adv_2[i] = 0\n",
    "    elif x == \"days1_weeks2\":\n",
    "        orp_1[i] = 1\n",
    "        orp_2[i] = 0\n",
    "        orp_3[i] = 0\n",
    "        adv_1[i] = 0\n",
    "        adv_2[i] = 1\n",
    "    elif x == \"days1_weeksM\":\n",
    "        orp_1[i] = 1\n",
    "        orp_2[i] = 0\n",
    "        orp_3[i] = 0\n",
    "        adv_1[i] = 0\n",
    "        adv_2[i] = 0\n",
    "    elif x == \"days2_weeks1\":\n",
    "        orp_1[i] = 0\n",
    "        orp_2[i] = 1\n",
    "        orp_3[i] = 0\n",
    "        adv_1[i] = 1\n",
    "        adv_2[i] = 0\n",
    "    elif x == \"days2_weeks2\":\n",
    "        orp_1[i] = 0\n",
    "        orp_2[i] = 1\n",
    "        orp_3[i] = 0\n",
    "        adv_1[i] = 0\n",
    "        adv_2[i] = 1\n",
    "    elif x == \"days2_weeksM\":\n",
    "        orp_1[i] = 0\n",
    "        orp_2[i] = 1\n",
    "        orp_3[i] = 0\n",
    "        adv_1[i] = 0\n",
    "        adv_2[i] = 0\n",
    "    elif x == \"days3_weeks1\":\n",
    "        orp_1[i] = 0\n",
    "        orp_2[i] = 0\n",
    "        orp_3[i] = 1\n",
    "        adv_1[i] = 1\n",
    "        adv_2[i] = 0\n",
    "    elif x == \"days3_weeks2\":\n",
    "        orp_1[i] = 0\n",
    "        orp_2[i] = 0\n",
    "        orp_3[i] = 1\n",
    "        adv_1[i] = 0\n",
    "        adv_2[i] = 1\n",
    "    elif x == \"days3_weeksM\":\n",
    "        orp_1[i] = 0\n",
    "        orp_2[i] = 0\n",
    "        orp_3[i] = 1\n",
    "        adv_1[i] = 0\n",
    "        adv_2[i] = 0\n",
    "    elif x == \"daysM_weeks1\":\n",
    "        orp_1[i] = 0\n",
    "        orp_2[i] = 0\n",
    "        orp_3[i] = 0\n",
    "        adv_1[i] = 1\n",
    "        adv_2[i] = 0\n",
    "    elif x == \"daysM_weeks2\":\n",
    "        orp_1[i] = 0\n",
    "        orp_2[i] = 0\n",
    "        orp_3[i] = 0\n",
    "        adv_1[i] = 0\n",
    "        adv_2[i] = 1\n",
    "    elif x == \"daysM_weeksM\":\n",
    "        orp_1[i] = 0\n",
    "        orp_2[i] = 0\n",
    "        orp_3[i] = 0\n",
    "        adv_1[i] = 0\n",
    "        adv_2[i] = 0\n",
    "        \n",
    "combined[\"orp_1\"]=orp_1\n",
    "combined[\"orp_2\"]=orp_2\n",
    "combined[\"orp_3\"]=orp_3\n",
    "combined[\"adv_1\"]=adv_1\n",
    "combined[\"adv_2\"]=adv_2"
   ]
  },
  {
   "cell_type": "code",
   "execution_count": 94,
   "metadata": {
    "collapsed": false
   },
   "outputs": [],
   "source": [
    "combined[\"orp_1, adv_1\"] = combined[\"orp_1\"]*combined[\"adv_1\"]\n",
    "combined[\"orp_1, adv_2\"] = combined[\"orp_1\"]*combined[\"adv_2\"]\n",
    "combined[\"orp_2, adv_1\"] = combined[\"orp_2\"]*combined[\"adv_1\"]\n",
    "combined[\"orp_2, adv_2\"] = combined[\"orp_2\"]*combined[\"adv_2\"]\n",
    "combined[\"orp_3, adv_1\"] = combined[\"orp_3\"]*combined[\"adv_1\"]\n",
    "combined[\"orp_3, adv_2\"] = combined[\"orp_3\"]*combined[\"adv_2\"]"
   ]
  },
  {
   "cell_type": "code",
   "execution_count": 95,
   "metadata": {
    "collapsed": false
   },
   "outputs": [
    {
     "data": {
      "text/plain": [
       "Index([              u'bucket_name',                 u'calendars',\n",
       "                        u'decision',           u'discount_agreed',\n",
       "                  u'discount_asked',      u'host_acceptance_rate',\n",
       "                         u'host_id',        u'host_response_rate',\n",
       "       u'host_total_listings_count',                        u'id',\n",
       "                u'instant_bookable',             u'nightly_price',\n",
       "                  u'percent_agreed',              u'price_agreed',\n",
       "                 u'price_requested',                 u'room_type',\n",
       "                          u'source',              u'price_median',\n",
       "                       u'price_std',          u'orig_percent_off',\n",
       "                    u'occupancy_1m',                    u'shared',\n",
       "                         u'instant',             u'response_rate',\n",
       "                           u'orp_1',                     u'orp_2',\n",
       "                           u'orp_3',                     u'adv_1',\n",
       "                           u'adv_2',              u'orp_1, adv_1',\n",
       "                    u'orp_1, adv_2',              u'orp_2, adv_1',\n",
       "                    u'orp_2, adv_2',              u'orp_3, adv_1',\n",
       "                    u'orp_3, adv_2'],\n",
       "      dtype='object')"
      ]
     },
     "execution_count": 95,
     "metadata": {},
     "output_type": "execute_result"
    }
   ],
   "source": [
    "combined.columns"
   ]
  },
  {
   "cell_type": "markdown",
   "metadata": {},
   "source": [
    "#### 1.4 Process the decision variables:\n",
    "\n",
    "Calculate the percentage of the discount agreed:"
   ]
  },
  {
   "cell_type": "code",
   "execution_count": 96,
   "metadata": {
    "collapsed": false
   },
   "outputs": [
    {
     "data": {
      "text/plain": [
       "decision\n",
       "-1    0.471751\n",
       " 0    0.316384\n",
       " 1    0.211864\n",
       "Name: id, dtype: float64"
      ]
     },
     "execution_count": 96,
     "metadata": {},
     "output_type": "execute_result"
    }
   ],
   "source": [
    "combined.groupby(\"decision\")[\"id\"].count()/len(combined)"
   ]
  },
  {
   "cell_type": "code",
   "execution_count": 97,
   "metadata": {
    "collapsed": false
   },
   "outputs": [],
   "source": [
    "orig_price = combined[\"nightly_price\"]\n",
    "price_agreed_percent = (np.nan_to_num(combined[\"price_agreed\"])/orig_price)\n",
    "discount_agreed1 = [0 if (d>=1 or d==0) else 1-d for d in price_agreed_percent]\n",
    "discount_agreed2 = np.nan_to_num(combined[\"discount_agreed\"]/orig_price)\n",
    "discount_agreed3 = np.nan_to_num(combined[\"percent_agreed\"])\n",
    "\n",
    "discount_obtained = np.max([discount_agreed1, discount_agreed2, discount_agreed3], axis=0)\n",
    "# print discount_agreed\n",
    "\n",
    "combined[\"discount_obtained\"] = discount_obtained"
   ]
  },
  {
   "cell_type": "code",
   "execution_count": 98,
   "metadata": {
    "collapsed": false
   },
   "outputs": [
    {
     "data": {
      "text/plain": [
       "numpy.float64"
      ]
     },
     "execution_count": 98,
     "metadata": {},
     "output_type": "execute_result"
    }
   ],
   "source": [
    "# print discount_agreed1, \"\\n\"\n",
    "# print discount_agreed2, \"\\n\"\n",
    "type(discount_agreed3[0])\n",
    "# discount_obtained"
   ]
  },
  {
   "cell_type": "markdown",
   "metadata": {},
   "source": [
    "#### 1.5 Again, only keep the useful columns"
   ]
  },
  {
   "cell_type": "code",
   "execution_count": 99,
   "metadata": {
    "collapsed": false
   },
   "outputs": [
    {
     "data": {
      "text/plain": [
       "Index([              u'bucket_name',                 u'calendars',\n",
       "                        u'decision',           u'discount_agreed',\n",
       "                  u'discount_asked',      u'host_acceptance_rate',\n",
       "                         u'host_id',        u'host_response_rate',\n",
       "       u'host_total_listings_count',                        u'id',\n",
       "                u'instant_bookable',             u'nightly_price',\n",
       "                  u'percent_agreed',              u'price_agreed',\n",
       "                 u'price_requested',                 u'room_type',\n",
       "                          u'source',              u'price_median',\n",
       "                       u'price_std',          u'orig_percent_off',\n",
       "                    u'occupancy_1m',                    u'shared',\n",
       "                         u'instant',             u'response_rate',\n",
       "                           u'orp_1',                     u'orp_2',\n",
       "                           u'orp_3',                     u'adv_1',\n",
       "                           u'adv_2',              u'orp_1, adv_1',\n",
       "                    u'orp_1, adv_2',              u'orp_2, adv_1',\n",
       "                    u'orp_2, adv_2',              u'orp_3, adv_1',\n",
       "                    u'orp_3, adv_2',         u'discount_obtained'],\n",
       "      dtype='object')"
      ]
     },
     "execution_count": 99,
     "metadata": {},
     "output_type": "execute_result"
    }
   ],
   "source": [
    "combined.columns"
   ]
  },
  {
   "cell_type": "code",
   "execution_count": 100,
   "metadata": {
    "collapsed": true
   },
   "outputs": [],
   "source": [
    "combined_clean = combined[[\"host_total_listings_count\", \"response_rate\", \"instant\", \"shared\", \n",
    "                               \"price_median\", \"price_std\", \"occupancy_1m\",\n",
    "                               \"orp_1\", \"orp_2\", \"orp_3\", \"adv_1\", \"adv_2\", \n",
    "                               \"orp_1, adv_1\", \"orp_1, adv_2\", \"orp_2, adv_1\", \"orp_2, adv_2\", \"orp_3, adv_1\", \"orp_3, adv_2\",\n",
    "                               \"orig_percent_off\", \"discount_asked\", \"decision\", \"discount_obtained\", \"source\"]]"
   ]
  },
  {
   "cell_type": "code",
   "execution_count": 101,
   "metadata": {
    "collapsed": false
   },
   "outputs": [
    {
     "data": {
      "text/html": [
       "<div>\n",
       "<table border=\"1\" class=\"dataframe\">\n",
       "  <thead>\n",
       "    <tr style=\"text-align: right;\">\n",
       "      <th></th>\n",
       "      <th>host_total_listings_count</th>\n",
       "      <th>response_rate</th>\n",
       "      <th>instant</th>\n",
       "      <th>shared</th>\n",
       "      <th>price_median</th>\n",
       "      <th>price_std</th>\n",
       "      <th>occupancy_1m</th>\n",
       "      <th>orp_1</th>\n",
       "      <th>orp_2</th>\n",
       "      <th>orp_3</th>\n",
       "      <th>...</th>\n",
       "      <th>orp_1, adv_2</th>\n",
       "      <th>orp_2, adv_1</th>\n",
       "      <th>orp_2, adv_2</th>\n",
       "      <th>orp_3, adv_1</th>\n",
       "      <th>orp_3, adv_2</th>\n",
       "      <th>orig_percent_off</th>\n",
       "      <th>discount_asked</th>\n",
       "      <th>decision</th>\n",
       "      <th>discount_obtained</th>\n",
       "      <th>source</th>\n",
       "    </tr>\n",
       "  </thead>\n",
       "  <tbody>\n",
       "    <tr>\n",
       "      <th>0</th>\n",
       "      <td>1</td>\n",
       "      <td>1</td>\n",
       "      <td>False</td>\n",
       "      <td>True</td>\n",
       "      <td>45</td>\n",
       "      <td>0.090351</td>\n",
       "      <td>0.433333</td>\n",
       "      <td>0</td>\n",
       "      <td>0</td>\n",
       "      <td>0</td>\n",
       "      <td>...</td>\n",
       "      <td>0</td>\n",
       "      <td>0</td>\n",
       "      <td>0</td>\n",
       "      <td>0</td>\n",
       "      <td>0</td>\n",
       "      <td>0.055556</td>\n",
       "      <td>0.7</td>\n",
       "      <td>0</td>\n",
       "      <td>0</td>\n",
       "      <td>1</td>\n",
       "    </tr>\n",
       "    <tr>\n",
       "      <th>1</th>\n",
       "      <td>1</td>\n",
       "      <td>1</td>\n",
       "      <td>False</td>\n",
       "      <td>False</td>\n",
       "      <td>106</td>\n",
       "      <td>0.144629</td>\n",
       "      <td>0.700000</td>\n",
       "      <td>1</td>\n",
       "      <td>0</td>\n",
       "      <td>0</td>\n",
       "      <td>...</td>\n",
       "      <td>0</td>\n",
       "      <td>0</td>\n",
       "      <td>0</td>\n",
       "      <td>0</td>\n",
       "      <td>0</td>\n",
       "      <td>0.000000</td>\n",
       "      <td>0.7</td>\n",
       "      <td>-1</td>\n",
       "      <td>0</td>\n",
       "      <td>1</td>\n",
       "    </tr>\n",
       "    <tr>\n",
       "      <th>2</th>\n",
       "      <td>5</td>\n",
       "      <td>1</td>\n",
       "      <td>False</td>\n",
       "      <td>True</td>\n",
       "      <td>46</td>\n",
       "      <td>0.021650</td>\n",
       "      <td>0.366667</td>\n",
       "      <td>0</td>\n",
       "      <td>0</td>\n",
       "      <td>1</td>\n",
       "      <td>...</td>\n",
       "      <td>0</td>\n",
       "      <td>0</td>\n",
       "      <td>0</td>\n",
       "      <td>1</td>\n",
       "      <td>0</td>\n",
       "      <td>0.108696</td>\n",
       "      <td>0.9</td>\n",
       "      <td>-1</td>\n",
       "      <td>0</td>\n",
       "      <td>1</td>\n",
       "    </tr>\n",
       "    <tr>\n",
       "      <th>3</th>\n",
       "      <td>2</td>\n",
       "      <td>1</td>\n",
       "      <td>False</td>\n",
       "      <td>False</td>\n",
       "      <td>120</td>\n",
       "      <td>0.095207</td>\n",
       "      <td>0.500000</td>\n",
       "      <td>0</td>\n",
       "      <td>1</td>\n",
       "      <td>0</td>\n",
       "      <td>...</td>\n",
       "      <td>0</td>\n",
       "      <td>1</td>\n",
       "      <td>0</td>\n",
       "      <td>0</td>\n",
       "      <td>0</td>\n",
       "      <td>0.246269</td>\n",
       "      <td>0.7</td>\n",
       "      <td>-1</td>\n",
       "      <td>0</td>\n",
       "      <td>1</td>\n",
       "    </tr>\n",
       "    <tr>\n",
       "      <th>4</th>\n",
       "      <td>1</td>\n",
       "      <td>1</td>\n",
       "      <td>False</td>\n",
       "      <td>True</td>\n",
       "      <td>65</td>\n",
       "      <td>0.000000</td>\n",
       "      <td>0.933333</td>\n",
       "      <td>0</td>\n",
       "      <td>0</td>\n",
       "      <td>0</td>\n",
       "      <td>...</td>\n",
       "      <td>0</td>\n",
       "      <td>0</td>\n",
       "      <td>0</td>\n",
       "      <td>0</td>\n",
       "      <td>0</td>\n",
       "      <td>0.000000</td>\n",
       "      <td>0.6</td>\n",
       "      <td>0</td>\n",
       "      <td>0</td>\n",
       "      <td>1</td>\n",
       "    </tr>\n",
       "  </tbody>\n",
       "</table>\n",
       "<p>5 rows × 23 columns</p>\n",
       "</div>"
      ],
      "text/plain": [
       "   host_total_listings_count  response_rate instant shared  price_median  \\\n",
       "0                          1              1   False   True            45   \n",
       "1                          1              1   False  False           106   \n",
       "2                          5              1   False   True            46   \n",
       "3                          2              1   False  False           120   \n",
       "4                          1              1   False   True            65   \n",
       "\n",
       "   price_std  occupancy_1m  orp_1  orp_2  orp_3   ...    orp_1, adv_2  \\\n",
       "0   0.090351      0.433333      0      0      0   ...               0   \n",
       "1   0.144629      0.700000      1      0      0   ...               0   \n",
       "2   0.021650      0.366667      0      0      1   ...               0   \n",
       "3   0.095207      0.500000      0      1      0   ...               0   \n",
       "4   0.000000      0.933333      0      0      0   ...               0   \n",
       "\n",
       "   orp_2, adv_1  orp_2, adv_2  orp_3, adv_1  orp_3, adv_2  orig_percent_off  \\\n",
       "0             0             0             0             0          0.055556   \n",
       "1             0             0             0             0          0.000000   \n",
       "2             0             0             1             0          0.108696   \n",
       "3             1             0             0             0          0.246269   \n",
       "4             0             0             0             0          0.000000   \n",
       "\n",
       "   discount_asked  decision  discount_obtained  source  \n",
       "0             0.7         0                  0       1  \n",
       "1             0.7        -1                  0       1  \n",
       "2             0.9        -1                  0       1  \n",
       "3             0.7        -1                  0       1  \n",
       "4             0.6         0                  0       1  \n",
       "\n",
       "[5 rows x 23 columns]"
      ]
     },
     "execution_count": 101,
     "metadata": {},
     "output_type": "execute_result"
    }
   ],
   "source": [
    "combined_clean.head()"
   ]
  },
  {
   "cell_type": "markdown",
   "metadata": {},
   "source": [
    "## 2. Construct training samples\n",
    "\n",
    "For studying whether hosts are negotiable, we consider 2 types of acceptance rate:\n",
    "\n",
    "* Accepted / (Accepted + Rejected)\n",
    "* Accepted / (Accepted + Rejected + No Response)\n",
    "\n",
    "For studying how much discounts each host is willing to give, we only include hosts that gave a discount percentage.\n",
    "\n",
    "And, for each study, the discount asked may or may not be an important factor- we will see."
   ]
  },
  {
   "cell_type": "code",
   "execution_count": 110,
   "metadata": {
    "collapsed": false
   },
   "outputs": [],
   "source": [
    "mask_available = combined_clean[\"decision\"] != -1 \n",
    "mask_agreed = combined_clean[\"discount_obtained\"] != 0\n",
    "mask_no_source1 = combined_clean[\"source\"] != 1\n",
    "\n",
    "combined_available = combined_clean[mask_available]\n",
    "combined_agreed = combined_clean[mask_agreed * mask_no_source1]\n",
    "\n",
    "cal_param = [\"orp_1\", \"orp_2\", \"orp_3\", \"adv_1\", \"adv_2\", \"orp_1, adv_1\", \"orp_1, adv_2\", \"orp_2, adv_1\", \"orp_2, adv_2\", \"orp_3, adv_1\", \"orp_3, adv_2\"]\n",
    "host_param = [\"orig_percent_off\", \"host_total_listings_count\", \"response_rate\", \"instant\", \"shared\",  \"price_median\", \"price_std\", \"occupancy_1m\"]\n",
    "param = cal_param + host_param + [\"discount_asked\"]\n",
    "param_noda = cal_param + host_param\n",
    "\n",
    "X_willing = combined_available[param].values\n",
    "X_willing_noda = combined_available[param_noda].values\n",
    "Y_willing = combined_available[\"decision\"].values\n",
    "\n",
    "X_willing_all = combined_clean[param].values\n",
    "X_willing_all_noda = combined_clean[param_noda].values\n",
    "Y_willing_all = combined_clean[\"decision\"].values \n",
    "Y_willing_all = np.max(zip(Y_willing_all,np.zeros(len(Y_willing_all))), axis=1)\n",
    "\n",
    "X_discount = combined_agreed[param].values\n",
    "X_discount_noda = combined_agreed[param_noda].values\n",
    "Y_discount = combined_agreed[\"discount_obtained\"].values"
   ]
  },
  {
   "cell_type": "code",
   "execution_count": 111,
   "metadata": {
    "collapsed": false
   },
   "outputs": [
    {
     "data": {
      "text/html": [
       "<div>\n",
       "<table border=\"1\" class=\"dataframe\">\n",
       "  <thead>\n",
       "    <tr style=\"text-align: right;\">\n",
       "      <th></th>\n",
       "      <th>host_total_listings_count</th>\n",
       "      <th>response_rate</th>\n",
       "      <th>instant</th>\n",
       "      <th>shared</th>\n",
       "      <th>price_median</th>\n",
       "      <th>price_std</th>\n",
       "      <th>occupancy_1m</th>\n",
       "      <th>orp_1</th>\n",
       "      <th>orp_2</th>\n",
       "      <th>orp_3</th>\n",
       "      <th>...</th>\n",
       "      <th>orp_1, adv_2</th>\n",
       "      <th>orp_2, adv_1</th>\n",
       "      <th>orp_2, adv_2</th>\n",
       "      <th>orp_3, adv_1</th>\n",
       "      <th>orp_3, adv_2</th>\n",
       "      <th>orig_percent_off</th>\n",
       "      <th>discount_asked</th>\n",
       "      <th>decision</th>\n",
       "      <th>discount_obtained</th>\n",
       "      <th>source</th>\n",
       "    </tr>\n",
       "  </thead>\n",
       "  <tbody>\n",
       "    <tr>\n",
       "      <th>195</th>\n",
       "      <td>1</td>\n",
       "      <td>0.90</td>\n",
       "      <td>False</td>\n",
       "      <td>False</td>\n",
       "      <td>210</td>\n",
       "      <td>0.000000</td>\n",
       "      <td>0.100000</td>\n",
       "      <td>0</td>\n",
       "      <td>0</td>\n",
       "      <td>1</td>\n",
       "      <td>...</td>\n",
       "      <td>0</td>\n",
       "      <td>0</td>\n",
       "      <td>0</td>\n",
       "      <td>1</td>\n",
       "      <td>0</td>\n",
       "      <td>0.000000</td>\n",
       "      <td>0.9</td>\n",
       "      <td>1</td>\n",
       "      <td>0.119048</td>\n",
       "      <td>2</td>\n",
       "    </tr>\n",
       "    <tr>\n",
       "      <th>200</th>\n",
       "      <td>1</td>\n",
       "      <td>0.92</td>\n",
       "      <td>False</td>\n",
       "      <td>True</td>\n",
       "      <td>90</td>\n",
       "      <td>0.188228</td>\n",
       "      <td>0.333333</td>\n",
       "      <td>0</td>\n",
       "      <td>0</td>\n",
       "      <td>0</td>\n",
       "      <td>...</td>\n",
       "      <td>0</td>\n",
       "      <td>0</td>\n",
       "      <td>0</td>\n",
       "      <td>0</td>\n",
       "      <td>0</td>\n",
       "      <td>0.357143</td>\n",
       "      <td>0.9</td>\n",
       "      <td>1</td>\n",
       "      <td>0.111111</td>\n",
       "      <td>2</td>\n",
       "    </tr>\n",
       "    <tr>\n",
       "      <th>202</th>\n",
       "      <td>1</td>\n",
       "      <td>0.76</td>\n",
       "      <td>False</td>\n",
       "      <td>False</td>\n",
       "      <td>130</td>\n",
       "      <td>0.078299</td>\n",
       "      <td>0.133333</td>\n",
       "      <td>0</td>\n",
       "      <td>0</td>\n",
       "      <td>0</td>\n",
       "      <td>...</td>\n",
       "      <td>0</td>\n",
       "      <td>0</td>\n",
       "      <td>0</td>\n",
       "      <td>0</td>\n",
       "      <td>0</td>\n",
       "      <td>0.029197</td>\n",
       "      <td>0.7</td>\n",
       "      <td>1</td>\n",
       "      <td>0.323308</td>\n",
       "      <td>2</td>\n",
       "    </tr>\n",
       "    <tr>\n",
       "      <th>203</th>\n",
       "      <td>1</td>\n",
       "      <td>1.00</td>\n",
       "      <td>False</td>\n",
       "      <td>False</td>\n",
       "      <td>135</td>\n",
       "      <td>0.124332</td>\n",
       "      <td>0.233333</td>\n",
       "      <td>0</td>\n",
       "      <td>0</td>\n",
       "      <td>1</td>\n",
       "      <td>...</td>\n",
       "      <td>0</td>\n",
       "      <td>0</td>\n",
       "      <td>0</td>\n",
       "      <td>0</td>\n",
       "      <td>1</td>\n",
       "      <td>0.179894</td>\n",
       "      <td>0.9</td>\n",
       "      <td>1</td>\n",
       "      <td>0.096774</td>\n",
       "      <td>2</td>\n",
       "    </tr>\n",
       "    <tr>\n",
       "      <th>204</th>\n",
       "      <td>3</td>\n",
       "      <td>0.90</td>\n",
       "      <td>False</td>\n",
       "      <td>True</td>\n",
       "      <td>65</td>\n",
       "      <td>0.041439</td>\n",
       "      <td>0.633333</td>\n",
       "      <td>0</td>\n",
       "      <td>0</td>\n",
       "      <td>0</td>\n",
       "      <td>...</td>\n",
       "      <td>0</td>\n",
       "      <td>0</td>\n",
       "      <td>0</td>\n",
       "      <td>0</td>\n",
       "      <td>0</td>\n",
       "      <td>0.111111</td>\n",
       "      <td>0.8</td>\n",
       "      <td>1</td>\n",
       "      <td>0.100000</td>\n",
       "      <td>2</td>\n",
       "    </tr>\n",
       "  </tbody>\n",
       "</table>\n",
       "<p>5 rows × 23 columns</p>\n",
       "</div>"
      ],
      "text/plain": [
       "     host_total_listings_count  response_rate instant shared  price_median  \\\n",
       "195                          1           0.90   False  False           210   \n",
       "200                          1           0.92   False   True            90   \n",
       "202                          1           0.76   False  False           130   \n",
       "203                          1           1.00   False  False           135   \n",
       "204                          3           0.90   False   True            65   \n",
       "\n",
       "     price_std  occupancy_1m  orp_1  orp_2  orp_3   ...    orp_1, adv_2  \\\n",
       "195   0.000000      0.100000      0      0      1   ...               0   \n",
       "200   0.188228      0.333333      0      0      0   ...               0   \n",
       "202   0.078299      0.133333      0      0      0   ...               0   \n",
       "203   0.124332      0.233333      0      0      1   ...               0   \n",
       "204   0.041439      0.633333      0      0      0   ...               0   \n",
       "\n",
       "     orp_2, adv_1  orp_2, adv_2  orp_3, adv_1  orp_3, adv_2  orig_percent_off  \\\n",
       "195             0             0             1             0          0.000000   \n",
       "200             0             0             0             0          0.357143   \n",
       "202             0             0             0             0          0.029197   \n",
       "203             0             0             0             1          0.179894   \n",
       "204             0             0             0             0          0.111111   \n",
       "\n",
       "     discount_asked  decision  discount_obtained  source  \n",
       "195             0.9         1           0.119048       2  \n",
       "200             0.9         1           0.111111       2  \n",
       "202             0.7         1           0.323308       2  \n",
       "203             0.9         1           0.096774       2  \n",
       "204             0.8         1           0.100000       2  \n",
       "\n",
       "[5 rows x 23 columns]"
      ]
     },
     "execution_count": 111,
     "metadata": {},
     "output_type": "execute_result"
    }
   ],
   "source": [
    "combined_agreed.head()"
   ]
  },
  {
   "cell_type": "code",
   "execution_count": 112,
   "metadata": {
    "collapsed": false
   },
   "outputs": [
    {
     "name": "stdout",
     "output_type": "stream",
     "text": [
      "(374, 20)\n",
      "(374, 19)\n",
      "(374,)\n",
      "(708, 20)\n",
      "(708, 19)\n",
      "(708,)\n",
      "(91, 20)\n",
      "(91, 19)\n",
      "(91,)\n"
     ]
    }
   ],
   "source": [
    "print X_willing.shape\n",
    "print X_willing_noda.shape\n",
    "print Y_willing.shape\n",
    "\n",
    "print X_willing_all.shape\n",
    "print X_willing_all_noda.shape\n",
    "print Y_willing_all.shape\n",
    "\n",
    "print X_discount.shape\n",
    "print X_discount_noda.shape\n",
    "print Y_discount.shape"
   ]
  },
  {
   "cell_type": "code",
   "execution_count": 24,
   "metadata": {
    "collapsed": true
   },
   "outputs": [],
   "source": [
    "param_label = [\"1-day orphan\", \"2-day orphan\", \"3-day_orphan\", \"Within 1 week\", \"1-2 weeks in advance\", \n",
    "               \"1-day orphan within 1 week\", \"1-day orphan 1-2 weeks in advance\", \n",
    "               \"2-day orphan within 1 week\", \"2-day orphan 1-2 weeks in advance\", \n",
    "               \"3-day orphan within 1 week\", \"3-day orphan 1-2 weeks in advance\", \n",
    "               \"Percent off highest price\", \"Host listing count\", \"Host response rate\", \n",
    "               \"Instant bookable\", \"Space shared with host\", \"Usual price\", \"Price variation\", \"1-month occupancy\", \n",
    "               \"Discount asked\"]\n",
    "param_label_noda = param_label[:-1]"
   ]
  },
  {
   "cell_type": "markdown",
   "metadata": {},
   "source": [
    "## 3. Model Fitting and Prediction\n",
    "\n",
    "\n",
    "### 3.1 Acceptance rate as Accepted / (Accepted + Rejected)"
   ]
  },
  {
   "cell_type": "code",
   "execution_count": 25,
   "metadata": {
    "collapsed": false
   },
   "outputs": [],
   "source": [
    "def model_fitting(name, clf, X, Y, label=param_label_noda, fold=10):\n",
    "    clf.fit(X,Y)\n",
    "    cv_scores = -cross_val_score(clf, X, Y, scoring='mean_squared_error', cv=fold)\n",
    "    print \"Average Cross Validation Accuracy: \\n\", 1-np.mean(cv_scores)\n",
    "    print \"Cross Validation Accuracies by Fold: \\n\", 1 - np.array(cv_scores)\n",
    "    \n",
    "    if name==\"rf\":\n",
    "        importances = clf.feature_importances_\n",
    "        std = np.std([tree.feature_importances_ for tree in clf.estimators_],\n",
    "                     axis=0)\n",
    "        indices = np.argsort(importances)[::1]\n",
    "        param_label_sorted = [label[ind] for ind in indices]\n",
    "\n",
    "        # Print the feature ranking\n",
    "        # print(\"Feature ranking:\")\n",
    "\n",
    "        # for f in range(X.shape[1]):\n",
    "            # print(\"%d. %s (feature %d, importance: %f)\" % (f + 1, param_label[indices[f]], indices[f], importances[indices[f]]))\n",
    "\n",
    "        # Plot the feature importances of the forest\n",
    "        plt.figure(figsize=(16,10))\n",
    "        plt.title(\"Feature Importance\", fontsize=30)\n",
    "        plt.barh(range(X.shape[1]), importances[indices],color=\"green\", align=\"center\")\n",
    "        # plt.axvline(x=0.05, color=\"red\", ls=\"--\")\n",
    "        plt.yticks(range(X.shape[1]), param_label_sorted,  fontsize=16)\n",
    "        plt.xticks(fontsize=16)\n",
    "        plt.ylim([-1, X.shape[1]])\n",
    "        plt.xlim([0,0.25])\n",
    "        plt.grid(False)\n",
    "        plt.show()\n",
    "    \n",
    "    if name==\"lr\":\n"
   ]
  },
  {
   "cell_type": "markdown",
   "metadata": {},
   "source": [
    "#### Random Forest: Accuracy and Feature Importance\n",
    "\n",
    "Ensemble methods: http://scikit-learn.org/stable/modules/ensemble.html\n",
    "* random sample (with replacement)\n",
    "* random feature\n",
    "* average probablistic prediction"
   ]
  },
  {
   "cell_type": "code",
   "execution_count": 30,
   "metadata": {
    "collapsed": false
   },
   "outputs": [
    {
     "name": "stdout",
     "output_type": "stream",
     "text": [
      "Average Cross Validation Accuracy: \n",
      "0.571621621622\n",
      "Cross Validation Accuracies by Fold: \n",
      "[ 0.57894737  0.63157895  0.60526316  0.68421053  0.51351351  0.48648649\n",
      "  0.56756757  0.54054054  0.59459459  0.51351351]\n"
     ]
    },
    {
     "data": {
      "image/png": "[encoded data removed]",
      "text/plain": [
       "<matplotlib.figure.Figure at 0x1040b2090>"
      ]
     },
     "metadata": {},
     "output_type": "display_data"
    }
   ],
   "source": [
    "rf = RandomForestClassifier(n_estimators=1000, \n",
    "                            max_features=int(np.sqrt(X_willing_noda.shape[1])), \n",
    "                            max_depth=None,\n",
    "                            min_samples_split=1)\n",
    "model_fitting(\"rf\", rf, X_willing_noda, Y_willing)"
   ]
  },
  {
   "cell_type": "markdown",
   "metadata": {},
   "source": [
    "#### Logistic Regression: Sign of the Feature"
   ]
  },
  {
   "cell_type": "code",
   "execution_count": 27,
   "metadata": {
    "collapsed": false
   },
   "outputs": [
    {
     "name": "stdout",
     "output_type": "stream",
     "text": [
      "Average Cross Validation Accuracy: \n",
      "0.606685633001\n",
      "Cross Validation Accuracies by Fold: \n",
      "[ 0.57894737  0.63157895  0.57894737  0.73684211  0.59459459  0.56756757\n",
      "  0.62162162  0.56756757  0.59459459  0.59459459]\n",
      "Coefficients: \n",
      "\n"
     ]
    },
    {
     "data": {
      "text/plain": [
       "[('1-day orphan', -0.058816602782868113),\n",
       " ('2-day orphan', -0.022026427553062344),\n",
       " ('3-day_orphan', 0.40070746201403756),\n",
       " ('Within 1 week', 0.097515395250713705),\n",
       " ('1-2 weeks in advance', 0.22496053640591815),\n",
       " ('1-day orphan within 1 week', -0.34478171902228),\n",
       " ('1-day orphan 1-2 weeks in advance', 0.54910275089995431),\n",
       " ('2-day orphan within 1 week', 0.17987303899399115),\n",
       " ('2-day orphan 1-2 weeks in advance', 0.3602306873465953),\n",
       " ('3-day orphan within 1 week', -0.59735200578026548),\n",
       " ('3-day orphan 1-2 weeks in advance', -0.08199350805539328),\n",
       " ('Percent off highest price', -0.30390597775649469),\n",
       " ('Host listing count', -0.073482723858143806),\n",
       " ('Host response rate', -0.27083788268790615),\n",
       " ('Instant bookable', 0.0),\n",
       " ('Space shared with host', -0.12890504828725532),\n",
       " ('Usual price', 0.0033348535580607587),\n",
       " ('Price variation', -0.47122126194489899),\n",
       " ('1-month occupancy', -0.7555215160222245)]"
      ]
     },
     "execution_count": 27,
     "metadata": {},
     "output_type": "execute_result"
    }
   ],
   "source": [
    "lr = LogisticRegression()\n",
    "model_fitting(\"lr\", lr, X_willing_noda, Y_willing)"
   ]
  },
  {
   "cell_type": "markdown",
   "metadata": {},
   "source": [
    "#### SVM: better prediction?"
   ]
  },
  {
   "cell_type": "code",
   "execution_count": 28,
   "metadata": {
    "collapsed": false
   },
   "outputs": [
    {
     "name": "stdout",
     "output_type": "stream",
     "text": [
      "Average Cross Validation Accuracy: \n",
      "0.62012802276\n",
      "Cross Validation Accuracies by Fold: \n",
      "[ 0.68421053  0.57894737  0.63157895  0.65789474  0.56756757  0.59459459\n",
      "  0.64864865  0.7027027   0.45945946  0.67567568]\n"
     ]
    }
   ],
   "source": [
    "svm = svm.SVC()\n",
    "model_fitting(\"svm\", svm, X_willing_noda, Y_willing)"
   ]
  },
  {
   "cell_type": "markdown",
   "metadata": {},
   "source": [
    "#### Let's be crazy: 8 classifiers together"
   ]
  },
  {
   "cell_type": "code",
   "execution_count": 38,
   "metadata": {
    "collapsed": false
   },
   "outputs": [
    {
     "name": "stdout",
     "output_type": "stream",
     "text": [
      "Average Cross Validation Accuracy:\n",
      "Nearest Neighbors:  0.612375533428\n",
      "Linear SVM:  0.596088193457\n",
      "RBF SVM:  0.598790896159\n",
      "Decision Tree:  0.518278805121\n",
      "Random Forest:  0.582361308677\n",
      "AdaBoost:  0.585419630156\n",
      "Naive Bayes:  0.550568990043\n",
      "Linear Discriminant Analysis:  0.606685633001\n",
      "Quadratic Discriminant Analysis:  0.561166429587\n"
     ]
    },
    {
     "name": "stderr",
     "output_type": "stream",
     "text": [
      "/Users/fqian/anaconda/lib/python2.7/site-packages/sklearn/discriminant_analysis.py:387: UserWarning: Variables are collinear.\n",
      "  warnings.warn(\"Variables are collinear.\")\n",
      "/Users/fqian/anaconda/lib/python2.7/site-packages/sklearn/discriminant_analysis.py:688: UserWarning: Variables are collinear\n",
      "  warnings.warn(\"Variables are collinear\")\n"
     ]
    }
   ],
   "source": [
    "from matplotlib.colors import ListedColormap\n",
    "from sklearn.cross_validation import train_test_split\n",
    "from sklearn.preprocessing import StandardScaler\n",
    "from sklearn.datasets import make_moons, make_circles, make_classification\n",
    "from sklearn.neighbors import KNeighborsClassifier\n",
    "from sklearn.svm import SVC\n",
    "from sklearn.tree import DecisionTreeClassifier\n",
    "from sklearn.ensemble import RandomForestClassifier, AdaBoostClassifier\n",
    "from sklearn.naive_bayes import GaussianNB\n",
    "from sklearn.discriminant_analysis import LinearDiscriminantAnalysis\n",
    "from sklearn.discriminant_analysis import QuadraticDiscriminantAnalysis\n",
    "\n",
    "names = [\"Nearest Neighbors\", \"Linear SVM\", \"RBF SVM\", \"Decision Tree\",\n",
    "         \"Random Forest\", \"AdaBoost\", \"Naive Bayes\", \"Linear Discriminant Analysis\",\n",
    "         \"Quadratic Discriminant Analysis\"]\n",
    "classifiers = [\n",
    "    KNeighborsClassifier(3),\n",
    "    SVC(kernel=\"linear\", C=0.025),\n",
    "    SVC(gamma=2, C=1),\n",
    "    DecisionTreeClassifier(max_depth=None),\n",
    "    RandomForestClassifier(max_depth=None, n_estimators=1000, max_features=5),\n",
    "    AdaBoostClassifier(),\n",
    "    GaussianNB(),\n",
    "    LinearDiscriminantAnalysis(),\n",
    "    QuadraticDiscriminantAnalysis()]\n",
    "\n",
    "print \"Average Cross Validation Accuracy:\"\n",
    "for name, clf in zip(names, classifiers):\n",
    "    clf.fit(X_willing_noda, Y_willing)\n",
    "    cv_scores = -cross_val_score(clf, X_willing_noda, Y_willing, scoring='mean_squared_error', cv=10)\n",
    "\n",
    "    print \"%s: \"%name, 1-np.mean(cv_scores)"
   ]
  },
  {
   "cell_type": "markdown",
   "metadata": {},
   "source": [
    "### 3.2 Accepted / (Accepted + Rejected + No Response)"
   ]
  },
  {
   "cell_type": "code",
   "execution_count": 39,
   "metadata": {
    "collapsed": false
   },
   "outputs": [
    {
     "name": "stdout",
     "output_type": "stream",
     "text": [
      "Average Cross Validation Accuracy: \n",
      "0.772595573441\n",
      "Cross Validation Accuracies by Fold: \n",
      "[ 0.78873239  0.77464789  0.77464789  0.78873239  0.74647887  0.77464789\n",
      "  0.77464789  0.76056338  0.8         0.74285714]\n"
     ]
    },
    {
     "data": {
      "image/png": "[encoded data removed]",
      "text/plain": [
       "<matplotlib.figure.Figure at 0x10d90add0>"
      ]
     },
     "metadata": {},
     "output_type": "display_data"
    }
   ],
   "source": [
    "rf_all = RandomForestClassifier(n_estimators=1000, \n",
    "                            max_features=int(np.sqrt(X_willing_all_noda.shape[1])), \n",
    "                            max_depth=None,\n",
    "                            min_samples_split=1)\n",
    "model_fitting(\"rf\", rf_all, X_willing_all_noda, Y_willing_all)"
   ]
  },
  {
   "cell_type": "code",
   "execution_count": 40,
   "metadata": {
    "collapsed": false
   },
   "outputs": [
    {
     "name": "stdout",
     "output_type": "stream",
     "text": [
      "Average Cross Validation Accuracy: \n",
      "0.786720321932\n",
      "Cross Validation Accuracies by Fold: \n",
      "[ 0.78873239  0.78873239  0.78873239  0.78873239  0.78873239  0.78873239\n",
      "  0.78873239  0.77464789  0.78571429  0.78571429]\n",
      "Coefficients: \n",
      "\n"
     ]
    },
    {
     "data": {
      "text/plain": [
       "[('1-day orphan', -0.18897902110224055),\n",
       " ('2-day orphan', -0.0077860875867961227),\n",
       " ('3-day_orphan', 0.19913094155695132),\n",
       " ('Within 1 week', -0.095863186501764064),\n",
       " ('1-2 weeks in advance', 0.03499736807394821),\n",
       " ('1-day orphan within 1 week', -0.51248390564400903),\n",
       " ('1-day orphan 1-2 weeks in advance', 0.52286319657636005),\n",
       " ('2-day orphan within 1 week', 0.28845645243571089),\n",
       " ('2-day orphan 1-2 weeks in advance', 0.31184602178321624),\n",
       " ('3-day orphan within 1 week', -0.45751946307823854),\n",
       " ('3-day orphan 1-2 weeks in advance', -0.36266196499991105),\n",
       " ('Percent off highest price', 0.58315524458753287),\n",
       " ('Host listing count', -0.043401677010225903),\n",
       " ('Host response rate', 0.636279795109289),\n",
       " ('Instant bookable', 0.0),\n",
       " ('Space shared with host', -0.21779510357982923),\n",
       " ('Usual price', 0.0012089199391448339),\n",
       " ('Price variation', -0.5495383823608575),\n",
       " ('1-month occupancy', -0.66698921959428403)]"
      ]
     },
     "execution_count": 40,
     "metadata": {},
     "output_type": "execute_result"
    }
   ],
   "source": [
    "lr_all = LogisticRegression()\n",
    "model_fitting(\"lr\", lr_all, X_willing_all_noda, Y_willing_all)"
   ]
  },
  {
   "cell_type": "code",
   "execution_count": 41,
   "metadata": {
    "collapsed": false
   },
   "outputs": [
    {
     "name": "stdout",
     "output_type": "stream",
     "text": [
      "Average Cross Validation Accuracy: \n",
      "0.790965794769\n",
      "Cross Validation Accuracies by Fold: \n",
      "[ 0.78873239  0.8028169   0.76056338  0.78873239  0.81690141  0.78873239\n",
      "  0.78873239  0.78873239  0.78571429  0.8       ]\n"
     ]
    }
   ],
   "source": [
    "svm_all = svm.SVC()\n",
    "model_fitting(\"svm\", svm_all, X_willing_all_noda, Y_willing_all)"
   ]
  },
  {
   "cell_type": "code",
   "execution_count": 43,
   "metadata": {
    "collapsed": false
   },
   "outputs": [],
   "source": [
    "from matplotlib.colors import ListedColormap\n",
    "from sklearn.cross_validation import train_test_split\n",
    "from sklearn.preprocessing import StandardScaler\n",
    "from sklearn.datasets import make_moons, make_circles, make_classification\n",
    "from sklearn.neighbors import KNeighborsClassifier\n",
    "from sklearn.svm import SVC\n",
    "from sklearn.tree import DecisionTreeClassifier\n",
    "from sklearn.ensemble import RandomForestClassifier, AdaBoostClassifier\n",
    "from sklearn.naive_bayes import GaussianNB\n",
    "from sklearn.discriminant_analysis import LinearDiscriminantAnalysis\n",
    "from sklearn.discriminant_analysis import QuadraticDiscriminantAnalysis\n",
    "\n",
    "names = [\"Nearest Neighbors\", \"Linear SVM\", \"RBF SVM\", \"Decision Tree\",\n",
    "         \"Random Forest\", \"AdaBoost\", \"Naive Bayes\", \"Linear Discriminant Analysis\",\n",
    "         \"Quadratic Discriminant Analysis\"]\n",
    "classifiers = [\n",
    "    KNeighborsClassifier(3),\n",
    "    SVC(kernel=\"linear\", C=0.025),\n",
    "    SVC(gamma=2, C=1),\n",
    "    DecisionTreeClassifier(max_depth=None),\n",
    "    RandomForestClassifier(max_depth=None, n_estimators=1000, max_features=5),\n",
    "    AdaBoostClassifier(),\n",
    "    GaussianNB(),\n",
    "    LinearDiscriminantAnalysis(),\n",
    "    QuadraticDiscriminantAnalysis()]\n",
    "\n",
    "print \"Average Cross Validation Accuracy:\"\n",
    "for name, clf in zip(names, classifiers):\n",
    "    clf.fit(X_willing_noda, Y_willing)\n",
    "    cv_scores = -cross_val_score(clf, X_willing_all_noda, Y_willing_all, scoring='mean_squared_error', cv=10)\n",
    "\n",
    "    print \"%s: \"%name, 1-np.mean(cv_scores)"
   ]
  },
  {
   "cell_type": "markdown",
   "metadata": {},
   "source": [
    "### 3.3 Discount Obtained\n",
    "\n",
    "Now, instead of classifiers, I used regressors for random forest, and linear regression instead of logistic."
   ]
  },
  {
   "cell_type": "code",
   "execution_count": 116,
   "metadata": {
    "collapsed": false
   },
   "outputs": [
    {
     "name": "stdout",
     "output_type": "stream",
     "text": [
      "Average Cross Validation Accuracy: \n",
      "0.988963244682\n",
      "Cross Validation Accuracies by Fold: \n",
      "[ 0.99319912  0.98941842  0.99050002  0.98925472  0.98932527  0.98628544\n",
      "  0.98758123  0.99152216  0.99141239  0.98113367]\n"
     ]
    },
    {
     "data": {
      "image/png": "[encoded data removed]",
      "text/plain": [
       "<matplotlib.figure.Figure at 0x11cc60c50>"
      ]
     },
     "metadata": {},
     "output_type": "display_data"
    }
   ],
   "source": [
    "rf_discount = RandomForestRegressor(n_estimators=1000, \n",
    "                            max_features=int(np.sqrt(X_discount_noda.shape[1])), \n",
    "                            max_depth=None,\n",
    "                            min_samples_split=1)\n",
    "model_fitting(\"rf\", rf_discount, X_discount_noda, Y_discount)"
   ]
  },
  {
   "cell_type": "code",
   "execution_count": 145,
   "metadata": {
    "collapsed": false
   },
   "outputs": [
    {
     "name": "stdout",
     "output_type": "stream",
     "text": [
      "Average Cross Validation Accuracy: \n",
      "0.984941573391\n",
      "Cross Validation Accuracies by Fold: \n",
      "[ 0.98977596  0.987797    0.97246924  0.98250821  0.99001684  0.98123999\n",
      "  0.98597878  0.99017449  0.98727643  0.98217881]\n",
      "Coefficients: \n",
      "\n"
     ]
    },
    {
     "data": {
      "text/plain": [
       "[('1-day orphan', 0.061391245153123705),\n",
       " ('2-day orphan', 0.021617255355161295),\n",
       " ('3-day_orphan', 0.020906041424810975),\n",
       " ('Within 1 week', 0.092659760731504767),\n",
       " ('1-2 weeks in advance', 0.06160789750411013),\n",
       " ('1-day orphan within 1 week', -0.0094026859467369536),\n",
       " ('1-day orphan 1-2 weeks in advance', -0.022576963481932166),\n",
       " ('2-day orphan within 1 week', -0.038208171796346016),\n",
       " ('2-day orphan 1-2 weeks in advance', -0.031194525972235224),\n",
       " ('3-day orphan within 1 week', -0.071275503292604195),\n",
       " ('3-day orphan 1-2 weeks in advance', -0.019017919371763115),\n",
       " ('Percent off highest price', -0.10553109165998886),\n",
       " ('Host listing count', 0.0042370582079378355),\n",
       " ('Host response rate', -0.086287821528091058),\n",
       " ('Instant bookable', 7.8609937610866323e-17),\n",
       " ('Space shared with host', -0.025142599687997029),\n",
       " ('Usual price', 0.00015238139362796363),\n",
       " ('Price variation', 0.051101774418578126),\n",
       " ('1-month occupancy', -0.055580435742556944)]"
      ]
     },
     "execution_count": 145,
     "metadata": {},
     "output_type": "execute_result"
    }
   ],
   "source": [
    "lr_discount = LinearRegression()\n",
    "lr_discount.fit(X_discount_noda, Y_discount)\n",
    "\n",
    "lr_discount_scores = -cross_val_score(lr_discount, X_discount_noda, Y_discount, scoring='mean_squared_error', cv=10)\n",
    "print \"Average Cross Validation Accuracy: \\n\", 1-np.mean(lr_discount_scores)\n",
    "print \"Cross Validation Accuracies by Fold: \\n\", 1 - np.array(lr_discount_scores)\n",
    "print \"Coefficients: \\n\"\n",
    "zip(param_label_noda, np.ravel(lr_discount.coef_))"
   ]
  },
  {
   "cell_type": "markdown",
   "metadata": {},
   "source": [
    "#### Variables against discounts given"
   ]
  },
  {
   "cell_type": "code",
   "execution_count": 139,
   "metadata": {
    "collapsed": false
   },
   "outputs": [
    {
     "data": {
      "text/plain": [
       "<matplotlib.collections.PathCollection at 0x10d9d52d0>"
      ]
     },
     "execution_count": 139,
     "metadata": {},
     "output_type": "execute_result"
    },
    {
     "data": {
      "image/png": "[encoded data removed]",
      "text/plain": [
       "<matplotlib.figure.Figure at 0x10dcac3d0>"
      ]
     },
     "metadata": {},
     "output_type": "display_data"
    }
   ],
   "source": [
    "plt.scatter(combined_agreed[\"price_median\"], combined_agreed[\"discount_obtained\"])"
   ]
  },
  {
   "cell_type": "code",
   "execution_count": 140,
   "metadata": {
    "collapsed": false
   },
   "outputs": [
    {
     "data": {
      "text/plain": [
       "<matplotlib.collections.PathCollection at 0x10a064e10>"
      ]
     },
     "execution_count": 140,
     "metadata": {},
     "output_type": "execute_result"
    },
    {
     "data": {
      "image/png": "[encoded data removed]",
      "text/plain": [
       "<matplotlib.figure.Figure at 0x109f1c450>"
      ]
     },
     "metadata": {},
     "output_type": "display_data"
    }
   ],
   "source": [
    "plt.scatter(combined_agreed[\"price_std\"], combined_agreed[\"discount_obtained\"])"
   ]
  },
  {
   "cell_type": "code",
   "execution_count": 142,
   "metadata": {
    "collapsed": false
   },
   "outputs": [
    {
     "data": {
      "text/plain": [
       "<matplotlib.collections.PathCollection at 0x1123464d0>"
      ]
     },
     "execution_count": 142,
     "metadata": {},
     "output_type": "execute_result"
    },
    {
     "data": {
      "image/png": "[encoded data removed]",
      "text/plain": [
       "<matplotlib.figure.Figure at 0x110f9db10>"
      ]
     },
     "metadata": {},
     "output_type": "display_data"
    }
   ],
   "source": [
    "plt.scatter(combined_agreed[\"occupancy_1m\"], combined_agreed[\"discount_obtained\"])"
   ]
  },
  {
   "cell_type": "code",
   "execution_count": 143,
   "metadata": {
    "collapsed": false
   },
   "outputs": [
    {
     "data": {
      "text/plain": [
       "<matplotlib.collections.PathCollection at 0x11247fc10>"
      ]
     },
     "execution_count": 143,
     "metadata": {},
     "output_type": "execute_result"
    },
    {
     "data": {
      "image/png": "[encoded data removed]",
      "text/plain": [
       "<matplotlib.figure.Figure at 0x10df62810>"
      ]
     },
     "metadata": {},
     "output_type": "display_data"
    }
   ],
   "source": [
    "plt.scatter(combined_agreed[\"orig_percent_off\"], combined_agreed[\"discount_obtained\"])"
   ]
  },
  {
   "cell_type": "code",
   "execution_count": 146,
   "metadata": {
    "collapsed": false
   },
   "outputs": [
    {
     "data": {
      "text/plain": [
       "<matplotlib.collections.PathCollection at 0x11261f9d0>"
      ]
     },
     "execution_count": 146,
     "metadata": {},
     "output_type": "execute_result"
    },
    {
     "data": {
      "image/png": "[encoded data removed]",
      "text/plain": [
       "<matplotlib.figure.Figure at 0x11244c510>"
      ]
     },
     "metadata": {},
     "output_type": "display_data"
    }
   ],
   "source": [
    "plt.scatter(combined_agreed[\"host_total_listings_count\"], combined_agreed[\"discount_obtained\"])"
   ]
  },
  {
   "cell_type": "code",
   "execution_count": 147,
   "metadata": {
    "collapsed": false
   },
   "outputs": [
    {
     "data": {
      "text/plain": [
       "<matplotlib.collections.PathCollection at 0x1125dcd50>"
      ]
     },
     "execution_count": 147,
     "metadata": {},
     "output_type": "execute_result"
    },
    {
     "data": {
      "image/png": "[encoded data removed]",
      "text/plain": [
       "<matplotlib.figure.Figure at 0x120f178d0>"
      ]
     },
     "metadata": {},
     "output_type": "display_data"
    }
   ],
   "source": [
    "plt.scatter(combined_agreed[\"response_rate\"], combined_agreed[\"discount_obtained\"])"
   ]
  },
  {
   "cell_type": "code",
   "execution_count": 138,
   "metadata": {
    "collapsed": false
   },
   "outputs": [
    {
     "data": {
      "text/html": [
       "<div>\n",
       "<table border=\"1\" class=\"dataframe\">\n",
       "  <thead>\n",
       "    <tr style=\"text-align: right;\">\n",
       "      <th></th>\n",
       "      <th>host_total_listings_count</th>\n",
       "      <th>response_rate</th>\n",
       "      <th>instant</th>\n",
       "      <th>shared</th>\n",
       "      <th>price_median</th>\n",
       "      <th>price_std</th>\n",
       "      <th>occupancy_1m</th>\n",
       "      <th>orp_1</th>\n",
       "      <th>orp_2</th>\n",
       "      <th>orp_3</th>\n",
       "      <th>...</th>\n",
       "      <th>orp_1, adv_2</th>\n",
       "      <th>orp_2, adv_1</th>\n",
       "      <th>orp_2, adv_2</th>\n",
       "      <th>orp_3, adv_1</th>\n",
       "      <th>orp_3, adv_2</th>\n",
       "      <th>orig_percent_off</th>\n",
       "      <th>discount_asked</th>\n",
       "      <th>decision</th>\n",
       "      <th>discount_obtained</th>\n",
       "      <th>source</th>\n",
       "    </tr>\n",
       "  </thead>\n",
       "  <tbody>\n",
       "    <tr>\n",
       "      <th>195</th>\n",
       "      <td>1</td>\n",
       "      <td>0.90</td>\n",
       "      <td>False</td>\n",
       "      <td>False</td>\n",
       "      <td>210</td>\n",
       "      <td>0.000000</td>\n",
       "      <td>0.100000</td>\n",
       "      <td>0</td>\n",
       "      <td>0</td>\n",
       "      <td>1</td>\n",
       "      <td>...</td>\n",
       "      <td>0</td>\n",
       "      <td>0</td>\n",
       "      <td>0</td>\n",
       "      <td>1</td>\n",
       "      <td>0</td>\n",
       "      <td>0.000000</td>\n",
       "      <td>0.9</td>\n",
       "      <td>1</td>\n",
       "      <td>0.119048</td>\n",
       "      <td>2</td>\n",
       "    </tr>\n",
       "    <tr>\n",
       "      <th>200</th>\n",
       "      <td>1</td>\n",
       "      <td>0.92</td>\n",
       "      <td>False</td>\n",
       "      <td>True</td>\n",
       "      <td>90</td>\n",
       "      <td>0.188228</td>\n",
       "      <td>0.333333</td>\n",
       "      <td>0</td>\n",
       "      <td>0</td>\n",
       "      <td>0</td>\n",
       "      <td>...</td>\n",
       "      <td>0</td>\n",
       "      <td>0</td>\n",
       "      <td>0</td>\n",
       "      <td>0</td>\n",
       "      <td>0</td>\n",
       "      <td>0.357143</td>\n",
       "      <td>0.9</td>\n",
       "      <td>1</td>\n",
       "      <td>0.111111</td>\n",
       "      <td>2</td>\n",
       "    </tr>\n",
       "    <tr>\n",
       "      <th>202</th>\n",
       "      <td>1</td>\n",
       "      <td>0.76</td>\n",
       "      <td>False</td>\n",
       "      <td>False</td>\n",
       "      <td>130</td>\n",
       "      <td>0.078299</td>\n",
       "      <td>0.133333</td>\n",
       "      <td>0</td>\n",
       "      <td>0</td>\n",
       "      <td>0</td>\n",
       "      <td>...</td>\n",
       "      <td>0</td>\n",
       "      <td>0</td>\n",
       "      <td>0</td>\n",
       "      <td>0</td>\n",
       "      <td>0</td>\n",
       "      <td>0.029197</td>\n",
       "      <td>0.7</td>\n",
       "      <td>1</td>\n",
       "      <td>0.323308</td>\n",
       "      <td>2</td>\n",
       "    </tr>\n",
       "    <tr>\n",
       "      <th>203</th>\n",
       "      <td>1</td>\n",
       "      <td>1.00</td>\n",
       "      <td>False</td>\n",
       "      <td>False</td>\n",
       "      <td>135</td>\n",
       "      <td>0.124332</td>\n",
       "      <td>0.233333</td>\n",
       "      <td>0</td>\n",
       "      <td>0</td>\n",
       "      <td>1</td>\n",
       "      <td>...</td>\n",
       "      <td>0</td>\n",
       "      <td>0</td>\n",
       "      <td>0</td>\n",
       "      <td>0</td>\n",
       "      <td>1</td>\n",
       "      <td>0.179894</td>\n",
       "      <td>0.9</td>\n",
       "      <td>1</td>\n",
       "      <td>0.096774</td>\n",
       "      <td>2</td>\n",
       "    </tr>\n",
       "    <tr>\n",
       "      <th>204</th>\n",
       "      <td>3</td>\n",
       "      <td>0.90</td>\n",
       "      <td>False</td>\n",
       "      <td>True</td>\n",
       "      <td>65</td>\n",
       "      <td>0.041439</td>\n",
       "      <td>0.633333</td>\n",
       "      <td>0</td>\n",
       "      <td>0</td>\n",
       "      <td>0</td>\n",
       "      <td>...</td>\n",
       "      <td>0</td>\n",
       "      <td>0</td>\n",
       "      <td>0</td>\n",
       "      <td>0</td>\n",
       "      <td>0</td>\n",
       "      <td>0.111111</td>\n",
       "      <td>0.8</td>\n",
       "      <td>1</td>\n",
       "      <td>0.100000</td>\n",
       "      <td>2</td>\n",
       "    </tr>\n",
       "  </tbody>\n",
       "</table>\n",
       "<p>5 rows × 23 columns</p>\n",
       "</div>"
      ],
      "text/plain": [
       "     host_total_listings_count  response_rate instant shared  price_median  \\\n",
       "195                          1           0.90   False  False           210   \n",
       "200                          1           0.92   False   True            90   \n",
       "202                          1           0.76   False  False           130   \n",
       "203                          1           1.00   False  False           135   \n",
       "204                          3           0.90   False   True            65   \n",
       "\n",
       "     price_std  occupancy_1m  orp_1  orp_2  orp_3   ...    orp_1, adv_2  \\\n",
       "195   0.000000      0.100000      0      0      1   ...               0   \n",
       "200   0.188228      0.333333      0      0      0   ...               0   \n",
       "202   0.078299      0.133333      0      0      0   ...               0   \n",
       "203   0.124332      0.233333      0      0      1   ...               0   \n",
       "204   0.041439      0.633333      0      0      0   ...               0   \n",
       "\n",
       "     orp_2, adv_1  orp_2, adv_2  orp_3, adv_1  orp_3, adv_2  orig_percent_off  \\\n",
       "195             0             0             1             0          0.000000   \n",
       "200             0             0             0             0          0.357143   \n",
       "202             0             0             0             0          0.029197   \n",
       "203             0             0             0             1          0.179894   \n",
       "204             0             0             0             0          0.111111   \n",
       "\n",
       "     discount_asked  decision  discount_obtained  source  \n",
       "195             0.9         1           0.119048       2  \n",
       "200             0.9         1           0.111111       2  \n",
       "202             0.7         1           0.323308       2  \n",
       "203             0.9         1           0.096774       2  \n",
       "204             0.8         1           0.100000       2  \n",
       "\n",
       "[5 rows x 23 columns]"
      ]
     },
     "execution_count": 138,
     "metadata": {},
     "output_type": "execute_result"
    }
   ],
   "source": [
    "combined_agreed.head()"
   ]
  },
  {
   "cell_type": "code",
   "execution_count": null,
   "metadata": {
    "collapsed": true
   },
   "outputs": [],
   "source": [
    "\"orig_percent_off\", \"host_total_listings_count\", \"response_rate"
   ]
  }
 ],
 "metadata": {
  "kernelspec": {
   "display_name": "Python 2",
   "language": "python",
   "name": "python2"
  },
  "language_info": {
   "codemirror_mode": {
    "name": "ipython",
    "version": 2
   },
   "file_extension": ".py",
   "mimetype": "text/x-python",
   "name": "python",
   "nbconvert_exporter": "python",
   "pygments_lexer": "ipython2",
   "version": "2.7.11"
  }
 },
 "nbformat": 4,
 "nbformat_minor": 0
}
