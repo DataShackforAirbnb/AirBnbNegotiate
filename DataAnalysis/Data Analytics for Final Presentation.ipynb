{
 "cells": [
  {
   "cell_type": "code",
   "execution_count": 1,
   "metadata": {
    "collapsed": true
   },
   "outputs": [],
   "source": [
    "import pandas as pd\n",
    "import numpy as np\n",
    "import matplotlib.pyplot as plt\n",
    "import seaborn as sns\n",
    "%matplotlib inline  \n",
    "import datetime as dt\n",
    "from collections import Counter"
   ]
  },
  {
   "cell_type": "markdown",
   "metadata": {},
   "source": [
    "## Utility Funstions\n"
   ]
  },
  {
   "cell_type": "markdown",
   "metadata": {},
   "source": [
    "### 1. functions for plotting distributions:\n"
   ]
  },
  {
   "cell_type": "code",
   "execution_count": null,
   "metadata": {
    "collapsed": true
   },
   "outputs": [],
   "source": [
    "def plot_distribution( current_population, label_input, color_input= 'b'):\n",
    "    fig = plt.figure(figsize=[15,4])\n",
    "    plt.subplot(1,2,1)\n",
    "    plt.hist(current_population['price_median'].values,bins=20, color=color_input)\n",
    "    plt.xlabel('Price median')\n",
    "    plt.ylabel('Number of Listings')\n",
    "    plt.title('Distribution of Median Price for ' + label_input )\n",
    "    # plt.xlim([50,1400])\n",
    "    #plt.xticks(np.linspace(0,700,25))\n",
    "\n",
    "    plt.grid(False)\n",
    "    plt.legend()\n",
    "\n",
    "    plt.subplot(1,2,2)\n",
    "\n",
    "    plt.hist(current_population['price_std'].values, bins=25, color=color_input)\n",
    "\n",
    "    plt.xlabel('Std deviation')\n",
    "    plt.ylabel('Number of Listings')\n",
    "    plt.title('Distribution of Standard Deviation of Price for ' + label_input)\n",
    "\n",
    "    plt.legend()\n",
    "    plt.grid(False)\n",
    "    print \"Total element in \"+label_input+\": \"+ str(len(current_population))\n",
    "    print \"Percent Listings with No Price Change at All for \"+ label_input+\": \", len(current_population[current_population['price_std']==0])*1./len(current_population)\n",
    "    return\n",
    "\n",
    "#Function for plotting population of continuous intervals, divided by ranges\n",
    "\n",
    "def plot_interval(current_population,field, ranges, label_input ):\n",
    "    #intervals=[]\n",
    "    for i in range(len(ranges)-1):\n",
    "        current_range= current_population[current_population[field].isin([ranges[i],ranges[i+1]] )]\n",
    "        current_label= label_input + \" range: [\" +str(ranges[i])+\",\"+str(ranges[i+1])+\"]\"\n",
    "        plot_distribution(current_range,current_label )\n",
    "    return\n"
   ]
  },
  {
   "cell_type": "markdown",
   "metadata": {},
   "source": [
    "### 2. Acceptance Rate"
   ]
  },
  {
   "cell_type": "code",
   "execution_count": 193,
   "metadata": {
    "collapsed": true
   },
   "outputs": [],
   "source": [
    "def number_of(dataframe, field, field_value):\n",
    "    auxiliar=dataframe.loc[dataframe[field]==field_value]\n",
    "    return len(auxiliar)\n",
    "\n",
    "\n",
    "#n accepted, n denied etc. depending on the kind of field\n",
    "\n",
    "def acceptance_rate(field, types= None):\n",
    "    if types == None:        \n",
    "        types= complete_data[field].unique()\n",
    "        print types\n",
    "    complete_accepted_f = {}\n",
    "    complete_denied_f={}\n",
    "    complete_all_negative_f={}\n",
    "    complete_not_answer_f={}\n",
    "\n",
    "    for el in types:\n",
    "        complete_accepted_f[el] = number_of (complete_accepted, field, el)\n",
    "        complete_denied_f[el] = number_of (complete_denied, field, el)\n",
    "        complete_all_negative_f[el] = number_of (complete_all_negative, field, el)\n",
    "        complete_not_answer_f[el] = number_of (complete_not_answer, field, el)\n",
    "\n",
    "    for el in types:\n",
    "        try:\n",
    "            print el, \" % of replied: \" + str(float(complete_accepted_f[el])/(complete_denied_f[el]+ complete_accepted_f[el]))\n",
    "            print el, \" % of contacted: \" + str(float(complete_accepted_f[el])/(complete_all_negative_f[el]+ complete_accepted_f[el]))\n",
    "\n",
    "        except ZeroDivisionError:\n",
    "            print \"division by 0\"\n",
    "    result_dict= {\"types\": types, \"accepted\": complete_accepted_f, \"denied\": complete_denied_f,\"not_answer\":complete_not_answer_f,\n",
    "                 \"all_negative\": complete_all_negative_f, \"category\": field}         \n",
    "    return result_dict\n",
    "\n",
    "            \n",
    "\n",
    "def acceptance_rate_continuous(field, ranges):\n",
    "\n",
    "    #types= round3_clean[field].unique()\n",
    "    #print types\n",
    "    complete_accepted_f = {}\n",
    "    complete_denied_f={}\n",
    "    complete_all_negative_f={}\n",
    "    complete_not_answer_f={}\n",
    "\n",
    "    for el in range(len(ranges)-1):        \n",
    "        complete_accepted_f[el] = len(complete_accepted[complete_accepted[field].isin(range(ranges[el],ranges[el+1],1)) ])\n",
    "        complete_denied_f[el] = len(complete_denied[complete_denied[field].isin(range(ranges[el],ranges[el+1],1)) ])\n",
    "        complete_all_negative_f[el] = len(complete_all_negative[complete_all_negative[field].isin(range(ranges[el],ranges[el+1],1) ) ])\n",
    "        complete_not_answer_f[el] = len(complete_not_answer[complete_not_answer[field].isin(range(ranges[el],ranges[el+1],1) )])\n",
    "        \n",
    "        \n",
    "\n",
    "    for el in range(len(ranges)-1):\n",
    "        current_label= field + \" range: [\" +str(ranges[el])+\",\"+str(ranges[el+1])+\"]\"\n",
    "\n",
    "        try:\n",
    "            print  \"[\" +str(ranges[el])+\",\"+str(ranges[el+1])+\"]\", \" % of replied: \" + str(float(complete_accepted_f[el])/(complete_denied_f[el]+ complete_accepted_f[el]))\n",
    "            print  \"[\" +str(ranges[el])+\",\"+str(ranges[el+1])+\"]\", \" % of contacted: \" + str(float(complete_accepted_f[el])/(complete_all_negative_f[el]+ complete_accepted_f[el]))\n",
    "\n",
    "        except ZeroDivisionError:\n",
    "            print \"division by 0\"\n",
    "            \n",
    "    result_dict= {\"ranges\": ranges, \"accepted\": complete_accepted_f, \"denied\": complete_denied_f,\"not_answer\":complete_not_answer_f,\n",
    "                 \"all_negative\": complete_all_negative_f, \"category\": field}         \n",
    "    return result_dict\n"
   ]
  },
  {
   "cell_type": "markdown",
   "metadata": {},
   "source": [
    "### 3. Percentage"
   ]
  },
  {
   "cell_type": "code",
   "execution_count": 3,
   "metadata": {
    "collapsed": true
   },
   "outputs": [],
   "source": [
    "import math\n",
    "\n",
    "#standard error: sqrt(p*(1-p)/n) with p = positive/all \n",
    "\n",
    "def plot_percentage (percentage_dictionary, type_input, color= \"g\", error_size=float(0.5) ):\n",
    "    p_replied= []\n",
    "    p_all= []\n",
    "    p_size= []\n",
    "    p_size_answered= []\n",
    "    #alphab = ['1 w', '2 w', 'More w']\n",
    "    x_axis=[]\n",
    "    p_std= []\n",
    "    p_std_a= []\n",
    "    if type_input == \"categorical\":\n",
    "        print \"categorical\"\n",
    "        for el in percentage_dictionary[\"types\"]:\n",
    "            try:\n",
    "                repl=float(percentage_dictionary['accepted'][el])/(percentage_dictionary['accepted'][el]+percentage_dictionary['denied'][el])\n",
    "                p_replied.append(repl)\n",
    "                \n",
    "                al=float(percentage_dictionary['accepted'][el])/(percentage_dictionary['accepted'][el]+percentage_dictionary['all_negative'][el])\n",
    "                \n",
    "                p_all.append(al )\n",
    "                \n",
    "                p_size_answered.append(str(percentage_dictionary['accepted'][el]+percentage_dictionary['denied'][el]))\n",
    "                p_size.append(str(percentage_dictionary['accepted'][el]+percentage_dictionary['all_negative'][el]))\n",
    "                #53(1 - 53/100))1/2\n",
    "                p_std.append (math.sqrt(repl*(1-repl)/ (percentage_dictionary['accepted'][el]+percentage_dictionary['denied'][el]) ) )\n",
    "                                                                                    \n",
    "                p_std_a.append (math.sqrt(al*(1-al)/ (percentage_dictionary['accepted'][el]+percentage_dictionary['all_negative'][el]) )) \n",
    "                \n",
    "                x_axis.append(el)\n",
    "            except ZeroDivisionError:\n",
    "                print \"division by 0\"        \n",
    "    elif type_input == \"continuous\":\n",
    "        for el in range(len(percentage_dictionary['ranges'])-1):\n",
    "            current_label=  \"[\" +str(percentage_dictionary['ranges'][el])+\",\"+str(percentage_dictionary['ranges'][el+1])+\"]\"            \n",
    "            try:\n",
    "                repl= float(percentage_dictionary['accepted'][el])/(percentage_dictionary['accepted'][el]+percentage_dictionary['denied'][el])\n",
    "                p_replied.append(repl)\n",
    "                al=float(percentage_dictionary['accepted'][el])/(float(percentage_dictionary['accepted'][el])+percentage_dictionary['all_negative'][el])                                                              \n",
    "                p_all.append(al)\n",
    "                p_size_answered.append(str(percentage_dictionary['accepted'][el]+percentage_dictionary['denied'][el]))               \n",
    "                p_size.append(str(percentage_dictionary['accepted'][el]+percentage_dictionary['all_negative'][el]))\n",
    "                p_std.append (math.sqrt(repl*(1-repl)/ (percentage_dictionary['accepted'][el]+percentage_dictionary['denied'][el]) ) )\n",
    "                                                                                    \n",
    "                p_std_a.append (math.sqrt(al*(1-al)/ (percentage_dictionary['accepted'][el]+percentage_dictionary['all_negative'][el]) )) \n",
    "                \n",
    "                x_axis.append(current_label)\n",
    "            except ZeroDivisionError:\n",
    "                print \"division by 0\"                \n",
    "    else:\n",
    "        print \"invalid type\"\n",
    "        return\n",
    "\n",
    "    \n",
    "    plt.subplot(1,2,1)\n",
    "    \n",
    "    pos = np.arange(len(x_axis))\n",
    "    print np.arange(len(x_axis))\n",
    "    print \"AMONG REPLIED HOSTS\"\n",
    "    print \"percentage:\"\n",
    "    print p_replied\n",
    "    print \"size\"\n",
    "    print p_size_answered\n",
    "    print \"std error:\"\n",
    "    print p_std_a\n",
    "    print \"\\n\"\n",
    "    print \"AMONG ALL CONTACTED HOSTS\"\n",
    "\n",
    "    print \"percentage:\"\n",
    "    print p_all\n",
    "    print \"size\"\n",
    "    print p_size\n",
    "    print \"std error:\"    \n",
    "    print p_std\n",
    "    print \"average over all replied \"+ str(np.mean(p_replied))\n",
    "    print \"average over all contacted \"+ str(np.mean(p_all))\n",
    "    \n",
    "    width = 0.7     # gives histogram aspect to the bar diagram\n",
    "\n",
    "    ax = plt.axes()\n",
    "    ax.set_xticks(pos + (width / 2))\n",
    "    x_axis2= x_axis\n",
    "    for idx, val in enumerate(x_axis):\n",
    "        x_axis[idx]=str(x_axis[idx])+\"\\n\"+str(p_size_answered[idx])\n",
    "    ax.set_xticklabels(x_axis)\n",
    "    \n",
    "    plt.xlabel(percentage_dictionary['category'])\n",
    "    plt.ylabel('Acceptance rate (%)')\n",
    "    plt.title('Acceptance among the hosts who replied')\n",
    "    \n",
    "    '''\n",
    "    plt.text(pos + (width / 2), 1.05*pos,\n",
    "                '%d' % len(),\n",
    "                ha='center', va='bottom')\n",
    "    '''\n",
    "    #, yerr=[int(i)/400 for i in p_size_answered]\n",
    "    \n",
    "    plt.bar(pos, p_replied, width, color =color,yerr=[i/error_size for i in p_std])\n",
    "    \n",
    "    ####################################quantity\n",
    "    #rects1 = ax.bar(pos, p_replied, width, color = color)\n",
    "    #autolabel(rects1)\n",
    "    \n",
    "    plt.show()\n",
    "    plt.subplot(1,2,2)\n",
    "    \n",
    "    pos = np.arange(len(x_axis))\n",
    "    width = 0.7     # gives histogram aspect to the bar diagram\n",
    "\n",
    "    ax = plt.axes()\n",
    "    ax.set_xticks(pos + (width / 2))\n",
    "    \n",
    "    for idx, val in enumerate(x_axis):\n",
    "        x_axis2[idx]= str(x_axis2[idx])+\"\\n\"+str(p_size[idx])\n",
    "    ax.set_xticklabels(x_axis2)\n",
    "    \n",
    "    plt.xlabel(percentage_dictionary['category'])\n",
    "    plt.ylabel('Acceptance rate (%)')\n",
    "    plt.title('Acceptance among all the hosts')\n",
    "\n",
    "    #,yerr=[int(i)/491 for i in p_size]\n",
    "    plt.bar(pos, p_all, width, color= color, yerr=[ i/error_size for i in p_std_a] )\n",
    "    plt.show()\n",
    "   "
   ]
  },
  {
   "cell_type": "markdown",
   "metadata": {},
   "source": [
    "## Loading Data"
   ]
  },
  {
   "cell_type": "code",
   "execution_count": 5,
   "metadata": {
    "collapsed": true
   },
   "outputs": [],
   "source": [
    "fields_ = [\"id\", \"host_id\", \"host_response_rate\", \"host_acceptance_rate\", \n",
    "                       \"host_total_listings_count\", \"monthly_price\", \"instant_bookable\", \n",
    "                       \"room_type\", \"bucket_name\", \"discount_asked\", \"nightly_price\", \n",
    "                       \"decision\", \"price_agreed\", \"discount_agreed\", \"percent_agreed\",\n",
    "                       \"calendars\", \"price_requested\", \"number_of_reviews\", \"host_is_superhost\"\n",
    "                      ,\"beds\"]"
   ]
  },
  {
   "cell_type": "code",
   "execution_count": 19,
   "metadata": {
    "collapsed": false
   },
   "outputs": [
    {
     "name": "stdout",
     "output_type": "stream",
     "text": [
      "1074\n"
     ]
    }
   ],
   "source": [
    "round2 = pd.read_json(\"../data/analytics_merge/round2_merged.json\")\n",
    "round2_clean = round2[fields]\n",
    "round3 = pd.read_json(\"../data/analytics_merge/round3_merged.json\")\n",
    "round3_clean = round3[fields]\n",
    "round4 = pd.read_json(\"../data/analytics_merge/round4_merged.json\")\n",
    "round4['discount_agreed'] = round4['discount']\n",
    "round4_clean = round4[fields]\n",
    "round5 = pd.read_json(\"../data/analytics_merge/round5_merged.json\")\n",
    "round5_clean = round5[fields]\n",
    "\n",
    "dataframes= [round2_clean, round3_clean, round4_clean, round5_clean]\n",
    "\n",
    "complete_data = pd.concat(dataframes)\n",
    "print len(complete_data)"
   ]
  },
  {
   "cell_type": "code",
   "execution_count": 20,
   "metadata": {
    "collapsed": false
   },
   "outputs": [
    {
     "name": "stderr",
     "output_type": "stream",
     "text": [
      "//anaconda/lib/python2.7/site-packages/IPython/core/interactiveshell.py:2723: DtypeWarning: Columns (40) have mixed types. Specify dtype option on import or set low_memory=False.\n",
      "  interactivity=interactivity, compiler=compiler, result=result)\n"
     ]
    }
   ],
   "source": [
    "complete_listings = pd.read_csv('../data/listings/nyc_listings.csv')"
   ]
  },
  {
   "cell_type": "code",
   "execution_count": 21,
   "metadata": {
    "collapsed": false
   },
   "outputs": [
    {
     "data": {
      "text/plain": [
       "Index([u'id', u'listing_url', u'scrape_id', u'last_scraped', u'name',\n",
       "       u'summary', u'space', u'description', u'experiences_offered',\n",
       "       u'neighborhood_overview', u'notes', u'transit', u'thumbnail_url',\n",
       "       u'medium_url', u'picture_url', u'xl_picture_url', u'host_id',\n",
       "       u'host_url', u'host_name', u'host_since', u'host_location',\n",
       "       u'host_about', u'host_response_time', u'host_response_rate',\n",
       "       u'host_acceptance_rate', u'host_is_superhost', u'host_thumbnail_url',\n",
       "       u'host_picture_url', u'host_neighbourhood', u'host_listings_count',\n",
       "       u'host_total_listings_count', u'host_verifications',\n",
       "       u'host_has_profile_pic', u'host_identity_verified', u'street',\n",
       "       u'neighbourhood', u'neighbourhood_cleansed',\n",
       "       u'neighbourhood_group_cleansed', u'city', u'state', u'zipcode',\n",
       "       u'market', u'smart_location', u'country_code', u'country', u'latitude',\n",
       "       u'longitude', u'is_location_exact', u'property_type', u'room_type',\n",
       "       u'accommodates', u'bathrooms', u'bedrooms', u'beds', u'bed_type',\n",
       "       u'amenities', u'square_feet', u'price', u'weekly_price',\n",
       "       u'monthly_price', u'security_deposit', u'cleaning_fee',\n",
       "       u'guests_included', u'extra_people', u'minimum_nights',\n",
       "       u'maximum_nights', u'calendar_updated', u'has_availability',\n",
       "       u'availability_30', u'availability_60', u'availability_90',\n",
       "       u'availability_365', u'calendar_last_scraped', u'number_of_reviews',\n",
       "       u'first_review', u'last_review', u'review_scores_rating',\n",
       "       u'review_scores_accuracy', u'review_scores_cleanliness',\n",
       "       u'review_scores_checkin', u'review_scores_communication',\n",
       "       u'review_scores_location', u'review_scores_value', u'requires_license',\n",
       "       u'license', u'jurisdiction_names', u'instant_bookable',\n",
       "       u'cancellation_policy', u'require_guest_profile_picture',\n",
       "       u'require_guest_phone_verification', u'calculated_host_listings_count',\n",
       "       u'reviews_per_month'],\n",
       "      dtype='object')"
      ]
     },
     "execution_count": 21,
     "metadata": {},
     "output_type": "execute_result"
    }
   ],
   "source": [
    "complete_listings.columns"
   ]
  },
  {
   "cell_type": "markdown",
   "metadata": {},
   "source": [
    "# ***NOTE: do not have other calendar data, need to rerun this part"
   ]
  },
  {
   "cell_type": "code",
   "execution_count": 37,
   "metadata": {
    "collapsed": false
   },
   "outputs": [],
   "source": [
    "# #compute price median and price_std\n",
    "calendar_price =  np.array([(np.median(calendar[\"price_USD\"].values()), np.std(calendar[\"price_USD\"].values())) \n",
    "                            for calendar in round3_clean[\"calendars\"].values])\n",
    "calendar_median_price = calendar_price[:,0]\n",
    "calendar_price_std = calendar_price[:,1]"
   ]
  },
  {
   "cell_type": "code",
   "execution_count": 39,
   "metadata": {
    "collapsed": false
   },
   "outputs": [
    {
     "name": "stderr",
     "output_type": "stream",
     "text": [
      "/anaconda/lib/python2.7/site-packages/ipykernel/__main__.py:7: SettingWithCopyWarning: \n",
      "A value is trying to be set on a copy of a slice from a DataFrame\n",
      "\n",
      "See the caveats in the documentation: http://pandas.pydata.org/pandas-docs/stable/indexing.html#indexing-view-versus-copy\n",
      "/anaconda/lib/python2.7/site-packages/ipykernel/__main__.py:13: SettingWithCopyWarning: \n",
      "A value is trying to be set on a copy of a slice from a DataFrame\n",
      "\n",
      "See the caveats in the documentation: http://pandas.pydata.org/pandas-docs/stable/indexing.html#indexing-view-versus-copy\n",
      "/anaconda/lib/python2.7/site-packages/ipykernel/__main__.py:22: SettingWithCopyWarning: \n",
      "A value is trying to be set on a copy of a slice from a DataFrame\n",
      "\n",
      "See the caveats in the documentation: http://pandas.pydata.org/pandas-docs/stable/indexing.html#indexing-view-versus-copy\n",
      "/anaconda/lib/python2.7/site-packages/ipykernel/__main__.py:30: SettingWithCopyWarning: \n",
      "A value is trying to be set on a copy of a slice from a DataFrame\n",
      "\n",
      "See the caveats in the documentation: http://pandas.pydata.org/pandas-docs/stable/indexing.html#indexing-view-versus-copy\n",
      "/anaconda/lib/python2.7/site-packages/ipykernel/__main__.py:33: SettingWithCopyWarning: \n",
      "A value is trying to be set on a copy of a slice from a DataFrame\n",
      "\n",
      "See the caveats in the documentation: http://pandas.pydata.org/pandas-docs/stable/indexing.html#indexing-view-versus-copy\n",
      "/anaconda/lib/python2.7/site-packages/ipykernel/__main__.py:28: SettingWithCopyWarning: \n",
      "A value is trying to be set on a copy of a slice from a DataFrame\n",
      "\n",
      "See the caveats in the documentation: http://pandas.pydata.org/pandas-docs/stable/indexing.html#indexing-view-versus-copy\n",
      "/anaconda/lib/python2.7/site-packages/ipykernel/__main__.py:35: SettingWithCopyWarning: \n",
      "A value is trying to be set on a copy of a slice from a DataFrame\n",
      "\n",
      "See the caveats in the documentation: http://pandas.pydata.org/pandas-docs/stable/indexing.html#indexing-view-versus-copy\n",
      "/anaconda/lib/python2.7/site-packages/ipykernel/__main__.py:9: SettingWithCopyWarning: \n",
      "A value is trying to be set on a copy of a slice from a DataFrame\n",
      "\n",
      "See the caveats in the documentation: http://pandas.pydata.org/pandas-docs/stable/indexing.html#indexing-view-versus-copy\n",
      "/anaconda/lib/python2.7/site-packages/ipykernel/__main__.py:15: SettingWithCopyWarning: \n",
      "A value is trying to be set on a copy of a slice from a DataFrame\n",
      "\n",
      "See the caveats in the documentation: http://pandas.pydata.org/pandas-docs/stable/indexing.html#indexing-view-versus-copy\n",
      "/anaconda/lib/python2.7/site-packages/ipykernel/__main__.py:37: SettingWithCopyWarning: \n",
      "A value is trying to be set on a copy of a slice from a DataFrame\n",
      "\n",
      "See the caveats in the documentation: http://pandas.pydata.org/pandas-docs/stable/indexing.html#indexing-view-versus-copy\n"
     ]
    }
   ],
   "source": [
    "# complete_data[\"price_median\"]=calendar_median_price\n",
    "# complete_data[\"price_std\"]=calendar_price_std/calendar_median_price\n",
    "#cleaning\n",
    "for index, row in complete_data.iterrows():\n",
    "    elem = str(row[\"host_acceptance_rate\"])\n",
    "    try:\n",
    "        complete_data[\"host_acceptance_rate\"][index]= int( elem[:-1]) \n",
    "    except:\n",
    "        complete_data[\"host_acceptance_rate\"][index]= int(-1) \n",
    "    \n",
    "    elem2 = str(row[\"host_response_rate\"])    \n",
    "    try:\n",
    "        complete_data[\"host_response_rate\"][index]= int( elem2[:-1]) \n",
    "    except:\n",
    "        complete_data[\"host_response_rate\"][index]= int(-1) \n",
    "    \n",
    "    #not used\n",
    "    elem3 = str(row[\"monthly_price\"])\n",
    "    try:\n",
    "        complete_data[\"monthly_price\"][index]= int( elem3[1:]) \n",
    "    except:\n",
    "        complete_data[\"monthly_price\"][index]= int(-1) \n",
    "    \n",
    "    #not used\n",
    "    #round3_clean[\"nightly_price\"][index] = int(row[nightly_price])\n",
    "\n",
    "    if row[\"host_is_superhost\"] == \"t\":\n",
    "        complete_data[\"host_is_superhost\"][index] = 1\n",
    "    if row[\"host_is_superhost\"] == \"f\":\n",
    "        complete_data[\"host_is_superhost\"][index] = 0\n",
    "    \n",
    "    if row[\"room_type\"]==  \"Private room\":\n",
    "        complete_data[\"room_type\"][index] = 1\n",
    "    elif row[\"room_type\"]==\"Entire home/apt\":\n",
    "        complete_data[\"room_type\"][index] = 0\n",
    "    else:\n",
    "        complete_data[\"room_type\"][index] = 2"
   ]
  },
  {
   "cell_type": "code",
   "execution_count": 44,
   "metadata": {
    "collapsed": false
   },
   "outputs": [
    {
     "name": "stdout",
     "output_type": "stream",
     "text": [
      "233\n",
      "299\n",
      "541\n",
      "840\n",
      "1074\n"
     ]
    }
   ],
   "source": [
    "complete_accepted= complete_data\n",
    "complete_denied= complete_data\n",
    "complete_not_answer= complete_data\n",
    "\n",
    "complete_accepted= complete_accepted.loc[complete_accepted['decision']==1]\n",
    "complete_denied= complete_denied.loc[complete_denied['decision']==0]\n",
    "complete_not_answer= complete_not_answer.loc[complete_not_answer['decision']==-1]\n",
    "complete_all_negative= pd.concat([complete_denied, complete_not_answer])\n",
    "\n",
    "\n",
    "print len(complete_accepted)\n",
    "print len(complete_denied)\n",
    "print len(complete_not_answer)\n",
    "print len(complete_all_negative)\n",
    "print len(complete_data)"
   ]
  },
  {
   "cell_type": "markdown",
   "metadata": {},
   "source": [
    "# Data analytics "
   ]
  },
  {
   "cell_type": "markdown",
   "metadata": {},
   "source": [
    "### 1. Price distribution"
   ]
  },
  {
   "cell_type": "markdown",
   "metadata": {},
   "source": [
    "### all properties in NYC"
   ]
  },
  {
   "cell_type": "code",
   "execution_count": 70,
   "metadata": {
    "collapsed": false
   },
   "outputs": [],
   "source": [
    "price =[float(i[1:].replace(\",\",\"\")) for i in complete_listings['price']]"
   ]
  },
  {
   "cell_type": "code",
   "execution_count": 71,
   "metadata": {
    "collapsed": false
   },
   "outputs": [],
   "source": [
    "price.sort(reverse=True)"
   ]
  },
  {
   "cell_type": "code",
   "execution_count": 75,
   "metadata": {
    "collapsed": false
   },
   "outputs": [
    {
     "data": {
      "text/plain": [
       "[8000.0,\n",
       " 6500.0,\n",
       " 6001.0,\n",
       " 5999.0,\n",
       " 5200.0,\n",
       " 5000.0,\n",
       " 5000.0,\n",
       " 5000.0,\n",
       " 5000.0,\n",
       " 4500.0,\n",
       " 4000.0,\n",
       " 3750.0,\n",
       " 3300.0,\n",
       " 3000.0,\n",
       " 3000.0,\n",
       " 2750.0,\n",
       " 2750.0,\n",
       " 2700.0,\n",
       " 2620.0,\n",
       " 2600.0,\n",
       " 2500.0,\n",
       " 2500.0,\n",
       " 2500.0,\n",
       " 2500.0,\n",
       " 2500.0,\n",
       " 2500.0,\n",
       " 2400.0,\n",
       " 2400.0,\n",
       " 2400.0,\n",
       " 2350.0,\n",
       " 2250.0,\n",
       " 2200.0,\n",
       " 2100.0,\n",
       " 2000.0,\n",
       " 2000.0,\n",
       " 2000.0,\n",
       " 2000.0,\n",
       " 2000.0,\n",
       " 2000.0,\n",
       " 2000.0,\n",
       " 2000.0,\n",
       " 2000.0,\n",
       " 2000.0,\n",
       " 2000.0,\n",
       " 2000.0,\n",
       " 2000.0,\n",
       " 2000.0,\n",
       " 2000.0,\n",
       " 2000.0,\n",
       " 1999.0,\n",
       " 1999.0,\n",
       " 1900.0,\n",
       " 1800.0,\n",
       " 1800.0,\n",
       " 1800.0,\n",
       " 1800.0,\n",
       " 1750.0,\n",
       " 1750.0,\n",
       " 1700.0,\n",
       " 1700.0,\n",
       " 1650.0,\n",
       " 1600.0,\n",
       " 1600.0,\n",
       " 1600.0,\n",
       " 1559.0,\n",
       " 1500.0,\n",
       " 1500.0,\n",
       " 1500.0,\n",
       " 1500.0,\n",
       " 1500.0,\n",
       " 1500.0,\n",
       " 1500.0,\n",
       " 1500.0,\n",
       " 1500.0,\n",
       " 1500.0,\n",
       " 1500.0,\n",
       " 1500.0,\n",
       " 1500.0,\n",
       " 1500.0,\n",
       " 1500.0,\n",
       " 1500.0,\n",
       " 1500.0,\n",
       " 1500.0,\n",
       " 1500.0,\n",
       " 1500.0,\n",
       " 1500.0,\n",
       " 1500.0,\n",
       " 1500.0,\n",
       " 1500.0,\n",
       " 1500.0,\n",
       " 1500.0,\n",
       " 1500.0,\n",
       " 1500.0,\n",
       " 1500.0,\n",
       " 1500.0,\n",
       " 1499.0,\n",
       " 1495.0,\n",
       " 1450.0,\n",
       " 1368.0,\n",
       " 1350.0,\n",
       " 1300.0,\n",
       " 1300.0,\n",
       " 1300.0,\n",
       " 1250.0,\n",
       " 1225.0,\n",
       " 1211.0,\n",
       " 1200.0,\n",
       " 1200.0,\n",
       " 1200.0,\n",
       " 1200.0,\n",
       " 1200.0,\n",
       " 1200.0,\n",
       " 1200.0,\n",
       " 1200.0,\n",
       " 1200.0,\n",
       " 1199.0,\n",
       " 1150.0,\n",
       " 1100.0,\n",
       " 1100.0,\n",
       " 1100.0,\n",
       " 1100.0,\n",
       " 1095.0,\n",
       " 1090.0,\n",
       " 1050.0,\n",
       " 1046.0,\n",
       " 1000.0,\n",
       " 1000.0,\n",
       " 1000.0,\n",
       " 1000.0,\n",
       " 1000.0,\n",
       " 1000.0,\n",
       " 1000.0,\n",
       " 1000.0,\n",
       " 1000.0,\n",
       " 1000.0,\n",
       " 1000.0,\n",
       " 1000.0,\n",
       " 1000.0,\n",
       " 1000.0,\n",
       " 1000.0,\n",
       " 1000.0,\n",
       " 1000.0,\n",
       " 1000.0,\n",
       " 1000.0,\n",
       " 1000.0,\n",
       " 1000.0,\n",
       " 1000.0,\n",
       " 1000.0,\n",
       " 1000.0,\n",
       " 1000.0]"
      ]
     },
     "execution_count": 75,
     "metadata": {},
     "output_type": "execute_result"
    }
   ],
   "source": [
    "price[:150]"
   ]
  },
  {
   "cell_type": "markdown",
   "metadata": {},
   "source": [
    "### note: too much outiers, start ploting from the 150 highest.."
   ]
  },
  {
   "cell_type": "code",
   "execution_count": 85,
   "metadata": {
    "collapsed": false
   },
   "outputs": [
    {
     "data": {
      "text/plain": [
       "(array([  2.84100000e+03,   9.82200000e+03,   8.03600000e+03,\n",
       "          5.16400000e+03,   4.19300000e+03,   1.45900000e+03,\n",
       "          1.53400000e+03,   9.77000000e+02,   4.07000000e+02,\n",
       "          4.04000000e+02,   9.00000000e+01,   1.77000000e+02,\n",
       "          2.05000000e+02,   7.70000000e+01,   1.18000000e+02,\n",
       "          1.30000000e+01,   5.20000000e+01,   6.60000000e+01,\n",
       "          3.40000000e+01,   4.30000000e+01,   3.00000000e+00,\n",
       "          1.80000000e+01,   2.90000000e+01,   1.10000000e+01,\n",
       "          5.90000000e+01,   0.00000000e+00,   2.00000000e+00,\n",
       "          6.00000000e+00,   1.00000000e+00,   1.00000000e+01,\n",
       "          2.00000000e+00,   1.00000000e+00,   3.00000000e+00,\n",
       "          1.00000000e+00,   1.00000000e+00,   0.00000000e+00,\n",
       "          1.00000000e+00,   3.20000000e+01,   1.00000000e+00,\n",
       "          3.00000000e+00,   0.00000000e+00,   1.00000000e+00,\n",
       "          2.00000000e+00,   2.00000000e+00,   4.00000000e+00,\n",
       "          0.00000000e+00,   0.00000000e+00,   1.00000000e+00,\n",
       "          0.00000000e+00,   1.00000000e+00]),\n",
       " array([   10.  ,    49.78,    89.56,   129.34,   169.12,   208.9 ,\n",
       "          248.68,   288.46,   328.24,   368.02,   407.8 ,   447.58,\n",
       "          487.36,   527.14,   566.92,   606.7 ,   646.48,   686.26,\n",
       "          726.04,   765.82,   805.6 ,   845.38,   885.16,   924.94,\n",
       "          964.72,  1004.5 ,  1044.28,  1084.06,  1123.84,  1163.62,\n",
       "         1203.4 ,  1243.18,  1282.96,  1322.74,  1362.52,  1402.3 ,\n",
       "         1442.08,  1481.86,  1521.64,  1561.42,  1601.2 ,  1640.98,\n",
       "         1680.76,  1720.54,  1760.32,  1800.1 ,  1839.88,  1879.66,\n",
       "         1919.44,  1959.22,  1999.  ]),\n",
       " <a list of 50 Patch objects>)"
      ]
     },
     "execution_count": 85,
     "metadata": {},
     "output_type": "execute_result"
    },
    {
     "data": {
      "image/png": "[encoded data removed]",
      "text/plain": [
       "<matplotlib.figure.Figure at 0x11dc1bc10>"
      ]
     },
     "metadata": {},
     "output_type": "display_data"
    }
   ],
   "source": [
    "plt.hist(price[50:], bins=50)"
   ]
  },
  {
   "cell_type": "markdown",
   "metadata": {
    "collapsed": true
   },
   "source": [
    "### properties in Our sample"
   ]
  },
  {
   "cell_type": "code",
   "execution_count": 80,
   "metadata": {
    "collapsed": false
   },
   "outputs": [
    {
     "data": {
      "text/plain": [
       "(array([  83.,  302.,  199.,  180.,  114.,   74.,   42.,   25.,   16.,\n",
       "           7.,   12.,    3.,    4.,    1.,    2.,    2.,    1.,    2.,\n",
       "           1.,    0.,    1.,    1.,    0.,    0.,    0.,    1.,    0.,\n",
       "           0.,    0.,    0.,    0.,    0.,    0.,    0.,    0.,    0.,\n",
       "           0.,    0.,    0.,    0.,    0.,    0.,    0.,    0.,    0.,\n",
       "           0.,    0.,    0.,    0.,    1.]),\n",
       " array([   10. ,    55.8,   101.6,   147.4,   193.2,   239. ,   284.8,\n",
       "          330.6,   376.4,   422.2,   468. ,   513.8,   559.6,   605.4,\n",
       "          651.2,   697. ,   742.8,   788.6,   834.4,   880.2,   926. ,\n",
       "          971.8,  1017.6,  1063.4,  1109.2,  1155. ,  1200.8,  1246.6,\n",
       "         1292.4,  1338.2,  1384. ,  1429.8,  1475.6,  1521.4,  1567.2,\n",
       "         1613. ,  1658.8,  1704.6,  1750.4,  1796.2,  1842. ,  1887.8,\n",
       "         1933.6,  1979.4,  2025.2,  2071. ,  2116.8,  2162.6,  2208.4,\n",
       "         2254.2,  2300. ]),\n",
       " <a list of 50 Patch objects>)"
      ]
     },
     "execution_count": 80,
     "metadata": {},
     "output_type": "execute_result"
    },
    {
     "data": {
      "image/png": "[encoded data removed]",
      "text/plain": [
       "<matplotlib.figure.Figure at 0x121583750>"
      ]
     },
     "metadata": {},
     "output_type": "display_data"
    }
   ],
   "source": [
    "plt.hist(complete_data.nightly_price, bins = 50)"
   ]
  },
  {
   "cell_type": "markdown",
   "metadata": {},
   "source": [
    "## Features -- Negotiation Acceptance Rate"
   ]
  },
  {
   "cell_type": "markdown",
   "metadata": {},
   "source": [
    "## Acceptance Rate -- Price"
   ]
  },
  {
   "cell_type": "code",
   "execution_count": 132,
   "metadata": {
    "collapsed": false
   },
   "outputs": [
    {
     "name": "stdout",
     "output_type": "stream",
     "text": [
      "[0,50]  % of replied: 0.307692307692\n",
      "[0,50]  % of contacted: 0.173913043478\n",
      "[50,100]  % of replied: 0.380281690141\n",
      "[50,100]  % of contacted: 0.192857142857\n",
      "[100,150]  % of replied: 0.443396226415\n",
      "[100,150]  % of contacted: 0.211711711712\n",
      "[150,200]  % of replied: 0.46835443038\n",
      "[150,200]  % of contacted: 0.204419889503\n",
      "[200,250]  % of replied: 0.462962962963\n",
      "[200,250]  % of contacted: 0.25\n",
      "[250,300]  % of replied: 0.5\n",
      "[250,300]  % of contacted: 0.258620689655\n",
      "[300,350]  % of replied: 0.368421052632\n",
      "[300,350]  % of contacted: 0.25\n",
      "[350,400]  % of replied: 0.625\n",
      "[350,400]  % of contacted: 0.227272727273\n",
      "[400,450]  % of replied: 0.75\n",
      "[400,450]  % of contacted: 0.375\n",
      "[450,500]  % of replied: 0.333333333333\n",
      "[450,500]  % of contacted: 0.166666666667\n",
      "[500,550]  % of replied: 0.0\n",
      "[500,550]  % of contacted: 0.0\n",
      "[550,600]  % of replied: 1.0\n",
      "[550,600]  % of contacted: 0.5\n",
      "[600,650]  % of replied: 1.0\n",
      "[600,650]  % of contacted: 1.0\n",
      "[650,700] division by 0\n",
      "[700,750]  % of replied: 1.0\n",
      "[700,750]  % of contacted: 1.0\n"
     ]
    }
   ],
   "source": [
    "acc_price = acceptance_rate_continuous('nightly_price', range(0,800,50))"
   ]
  },
  {
   "cell_type": "code",
   "execution_count": 133,
   "metadata": {
    "collapsed": false
   },
   "outputs": [
    {
     "data": {
      "text/plain": [
       "{'accepted': {0: 8,\n",
       "  1: 54,\n",
       "  2: 47,\n",
       "  3: 37,\n",
       "  4: 25,\n",
       "  5: 15,\n",
       "  6: 7,\n",
       "  7: 5,\n",
       "  8: 3,\n",
       "  9: 2,\n",
       "  10: 0,\n",
       "  11: 1,\n",
       "  12: 1,\n",
       "  13: 0,\n",
       "  14: 1},\n",
       " 'all_negative': {0: 38,\n",
       "  1: 226,\n",
       "  2: 175,\n",
       "  3: 144,\n",
       "  4: 75,\n",
       "  5: 43,\n",
       "  6: 21,\n",
       "  7: 17,\n",
       "  8: 5,\n",
       "  9: 10,\n",
       "  10: 5,\n",
       "  11: 1,\n",
       "  12: 0,\n",
       "  13: 2,\n",
       "  14: 0},\n",
       " 'category': 'nightly_price',\n",
       " 'denied': {0: 18,\n",
       "  1: 88,\n",
       "  2: 59,\n",
       "  3: 42,\n",
       "  4: 29,\n",
       "  5: 15,\n",
       "  6: 12,\n",
       "  7: 3,\n",
       "  8: 1,\n",
       "  9: 4,\n",
       "  10: 2,\n",
       "  11: 0,\n",
       "  12: 0,\n",
       "  13: 0,\n",
       "  14: 0},\n",
       " 'not_answer': {0: 20,\n",
       "  1: 138,\n",
       "  2: 116,\n",
       "  3: 102,\n",
       "  4: 46,\n",
       "  5: 28,\n",
       "  6: 9,\n",
       "  7: 14,\n",
       "  8: 4,\n",
       "  9: 6,\n",
       "  10: 3,\n",
       "  11: 1,\n",
       "  12: 0,\n",
       "  13: 2,\n",
       "  14: 0},\n",
       " 'ranges': [0,\n",
       "  50,\n",
       "  100,\n",
       "  150,\n",
       "  200,\n",
       "  250,\n",
       "  300,\n",
       "  350,\n",
       "  400,\n",
       "  450,\n",
       "  500,\n",
       "  550,\n",
       "  600,\n",
       "  650,\n",
       "  700,\n",
       "  750]}"
      ]
     },
     "execution_count": 133,
     "metadata": {},
     "output_type": "execute_result"
    }
   ],
   "source": [
    "acc_price"
   ]
  },
  {
   "cell_type": "code",
   "execution_count": 134,
   "metadata": {
    "collapsed": false
   },
   "outputs": [
    {
     "name": "stdout",
     "output_type": "stream",
     "text": [
      "division by 0\n",
      "[ 0  1  2  3  4  5  6  7  8  9 10 11 12 13]\n",
      "AMONG REPLIED HOSTS\n",
      "percentage:\n",
      "[0.3076923076923077, 0.38028169014084506, 0.44339622641509435, 0.46835443037974683, 0.46296296296296297, 0.5, 0.3684210526315789, 0.625, 0.75, 0.3333333333333333, 0.0, 1.0, 1.0, 1.0]\n",
      "size\n",
      "['26', '142', '106', '79', '54', '30', '19', '8', '4', '6', '2', '1', '1', '1']\n",
      "std error:\n",
      "[0.05588561625366534, 0.02357838487335703, 0.02741817169141735, 0.0299753488294957, 0.04330127018922193, 0.05749603112801239, 0.08183170883849714, 0.08934606739851096, 0.1711632992203644, 0.10758287072798381, 0.0, 0.3535533905932738, 0.0, 0.0]\n",
      "\n",
      "\n",
      "AMONG ALL CONTACTED HOSTS\n",
      "percentage:\n",
      "[0.17391304347826086, 0.19285714285714287, 0.21171171171171171, 0.20441988950276244, 0.25, 0.25862068965517243, 0.25, 0.22727272727272727, 0.375, 0.16666666666666666, 0.0, 0.5, 1.0, 1.0]\n",
      "size\n",
      "['46', '280', '222', '181', '100', '58', '28', '22', '8', '12', '5', '2', '1', '1']\n",
      "std error:\n",
      "[0.09051513929454648, 0.04073856240458203, 0.0482520908546829, 0.0561416109498397, 0.0678544545178648, 0.09128709291752768, 0.11066473327112564, 0.1711632992203644, 0.21650635094610965, 0.19245008972987526, 0.0, 0.0, 0.0, 0.0]\n",
      "average over all replied 0.545674428825\n",
      "average over all contacted 0.343604419367\n"
     ]
    },
    {
     "data": {
      "image/png": "[encoded data removed]",
      "text/plain": [
       "<matplotlib.figure.Figure at 0x123c1e210>"
      ]
     },
     "metadata": {},
     "output_type": "display_data"
    },
    {
     "data": {
      "image/png": "[encoded data removed]",
      "text/plain": [
       "<matplotlib.figure.Figure at 0x11d25cb50>"
      ]
     },
     "metadata": {},
     "output_type": "display_data"
    }
   ],
   "source": [
    "size= float(0.2)\n",
    "plot_percentage(acc_price, \"continuous\", \"g\", 1)"
   ]
  },
  {
   "cell_type": "markdown",
   "metadata": {},
   "source": [
    "## Acceptance Rate -- Number of Reviews"
   ]
  },
  {
   "cell_type": "code",
   "execution_count": 135,
   "metadata": {
    "collapsed": false
   },
   "outputs": [
    {
     "name": "stdout",
     "output_type": "stream",
     "text": [
      "[0,20]  % of replied: 0.413043478261\n",
      "[0,20]  % of contacted: 0.181240063593\n",
      "[20,40]  % of replied: 0.479166666667\n",
      "[20,40]  % of contacted: 0.261363636364\n",
      "[40,60]  % of replied: 0.431034482759\n",
      "[40,60]  % of contacted: 0.255102040816\n",
      "[60,80]  % of replied: 0.451612903226\n",
      "[60,80]  % of contacted: 0.245614035088\n",
      "[80,100]  % of replied: 0.454545454545\n",
      "[80,100]  % of contacted: 0.31914893617\n",
      "[100,120]  % of replied: 0.4\n",
      "[100,120]  % of contacted: 0.206896551724\n",
      "[120,140]  % of replied: 0.615384615385\n",
      "[120,140]  % of contacted: 0.421052631579\n",
      "[140,160]  % of replied: 0.333333333333\n",
      "[140,160]  % of contacted: 0.2\n",
      "[160,180]  % of replied: 0.333333333333\n",
      "[160,180]  % of contacted: 0.142857142857\n"
     ]
    }
   ],
   "source": [
    "acc_review= acceptance_rate_continuous('number_of_reviews', range(0,200,20))"
   ]
  },
  {
   "cell_type": "code",
   "execution_count": 136,
   "metadata": {
    "collapsed": false
   },
   "outputs": [
    {
     "data": {
      "text/plain": [
       "{'accepted': {0: 114, 1: 46, 2: 25, 3: 14, 4: 15, 5: 6, 6: 8, 7: 1, 8: 1},\n",
       " 'all_negative': {0: 515,\n",
       "  1: 130,\n",
       "  2: 73,\n",
       "  3: 43,\n",
       "  4: 32,\n",
       "  5: 23,\n",
       "  6: 11,\n",
       "  7: 4,\n",
       "  8: 6},\n",
       " 'category': 'number_of_reviews',\n",
       " 'denied': {0: 162, 1: 50, 2: 33, 3: 17, 4: 18, 5: 9, 6: 5, 7: 2, 8: 2},\n",
       " 'not_answer': {0: 353, 1: 80, 2: 40, 3: 26, 4: 14, 5: 14, 6: 6, 7: 2, 8: 4},\n",
       " 'ranges': [0, 20, 40, 60, 80, 100, 120, 140, 160, 180]}"
      ]
     },
     "execution_count": 136,
     "metadata": {},
     "output_type": "execute_result"
    }
   ],
   "source": [
    "acc_review"
   ]
  },
  {
   "cell_type": "code",
   "execution_count": 137,
   "metadata": {
    "collapsed": false
   },
   "outputs": [
    {
     "name": "stdout",
     "output_type": "stream",
     "text": [
      "[0 1 2 3 4 5 6 7 8]\n",
      "AMONG REPLIED HOSTS\n",
      "percentage:\n",
      "[0.41304347826086957, 0.4791666666666667, 0.43103448275862066, 0.45161290322580644, 0.45454545454545453, 0.4, 0.6153846153846154, 0.3333333333333333, 0.3333333333333333]\n",
      "size\n",
      "['276', '96', '58', '31', '33', '15', '13', '3', '3']\n",
      "std error:\n",
      "[0.015359605878839222, 0.03311933364489529, 0.04403442410202104, 0.05701458429234497, 0.06799450739889032, 0.07522159645153251, 0.1132689656524148, 0.1788854381999832, 0.13226001425322165]\n",
      "\n",
      "\n",
      "AMONG ALL CONTACTED HOSTS\n",
      "percentage:\n",
      "[0.18124006359300476, 0.26136363636363635, 0.25510204081632654, 0.24561403508771928, 0.3191489361702128, 0.20689655172413793, 0.42105263157894735, 0.2, 0.14285714285714285]\n",
      "size\n",
      "['629', '176', '98', '57', '47', '29', '19', '5', '7']\n",
      "std error:\n",
      "[0.029637823667816924, 0.05098671929023754, 0.06502569219449274, 0.08938114993337111, 0.08667841720414475, 0.12649110640673517, 0.1349320029703122, 0.2721655269759087, 0.2721655269759087]\n",
      "average over all replied 0.434606029723\n",
      "average over all contacted 0.24814167091\n"
     ]
    },
    {
     "data": {
      "image/png": "[encoded data removed]",
      "text/plain": [
       "<matplotlib.figure.Figure at 0x120e83b50>"
      ]
     },
     "metadata": {},
     "output_type": "display_data"
    },
    {
     "data": {
      "image/png": "[encoded data removed]",
      "text/plain": [
       "<matplotlib.figure.Figure at 0x1239495d0>"
      ]
     },
     "metadata": {},
     "output_type": "display_data"
    }
   ],
   "source": [
    "plot_percentage(acc_review, \"continuous\")"
   ]
  },
  {
   "cell_type": "markdown",
   "metadata": {},
   "source": [
    "## Acceptance Rate -- Discount Asked"
   ]
  },
  {
   "cell_type": "code",
   "execution_count": 139,
   "metadata": {
    "collapsed": false
   },
   "outputs": [
    {
     "name": "stdout",
     "output_type": "stream",
     "text": [
      "[ 0.8  0.9  0.7  0.6]\n",
      "Category: discount_asked  type: 0.8 percentage over all replied: 0.489361702128\n",
      "Category: discount_asked  type: 0.8 percentage over all contacted: 0.250909090909\n",
      "Category: discount_asked  type: 0.9 percentage over all replied: 0.491935483871\n",
      "Category: discount_asked  type: 0.9 percentage over all contacted: 0.237354085603\n",
      "Category: discount_asked  type: 0.7 percentage over all replied: 0.426470588235\n",
      "Category: discount_asked  type: 0.7 percentage over all contacted: 0.211678832117\n",
      "Category: discount_asked  type: 0.6 percentage over all replied: 0.343511450382\n",
      "Category: discount_asked  type: 0.6 percentage over all contacted: 0.168539325843\n"
     ]
    }
   ],
   "source": [
    "acc_discount= acceptance_rate(\"discount_asked\")"
   ]
  },
  {
   "cell_type": "code",
   "execution_count": 140,
   "metadata": {
    "collapsed": false
   },
   "outputs": [
    {
     "name": "stdout",
     "output_type": "stream",
     "text": [
      "categorical\n",
      "[0 1 2 3]\n",
      "AMONG REPLIED HOSTS\n",
      "percentage:\n",
      "[0.48936170212765956, 0.49193548387096775, 0.4264705882352941, 0.3435114503816794]\n",
      "size\n",
      "['141', '124', '136', '131']\n",
      "std error:\n",
      "[0.026143222240591568, 0.026539532487079992, 0.02467828799490245, 0.02290951272638174]\n",
      "\n",
      "\n",
      "AMONG ALL CONTACTED HOSTS\n",
      "percentage:\n",
      "[0.2509090909090909, 0.23735408560311283, 0.2116788321167883, 0.16853932584269662]\n",
      "size\n",
      "['275', '257', '274', '267']\n",
      "std error:\n",
      "[0.04209806405636096, 0.044895484683838874, 0.042408502338905384, 0.04149048762851023]\n",
      "average over all replied 0.437819806154\n",
      "average over all contacted 0.217120333618\n"
     ]
    },
    {
     "data": {
      "image/png": "[encoded data removed]",
      "text/plain": [
       "<matplotlib.figure.Figure at 0x11f472090>"
      ]
     },
     "metadata": {},
     "output_type": "display_data"
    },
    {
     "data": {
      "image/png": "[encoded data removed]",
      "text/plain": [
       "<matplotlib.figure.Figure at 0x124b25f50>"
      ]
     },
     "metadata": {},
     "output_type": "display_data"
    }
   ],
   "source": [
    "plot_percentage(acc_discount, \"categorical\",\"g\",size)"
   ]
  },
  {
   "cell_type": "markdown",
   "metadata": {},
   "source": [
    "## Acceptance Rate -- Weeks in Advance"
   ]
  },
  {
   "cell_type": "markdown",
   "metadata": {},
   "source": [
    "### NOTE: We should group the data together by weeks in advance on number of orphan's days, so that we only study the impact of weeks in advance"
   ]
  },
  {
   "cell_type": "code",
   "execution_count": 176,
   "metadata": {
    "collapsed": false
   },
   "outputs": [
    {
     "data": {
      "text/plain": [
       "array([u'days3_weeksM', u'days3_weeks1', u'daysM_weeksM', u'days1_weeks1',\n",
       "       u'days2_weeksM', u'daysM_weeks2', u'days2_weeks2', u'daysM_weeks1',\n",
       "       u'days3_weeks2', u'days1_weeksM', u'days2_weeks1', u'days1_weeks2'], dtype=object)"
      ]
     },
     "execution_count": 176,
     "metadata": {},
     "output_type": "execute_result"
    }
   ],
   "source": [
    "complete_data.bucket_name.unique()"
   ]
  },
  {
   "cell_type": "code",
   "execution_count": 194,
   "metadata": {
    "collapsed": false
   },
   "outputs": [
    {
     "name": "stdout",
     "output_type": "stream",
     "text": [
      "days1_weeks1  % of replied: 0.228571428571\n",
      "days1_weeks1  % of contacted: 0.0898876404494\n",
      "days1_weeks2  % of replied: 0.466666666667\n",
      "days1_weeks2  % of contacted: 0.238636363636\n",
      "days1_weeksM  % of replied: 0.386363636364\n",
      "days1_weeksM  % of contacted: 0.186813186813\n",
      "days2_weeks1  % of replied: 0.468085106383\n",
      "days2_weeks1  % of contacted: 0.255813953488\n",
      "days2_weeks2  % of replied: 0.555555555556\n",
      "days2_weeks2  % of contacted: 0.280898876404\n",
      "days2_weeksM  % of replied: 0.428571428571\n",
      "days2_weeksM  % of contacted: 0.258064516129\n",
      "days3_weeks1  % of replied: 0.5\n",
      "days3_weeks1  % of contacted: 0.228260869565\n",
      "days3_weeks2  % of replied: 0.514285714286\n",
      "days3_weeks2  % of contacted: 0.209302325581\n",
      "days3_weeksM  % of replied: 0.423076923077\n",
      "days3_weeksM  % of contacted: 0.241758241758\n",
      "daysM_weeks1  % of replied: 0.432432432432\n",
      "daysM_weeks1  % of contacted: 0.179775280899\n",
      "daysM_weeks2  % of replied: 0.434782608696\n",
      "daysM_weeks2  % of contacted: 0.227272727273\n",
      "daysM_weeksM  % of replied: 0.395833333333\n",
      "daysM_weeksM  % of contacted: 0.208791208791\n"
     ]
    }
   ],
   "source": [
    "acc_w_advance_1 = acceptance_rate('bucket_name', [\"days1_weeks1\",\"days1_weeks2\",\"days1_weeksM\"])\n",
    "acc_w_advance_2 = acceptance_rate('bucket_name', [\"days2_weeks1\",\"days2_weeks2\",\"days2_weeksM\"])\n",
    "acc_w_advance_3 = acceptance_rate('bucket_name', [\"days3_weeks1\",\"days3_weeks2\",\"days3_weeksM\"])\n",
    "acc_w_advance_m = acceptance_rate('bucket_name', [\"daysM_weeks1\",\"daysM_weeks2\",\"daysM_weeksM\"])"
   ]
  },
  {
   "cell_type": "code",
   "execution_count": 195,
   "metadata": {
    "collapsed": false
   },
   "outputs": [
    {
     "name": "stdout",
     "output_type": "stream",
     "text": [
      "{'category': 'bucket_name', 'types': ['days1_weeks1', 'days1_weeks2', 'days1_weeksM'], 'denied': {'days1_weeksM': 27, 'days1_weeks1': 27, 'days1_weeks2': 24}, 'accepted': {'days1_weeksM': 17, 'days1_weeks1': 8, 'days1_weeks2': 21}, 'all_negative': {'days1_weeksM': 74, 'days1_weeks1': 81, 'days1_weeks2': 67}, 'not_answer': {'days1_weeksM': 47, 'days1_weeks1': 54, 'days1_weeks2': 43}}\n",
      "{'category': 'bucket_name', 'types': ['days2_weeks1', 'days2_weeks2', 'days2_weeksM'], 'denied': {'days2_weeksM': 32, 'days2_weeks1': 25, 'days2_weeks2': 20}, 'accepted': {'days2_weeksM': 24, 'days2_weeks1': 22, 'days2_weeks2': 25}, 'all_negative': {'days2_weeksM': 69, 'days2_weeks1': 64, 'days2_weeks2': 64}, 'not_answer': {'days2_weeksM': 37, 'days2_weeks1': 39, 'days2_weeks2': 44}}\n",
      "{'category': 'bucket_name', 'types': ['days3_weeks1', 'days3_weeks2', 'days3_weeksM'], 'denied': {'days3_weeksM': 30, 'days3_weeks2': 17, 'days3_weeks1': 21}, 'accepted': {'days3_weeksM': 22, 'days3_weeks2': 18, 'days3_weeks1': 21}, 'all_negative': {'days3_weeksM': 69, 'days3_weeks2': 68, 'days3_weeks1': 71}, 'not_answer': {'days3_weeksM': 39, 'days3_weeks2': 51, 'days3_weeks1': 50}}\n",
      "{'category': 'bucket_name', 'types': ['daysM_weeks1', 'daysM_weeks2', 'daysM_weeksM'], 'denied': {'daysM_weeks1': 21, 'daysM_weeks2': 26, 'daysM_weeksM': 29}, 'accepted': {'daysM_weeks1': 16, 'daysM_weeks2': 20, 'daysM_weeksM': 19}, 'all_negative': {'daysM_weeks1': 73, 'daysM_weeks2': 68, 'daysM_weeksM': 72}, 'not_answer': {'daysM_weeks1': 52, 'daysM_weeks2': 42, 'daysM_weeksM': 43}}\n"
     ]
    }
   ],
   "source": [
    "print acc_w_advance_1\n",
    "print acc_w_advance_2\n",
    "print acc_w_advance_3\n",
    "print acc_w_advance_m"
   ]
  },
  {
   "cell_type": "markdown",
   "metadata": {},
   "source": [
    "## Acceptance Rate-- Orphan's days"
   ]
  },
  {
   "cell_type": "markdown",
   "metadata": {},
   "source": [
    "### NOTE: We should group the data together by orphan days on weeks in advance, so that we only study the impact of  orphan day"
   ]
  },
  {
   "cell_type": "code",
   "execution_count": 196,
   "metadata": {
    "collapsed": false
   },
   "outputs": [
    {
     "name": "stdout",
     "output_type": "stream",
     "text": [
      "days1_weeks1  % of replied: 0.228571428571\n",
      "days1_weeks1  % of contacted: 0.0898876404494\n",
      "days2_weeks1  % of replied: 0.468085106383\n",
      "days2_weeks1  % of contacted: 0.255813953488\n",
      "days3_weeks1  % of replied: 0.5\n",
      "days3_weeks1  % of contacted: 0.228260869565\n",
      "daysM_weeks1  % of replied: 0.432432432432\n",
      "daysM_weeks1  % of contacted: 0.179775280899\n",
      "days1_weeks2  % of replied: 0.466666666667\n",
      "days1_weeks2  % of contacted: 0.238636363636\n",
      "days2_weeks2  % of replied: 0.555555555556\n",
      "days2_weeks2  % of contacted: 0.280898876404\n",
      "days3_weeks2  % of replied: 0.514285714286\n",
      "days3_weeks2  % of contacted: 0.209302325581\n",
      "daysM_weeks2  % of replied: 0.434782608696\n",
      "daysM_weeks2  % of contacted: 0.227272727273\n",
      "days1_weeks3 division by 0\n",
      "days2_weeks3 division by 0\n",
      "days3_weeks3 division by 0\n",
      "daysM_weeks3 division by 0\n"
     ]
    }
   ],
   "source": [
    "acc_oph_1 = acceptance_rate('bucket_name', [\"days1_weeks1\",\"days2_weeks1\",\"days3_weeks1\", \"daysM_weeks1\"])\n",
    "acc_oph_2 = acceptance_rate('bucket_name', [\"days1_weeks2\",\"days2_weeks2\",\"days3_weeks2\", \"daysM_weeks2\"])\n",
    "acc_oph_3 = acceptance_rate('bucket_name', [\"days1_weeks3\",\"days2_weeks3\",\"days3_weeks3\", \"daysM_weeks3\"])"
   ]
  },
  {
   "cell_type": "code",
   "execution_count": 198,
   "metadata": {
    "collapsed": false
   },
   "outputs": [
    {
     "name": "stdout",
     "output_type": "stream",
     "text": [
      "{'category': 'bucket_name', 'types': ['days1_weeks1', 'days2_weeks1', 'days3_weeks1', 'daysM_weeks1'], 'denied': {'daysM_weeks1': 21, 'days2_weeks1': 25, 'days1_weeks1': 27, 'days3_weeks1': 21}, 'accepted': {'daysM_weeks1': 16, 'days2_weeks1': 22, 'days1_weeks1': 8, 'days3_weeks1': 21}, 'all_negative': {'daysM_weeks1': 73, 'days2_weeks1': 64, 'days1_weeks1': 81, 'days3_weeks1': 71}, 'not_answer': {'daysM_weeks1': 52, 'days2_weeks1': 39, 'days1_weeks1': 54, 'days3_weeks1': 50}} {'category': 'bucket_name', 'types': ['days1_weeks2', 'days2_weeks2', 'days3_weeks2', 'daysM_weeks2'], 'denied': {'daysM_weeks2': 26, 'days3_weeks2': 17, 'days1_weeks2': 24, 'days2_weeks2': 20}, 'accepted': {'daysM_weeks2': 20, 'days3_weeks2': 18, 'days1_weeks2': 21, 'days2_weeks2': 25}, 'all_negative': {'daysM_weeks2': 68, 'days3_weeks2': 68, 'days1_weeks2': 67, 'days2_weeks2': 64}, 'not_answer': {'daysM_weeks2': 42, 'days3_weeks2': 51, 'days1_weeks2': 43, 'days2_weeks2': 44}} {'category': 'bucket_name', 'types': ['days1_weeks3', 'days2_weeks3', 'days3_weeks3', 'daysM_weeks3'], 'denied': {'daysM_weeks3': 0, 'days3_weeks3': 0, 'days2_weeks3': 0, 'days1_weeks3': 0}, 'accepted': {'daysM_weeks3': 0, 'days3_weeks3': 0, 'days2_weeks3': 0, 'days1_weeks3': 0}, 'all_negative': {'daysM_weeks3': 0, 'days3_weeks3': 0, 'days2_weeks3': 0, 'days1_weeks3': 0}, 'not_answer': {'daysM_weeks3': 0, 'days3_weeks3': 0, 'days2_weeks3': 0, 'days1_weeks3': 0}}\n"
     ]
    }
   ],
   "source": [
    "print acc_oph_1, \n",
    "print acc_oph_2, \n",
    "print acc_oph_3"
   ]
  },
  {
   "cell_type": "code",
   "execution_count": null,
   "metadata": {
    "collapsed": true
   },
   "outputs": [],
   "source": []
  }
 ],
 "metadata": {
  "kernelspec": {
   "display_name": "Python 2",
   "language": "python",
   "name": "python2"
  },
  "language_info": {
   "codemirror_mode": {
    "name": "ipython",
    "version": 2
   },
   "file_extension": ".py",
   "mimetype": "text/x-python",
   "name": "python",
   "nbconvert_exporter": "python",
   "pygments_lexer": "ipython2",
   "version": "2.7.11"
  }
 },
 "nbformat": 4,
 "nbformat_minor": 0
}
