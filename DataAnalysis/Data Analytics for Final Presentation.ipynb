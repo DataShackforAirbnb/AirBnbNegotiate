{
 "cells": [
  {
   "cell_type": "code",
   "execution_count": 1,
   "metadata": {
    "collapsed": true
   },
   "outputs": [],
   "source": [
    "import pandas as pd\n",
    "import numpy as np\n",
    "import matplotlib.pyplot as plt\n",
    "import seaborn as sns\n",
    "%matplotlib inline  \n",
    "import datetime as dt\n",
    "from collections import Counter"
   ]
  },
  {
   "cell_type": "markdown",
   "metadata": {},
   "source": [
    "## Utility Funstions\n"
   ]
  },
  {
   "cell_type": "markdown",
   "metadata": {},
   "source": [
    "### 1. functions for plotting distributions:\n"
   ]
  },
  {
   "cell_type": "code",
   "execution_count": null,
   "metadata": {
    "collapsed": true
   },
   "outputs": [],
   "source": [
    "def plot_distribution( current_population, label_input, color_input= 'b'):\n",
    "    fig = plt.figure(figsize=[15,4])\n",
    "    plt.subplot(1,2,1)\n",
    "    plt.hist(current_population['price_median'].values,bins=20, color=color_input)\n",
    "    plt.xlabel('Price median')\n",
    "    plt.ylabel('Number of Listings')\n",
    "    plt.title('Distribution of Median Price for ' + label_input )\n",
    "    # plt.xlim([50,1400])\n",
    "    #plt.xticks(np.linspace(0,700,25))\n",
    "\n",
    "    plt.grid(False)\n",
    "    plt.legend()\n",
    "\n",
    "    plt.subplot(1,2,2)\n",
    "\n",
    "    plt.hist(current_population['price_std'].values, bins=25, color=color_input)\n",
    "\n",
    "    plt.xlabel('Std deviation')\n",
    "    plt.ylabel('Number of Listings')\n",
    "    plt.title('Distribution of Standard Deviation of Price for ' + label_input)\n",
    "\n",
    "    plt.legend()\n",
    "    plt.grid(False)\n",
    "    print \"Total element in \"+label_input+\": \"+ str(len(current_population))\n",
    "    print \"Percent Listings with No Price Change at All for \"+ label_input+\": \", len(current_population[current_population['price_std']==0])*1./len(current_population)\n",
    "    return\n",
    "\n",
    "#Function for plotting population of continuous intervals, divided by ranges\n",
    "\n",
    "def plot_interval(current_population,field, ranges, label_input ):\n",
    "    #intervals=[]\n",
    "    for i in range(len(ranges)-1):\n",
    "        current_range= current_population[current_population[field].isin([ranges[i],ranges[i+1]] )]\n",
    "        current_label= label_input + \" range: [\" +str(ranges[i])+\",\"+str(ranges[i+1])+\"]\"\n",
    "        plot_distribution(current_range,current_label )\n",
    "    return\n"
   ]
  },
  {
   "cell_type": "markdown",
   "metadata": {},
   "source": [
    "### 2. Acceptance Rate"
   ]
  },
  {
   "cell_type": "code",
   "execution_count": 2,
   "metadata": {
    "collapsed": true
   },
   "outputs": [],
   "source": [
    "def number_of(dataframe, field, field_value):\n",
    "    auxiliar=dataframe.loc[dataframe[field]==field_value]\n",
    "    return len(auxiliar)\n",
    "\n",
    "\n",
    "#n accepted, n denied etc. depending on the kind of field\n",
    "\n",
    "def acceptance_rate(field, types= None):\n",
    "    if types == None:        \n",
    "        types= round3_clean[field].unique()\n",
    "        print types\n",
    "    round3_accepted_f = {}\n",
    "    round3_denied_f={}\n",
    "    round3_all_negative_f={}\n",
    "    round3_not_answer_f={}\n",
    "\n",
    "    for el in types:\n",
    "        round3_accepted_f[el] = number_of (round3_accepted, field, el)\n",
    "        round3_denied_f[el] = number_of (round3_denied, field, el)\n",
    "        round3_all_negative_f[el] = number_of (round3_all_negative, field, el)\n",
    "        round3_not_answer_f[el] = number_of (round3_not_answer, field, el)\n",
    "\n",
    "    for el in types:\n",
    "        try:\n",
    "            print \"Category: \"+ field+ \" \"+ \" type: \"+ str(el)+ \" percentage over all replied: \" + str(float(round3_accepted_f[el])/(round3_denied_f[el]+ round3_accepted_f[el]))\n",
    "            print \"Category: \"+ field+ \" \"+ \" type: \"+ str(el)+ \" percentage over all contacted: \" + str(float(round3_accepted_f[el])/(round3_all_negative_f[el]+ round3_accepted_f[el]))\n",
    "\n",
    "        except ZeroDivisionError:\n",
    "            print \"division by 0\"\n",
    "    result_dict= {\"types\": types, \"accepted\": round3_accepted_f, \"denied\": round3_denied_f,\"not_answer\":round3_not_answer_f,\n",
    "                 \"all_negative\": round3_all_negative_f, \"category\": field}         \n",
    "    return result_dict\n",
    "\n",
    "            \n",
    "\n",
    "def acceptance_rate_continuous(field, ranges):\n",
    "\n",
    "    #types= round3_clean[field].unique()\n",
    "    #print types\n",
    "    round3_accepted_f = {}\n",
    "    round3_denied_f={}\n",
    "    round3_all_negative_f={}\n",
    "    round3_not_answer_f={}\n",
    "\n",
    "    for el in range(len(ranges)-1):\n",
    "        print el\n",
    "        \n",
    "        round3_accepted_f[el] = len(round3_accepted[round3_accepted[field].isin(range(ranges[el],ranges[el+1],1)) ])\n",
    "        round3_denied_f[el] = len(round3_denied[round3_denied[field].isin(range(ranges[el],ranges[el+1],1)) ])\n",
    "        round3_all_negative_f[el] = len(round3_all_negative[round3_all_negative[field].isin(range(ranges[el],ranges[el+1],1) ) ])\n",
    "        round3_not_answer_f[el] = len(round3_not_answer[round3_not_answer[field].isin(range(ranges[el],ranges[el+1],1) )])\n",
    "        \n",
    "        \n",
    "\n",
    "    for el in range(len(ranges)-1):\n",
    "        current_label= field + \" range: [\" +str(ranges[el])+\",\"+str(ranges[el+1])+\"]\"\n",
    "\n",
    "        try:\n",
    "            print \"Category: \"+ field+ \" \"+ \" type: \"+ current_label+ \" percentage over all replied: \" + str(float(round3_accepted_f[el])/(round3_denied_f[el]+ round3_accepted_f[el]))\n",
    "            print \"Category: \"+ field+ \" \"+ \" type: \"+ current_label+ \" percentage over all contacted: \" + str(float(round3_accepted_f[el])/(round3_all_negative_f[el]+ round3_accepted_f[el]))\n",
    "\n",
    "        except ZeroDivisionError:\n",
    "            print \"division by 0\"\n",
    "            \n",
    "    result_dict= {\"ranges\": ranges, \"accepted\": round3_accepted_f, \"denied\": round3_denied_f,\"not_answer\":round3_not_answer_f,\n",
    "                 \"all_negative\": round3_all_negative_f, \"category\": field}         \n",
    "    return result_dict\n"
   ]
  },
  {
   "cell_type": "markdown",
   "metadata": {},
   "source": [
    "### 3. Percentage"
   ]
  },
  {
   "cell_type": "code",
   "execution_count": 3,
   "metadata": {
    "collapsed": true
   },
   "outputs": [],
   "source": [
    "import math\n",
    "\n",
    "#standard error: sqrt(p*(1-p)/n) with p = positive/all \n",
    "\n",
    "def plot_percentage (percentage_dictionary, type_input, color= \"g\", error_size=float(0.5) ):\n",
    "    p_replied= []\n",
    "    p_all= []\n",
    "    p_size= []\n",
    "    p_size_answered= []\n",
    "    #alphab = ['1 w', '2 w', 'More w']\n",
    "    x_axis=[]\n",
    "    p_std= []\n",
    "    p_std_a= []\n",
    "    if type_input == \"categorical\":\n",
    "        print \"categorical\"\n",
    "        for el in percentage_dictionary[\"types\"]:\n",
    "            try:\n",
    "                repl=float(percentage_dictionary['accepted'][el])/(percentage_dictionary['accepted'][el]+percentage_dictionary['denied'][el])\n",
    "                p_replied.append(repl)\n",
    "                \n",
    "                al=float(percentage_dictionary['accepted'][el])/(percentage_dictionary['accepted'][el]+percentage_dictionary['all_negative'][el])\n",
    "                \n",
    "                p_all.append(al )\n",
    "                \n",
    "                p_size_answered.append(str(percentage_dictionary['accepted'][el]+percentage_dictionary['denied'][el]))\n",
    "                p_size.append(str(percentage_dictionary['accepted'][el]+percentage_dictionary['all_negative'][el]))\n",
    "                #53(1 - 53/100))1/2\n",
    "                p_std.append (math.sqrt(repl*(1-repl)/ (percentage_dictionary['accepted'][el]+percentage_dictionary['denied'][el]) ) )\n",
    "                                                                                    \n",
    "                p_std_a.append (math.sqrt(al*(1-al)/ (percentage_dictionary['accepted'][el]+percentage_dictionary['all_negative'][el]) )) \n",
    "                \n",
    "                x_axis.append(el)\n",
    "            except ZeroDivisionError:\n",
    "                print \"division by 0\"        \n",
    "    elif type_input == \"continuous\":\n",
    "        for el in range(len(percentage_dictionary['ranges'])-1):\n",
    "            current_label=  \"[\" +str(percentage_dictionary['ranges'][el])+\",\"+str(percentage_dictionary['ranges'][el+1])+\"]\"            \n",
    "            try:\n",
    "                repl= float(percentage_dictionary['accepted'][el])/(percentage_dictionary['accepted'][el]+percentage_dictionary['denied'][el])\n",
    "                p_replied.append(repl)\n",
    "                al=float(percentage_dictionary['accepted'][el])/(float(percentage_dictionary['accepted'][el])+percentage_dictionary['all_negative'][el])                                                              \n",
    "                p_all.append(al)\n",
    "                p_size_answered.append(str(percentage_dictionary['accepted'][el]+percentage_dictionary['denied'][el]))               \n",
    "                p_size.append(str(percentage_dictionary['accepted'][el]+percentage_dictionary['all_negative'][el]))\n",
    "                p_std.append (math.sqrt(repl*(1-repl)/ (percentage_dictionary['accepted'][el]+percentage_dictionary['denied'][el]) ) )\n",
    "                                                                                    \n",
    "                p_std_a.append (math.sqrt(al*(1-al)/ (percentage_dictionary['accepted'][el]+percentage_dictionary['all_negative'][el]) )) \n",
    "                \n",
    "                x_axis.append(current_label)\n",
    "            except ZeroDivisionError:\n",
    "                print \"division by 0\"                \n",
    "    else:\n",
    "        print \"invalid type\"\n",
    "        return\n",
    "\n",
    "    \n",
    "    plt.subplot(1,2,1)\n",
    "    \n",
    "    pos = np.arange(len(x_axis))\n",
    "    print np.arange(len(x_axis))\n",
    "    print \"AMONG REPLIED HOSTS\"\n",
    "    print \"percentage:\"\n",
    "    print p_replied\n",
    "    print \"size\"\n",
    "    print p_size_answered\n",
    "    print \"std error:\"\n",
    "    print p_std_a\n",
    "    print \"\\n\"\n",
    "    print \"AMONG ALL CONTACTED HOSTS\"\n",
    "\n",
    "    print \"percentage:\"\n",
    "    print p_all\n",
    "    print \"size\"\n",
    "    print p_size\n",
    "    print \"std error:\"    \n",
    "    print p_std\n",
    "    print \"average over all replied \"+ str(np.mean(p_replied))\n",
    "    print \"average over all contacted \"+ str(np.mean(p_all))\n",
    "    \n",
    "    width = 0.7     # gives histogram aspect to the bar diagram\n",
    "\n",
    "    ax = plt.axes()\n",
    "    ax.set_xticks(pos + (width / 2))\n",
    "    x_axis2= x_axis\n",
    "    for idx, val in enumerate(x_axis):\n",
    "        x_axis[idx]=str(x_axis[idx])+\"\\n\"+str(p_size_answered[idx])\n",
    "    ax.set_xticklabels(x_axis)\n",
    "    \n",
    "    plt.xlabel(percentage_dictionary['category'])\n",
    "    plt.ylabel('Acceptance rate (%)')\n",
    "    plt.title('Acceptance among the hosts who replied')\n",
    "    \n",
    "    '''\n",
    "    plt.text(pos + (width / 2), 1.05*pos,\n",
    "                '%d' % len(),\n",
    "                ha='center', va='bottom')\n",
    "    '''\n",
    "    #, yerr=[int(i)/400 for i in p_size_answered]\n",
    "    \n",
    "    plt.bar(pos, p_replied, width, color =color,yerr=[i/error_size for i in p_std])\n",
    "    \n",
    "    ####################################quantity\n",
    "    #rects1 = ax.bar(pos, p_replied, width, color = color)\n",
    "    #autolabel(rects1)\n",
    "    \n",
    "    plt.show()\n",
    "    plt.subplot(1,2,2)\n",
    "    \n",
    "    pos = np.arange(len(x_axis))\n",
    "    width = 0.7     # gives histogram aspect to the bar diagram\n",
    "\n",
    "    ax = plt.axes()\n",
    "    ax.set_xticks(pos + (width / 2))\n",
    "    \n",
    "    for idx, val in enumerate(x_axis):\n",
    "        x_axis2[idx]= str(x_axis2[idx])+\"\\n\"+str(p_size[idx])\n",
    "    ax.set_xticklabels(x_axis2)\n",
    "    \n",
    "    plt.xlabel(percentage_dictionary['category'])\n",
    "    plt.ylabel('Acceptance rate (%)')\n",
    "    plt.title('Acceptance among all the hosts')\n",
    "\n",
    "    #,yerr=[int(i)/491 for i in p_size]\n",
    "    plt.bar(pos, p_all, width, color= color, yerr=[ i/error_size for i in p_std_a] )\n",
    "    plt.show()\n",
    "   "
   ]
  },
  {
   "cell_type": "markdown",
   "metadata": {},
   "source": [
    "## Loading Data"
   ]
  },
  {
   "cell_type": "code",
   "execution_count": 5,
   "metadata": {
    "collapsed": true
   },
   "outputs": [],
   "source": [
    "fields_ = [\"id\", \"host_id\", \"host_response_rate\", \"host_acceptance_rate\", \n",
    "                       \"host_total_listings_count\", \"monthly_price\", \"instant_bookable\", \n",
    "                       \"room_type\", \"bucket_name\", \"discount_asked\", \"nightly_price\", \n",
    "                       \"decision\", \"price_agreed\", \"discount_agreed\", \"percent_agreed\",\n",
    "                       \"calendars\", \"price_requested\", \"number_of_reviews\", \"host_is_superhost\"\n",
    "                      ,\"beds\"]"
   ]
  },
  {
   "cell_type": "code",
   "execution_count": 19,
   "metadata": {
    "collapsed": false
   },
   "outputs": [
    {
     "name": "stdout",
     "output_type": "stream",
     "text": [
      "1074\n"
     ]
    }
   ],
   "source": [
    "round2 = pd.read_json(\"../data/analytics_merge/round2_merged.json\")\n",
    "round2_clean = round2[fields]\n",
    "round3 = pd.read_json(\"../data/analytics_merge/round3_merged.json\")\n",
    "round3_clean = round3[fields]\n",
    "round4 = pd.read_json(\"../data/analytics_merge/round4_merged.json\")\n",
    "round4['discount_agreed'] = round4['discount']\n",
    "round4_clean = round4[fields]\n",
    "round5 = pd.read_json(\"../data/analytics_merge/round5_merged.json\")\n",
    "round5_clean = round5[fields]\n",
    "\n",
    "dataframes= [round2_clean, round3_clean, round4_clean, round5_clean]\n",
    "\n",
    "complete_data = pd.concat(dataframes)\n",
    "print len(complete_data)"
   ]
  },
  {
   "cell_type": "code",
   "execution_count": 20,
   "metadata": {
    "collapsed": false
   },
   "outputs": [
    {
     "name": "stderr",
     "output_type": "stream",
     "text": [
      "//anaconda/lib/python2.7/site-packages/IPython/core/interactiveshell.py:2723: DtypeWarning: Columns (40) have mixed types. Specify dtype option on import or set low_memory=False.\n",
      "  interactivity=interactivity, compiler=compiler, result=result)\n"
     ]
    }
   ],
   "source": [
    "complete_listings = pd.read_csv('../data/listings/nyc_listings.csv')"
   ]
  },
  {
   "cell_type": "code",
   "execution_count": 21,
   "metadata": {
    "collapsed": false
   },
   "outputs": [
    {
     "data": {
      "text/plain": [
       "Index([u'id', u'listing_url', u'scrape_id', u'last_scraped', u'name',\n",
       "       u'summary', u'space', u'description', u'experiences_offered',\n",
       "       u'neighborhood_overview', u'notes', u'transit', u'thumbnail_url',\n",
       "       u'medium_url', u'picture_url', u'xl_picture_url', u'host_id',\n",
       "       u'host_url', u'host_name', u'host_since', u'host_location',\n",
       "       u'host_about', u'host_response_time', u'host_response_rate',\n",
       "       u'host_acceptance_rate', u'host_is_superhost', u'host_thumbnail_url',\n",
       "       u'host_picture_url', u'host_neighbourhood', u'host_listings_count',\n",
       "       u'host_total_listings_count', u'host_verifications',\n",
       "       u'host_has_profile_pic', u'host_identity_verified', u'street',\n",
       "       u'neighbourhood', u'neighbourhood_cleansed',\n",
       "       u'neighbourhood_group_cleansed', u'city', u'state', u'zipcode',\n",
       "       u'market', u'smart_location', u'country_code', u'country', u'latitude',\n",
       "       u'longitude', u'is_location_exact', u'property_type', u'room_type',\n",
       "       u'accommodates', u'bathrooms', u'bedrooms', u'beds', u'bed_type',\n",
       "       u'amenities', u'square_feet', u'price', u'weekly_price',\n",
       "       u'monthly_price', u'security_deposit', u'cleaning_fee',\n",
       "       u'guests_included', u'extra_people', u'minimum_nights',\n",
       "       u'maximum_nights', u'calendar_updated', u'has_availability',\n",
       "       u'availability_30', u'availability_60', u'availability_90',\n",
       "       u'availability_365', u'calendar_last_scraped', u'number_of_reviews',\n",
       "       u'first_review', u'last_review', u'review_scores_rating',\n",
       "       u'review_scores_accuracy', u'review_scores_cleanliness',\n",
       "       u'review_scores_checkin', u'review_scores_communication',\n",
       "       u'review_scores_location', u'review_scores_value', u'requires_license',\n",
       "       u'license', u'jurisdiction_names', u'instant_bookable',\n",
       "       u'cancellation_policy', u'require_guest_profile_picture',\n",
       "       u'require_guest_phone_verification', u'calculated_host_listings_count',\n",
       "       u'reviews_per_month'],\n",
       "      dtype='object')"
      ]
     },
     "execution_count": 21,
     "metadata": {},
     "output_type": "execute_result"
    }
   ],
   "source": [
    "complete_listings.columns"
   ]
  },
  {
   "cell_type": "code",
   "execution_count": null,
   "metadata": {
    "collapsed": true
   },
   "outputs": [],
   "source": []
  }
 ],
 "metadata": {
  "kernelspec": {
   "display_name": "Python 2",
   "language": "python",
   "name": "python2"
  },
  "language_info": {
   "codemirror_mode": {
    "name": "ipython",
    "version": 2
   },
   "file_extension": ".py",
   "mimetype": "text/x-python",
   "name": "python",
   "nbconvert_exporter": "python",
   "pygments_lexer": "ipython2",
   "version": "2.7.11"
  }
 },
 "nbformat": 4,
 "nbformat_minor": 0
}
