{
 "cells": [
  {
   "cell_type": "code",
   "execution_count": 68,
   "metadata": {
    "collapsed": false
   },
   "outputs": [],
   "source": [
    "import pandas as pd\n",
    "import numpy as np\n",
    "import matplotlib.pyplot as plt\n",
    "import seaborn as sns\n",
    "%matplotlib inline  \n",
    "import datetime as dt\n",
    "\n",
    "pd.options.mode.chained_assignment = None  # default='warn'"
   ]
  },
  {
   "cell_type": "code",
   "execution_count": 129,
   "metadata": {
    "collapsed": true
   },
   "outputs": [],
   "source": [
    "from sklearn.linear_model import LinearRegression\n",
    "from sklearn.linear_model import LogisticRegression\n",
    "from sklearn.ensemble import RandomForestClassifier\n",
    "from sklearn.cross_validation import cross_val_predict\n",
    "from sklearn.cross_validation import cross_val_score\n",
    "from sklearn.preprocessing import PolynomialFeatures\n",
    "from sklearn.preprocessing import Imputer\n",
    "from sklearn import svm"
   ]
  },
  {
   "cell_type": "markdown",
   "metadata": {},
   "source": [
    "## 1. Data Cleaning and Feature Engineering"
   ]
  },
  {
   "cell_type": "markdown",
   "metadata": {},
   "source": [
    "#### 1.1 First clean: only take the useful columns"
   ]
  },
  {
   "cell_type": "code",
   "execution_count": 70,
   "metadata": {
    "collapsed": false
   },
   "outputs": [],
   "source": [
    "round3 = pd.read_json(\"round3_merged.json\")\n",
    "round2 = pd.read_json(\"round2_merged.json\")\n",
    "round1 = pd.read_json(\"round1_merged.json\")"
   ]
  },
  {
   "cell_type": "code",
   "execution_count": 71,
   "metadata": {
    "collapsed": false,
    "scrolled": false
   },
   "outputs": [
    {
     "name": "stdout",
     "output_type": "stream",
     "text": [
      "Index([u'Unnamed: 0', u'account', u'actions', u'availability', u'beds',\n",
      "       u'bucket_name', u'calendars', u'decision', u'discount_agreed',\n",
      "       u'discount_asked', u'discount_obtained', u'extra_people',\n",
      "       u'guests_included', u'host_acceptance_rate', u'host_id',\n",
      "       u'host_is_superhost', u'host_name', u'host_response_rate',\n",
      "       u'host_response_time', u'host_total_listings_count', u'host_url', u'id',\n",
      "       u'instant_bookable', u'listing_url', u'minimum_nights',\n",
      "       u'monthly_price', u'nightly_plus_guest_price', u'nightly_price',\n",
      "       u'nightly_price_scraped', u'number_of_reviews', u'openings',\n",
      "       u'percent_agreed', u'price_agreed', u'price_requested', u'response',\n",
      "       u'room_type'],\n",
      "      dtype='object')\n",
      "Index([u'Unnamed: 0', u'account', u'actions', u'availability', u'beds',\n",
      "       u'bucket_name', u'calendars', u'decision', u'discount_agreed',\n",
      "       u'discount_asked', u'discount_obtained', u'host_acceptance_rate',\n",
      "       u'host_id', u'host_is_superhost', u'host_name', u'host_response_rate',\n",
      "       u'host_response_time', u'host_total_listings_count', u'host_url', u'id',\n",
      "       u'instant_bookable', u'listing_url', u'minimum_nights',\n",
      "       u'monthly_price', u'nightly_price', u'nightly_price_scraped',\n",
      "       u'number_of_reviews', u'openings', u'percent_agreed', u'price_agreed',\n",
      "       u'price_requested', u'response', u'room_type'],\n",
      "      dtype='object')\n",
      "Index([u'Unnamed: 0', u'actions', u'availability', u'beds', u'bucket_name',\n",
      "       u'calendars', u'discount', u'discount_asked', u'host_acceptance_rate',\n",
      "       u'host_id', u'host_is_superhost', u'host_name', u'host_response_rate',\n",
      "       u'host_response_time', u'host_total_listings_count', u'host_url', u'id',\n",
      "       u'instant_bookable', u'listing_url', u'minimum_nights',\n",
      "       u'monthly_price', u'nightly_price', u'nightly_price_scraped',\n",
      "       u'number_of_reviews', u'openings', u'price', u'price_requested',\n",
      "       u'response', u'room_type'],\n",
      "      dtype='object')\n"
     ]
    }
   ],
   "source": [
    "print round3.columns\n",
    "print round2.columns\n",
    "print round1.columns"
   ]
  },
  {
   "cell_type": "code",
   "execution_count": 72,
   "metadata": {
    "collapsed": false
   },
   "outputs": [
    {
     "name": "stdout",
     "output_type": "stream",
     "text": [
      "Number of observations in round 3:  288\n",
      "Number of observations in round 2:  226\n",
      "Number of observations in round 1:  194\n"
     ]
    }
   ],
   "source": [
    "round3_clean = round3[[\"id\", \"host_id\", \"host_response_rate\", \"host_acceptance_rate\", \n",
    "                       \"host_total_listings_count\", \"instant_bookable\", \n",
    "                       \"room_type\", \"bucket_name\", \"discount_asked\", \"nightly_price\", \n",
    "                       \"decision\", \"price_agreed\", \"discount_agreed\", \"percent_agreed\",\n",
    "                       \"calendars\", \"price_requested\"]]\n",
    "round2_clean = round2[[\"id\", \"host_id\", \"host_response_rate\", \"host_acceptance_rate\", \n",
    "                       \"host_total_listings_count\", \"instant_bookable\", \n",
    "                       \"room_type\", \"bucket_name\", \"discount_asked\", \"nightly_price\", \n",
    "                       \"decision\", \"price_agreed\", \"discount_agreed\", \"percent_agreed\",\n",
    "                       \"calendars\", \"price_requested\"]]\n",
    "round1_clean = round1[[\"id\", \"host_id\", \"host_response_rate\", \"host_acceptance_rate\", \n",
    "                       \"host_total_listings_count\", \"instant_bookable\", \n",
    "                       \"room_type\", \"bucket_name\", \"discount_asked\", \"nightly_price\", \n",
    "                       \"availability\", \"price\", \"discount\",\n",
    "                       \"calendars\", \"price_requested\"]]\n",
    "\n",
    "print \"Number of observations in round 3: \", len(round3_clean)\n",
    "print \"Number of observations in round 2: \", len(round2_clean)\n",
    "print \"Number of observations in round 1: \", len(round1_clean)\n",
    "\n",
    "# round3_clean.reset_index(drop=True).head()"
   ]
  },
  {
   "cell_type": "code",
   "execution_count": 73,
   "metadata": {
    "collapsed": false
   },
   "outputs": [
    {
     "data": {
      "text/html": [
       "<div>\n",
       "<table border=\"1\" class=\"dataframe\">\n",
       "  <thead>\n",
       "    <tr style=\"text-align: right;\">\n",
       "      <th></th>\n",
       "      <th>id</th>\n",
       "      <th>host_id</th>\n",
       "      <th>host_response_rate</th>\n",
       "      <th>host_acceptance_rate</th>\n",
       "      <th>host_total_listings_count</th>\n",
       "      <th>instant_bookable</th>\n",
       "      <th>room_type</th>\n",
       "      <th>bucket_name</th>\n",
       "      <th>discount_asked</th>\n",
       "      <th>nightly_price</th>\n",
       "      <th>decision</th>\n",
       "      <th>price_agreed</th>\n",
       "      <th>percent_agreed</th>\n",
       "      <th>calendars</th>\n",
       "      <th>price_requested</th>\n",
       "    </tr>\n",
       "  </thead>\n",
       "  <tbody>\n",
       "    <tr>\n",
       "      <th>0</th>\n",
       "      <td>5557381</td>\n",
       "      <td>28811542</td>\n",
       "      <td>100%</td>\n",
       "      <td>100%</td>\n",
       "      <td>1</td>\n",
       "      <td>t</td>\n",
       "      <td>Private room</td>\n",
       "      <td>daysM_weeks1</td>\n",
       "      <td>0.7</td>\n",
       "      <td>51</td>\n",
       "      <td>0</td>\n",
       "      <td>NaN</td>\n",
       "      <td>None</td>\n",
       "      <td>{u'date': {u'24': u'2016-04-20', u'25': u'2016...</td>\n",
       "      <td>35</td>\n",
       "    </tr>\n",
       "    <tr>\n",
       "      <th>1</th>\n",
       "      <td>9147025</td>\n",
       "      <td>403032</td>\n",
       "      <td>100%</td>\n",
       "      <td>100%</td>\n",
       "      <td>1</td>\n",
       "      <td>f</td>\n",
       "      <td>Entire home/apt</td>\n",
       "      <td>days1_weeksM</td>\n",
       "      <td>0.7</td>\n",
       "      <td>134</td>\n",
       "      <td>-1</td>\n",
       "      <td>NaN</td>\n",
       "      <td>None</td>\n",
       "      <td>{u'date': {u'24': u'2016-04-20', u'25': u'2016...</td>\n",
       "      <td>90</td>\n",
       "    </tr>\n",
       "    <tr>\n",
       "      <th>10</th>\n",
       "      <td>2745620</td>\n",
       "      <td>1172202</td>\n",
       "      <td>100%</td>\n",
       "      <td>100%</td>\n",
       "      <td>5</td>\n",
       "      <td>t</td>\n",
       "      <td>Private room</td>\n",
       "      <td>days3_weeks1</td>\n",
       "      <td>0.9</td>\n",
       "      <td>41</td>\n",
       "      <td>-1</td>\n",
       "      <td>NaN</td>\n",
       "      <td>None</td>\n",
       "      <td>{u'date': {u'24': u'2016-04-20', u'25': u'2016...</td>\n",
       "      <td>35</td>\n",
       "    </tr>\n",
       "    <tr>\n",
       "      <th>100</th>\n",
       "      <td>7879486</td>\n",
       "      <td>38964485</td>\n",
       "      <td>100%</td>\n",
       "      <td>92%</td>\n",
       "      <td>2</td>\n",
       "      <td>f</td>\n",
       "      <td>Entire home/apt</td>\n",
       "      <td>days2_weeks1</td>\n",
       "      <td>0.7</td>\n",
       "      <td>101</td>\n",
       "      <td>-1</td>\n",
       "      <td>NaN</td>\n",
       "      <td>None</td>\n",
       "      <td>{u'date': {u'24': u'2016-04-20', u'25': u'2016...</td>\n",
       "      <td>70</td>\n",
       "    </tr>\n",
       "    <tr>\n",
       "      <th>101</th>\n",
       "      <td>3557570</td>\n",
       "      <td>1594959</td>\n",
       "      <td>100%</td>\n",
       "      <td>None</td>\n",
       "      <td>1</td>\n",
       "      <td>f</td>\n",
       "      <td>Private room</td>\n",
       "      <td>daysM_weeks2</td>\n",
       "      <td>0.6</td>\n",
       "      <td>65</td>\n",
       "      <td>0</td>\n",
       "      <td>NaN</td>\n",
       "      <td>None</td>\n",
       "      <td>{u'date': {u'24': u'2016-04-20', u'25': u'2016...</td>\n",
       "      <td>35</td>\n",
       "    </tr>\n",
       "  </tbody>\n",
       "</table>\n",
       "</div>"
      ],
      "text/plain": [
       "          id   host_id host_response_rate host_acceptance_rate  \\\n",
       "0    5557381  28811542               100%                 100%   \n",
       "1    9147025    403032               100%                 100%   \n",
       "10   2745620   1172202               100%                 100%   \n",
       "100  7879486  38964485               100%                  92%   \n",
       "101  3557570   1594959               100%                 None   \n",
       "\n",
       "     host_total_listings_count instant_bookable        room_type  \\\n",
       "0                            1                t     Private room   \n",
       "1                            1                f  Entire home/apt   \n",
       "10                           5                t     Private room   \n",
       "100                          2                f  Entire home/apt   \n",
       "101                          1                f     Private room   \n",
       "\n",
       "      bucket_name  discount_asked  nightly_price  decision  price_agreed  \\\n",
       "0    daysM_weeks1             0.7             51         0           NaN   \n",
       "1    days1_weeksM             0.7            134        -1           NaN   \n",
       "10   days3_weeks1             0.9             41        -1           NaN   \n",
       "100  days2_weeks1             0.7            101        -1           NaN   \n",
       "101  daysM_weeks2             0.6             65         0           NaN   \n",
       "\n",
       "    percent_agreed                                          calendars  \\\n",
       "0             None  {u'date': {u'24': u'2016-04-20', u'25': u'2016...   \n",
       "1             None  {u'date': {u'24': u'2016-04-20', u'25': u'2016...   \n",
       "10            None  {u'date': {u'24': u'2016-04-20', u'25': u'2016...   \n",
       "100           None  {u'date': {u'24': u'2016-04-20', u'25': u'2016...   \n",
       "101           None  {u'date': {u'24': u'2016-04-20', u'25': u'2016...   \n",
       "\n",
       "     price_requested  \n",
       "0                 35  \n",
       "1                 90  \n",
       "10                35  \n",
       "100               70  \n",
       "101               35  "
      ]
     },
     "execution_count": 73,
     "metadata": {},
     "output_type": "execute_result"
    }
   ],
   "source": [
    "round1_clean = round1_clean.rename(columns = {\"availability\":\"decision\", \"price\":\"price_agreed\", \"discount\":\"percent_agreed\"})\n",
    "round1_clean.head()"
   ]
  },
  {
   "cell_type": "code",
   "execution_count": 74,
   "metadata": {
    "collapsed": false
   },
   "outputs": [],
   "source": [
    "round1_clean = round1_clean.rename(columns = {\"availability\":\"decision\", \"price\":\"price_agreed\", \"discount\":\"percent_agreed\"})\n",
    "\n",
    "combined = pd.concat([round1_clean, round2_clean, round3_clean], keys=[\"round1\", \"round2\", \"round3\"], ignore_index=False)\n",
    "combined[\"source\"] = combined.index.labels[0]+1\n",
    "combined = combined.reset_index(drop=True)"
   ]
  },
  {
   "cell_type": "code",
   "execution_count": 75,
   "metadata": {
    "collapsed": false
   },
   "outputs": [
    {
     "data": {
      "text/html": [
       "<div>\n",
       "<table border=\"1\" class=\"dataframe\">\n",
       "  <thead>\n",
       "    <tr style=\"text-align: right;\">\n",
       "      <th></th>\n",
       "      <th>bucket_name</th>\n",
       "      <th>calendars</th>\n",
       "      <th>decision</th>\n",
       "      <th>discount_agreed</th>\n",
       "      <th>discount_asked</th>\n",
       "      <th>host_acceptance_rate</th>\n",
       "      <th>host_id</th>\n",
       "      <th>host_response_rate</th>\n",
       "      <th>host_total_listings_count</th>\n",
       "      <th>id</th>\n",
       "      <th>instant_bookable</th>\n",
       "      <th>nightly_price</th>\n",
       "      <th>percent_agreed</th>\n",
       "      <th>price_agreed</th>\n",
       "      <th>price_requested</th>\n",
       "      <th>room_type</th>\n",
       "      <th>source</th>\n",
       "    </tr>\n",
       "  </thead>\n",
       "  <tbody>\n",
       "    <tr>\n",
       "      <th>0</th>\n",
       "      <td>daysM_weeks1</td>\n",
       "      <td>{u'date': {u'24': u'2016-04-20', u'25': u'2016...</td>\n",
       "      <td>0</td>\n",
       "      <td>NaN</td>\n",
       "      <td>0.7</td>\n",
       "      <td>100%</td>\n",
       "      <td>28811542</td>\n",
       "      <td>100%</td>\n",
       "      <td>1</td>\n",
       "      <td>5557381</td>\n",
       "      <td>t</td>\n",
       "      <td>51</td>\n",
       "      <td>None</td>\n",
       "      <td>NaN</td>\n",
       "      <td>35</td>\n",
       "      <td>Private room</td>\n",
       "      <td>1</td>\n",
       "    </tr>\n",
       "    <tr>\n",
       "      <th>1</th>\n",
       "      <td>days1_weeksM</td>\n",
       "      <td>{u'date': {u'24': u'2016-04-20', u'25': u'2016...</td>\n",
       "      <td>-1</td>\n",
       "      <td>NaN</td>\n",
       "      <td>0.7</td>\n",
       "      <td>100%</td>\n",
       "      <td>403032</td>\n",
       "      <td>100%</td>\n",
       "      <td>1</td>\n",
       "      <td>9147025</td>\n",
       "      <td>f</td>\n",
       "      <td>134</td>\n",
       "      <td>None</td>\n",
       "      <td>NaN</td>\n",
       "      <td>90</td>\n",
       "      <td>Entire home/apt</td>\n",
       "      <td>1</td>\n",
       "    </tr>\n",
       "    <tr>\n",
       "      <th>2</th>\n",
       "      <td>days3_weeks1</td>\n",
       "      <td>{u'date': {u'24': u'2016-04-20', u'25': u'2016...</td>\n",
       "      <td>-1</td>\n",
       "      <td>NaN</td>\n",
       "      <td>0.9</td>\n",
       "      <td>100%</td>\n",
       "      <td>1172202</td>\n",
       "      <td>100%</td>\n",
       "      <td>5</td>\n",
       "      <td>2745620</td>\n",
       "      <td>t</td>\n",
       "      <td>41</td>\n",
       "      <td>None</td>\n",
       "      <td>NaN</td>\n",
       "      <td>35</td>\n",
       "      <td>Private room</td>\n",
       "      <td>1</td>\n",
       "    </tr>\n",
       "    <tr>\n",
       "      <th>3</th>\n",
       "      <td>days2_weeks1</td>\n",
       "      <td>{u'date': {u'24': u'2016-04-20', u'25': u'2016...</td>\n",
       "      <td>-1</td>\n",
       "      <td>NaN</td>\n",
       "      <td>0.7</td>\n",
       "      <td>92%</td>\n",
       "      <td>38964485</td>\n",
       "      <td>100%</td>\n",
       "      <td>2</td>\n",
       "      <td>7879486</td>\n",
       "      <td>f</td>\n",
       "      <td>101</td>\n",
       "      <td>None</td>\n",
       "      <td>NaN</td>\n",
       "      <td>70</td>\n",
       "      <td>Entire home/apt</td>\n",
       "      <td>1</td>\n",
       "    </tr>\n",
       "    <tr>\n",
       "      <th>4</th>\n",
       "      <td>daysM_weeks2</td>\n",
       "      <td>{u'date': {u'24': u'2016-04-20', u'25': u'2016...</td>\n",
       "      <td>0</td>\n",
       "      <td>NaN</td>\n",
       "      <td>0.6</td>\n",
       "      <td>None</td>\n",
       "      <td>1594959</td>\n",
       "      <td>100%</td>\n",
       "      <td>1</td>\n",
       "      <td>3557570</td>\n",
       "      <td>f</td>\n",
       "      <td>65</td>\n",
       "      <td>None</td>\n",
       "      <td>NaN</td>\n",
       "      <td>35</td>\n",
       "      <td>Private room</td>\n",
       "      <td>1</td>\n",
       "    </tr>\n",
       "  </tbody>\n",
       "</table>\n",
       "</div>"
      ],
      "text/plain": [
       "    bucket_name                                          calendars  decision  \\\n",
       "0  daysM_weeks1  {u'date': {u'24': u'2016-04-20', u'25': u'2016...         0   \n",
       "1  days1_weeksM  {u'date': {u'24': u'2016-04-20', u'25': u'2016...        -1   \n",
       "2  days3_weeks1  {u'date': {u'24': u'2016-04-20', u'25': u'2016...        -1   \n",
       "3  days2_weeks1  {u'date': {u'24': u'2016-04-20', u'25': u'2016...        -1   \n",
       "4  daysM_weeks2  {u'date': {u'24': u'2016-04-20', u'25': u'2016...         0   \n",
       "\n",
       "   discount_agreed  discount_asked host_acceptance_rate   host_id  \\\n",
       "0              NaN             0.7                 100%  28811542   \n",
       "1              NaN             0.7                 100%    403032   \n",
       "2              NaN             0.9                 100%   1172202   \n",
       "3              NaN             0.7                  92%  38964485   \n",
       "4              NaN             0.6                 None   1594959   \n",
       "\n",
       "  host_response_rate  host_total_listings_count       id instant_bookable  \\\n",
       "0               100%                          1  5557381                t   \n",
       "1               100%                          1  9147025                f   \n",
       "2               100%                          5  2745620                t   \n",
       "3               100%                          2  7879486                f   \n",
       "4               100%                          1  3557570                f   \n",
       "\n",
       "   nightly_price percent_agreed  price_agreed  price_requested  \\\n",
       "0             51           None           NaN               35   \n",
       "1            134           None           NaN               90   \n",
       "2             41           None           NaN               35   \n",
       "3            101           None           NaN               70   \n",
       "4             65           None           NaN               35   \n",
       "\n",
       "         room_type  source  \n",
       "0     Private room       1  \n",
       "1  Entire home/apt       1  \n",
       "2     Private room       1  \n",
       "3  Entire home/apt       1  \n",
       "4     Private room       1  "
      ]
     },
     "execution_count": 75,
     "metadata": {},
     "output_type": "execute_result"
    }
   ],
   "source": [
    "combined.head()"
   ]
  },
  {
   "cell_type": "code",
   "execution_count": 76,
   "metadata": {
    "collapsed": false
   },
   "outputs": [
    {
     "data": {
      "text/plain": [
       "bucket_name                    0\n",
       "calendars                      0\n",
       "decision                       0\n",
       "discount_agreed              705\n",
       "discount_asked                 0\n",
       "host_acceptance_rate          56\n",
       "host_id                        0\n",
       "host_response_rate            20\n",
       "host_total_listings_count      0\n",
       "id                             0\n",
       "instant_bookable               0\n",
       "nightly_price                  0\n",
       "percent_agreed               703\n",
       "price_agreed                 573\n",
       "price_requested              283\n",
       "room_type                      0\n",
       "source                         0\n",
       "dtype: int64"
      ]
     },
     "execution_count": 76,
     "metadata": {},
     "output_type": "execute_result"
    }
   ],
   "source": [
    "combined.isnull().sum()"
   ]
  },
  {
   "cell_type": "markdown",
   "metadata": {},
   "source": [
    "#### 1.2 Add useful independent variables"
   ]
  },
  {
   "cell_type": "markdown",
   "metadata": {},
   "source": [
    "Add variables from the calendars:\n",
    "* median price\n",
    "* standard deviation （normalized, using the median price)"
   ]
  },
  {
   "cell_type": "code",
   "execution_count": 77,
   "metadata": {
    "collapsed": false,
    "scrolled": true
   },
   "outputs": [],
   "source": [
    "calendar_price =  np.array([(np.median(calendar[\"price_USD\"].values()), np.std(calendar[\"price_USD\"].values()), np.max(calendar[\"price_USD\"].values())) \n",
    "                            for calendar in combined[\"calendars\"].values])\n",
    "calendar_median_price = calendar_price[:,0]\n",
    "calendar_price_std = calendar_price[:,1]\n",
    "calendar_price_high = calendar_price[:,2]\n",
    "\n",
    "combined[\"price_median\"]=calendar_median_price\n",
    "combined[\"price_std\"]=calendar_price_std/calendar_median_price\n",
    "combined[\"orig_percent_off\"]=1-combined[\"nightly_price\"]/calendar_price_high"
   ]
  },
  {
   "cell_type": "markdown",
   "metadata": {},
   "source": [
    "* 1-month occupancy rate"
   ]
  },
  {
   "cell_type": "code",
   "execution_count": 78,
   "metadata": {
    "collapsed": false
   },
   "outputs": [],
   "source": [
    "key_1m = map(str, range(30))\n",
    "calendar_occupancy = [np.mean([calendar[\"availability\"][key] for key in key_1m]) for calendar in combined[\"calendars\"].values]\n",
    "\n",
    "combined[\"occupancy_1m\"]=calendar_occupancy"
   ]
  },
  {
   "cell_type": "markdown",
   "metadata": {},
   "source": [
    "Convert string variables to numeric:\n",
    "* whether room will be shared\n",
    "* whether instant booking is turned on\n",
    "* the response rate of the host (contains nans)"
   ]
  },
  {
   "cell_type": "code",
   "execution_count": 79,
   "metadata": {
    "collapsed": false
   },
   "outputs": [],
   "source": [
    "shared = combined[\"room_type\"].values\n",
    "combined[\"shared\"] = [x!=\"Entire home/apt\" for x in shared]\n",
    "# shared_binary\n",
    "\n",
    "instant = combined[\"instant_bookable\"].values\n",
    "combined[\"instant\"] = [x==\"t\" for x in shared]\n",
    "# instant_binary"
   ]
  },
  {
   "cell_type": "code",
   "execution_count": 80,
   "metadata": {
    "collapsed": false
   },
   "outputs": [
    {
     "name": "stderr",
     "output_type": "stream",
     "text": [
      "/Users/fqian/anaconda/lib/python2.7/site-packages/sklearn/utils/validation.py:386: DeprecationWarning: Passing 1d arrays as data is deprecated in 0.17 and willraise ValueError in 0.19. Reshape your data either using X.reshape(-1, 1) if your data has a single feature or X.reshape(1, -1) if it contains a single sample.\n",
      "  DeprecationWarning)\n"
     ]
    }
   ],
   "source": [
    "response_imputer = Imputer(copy=True, missing_values='NaN', strategy='mean', axis=1)\n",
    "response_num = np.array([float(response_rate.strip('%'))/100 for response_rate in combined[\"host_response_rate\"].fillna(value=\"-100%\").values])\n",
    "response_num = np.array([np.nan if x < 0 else x for x in response_num])\n",
    "# response_imputer.fit(response_num)\n",
    "response_imputed = response_imputer.fit_transform(response_num)[0]\n",
    "\n",
    "# print len(response_imputed)\n",
    "combined[\"response_rate\"] = response_imputed"
   ]
  },
  {
   "cell_type": "markdown",
   "metadata": {},
   "source": [
    "#### 1.3 Add indicators for the buckets\n",
    "\n",
    "Construct 11 variables: 3 types of orphans, 2 types of advances, and 3x2=6 types of interactions"
   ]
  },
  {
   "cell_type": "code",
   "execution_count": 81,
   "metadata": {
    "collapsed": false
   },
   "outputs": [],
   "source": [
    "opening_attr = combined[\"bucket_name\"].values\n",
    "# orphan = []\n",
    "# advance = []\n",
    "N = len(opening_attr)\n",
    "orp_1 = np.zeros(N)\n",
    "orp_2 = np.zeros(N)\n",
    "orp_3 = np.zeros(N)\n",
    "adv_1 = np.zeros(N)\n",
    "adv_2 = np.zeros(N)\n",
    "\n",
    "for (i,x) in enumerate(opening_attr):\n",
    "    if x == \"days1_weeks1\":\n",
    "        orp_1[i] = 1\n",
    "        orp_2[i] = 0\n",
    "        orp_3[i] = 0\n",
    "        adv_1[i] = 1\n",
    "        adv_2[i] = 0\n",
    "    elif x == \"days1_weeks2\":\n",
    "        orp_1[i] = 1\n",
    "        orp_2[i] = 0\n",
    "        orp_3[i] = 0\n",
    "        adv_1[i] = 0\n",
    "        adv_2[i] = 1\n",
    "    elif x == \"days1_weeksM\":\n",
    "        orp_1[i] = 1\n",
    "        orp_2[i] = 0\n",
    "        orp_3[i] = 0\n",
    "        adv_1[i] = 0\n",
    "        adv_2[i] = 0\n",
    "    elif x == \"days2_weeks1\":\n",
    "        orp_1[i] = 0\n",
    "        orp_2[i] = 1\n",
    "        orp_3[i] = 0\n",
    "        adv_1[i] = 1\n",
    "        adv_2[i] = 0\n",
    "    elif x == \"days2_weeks2\":\n",
    "        orp_1[i] = 0\n",
    "        orp_2[i] = 1\n",
    "        orp_3[i] = 0\n",
    "        adv_1[i] = 0\n",
    "        adv_2[i] = 1\n",
    "    elif x == \"days2_weeksM\":\n",
    "        orp_1[i] = 0\n",
    "        orp_2[i] = 1\n",
    "        orp_3[i] = 0\n",
    "        adv_1[i] = 0\n",
    "        adv_2[i] = 0\n",
    "    elif x == \"days3_weeks1\":\n",
    "        orp_1[i] = 0\n",
    "        orp_2[i] = 0\n",
    "        orp_3[i] = 1\n",
    "        adv_1[i] = 1\n",
    "        adv_2[i] = 0\n",
    "    elif x == \"days3_weeks2\":\n",
    "        orp_1[i] = 0\n",
    "        orp_2[i] = 0\n",
    "        orp_3[i] = 1\n",
    "        adv_1[i] = 0\n",
    "        adv_2[i] = 1\n",
    "    elif x == \"days3_weeksM\":\n",
    "        orp_1[i] = 0\n",
    "        orp_2[i] = 0\n",
    "        orp_3[i] = 1\n",
    "        adv_1[i] = 0\n",
    "        adv_2[i] = 0\n",
    "    elif x == \"daysM_weeks1\":\n",
    "        orp_1[i] = 0\n",
    "        orp_2[i] = 0\n",
    "        orp_3[i] = 0\n",
    "        adv_1[i] = 1\n",
    "        adv_2[i] = 0\n",
    "    elif x == \"daysM_weeks2\":\n",
    "        orp_1[i] = 0\n",
    "        orp_2[i] = 0\n",
    "        orp_3[i] = 0\n",
    "        adv_1[i] = 0\n",
    "        adv_2[i] = 1\n",
    "    elif x == \"daysM_weeksM\":\n",
    "        orp_1[i] = 0\n",
    "        orp_2[i] = 0\n",
    "        orp_3[i] = 0\n",
    "        adv_1[i] = 0\n",
    "        adv_2[i] = 0\n",
    "        \n",
    "combined[\"orp_1\"]=orp_1\n",
    "combined[\"orp_2\"]=orp_2\n",
    "combined[\"orp_3\"]=orp_3\n",
    "combined[\"adv_1\"]=adv_1\n",
    "combined[\"adv_2\"]=adv_2"
   ]
  },
  {
   "cell_type": "code",
   "execution_count": 82,
   "metadata": {
    "collapsed": false
   },
   "outputs": [],
   "source": [
    "combined[\"orp_1, adv_1\"] = combined[\"orp_1\"]*combined[\"adv_1\"]\n",
    "combined[\"orp_1, adv_2\"] = combined[\"orp_1\"]*combined[\"adv_2\"]\n",
    "combined[\"orp_2, adv_1\"] = combined[\"orp_2\"]*combined[\"adv_1\"]\n",
    "combined[\"orp_2, adv_2\"] = combined[\"orp_2\"]*combined[\"adv_2\"]\n",
    "combined[\"orp_3, adv_1\"] = combined[\"orp_3\"]*combined[\"adv_1\"]\n",
    "combined[\"orp_3, adv_2\"] = combined[\"orp_3\"]*combined[\"adv_2\"]"
   ]
  },
  {
   "cell_type": "code",
   "execution_count": 83,
   "metadata": {
    "collapsed": false
   },
   "outputs": [
    {
     "data": {
      "text/plain": [
       "Index([              u'bucket_name',                 u'calendars',\n",
       "                        u'decision',           u'discount_agreed',\n",
       "                  u'discount_asked',      u'host_acceptance_rate',\n",
       "                         u'host_id',        u'host_response_rate',\n",
       "       u'host_total_listings_count',                        u'id',\n",
       "                u'instant_bookable',             u'nightly_price',\n",
       "                  u'percent_agreed',              u'price_agreed',\n",
       "                 u'price_requested',                 u'room_type',\n",
       "                          u'source',              u'price_median',\n",
       "                       u'price_std',          u'orig_percent_off',\n",
       "                    u'occupancy_1m',                    u'shared',\n",
       "                         u'instant',             u'response_rate',\n",
       "                           u'orp_1',                     u'orp_2',\n",
       "                           u'orp_3',                     u'adv_1',\n",
       "                           u'adv_2',              u'orp_1, adv_1',\n",
       "                    u'orp_1, adv_2',              u'orp_2, adv_1',\n",
       "                    u'orp_2, adv_2',              u'orp_3, adv_1',\n",
       "                    u'orp_3, adv_2'],\n",
       "      dtype='object')"
      ]
     },
     "execution_count": 83,
     "metadata": {},
     "output_type": "execute_result"
    }
   ],
   "source": [
    "combined.columns"
   ]
  },
  {
   "cell_type": "markdown",
   "metadata": {},
   "source": [
    "#### 1.4 Process the decision variables:\n",
    "\n",
    "Calculate the percentage of the discount agreed:"
   ]
  },
  {
   "cell_type": "code",
   "execution_count": 94,
   "metadata": {
    "collapsed": false
   },
   "outputs": [
    {
     "data": {
      "text/plain": [
       "decision\n",
       "-1    0.471751\n",
       " 0    0.316384\n",
       " 1    0.211864\n",
       "Name: id, dtype: float64"
      ]
     },
     "execution_count": 94,
     "metadata": {},
     "output_type": "execute_result"
    }
   ],
   "source": [
    "combined.groupby(\"decision\")[\"id\"].count()/len(combined)"
   ]
  },
  {
   "cell_type": "code",
   "execution_count": 95,
   "metadata": {
    "collapsed": false
   },
   "outputs": [],
   "source": [
    "orig_price = combined[\"nightly_price\"]\n",
    "price_agreed_percent = (np.nan_to_num(combined[\"price_agreed\"])/orig_price)\n",
    "discount_agreed1 = [0 if (d>=1 or d==0) else 1-d for d in price_agreed_percent]\n",
    "discount_agreed2 = np.nan_to_num(combined[\"discount_agreed\"]/orig_price)\n",
    "discount_agreed3 = np.nan_to_num(combined[\"percent_agreed\"])\n",
    "\n",
    "discount_obtained = np.max([discount_agreed1, discount_agreed2, discount_agreed3], axis=0)\n",
    "# print discount_agreed\n",
    "\n",
    "combined[\"discount_obtained\"] = discount_obtained"
   ]
  },
  {
   "cell_type": "markdown",
   "metadata": {},
   "source": [
    "#### 1.5 Again, only keep the useful columns"
   ]
  },
  {
   "cell_type": "code",
   "execution_count": 96,
   "metadata": {
    "collapsed": false
   },
   "outputs": [
    {
     "data": {
      "text/plain": [
       "Index([              u'bucket_name',                 u'calendars',\n",
       "                        u'decision',           u'discount_agreed',\n",
       "                  u'discount_asked',      u'host_acceptance_rate',\n",
       "                         u'host_id',        u'host_response_rate',\n",
       "       u'host_total_listings_count',                        u'id',\n",
       "                u'instant_bookable',             u'nightly_price',\n",
       "                  u'percent_agreed',              u'price_agreed',\n",
       "                 u'price_requested',                 u'room_type',\n",
       "                          u'source',              u'price_median',\n",
       "                       u'price_std',          u'orig_percent_off',\n",
       "                    u'occupancy_1m',                    u'shared',\n",
       "                         u'instant',             u'response_rate',\n",
       "                           u'orp_1',                     u'orp_2',\n",
       "                           u'orp_3',                     u'adv_1',\n",
       "                           u'adv_2',              u'orp_1, adv_1',\n",
       "                    u'orp_1, adv_2',              u'orp_2, adv_1',\n",
       "                    u'orp_2, adv_2',              u'orp_3, adv_1',\n",
       "                    u'orp_3, adv_2',         u'discount_obtained'],\n",
       "      dtype='object')"
      ]
     },
     "execution_count": 96,
     "metadata": {},
     "output_type": "execute_result"
    }
   ],
   "source": [
    "combined.columns"
   ]
  },
  {
   "cell_type": "code",
   "execution_count": 97,
   "metadata": {
    "collapsed": true
   },
   "outputs": [],
   "source": [
    "combined_clean = combined[[\"host_total_listings_count\", \"response_rate\", \"instant\", \"shared\", \n",
    "                               \"price_median\", \"price_std\", \"occupancy_1m\",\n",
    "                               \"orp_1\", \"orp_2\", \"orp_3\", \"adv_1\", \"adv_2\", \n",
    "                               \"orp_1, adv_1\", \"orp_1, adv_2\", \"orp_2, adv_1\", \"orp_2, adv_2\", \"orp_3, adv_1\", \"orp_3, adv_2\",\n",
    "                               \"orig_percent_off\", \"discount_asked\", \"decision\", \"discount_obtained\", \"source\"]]"
   ]
  },
  {
   "cell_type": "code",
   "execution_count": 98,
   "metadata": {
    "collapsed": false
   },
   "outputs": [
    {
     "data": {
      "text/html": [
       "<div>\n",
       "<table border=\"1\" class=\"dataframe\">\n",
       "  <thead>\n",
       "    <tr style=\"text-align: right;\">\n",
       "      <th></th>\n",
       "      <th>host_total_listings_count</th>\n",
       "      <th>response_rate</th>\n",
       "      <th>instant</th>\n",
       "      <th>shared</th>\n",
       "      <th>price_median</th>\n",
       "      <th>price_std</th>\n",
       "      <th>occupancy_1m</th>\n",
       "      <th>orp_1</th>\n",
       "      <th>orp_2</th>\n",
       "      <th>orp_3</th>\n",
       "      <th>...</th>\n",
       "      <th>orp_1, adv_2</th>\n",
       "      <th>orp_2, adv_1</th>\n",
       "      <th>orp_2, adv_2</th>\n",
       "      <th>orp_3, adv_1</th>\n",
       "      <th>orp_3, adv_2</th>\n",
       "      <th>orig_percent_off</th>\n",
       "      <th>discount_asked</th>\n",
       "      <th>decision</th>\n",
       "      <th>discount_obtained</th>\n",
       "      <th>source</th>\n",
       "    </tr>\n",
       "  </thead>\n",
       "  <tbody>\n",
       "    <tr>\n",
       "      <th>0</th>\n",
       "      <td>1</td>\n",
       "      <td>1</td>\n",
       "      <td>False</td>\n",
       "      <td>True</td>\n",
       "      <td>45</td>\n",
       "      <td>0.090351</td>\n",
       "      <td>0.433333</td>\n",
       "      <td>0</td>\n",
       "      <td>0</td>\n",
       "      <td>0</td>\n",
       "      <td>...</td>\n",
       "      <td>0</td>\n",
       "      <td>0</td>\n",
       "      <td>0</td>\n",
       "      <td>0</td>\n",
       "      <td>0</td>\n",
       "      <td>0.055556</td>\n",
       "      <td>0.7</td>\n",
       "      <td>0</td>\n",
       "      <td>0</td>\n",
       "      <td>1</td>\n",
       "    </tr>\n",
       "    <tr>\n",
       "      <th>1</th>\n",
       "      <td>1</td>\n",
       "      <td>1</td>\n",
       "      <td>False</td>\n",
       "      <td>False</td>\n",
       "      <td>106</td>\n",
       "      <td>0.144629</td>\n",
       "      <td>0.700000</td>\n",
       "      <td>1</td>\n",
       "      <td>0</td>\n",
       "      <td>0</td>\n",
       "      <td>...</td>\n",
       "      <td>0</td>\n",
       "      <td>0</td>\n",
       "      <td>0</td>\n",
       "      <td>0</td>\n",
       "      <td>0</td>\n",
       "      <td>0.000000</td>\n",
       "      <td>0.7</td>\n",
       "      <td>-1</td>\n",
       "      <td>0</td>\n",
       "      <td>1</td>\n",
       "    </tr>\n",
       "    <tr>\n",
       "      <th>2</th>\n",
       "      <td>5</td>\n",
       "      <td>1</td>\n",
       "      <td>False</td>\n",
       "      <td>True</td>\n",
       "      <td>46</td>\n",
       "      <td>0.021650</td>\n",
       "      <td>0.366667</td>\n",
       "      <td>0</td>\n",
       "      <td>0</td>\n",
       "      <td>1</td>\n",
       "      <td>...</td>\n",
       "      <td>0</td>\n",
       "      <td>0</td>\n",
       "      <td>0</td>\n",
       "      <td>1</td>\n",
       "      <td>0</td>\n",
       "      <td>0.108696</td>\n",
       "      <td>0.9</td>\n",
       "      <td>-1</td>\n",
       "      <td>0</td>\n",
       "      <td>1</td>\n",
       "    </tr>\n",
       "    <tr>\n",
       "      <th>3</th>\n",
       "      <td>2</td>\n",
       "      <td>1</td>\n",
       "      <td>False</td>\n",
       "      <td>False</td>\n",
       "      <td>120</td>\n",
       "      <td>0.095207</td>\n",
       "      <td>0.500000</td>\n",
       "      <td>0</td>\n",
       "      <td>1</td>\n",
       "      <td>0</td>\n",
       "      <td>...</td>\n",
       "      <td>0</td>\n",
       "      <td>1</td>\n",
       "      <td>0</td>\n",
       "      <td>0</td>\n",
       "      <td>0</td>\n",
       "      <td>0.246269</td>\n",
       "      <td>0.7</td>\n",
       "      <td>-1</td>\n",
       "      <td>0</td>\n",
       "      <td>1</td>\n",
       "    </tr>\n",
       "    <tr>\n",
       "      <th>4</th>\n",
       "      <td>1</td>\n",
       "      <td>1</td>\n",
       "      <td>False</td>\n",
       "      <td>True</td>\n",
       "      <td>65</td>\n",
       "      <td>0.000000</td>\n",
       "      <td>0.933333</td>\n",
       "      <td>0</td>\n",
       "      <td>0</td>\n",
       "      <td>0</td>\n",
       "      <td>...</td>\n",
       "      <td>0</td>\n",
       "      <td>0</td>\n",
       "      <td>0</td>\n",
       "      <td>0</td>\n",
       "      <td>0</td>\n",
       "      <td>0.000000</td>\n",
       "      <td>0.6</td>\n",
       "      <td>0</td>\n",
       "      <td>0</td>\n",
       "      <td>1</td>\n",
       "    </tr>\n",
       "  </tbody>\n",
       "</table>\n",
       "<p>5 rows × 23 columns</p>\n",
       "</div>"
      ],
      "text/plain": [
       "   host_total_listings_count  response_rate instant shared  price_median  \\\n",
       "0                          1              1   False   True            45   \n",
       "1                          1              1   False  False           106   \n",
       "2                          5              1   False   True            46   \n",
       "3                          2              1   False  False           120   \n",
       "4                          1              1   False   True            65   \n",
       "\n",
       "   price_std  occupancy_1m  orp_1  orp_2  orp_3   ...    orp_1, adv_2  \\\n",
       "0   0.090351      0.433333      0      0      0   ...               0   \n",
       "1   0.144629      0.700000      1      0      0   ...               0   \n",
       "2   0.021650      0.366667      0      0      1   ...               0   \n",
       "3   0.095207      0.500000      0      1      0   ...               0   \n",
       "4   0.000000      0.933333      0      0      0   ...               0   \n",
       "\n",
       "   orp_2, adv_1  orp_2, adv_2  orp_3, adv_1  orp_3, adv_2  orig_percent_off  \\\n",
       "0             0             0             0             0          0.055556   \n",
       "1             0             0             0             0          0.000000   \n",
       "2             0             0             1             0          0.108696   \n",
       "3             1             0             0             0          0.246269   \n",
       "4             0             0             0             0          0.000000   \n",
       "\n",
       "   discount_asked  decision  discount_obtained  source  \n",
       "0             0.7         0                  0       1  \n",
       "1             0.7        -1                  0       1  \n",
       "2             0.9        -1                  0       1  \n",
       "3             0.7        -1                  0       1  \n",
       "4             0.6         0                  0       1  \n",
       "\n",
       "[5 rows x 23 columns]"
      ]
     },
     "execution_count": 98,
     "metadata": {},
     "output_type": "execute_result"
    }
   ],
   "source": [
    "combined_clean.head()"
   ]
  },
  {
   "cell_type": "markdown",
   "metadata": {},
   "source": [
    "## 2. Construct training samples\n",
    "\n",
    "For studying whether hosts are negotiable, we consider 2 types of acceptance rate:\n",
    "\n",
    "* Accepted / (Accepted + Rejected)\n",
    "* Accepted / (Accepted + Rejected + No Response)\n",
    "\n",
    "For studying how much discounts each host is willing to give, we only include hosts that gave a discount percentage.\n",
    "\n",
    "And, for each study, the discount asked may or may not be an important factor- we will see."
   ]
  },
  {
   "cell_type": "code",
   "execution_count": 214,
   "metadata": {
    "collapsed": false
   },
   "outputs": [],
   "source": [
    "mask_available = combined_clean[\"decision\"] != -1 \n",
    "mask_agreed = combined_clean[\"decision\"] == 1 \n",
    "mask_no_source1 = combined_clean[\"source\"] != 1\n",
    "\n",
    "combined_available = combined_clean[mask_available]\n",
    "combined_agreed = combined_clean[mask_agreed * mask_no_source1]\n",
    "\n",
    "cal_param = [\"orp_1\", \"orp_2\", \"orp_3\", \"adv_1\", \"adv_2\", \"orp_1, adv_1\", \"orp_1, adv_2\", \"orp_2, adv_1\", \"orp_2, adv_2\", \"orp_3, adv_1\", \"orp_3, adv_2\"]\n",
    "host_param = [\"orig_percent_off\", \"host_total_listings_count\", \"response_rate\", \"instant\", \"shared\",  \"price_median\", \"price_std\", \"occupancy_1m\"]\n",
    "param = cal_param + host_param + [\"discount_asked\"]\n",
    "param_noda = cal_param + host_param\n",
    "\n",
    "X_willing = combined_available[param].values\n",
    "X_willing_noda = combined_available[param_noda].values\n",
    "Y_willing = combined_available[\"decision\"].values\n",
    "\n",
    "X_willing_all = combined_clean[param].values\n",
    "X_willing_all_noda = combined_clean[param_noda].values\n",
    "Y_willing_all = combined_clean[\"decision\"].values \n",
    "Y_willing_all = np.max(zip(Y_willing_all,np.zeros(len(Y_willing_all))), axis=1)\n",
    "\n",
    "X_discount = combined_agreed[param].values\n",
    "X_discount_noda = combined_agreed[param_noda].values\n",
    "Y_discount = combined_agreed[\"discount_obtained\"].values"
   ]
  },
  {
   "cell_type": "code",
   "execution_count": 216,
   "metadata": {
    "collapsed": false
   },
   "outputs": [
    {
     "name": "stdout",
     "output_type": "stream",
     "text": [
      "(374, 20)\n",
      "(374, 19)\n",
      "(374,)\n",
      "(708, 20)\n",
      "(708, 19)\n",
      "(708,)\n",
      "(113, 20)\n",
      "(113, 19)\n",
      "(113,)\n"
     ]
    }
   ],
   "source": [
    "print X_willing.shape\n",
    "print X_willing_noda.shape\n",
    "print Y_willing.shape\n",
    "\n",
    "print X_willing_all.shape\n",
    "print X_willing_all_noda.shape\n",
    "print Y_willing_all.shape\n",
    "\n",
    "print X_discount.shape\n",
    "print X_discount_noda.shape\n",
    "print Y_discount.shape"
   ]
  },
  {
   "cell_type": "code",
   "execution_count": 256,
   "metadata": {
    "collapsed": true
   },
   "outputs": [],
   "source": [
    "param_label = [\"1-day orphan\", \"2-day orphan\", \"3-day_orphan\", \"Within 1 week\", \"1-2 weeks in advance\", \n",
    "               \"1-day orphan within 1 week\", \"1-day orphan 1-2 weeks in advance\", \n",
    "               \"2-day orphan within 1 week\", \"2-day orphan 1-2 weeks in advance\", \n",
    "               \"3-day orphan within 1 week\", \"3-day orphan 1-2 weeks in advance\", \n",
    "               \"Percent off highest price\", \"Host listing count\", \"Host response rate\", \n",
    "               \"Instant bookable\", \"Space shared with host\", \"Usual price\", \"Price variation\", \"1-month occupancy\", \n",
    "               \"Discount asked\"]\n",
    "param_label_noda = param_label[:-1]"
   ]
  },
  {
   "cell_type": "markdown",
   "metadata": {},
   "source": [
    "## 3. Model Fitting and Prediction\n",
    "\n",
    "\n",
    "### 3.1 Acceptance rate as Accepted / (Accepted + Rejected)"
   ]
  },
  {
   "cell_type": "markdown",
   "metadata": {},
   "source": [
    "#### Random Forest: Accuracy\n",
    "\n",
    "Ensemble methods: http://scikit-learn.org/stable/modules/ensemble.html\n",
    "* random sample (with replacement)\n",
    "* random feature\n",
    "* average probablistic prediction\n",
    "\n",
    "with \"discount asked\""
   ]
  },
  {
   "cell_type": "code",
   "execution_count": 272,
   "metadata": {
    "collapsed": false
   },
   "outputs": [],
   "source": [
    "def model_fitting(name, clf, X, Y, label=param_label_noda, fold=10):\n",
    "    clf.fit(X,Y)\n",
    "    cv_scores = -cross_val_score(clf, X, Y, scoring='mean_squared_error', cv=fold)\n",
    "    print \"Average Cross Validation Accuracy: \\n\", 1-np.mean(cv_scores)\n",
    "    print \"Cross Validation Accuracies by Fold: \\n\", 1 - np.array(cv_scores)\n",
    "    \n",
    "    if name==\"rf\":\n",
    "        importances = clf.feature_importances_\n",
    "        std = np.std([tree.feature_importances_ for tree in clf.estimators_],\n",
    "                     axis=0)\n",
    "        indices = np.argsort(importances)[::1]\n",
    "        param_label_sorted = [label[ind] for ind in indices]\n",
    "\n",
    "        # Print the feature ranking\n",
    "        # print(\"Feature ranking:\")\n",
    "\n",
    "        # for f in range(X.shape[1]):\n",
    "            # print(\"%d. %s (feature %d, importance: %f)\" % (f + 1, param_label[indices[f]], indices[f], importances[indices[f]]))\n",
    "\n",
    "        # Plot the feature importances of the forest\n",
    "        plt.figure(figsize=(16,10))\n",
    "        plt.title(\"Feature Importance\", fontsize=30)\n",
    "        plt.barh(range(X.shape[1]), importances[indices],color=\"green\", align=\"center\")\n",
    "        # plt.axvline(x=0.05, color=\"red\", ls=\"--\")\n",
    "        plt.yticks(range(X.shape[1]), param_label_sorted,  fontsize=16)\n",
    "        plt.xticks(fontsize=16)\n",
    "        plt.ylim([-1, X.shape[1]])\n",
    "        plt.xlim([0,0.25])\n",
    "        plt.grid(False)\n",
    "        plt.show()\n",
    "    \n",
    "    if name==\"lr\":\n",
    "        print \"Coefficients: \\n\"\n",
    "        return zip(param_label_noda, np.ravel(clf.coef_))"
   ]
  },
  {
   "cell_type": "code",
   "execution_count": 273,
   "metadata": {
    "collapsed": false
   },
   "outputs": [
    {
     "name": "stdout",
     "output_type": "stream",
     "text": [
      "Average Cross Validation Accuracy: \n",
      "0.579800853485\n",
      "Cross Validation Accuracies by Fold: \n",
      "[ 0.57894737  0.63157895  0.60526316  0.65789474  0.51351351  0.48648649\n",
      "  0.56756757  0.56756757  0.67567568  0.51351351]\n"
     ]
    },
    {
     "data": {
      "image/png": "[encoded data removed]",
      "text/plain": [
       "<matplotlib.figure.Figure at 0x1197c0510>"
      ]
     },
     "metadata": {},
     "output_type": "display_data"
    }
   ],
   "source": [
    "rf = RandomForestClassifier(n_estimators=1000, \n",
    "                            max_features=int(np.sqrt(X_willing.shape[1])), \n",
    "                            max_depth=None,\n",
    "                            min_samples_split=1)\n",
    "model_fitting(\"rf\", rf, X_willing_noda, Y_willing)"
   ]
  },
  {
   "cell_type": "code",
   "execution_count": 274,
   "metadata": {
    "collapsed": false
   },
   "outputs": [
    {
     "name": "stdout",
     "output_type": "stream",
     "text": [
      "Average Cross Validation Accuracy: \n",
      "0.606685633001\n",
      "Cross Validation Accuracies by Fold: \n",
      "[ 0.57894737  0.63157895  0.57894737  0.73684211  0.59459459  0.56756757\n",
      "  0.62162162  0.56756757  0.59459459  0.59459459]\n",
      "Coefficients: \n",
      "\n"
     ]
    },
    {
     "data": {
      "text/plain": [
       "[('1-day orphan', -0.058816605868184664),\n",
       " ('2-day orphan', -0.022026429530236358),\n",
       " ('3-day_orphan', 0.40070746223906578),\n",
       " ('ithin 1 week', 0.097515398002362044),\n",
       " ('1-2 weeks in advance', 0.22496053788570072),\n",
       " ('1-day orphan within 1 week', -0.3447817229049106),\n",
       " ('1-day orphan 1-2 weeks in advance', 0.54910275351322912),\n",
       " ('2-day orphan within 1 week', 0.1798730370351164),\n",
       " ('2-day orphan 1-2 weeks in advance', 0.36023068835843464),\n",
       " ('3-day orphan within 1 week', -0.59735200540928957),\n",
       " ('3-day orphan 1-2 weeks in advance', -0.081993508482559971),\n",
       " ('Percent off highest price', -0.30390598119855189),\n",
       " ('Host listing count', -0.073482731278795718),\n",
       " ('Host response rate', -0.27083788450742963),\n",
       " ('Instant bookable', 0.0),\n",
       " ('Space shared with host', -0.1289050500607655),\n",
       " ('Usual price', 0.003334853642280883),\n",
       " ('Price variation', -0.4712212614361766),\n",
       " ('1-month occupancy', -0.75552151527434319)]"
      ]
     },
     "execution_count": 274,
     "metadata": {},
     "output_type": "execute_result"
    }
   ],
   "source": [
    "lr = LogisticRegression()\n",
    "model_fitting(\"lr\", lr, X_willing_noda, Y_willing)"
   ]
  },
  {
   "cell_type": "code",
   "execution_count": 217,
   "metadata": {
    "collapsed": false,
    "scrolled": true
   },
   "outputs": [
    {
     "name": "stdout",
     "output_type": "stream",
     "text": [
      "Average Cross Validation Accuracy: \n",
      "0.56372688478\n",
      "Cross Validation Accuracies by Fold: \n",
      "[ 0.57894737  0.65789474  0.57894737  0.60526316  0.51351351  0.43243243\n",
      "  0.59459459  0.56756757  0.62162162  0.48648649]\n"
     ]
    }
   ],
   "source": [
    "rf = RandomForestClassifier(n_estimators=1000, \n",
    "                            max_features=int(np.sqrt(X_willing.shape[1])), \n",
    "                            max_depth=None,\n",
    "                            min_samples_split=1)\n",
    "rf.fit(X_willing, Y_willing)\n",
    "\n",
    "rf_scores = -cross_val_score(rf, X_willing, Y_willing, scoring='mean_squared_error', cv=10)\n",
    "print \"Average Cross Validation Accuracy: \\n\", 1-np.mean(rf_scores)\n",
    "print \"Cross Validation Accuracies by Fold: \\n\", 1 - np.array(rf_scores)"
   ]
  },
  {
   "cell_type": "markdown",
   "metadata": {},
   "source": [
    "without \"discount asked\""
   ]
  },
  {
   "cell_type": "code",
   "execution_count": 218,
   "metadata": {
    "collapsed": false
   },
   "outputs": [
    {
     "name": "stdout",
     "output_type": "stream",
     "text": [
      "Average Cross Validation Accuracy: \n",
      "0.577311522048\n",
      "Cross Validation Accuracies by Fold: \n",
      "[ 0.57894737  0.63157895  0.55263158  0.63157895  0.51351351  0.51351351\n",
      "  0.59459459  0.56756757  0.64864865  0.54054054]\n"
     ]
    }
   ],
   "source": [
    "rf_noda = RandomForestClassifier(n_estimators=1000, \n",
    "                                 max_features=int(np.sqrt(X_willing_noda.shape[1])), \n",
    "                                 max_depth=None,\n",
    "                                 min_samples_split=1)\n",
    "rf_noda.fit(X_willing_noda, Y_train_willing)\n",
    "\n",
    "rf_noda_scores = -cross_val_score(rf_noda, X_willing_noda, Y_willing, scoring='mean_squared_error', cv=10)\n",
    "print \"Average Cross Validation Accuracy: \\n\", 1-np.mean(rf_noda_scores)\n",
    "print \"Cross Validation Accuracies by Fold: \\n\", 1 - np.array(rf_noda_scores)"
   ]
  },
  {
   "cell_type": "markdown",
   "metadata": {},
   "source": [
    "#### Random Forest: Feature Importance\n",
    "\n",
    "In scikit-learn, we implement the importance as described in [1]. It is sometimes called \"gini importance\" or \"mean decrease impurity\" and is defined as the total decrease in node impurity (weighted by the probability of reaching that node (which is approximated by the proportion of samples reaching that node)) averaged over all trees of the ensemble.\n",
    "\n",
    "[1]: Breiman, Friedman, \"Classification and regression trees\", 1984."
   ]
  },
  {
   "cell_type": "code",
   "execution_count": 250,
   "metadata": {
    "collapsed": false
   },
   "outputs": [
    {
     "name": "stdout",
     "output_type": "stream",
     "text": [
      "Feature ranking:\n",
      "1. Instant bookable (feature 14, importance: 0.000000)\n",
      "2. 3-day orphan 1-2 weeks in advance (feature 10, importance: 0.007759)\n",
      "3. 1-day orphan within 1 week (feature 5, importance: 0.008550)\n",
      "4. 1-day orphan 1-2 weeks in advance (feature 6, importance: 0.010001)\n",
      "5. 3-day orphan within 1 week (feature 9, importance: 0.010538)\n",
      "6. 2-day orphan 1-2 weeks in advance (feature 8, importance: 0.012010)\n",
      "7. 2-day orphan within 1 week (feature 7, importance: 0.012027)\n",
      "8. 1-day orphan (feature 0, importance: 0.017961)\n",
      "9. 2-day orphan (feature 1, importance: 0.019465)\n",
      "10. 3-day_orphan (feature 2, importance: 0.021489)\n",
      "11. 1-2 weeks in advance (feature 4, importance: 0.022089)\n",
      "12. Within 1 week (feature 3, importance: 0.023788)\n",
      "13. Space shared with host (feature 15, importance: 0.029119)\n",
      "14. Host listing count (feature 12, importance: 0.069314)\n",
      "15. Host response rate (feature 13, importance: 0.090345)\n",
      "16. Percent off highest price (feature 11, importance: 0.125383)\n",
      "17. Price variation (feature 17, importance: 0.144808)\n",
      "18. 1-month occupancy (feature 18, importance: 0.161029)\n",
      "19. Usual price (feature 16, importance: 0.214324)\n"
     ]
    },
    {
     "data": {
      "image/png": "[encoded data removed]",
      "text/plain": [
       "<matplotlib.figure.Figure at 0x112061dd0>"
      ]
     },
     "metadata": {},
     "output_type": "display_data"
    }
   ],
   "source": [
    "rf_noda_importances = rf_noda.feature_importances_\n",
    "std = np.std([tree.feature_importances_ for tree in rf_noda.estimators_],\n",
    "             axis=0)\n",
    "indices = np.argsort(rf_noda_importances)[::1]\n",
    "param_label_sorted = [param_label_noda[ind] for ind in indices]\n",
    "\n",
    "# Print the feature ranking\n",
    "print(\"Feature ranking:\")\n",
    "\n",
    "for f in range(X_willing_noda.shape[1]):\n",
    "    print(\"%d. %s (feature %d, importance: %f)\" % (f + 1, param_label[indices[f]], indices[f], rf_noda_importances[indices[f]]))\n",
    "\n",
    "# Plot the feature importances of the forest\n",
    "plt.figure(figsize=(16,10))\n",
    "plt.title(\"Feature Importance\", fontsize=30)\n",
    "plt.barh(range(X_willing_noda.shape[1]), rf_noda_importances[indices],\n",
    "       color=\"green\", align=\"center\")\n",
    "# plt.axvline(x=0.05, color=\"red\", ls=\"--\")\n",
    "plt.yticks(range(X_willing_noda.shape[1]), param_label_sorted,  fontsize=16)\n",
    "plt.xticks(fontsize=16)\n",
    "plt.ylim([-1, X_willing_noda.shape[1]])\n",
    "plt.xlim([0,0.25])\n",
    "plt.grid(False)\n",
    "plt.show()"
   ]
  },
  {
   "cell_type": "code",
   "execution_count": 251,
   "metadata": {
    "collapsed": false
   },
   "outputs": [
    {
     "name": "stdout",
     "output_type": "stream",
     "text": [
      "Feature ranking:\n",
      "1. price_median (feature 16, importance: 0.199542)\n",
      "2. occupancy_1m (feature 18, importance: 0.148174)\n",
      "3. price_std (feature 17, importance: 0.132372)\n",
      "4. orig_percent_off (feature 11, importance: 0.113621)\n",
      "5. response_rate (feature 13, importance: 0.082916)\n",
      "6. discount_asked (feature 19, importance: 0.069169)\n",
      "7. host_total_listings_count (feature 12, importance: 0.064280)\n",
      "8. shared (feature 15, importance: 0.028902)\n",
      "9. adv_2 (feature 4, importance: 0.021660)\n",
      "10. adv_1 (feature 3, importance: 0.021522)\n",
      "11. orp_3 (feature 2, importance: 0.020881)\n",
      "12. orp_2 (feature 1, importance: 0.019129)\n",
      "13. orp_1 (feature 0, importance: 0.017725)\n",
      "14. orp_2, adv_2 (feature 8, importance: 0.012034)\n",
      "15. orp_2, adv_1 (feature 7, importance: 0.011792)\n",
      "16. orp_3, adv_1 (feature 9, importance: 0.009991)\n",
      "17. orp_1, adv_2 (feature 6, importance: 0.009909)\n",
      "18. orp_1, adv_1 (feature 5, importance: 0.008670)\n",
      "19. orp_3, adv_2 (feature 10, importance: 0.007709)\n",
      "20. instant (feature 14, importance: 0.000000)\n"
     ]
    },
    {
     "data": {
      "image/png": "[encoded data removed]",
      "text/plain": [
       "<matplotlib.figure.Figure at 0x1112a5fd0>"
      ]
     },
     "metadata": {},
     "output_type": "display_data"
    }
   ],
   "source": [
    "rf_importances = rf.feature_importances_\n",
    "std = np.std([tree.feature_importances_ for tree in rf.estimators_],\n",
    "             axis=0)\n",
    "indices = np.argsort(rf_importances)[::-1]\n",
    "param_sorted = [param[ind] for ind in indices]\n",
    "\n",
    "# Print the feature ranking\n",
    "print(\"Feature ranking:\")\n",
    "\n",
    "for f in range(X_willing.shape[1]):\n",
    "    print(\"%d. %s (feature %d, importance: %f)\" % (f + 1, param[indices[f]], indices[f], rf_importances[indices[f]]))\n",
    "\n",
    "# Plot the feature importances of the forest\n",
    "plt.figure(figsize=(16,10))\n",
    "plt.title(\"Feature Importance\", fontsize=36)\n",
    "plt.bar(range(X_willing.shape[1]), rf_importances[indices],\n",
    "       color=\"orange\", yerr=std[indices], align=\"center\")\n",
    "plt.xticks(range(X_willing.shape[1]), param_sorted,  rotation='vertical', fontsize=16)\n",
    "plt.yticks(fontsize=16)\n",
    "plt.xlim([-1, X_willing.shape[1]])\n",
    "plt.ylim([0,0.3])\n",
    "plt.grid(False)\n",
    "plt.show()"
   ]
  },
  {
   "cell_type": "code",
   "execution_count": 240,
   "metadata": {
    "collapsed": false
   },
   "outputs": [
    {
     "name": "stdout",
     "output_type": "stream",
     "text": [
      "Feature ranking:\n",
      "1. price_median (feature 16, importance: 0.214324)\n",
      "2. occupancy_1m (feature 18, importance: 0.161029)\n",
      "3. price_std (feature 17, importance: 0.144808)\n",
      "4. orig_percent_off (feature 11, importance: 0.125383)\n",
      "5. response_rate (feature 13, importance: 0.090345)\n",
      "6. host_total_listings_count (feature 12, importance: 0.069314)\n",
      "7. shared (feature 15, importance: 0.029119)\n",
      "8. adv_1 (feature 3, importance: 0.023788)\n",
      "9. adv_2 (feature 4, importance: 0.022089)\n",
      "10. orp_3 (feature 2, importance: 0.021489)\n",
      "11. orp_2 (feature 1, importance: 0.019465)\n",
      "12. orp_1 (feature 0, importance: 0.017961)\n",
      "13. orp_2, adv_1 (feature 7, importance: 0.012027)\n",
      "14. orp_2, adv_2 (feature 8, importance: 0.012010)\n",
      "15. orp_3, adv_1 (feature 9, importance: 0.010538)\n",
      "16. orp_1, adv_2 (feature 6, importance: 0.010001)\n",
      "17. orp_1, adv_1 (feature 5, importance: 0.008550)\n",
      "18. orp_3, adv_2 (feature 10, importance: 0.007759)\n",
      "19. instant (feature 14, importance: 0.000000)\n"
     ]
    },
    {
     "data": {
      "image/png": "[encoded data removed]",
      "text/plain": [
       "<matplotlib.figure.Figure at 0x11205d690>"
      ]
     },
     "metadata": {},
     "output_type": "display_data"
    }
   ],
   "source": [
    "rf_noda_importances = rf_noda.feature_importances_\n",
    "std = np.std([tree.feature_importances_ for tree in rf_noda.estimators_],\n",
    "             axis=0)\n",
    "indices = np.argsort(rf_noda_importances)[::-1]\n",
    "param_sorted = [param_noda[ind] for ind in indices]\n",
    "\n",
    "# Print the feature ranking\n",
    "print(\"Feature ranking:\")\n",
    "\n",
    "for f in range(X_willing_noda.shape[1]):\n",
    "    print(\"%d. %s (feature %d, importance: %f)\" % (f + 1, param_noda[indices[f]], indices[f], rf_noda_importances[indices[f]]))\n",
    "\n",
    "# Plot the feature importances of the forest\n",
    "plt.figure(figsize=(16,10))\n",
    "plt.title(\"Feature Importance\", fontsize=36)\n",
    "plt.bar(range(X_willing_noda.shape[1]), rf_noda_importances[indices],\n",
    "       color=\"orange\", yerr=std[indices], align=\"center\")\n",
    "plt.axhline(y=0.05, color=\"red\", ls=\"--\")\n",
    "plt.xticks(range(X_willing_noda.shape[1]), param_sorted,  rotation='vertical', fontsize=16)\n",
    "plt.yticks(fontsize=16)\n",
    "plt.xlim([-1, X_willing_noda.shape[1]])\n",
    "plt.ylim([0,0.3])\n",
    "plt.grid(False)\n",
    "plt.show()"
   ]
  },
  {
   "cell_type": "markdown",
   "metadata": {},
   "source": [
    "#### Extremely Randomized Trees (Extra Trees)\n",
    "\n",
    "In extremely randomized trees (see ExtraTreesClassifier and ExtraTreesRegressor classes), randomness goes one step further in the way splits are computed. As in random forests, a random subset of candidate features is used, but instead of looking for the most discriminative thresholds, thresholds are drawn at random for each candidate feature and the best of these randomly-generated thresholds is picked as the splitting rule. This usually allows to reduce the variance of the model a bit more, at the expense of a slightly greater increase in bias\n",
    "\n",
    "Extra Trees is an emsemble method similar to Random Forest, with the following differences:\n",
    "\n",
    "1. When choosing variables at a split, samples are drawn from the entire training set instead of a bootstrap sample of the training set.\n",
    "2. Splits are chosen completely at random from the range of values in the sample at each split.\n",
    "\n",
    "Reference: P. Geurts, D. Ernst., and L. Wehenkel, “Extremely randomized trees”, Machine Learning, 63(1), 3-42, 2006"
   ]
  },
  {
   "cell_type": "code",
   "execution_count": 147,
   "metadata": {
    "collapsed": false
   },
   "outputs": [
    {
     "name": "stdout",
     "output_type": "stream",
     "text": [
      "Average Cross Validation Accuracy: \n",
      "0.539829302987\n",
      "Cross Validation Accuracies by Fold: \n",
      "[ 0.52631579  0.63157895  0.55263158  0.55263158  0.51351351  0.51351351\n",
      "  0.51351351  0.48648649  0.59459459  0.51351351]\n"
     ]
    }
   ],
   "source": [
    "extra_trees = ExtraTreesClassifier(n_estimators=250, max_depth=X_train_willing.shape[1])\n",
    "extra_trees.fit(X_train_willing, Y_train_willing)\n",
    "\n",
    "extra_trees_scores = -cross_val_score(extra_trees, X_train_willing, Y_train_willing, scoring='mean_squared_error', cv=10)\n",
    "print \"Average Cross Validation Accuracy: \\n\", 1-np.mean(extra_trees_scores)\n",
    "print \"Cross Validation Accuracies by Fold: \\n\", 1 - np.array(extra_trees_scores)"
   ]
  },
  {
   "cell_type": "code",
   "execution_count": 201,
   "metadata": {
    "collapsed": false
   },
   "outputs": [
    {
     "name": "stdout",
     "output_type": "stream",
     "text": [
      "Average Cross Validation Accuracy: \n",
      "0.577240398293\n",
      "Cross Validation Accuracies by Fold: \n",
      "[ 0.60526316  0.55263158  0.60526316  0.65789474  0.59459459  0.54054054\n",
      "  0.56756757  0.54054054  0.59459459  0.51351351]\n"
     ]
    }
   ],
   "source": [
    "extra_trees_no_da = ExtraTreesClassifier(n_estimators=250, max_depth=X_train_willing_no_da.shape[1])\n",
    "extra_trees_no_da.fit(X_train_willing_no_da, Y_train_willing)\n",
    "\n",
    "extra_trees_no_da_scores = -cross_val_score(extra_trees_no_da, X_train_willing_no_da, Y_train_willing, scoring='mean_squared_error', cv=10)\n",
    "print \"Average Cross Validation Accuracy: \\n\", 1-np.mean(extra_trees_no_da_scores)\n",
    "print \"Cross Validation Accuracies by Fold: \\n\", 1 - np.array(extra_trees_no_da_scores)"
   ]
  },
  {
   "cell_type": "code",
   "execution_count": 178,
   "metadata": {
    "collapsed": false
   },
   "outputs": [
    {
     "name": "stdout",
     "output_type": "stream",
     "text": [
      "Feature ranking:\n",
      "1. price_median (feature 16, importance: 0.157346)\n",
      "2. occupancy_1m (feature 18, importance: 0.136581)\n",
      "3. price_std (feature 17, importance: 0.123481)\n",
      "4. orig_percent_off (feature 11, importance: 0.106746)\n",
      "5. response_rate (feature 13, importance: 0.095888)\n",
      "6. discount_asked (feature 19, importance: 0.093922)\n",
      "7. host_total_listings_count (feature 12, importance: 0.089679)\n",
      "8. shared (feature 15, importance: 0.039941)\n",
      "9. adv_1 (feature 3, importance: 0.020939)\n",
      "10. adv_2 (feature 4, importance: 0.020717)\n",
      "11. orp_2 (feature 1, importance: 0.020612)\n",
      "12. orp_3 (feature 2, importance: 0.020361)\n",
      "13. orp_1 (feature 0, importance: 0.019696)\n",
      "14. orp_2, adv_1 (feature 7, importance: 0.011206)\n",
      "15. orp_2, adv_2 (feature 8, importance: 0.010804)\n",
      "16. orp_3, adv_1 (feature 9, importance: 0.008688)\n",
      "17. orp_1, adv_2 (feature 6, importance: 0.008538)\n",
      "18. orp_1, adv_1 (feature 5, importance: 0.008023)\n",
      "19. orp_3, adv_2 (feature 10, importance: 0.006831)\n",
      "20. instant (feature 14, importance: 0.000000)\n"
     ]
    },
    {
     "data": {
      "image/png": "[encoded data removed]",
      "text/plain": [
       "<matplotlib.figure.Figure at 0x11a330f90>"
      ]
     },
     "metadata": {},
     "output_type": "display_data"
    }
   ],
   "source": [
    "importances = extra_trees.feature_importances_\n",
    "std = np.std([tree.feature_importances_ for tree in extra_trees.estimators_],\n",
    "             axis=0)\n",
    "indices = np.argsort(importances)[::-1]\n",
    "param_sorted = [param[ind] for ind in indices]\n",
    "\n",
    "# Print the feature ranking\n",
    "print(\"Feature ranking:\")\n",
    "\n",
    "for f in range(X_train_willing.shape[1]):\n",
    "    print(\"%d. %s (feature %d, importance: %f)\" % (f + 1, param[indices[f]], indices[f], importances[indices[f]]))\n",
    "\n",
    "# Plot the feature importances of the forest\n",
    "plt.figure(figsize=(10,8))\n",
    "plt.title(\"Feature importances\")\n",
    "plt.bar(range(X_train_willing.shape[1]), importances[indices],\n",
    "       color=\"orange\", yerr=std[indices], align=\"center\")\n",
    "plt.xticks(range(X_train_willing.shape[1]), param_sorted,  rotation='vertical')\n",
    "plt.xlim([-1, X_train_willing.shape[1]])\n",
    "plt.ylim([0,0.3])\n",
    "plt.grid(False)\n",
    "plt.show()"
   ]
  },
  {
   "cell_type": "markdown",
   "metadata": {},
   "source": [
    "#### Logistic"
   ]
  },
  {
   "cell_type": "code",
   "execution_count": 255,
   "metadata": {
    "collapsed": false
   },
   "outputs": [
    {
     "name": "stdout",
     "output_type": "stream",
     "text": [
      "Average Cross Validation Accuracy: \n",
      "0.606685633001\n",
      "Cross Validation Accuracies by Fold: \n",
      "[ 0.57894737  0.63157895  0.57894737  0.73684211  0.59459459  0.56756757\n",
      "  0.62162162  0.56756757  0.59459459  0.59459459]\n",
      "Coefficients: \n",
      "\n"
     ]
    },
    {
     "data": {
      "text/plain": [
       "[('1-day orphan', -0.058816605868184664),\n",
       " ('2-day orphan', -0.022026429530236358),\n",
       " ('3-day_orphan', 0.40070746223906578),\n",
       " ('Within 1 week', 0.097515398002362044),\n",
       " ('1-2 weeks in advance', 0.22496053788570072),\n",
       " ('1-day orphan within 1 week', -0.3447817229049106),\n",
       " ('1-day orphan 1-2 weeks in advance', 0.54910275351322912),\n",
       " ('2-day orphan within 1 week', 0.1798730370351164),\n",
       " ('2-day orphan 1-2 weeks in advance', 0.36023068835843464),\n",
       " ('3-day orphan within 1 week', -0.59735200540928957),\n",
       " ('3-day orphan 1-2 weeks in advance', -0.081993508482559971),\n",
       " ('Percent off highest price', -0.30390598119855189),\n",
       " ('Host listing count', -0.073482731278795718),\n",
       " ('Host response rate', -0.27083788450742963),\n",
       " ('Instant bookable', 0.0),\n",
       " ('Space shared with host', -0.1289050500607655),\n",
       " ('Usual price', 0.003334853642280883),\n",
       " ('Price variation', -0.4712212614361766),\n",
       " ('1-month occupancy', -0.75552151527434319)]"
      ]
     },
     "execution_count": 255,
     "metadata": {},
     "output_type": "execute_result"
    }
   ],
   "source": [
    "lr_noda = LogisticRegression()\n",
    "lr_noda.fit(X_willing_noda, Y_willing)\n",
    "\n",
    "lr_noda_scores = -cross_val_score(lr, X_willing_noda, Y_willing, scoring='mean_squared_error', cv=10)\n",
    "print \"Average Cross Validation Accuracy: \\n\", 1-np.mean(lr_noda_scores)\n",
    "print \"Cross Validation Accuracies by Fold: \\n\", 1 - np.array(lr_noda_scores)\n",
    "print \"Coefficients: \\n\"\n",
    "zip(param_label_noda, np.ravel(lr_noda.coef_))\n",
    "\n",
    "# print \"Predictions: \\n\", lr.predict(X_train_willing)"
   ]
  },
  {
   "cell_type": "code",
   "execution_count": 254,
   "metadata": {
    "collapsed": false
   },
   "outputs": [
    {
     "name": "stdout",
     "output_type": "stream",
     "text": [
      "Average Cross Validation Accuracy: \n",
      "0.606685633001\n",
      "Cross Validation Accuracies by Fold: \n",
      "[ 0.57894737  0.63157895  0.57894737  0.73684211  0.59459459  0.56756757\n",
      "  0.59459459  0.56756757  0.62162162  0.59459459]\n",
      "Coefficients: \n",
      "\n"
     ]
    },
    {
     "data": {
      "text/plain": [
       "[('orp_1', -0.070869195314944525),\n",
       " ('orp_2', -0.026553168359222761),\n",
       " ('orp_3', 0.39780540860923969),\n",
       " ('adv_1', 0.0851825905656204),\n",
       " ('adv_2', 0.22139010194936498),\n",
       " ('orp_1, adv_1', -0.32879726663631303),\n",
       " ('orp_1, adv_2', 0.55018149583809683),\n",
       " ('orp_2, adv_1', 0.18103653206945122),\n",
       " ('orp_2, adv_2', 0.35946492356044463),\n",
       " ('orp_3, adv_1', -0.59084337512567542),\n",
       " ('orp_3, adv_2', -0.08773467851911057),\n",
       " ('orig_percent_off', -0.30345614725671732),\n",
       " ('host_total_listings_count', -0.073373319250669464),\n",
       " ('response_rate', -0.33331873110532373),\n",
       " ('instant', 0.0),\n",
       " ('shared', -0.13924598843371078),\n",
       " ('price_median', 0.0032488150186881551),\n",
       " ('price_std', -0.47318658920911771),\n",
       " ('occupancy_1m', -0.74782602169023171),\n",
       " ('discount_asked', 0.27626175457612945)]"
      ]
     },
     "execution_count": 254,
     "metadata": {},
     "output_type": "execute_result"
    }
   ],
   "source": [
    "lr = LogisticRegression()\n",
    "lr.fit(X_willing, Y_willing)\n",
    "\n",
    "lr_scores = -cross_val_score(lr, X_willing, Y_willing, scoring='mean_squared_error', cv=10)\n",
    "print \"Average Cross Validation Accuracy: \\n\", 1-np.mean(lr_scores)\n",
    "print \"Cross Validation Accuracies by Fold: \\n\", 1 - np.array(lr_scores)\n",
    "print \"Coefficients: \\n\"\n",
    "zip(param, np.ravel(lr.coef_))\n",
    "\n",
    "# print \"Predictions: \\n\", lr.predict(X_train_willing)"
   ]
  },
  {
   "cell_type": "markdown",
   "metadata": {},
   "source": [
    "## SVM"
   ]
  },
  {
   "cell_type": "code",
   "execution_count": 134,
   "metadata": {
    "collapsed": false
   },
   "outputs": [],
   "source": [
    "svm = svm.SVC()\n",
    "svm.fit(X_willing_noda, Y_willing)  \n",
    "\n",
    "clf_scores = -cross_val_score(clf, X_train, Y_train, scoring='mean_squared_error', cv=5)"
   ]
  },
  {
   "cell_type": "code",
   "execution_count": 135,
   "metadata": {
    "collapsed": false
   },
   "outputs": [
    {
     "data": {
      "text/plain": [
       "0.82692307692307687"
      ]
     },
     "execution_count": 135,
     "metadata": {},
     "output_type": "execute_result"
    }
   ],
   "source": [
    "clf.score(X_train, Y_train)"
   ]
  },
  {
   "cell_type": "code",
   "execution_count": 136,
   "metadata": {
    "collapsed": false
   },
   "outputs": [
    {
     "data": {
      "text/plain": [
       "array([ 0.45454545,  0.36363636,  0.4       ,  0.25      ,  0.35      ])"
      ]
     },
     "execution_count": 136,
     "metadata": {},
     "output_type": "execute_result"
    }
   ],
   "source": [
    "clf_scores"
   ]
  },
  {
   "cell_type": "code",
   "execution_count": 137,
   "metadata": {
    "collapsed": false
   },
   "outputs": [
    {
     "data": {
      "text/plain": [
       "array([[   1.,    0.,    0., ...,   65.,    1.,    0.],\n",
       "       [   1.,    0.,    0., ...,   32.,    1.,    0.],\n",
       "       [   1.,    0.,    0., ...,   48.,    1.,    0.],\n",
       "       ..., \n",
       "       [   0.,    0.,    0., ...,  283.,    0.,    0.],\n",
       "       [   0.,    0.,    0., ...,   69.,    1.,    0.],\n",
       "       [   0.,    0.,    0., ...,   72.,    1.,    0.]])"
      ]
     },
     "execution_count": 137,
     "metadata": {},
     "output_type": "execute_result"
    }
   ],
   "source": [
    "clf.support_vectors_"
   ]
  }
 ],
 "metadata": {
  "kernelspec": {
   "display_name": "Python 2",
   "language": "python",
   "name": "python2"
  },
  "language_info": {
   "codemirror_mode": {
    "name": "ipython",
    "version": 2
   },
   "file_extension": ".py",
   "mimetype": "text/x-python",
   "name": "python",
   "nbconvert_exporter": "python",
   "pygments_lexer": "ipython2",
   "version": "2.7.11"
  }
 },
 "nbformat": 4,
 "nbformat_minor": 0
}
