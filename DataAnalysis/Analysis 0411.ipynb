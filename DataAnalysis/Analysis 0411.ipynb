{
 "cells": [
  {
   "cell_type": "code",
   "execution_count": 68,
   "metadata": {
    "collapsed": false
   },
   "outputs": [],
   "source": [
    "import pandas as pd\n",
    "import numpy as np\n",
    "import matplotlib.pyplot as plt\n",
    "import seaborn as sns\n",
    "%matplotlib inline  \n",
    "import datetime as dt\n",
    "\n",
    "pd.options.mode.chained_assignment = None  # default='warn'"
   ]
  },
  {
   "cell_type": "code",
   "execution_count": 69,
   "metadata": {
    "collapsed": true
   },
   "outputs": [],
   "source": [
    "from sklearn.linear_model import LinearRegression\n",
    "from sklearn.linear_model import LogisticRegression\n",
    "from sklearn.ensemble import RandomForestRegressor\n",
    "from sklearn.cross_validation import cross_val_predict\n",
    "from sklearn.cross_validation import cross_val_score\n",
    "from sklearn.preprocessing import PolynomialFeatures\n",
    "from sklearn.preprocessing import Imputer\n",
    "from sklearn import svm"
   ]
  },
  {
   "cell_type": "markdown",
   "metadata": {},
   "source": [
    "#### 1. First clean: only take the useful columns"
   ]
  },
  {
   "cell_type": "code",
   "execution_count": 70,
   "metadata": {
    "collapsed": false
   },
   "outputs": [],
   "source": [
    "round3 = pd.read_json(\"round3_merged.json\")\n",
    "round2 = pd.read_json(\"round2_merged.json\")\n",
    "round1 = pd.read_json(\"round1_merged.json\")"
   ]
  },
  {
   "cell_type": "code",
   "execution_count": 71,
   "metadata": {
    "collapsed": false,
    "scrolled": false
   },
   "outputs": [
    {
     "name": "stdout",
     "output_type": "stream",
     "text": [
      "Index([u'Unnamed: 0', u'account', u'actions', u'availability', u'beds',\n",
      "       u'bucket_name', u'calendars', u'decision', u'discount_agreed',\n",
      "       u'discount_asked', u'discount_obtained', u'extra_people',\n",
      "       u'guests_included', u'host_acceptance_rate', u'host_id',\n",
      "       u'host_is_superhost', u'host_name', u'host_response_rate',\n",
      "       u'host_response_time', u'host_total_listings_count', u'host_url', u'id',\n",
      "       u'instant_bookable', u'listing_url', u'minimum_nights',\n",
      "       u'monthly_price', u'nightly_plus_guest_price', u'nightly_price',\n",
      "       u'nightly_price_scraped', u'number_of_reviews', u'openings',\n",
      "       u'percent_agreed', u'price_agreed', u'price_requested', u'response',\n",
      "       u'room_type'],\n",
      "      dtype='object')\n",
      "Index([u'Unnamed: 0', u'account', u'actions', u'availability', u'beds',\n",
      "       u'bucket_name', u'calendars', u'decision', u'discount_agreed',\n",
      "       u'discount_asked', u'discount_obtained', u'host_acceptance_rate',\n",
      "       u'host_id', u'host_is_superhost', u'host_name', u'host_response_rate',\n",
      "       u'host_response_time', u'host_total_listings_count', u'host_url', u'id',\n",
      "       u'instant_bookable', u'listing_url', u'minimum_nights',\n",
      "       u'monthly_price', u'nightly_price', u'nightly_price_scraped',\n",
      "       u'number_of_reviews', u'openings', u'percent_agreed', u'price_agreed',\n",
      "       u'price_requested', u'response', u'room_type'],\n",
      "      dtype='object')\n",
      "Index([u'Unnamed: 0', u'actions', u'availability', u'beds', u'bucket_name',\n",
      "       u'calendars', u'discount', u'discount_asked', u'host_acceptance_rate',\n",
      "       u'host_id', u'host_is_superhost', u'host_name', u'host_response_rate',\n",
      "       u'host_response_time', u'host_total_listings_count', u'host_url', u'id',\n",
      "       u'instant_bookable', u'listing_url', u'minimum_nights',\n",
      "       u'monthly_price', u'nightly_price', u'nightly_price_scraped',\n",
      "       u'number_of_reviews', u'openings', u'price', u'price_requested',\n",
      "       u'response', u'room_type'],\n",
      "      dtype='object')\n"
     ]
    }
   ],
   "source": [
    "print round3.columns\n",
    "print round2.columns\n",
    "print round1.columns"
   ]
  },
  {
   "cell_type": "code",
   "execution_count": 72,
   "metadata": {
    "collapsed": false
   },
   "outputs": [
    {
     "name": "stdout",
     "output_type": "stream",
     "text": [
      "Number of observations in round 3:  288\n",
      "Number of observations in round 2:  226\n",
      "Number of observations in round 1:  194\n"
     ]
    }
   ],
   "source": [
    "round3_clean = round3[[\"id\", \"host_id\", \"host_response_rate\", \"host_acceptance_rate\", \n",
    "                       \"host_total_listings_count\", \"instant_bookable\", \n",
    "                       \"room_type\", \"bucket_name\", \"discount_asked\", \"nightly_price\", \n",
    "                       \"decision\", \"price_agreed\", \"discount_agreed\", \"percent_agreed\",\n",
    "                       \"calendars\", \"price_requested\"]]\n",
    "round2_clean = round2[[\"id\", \"host_id\", \"host_response_rate\", \"host_acceptance_rate\", \n",
    "                       \"host_total_listings_count\", \"instant_bookable\", \n",
    "                       \"room_type\", \"bucket_name\", \"discount_asked\", \"nightly_price\", \n",
    "                       \"decision\", \"price_agreed\", \"discount_agreed\", \"percent_agreed\",\n",
    "                       \"calendars\", \"price_requested\"]]\n",
    "round1_clean = round1[[\"id\", \"host_id\", \"host_response_rate\", \"host_acceptance_rate\", \n",
    "                       \"host_total_listings_count\", \"instant_bookable\", \n",
    "                       \"room_type\", \"bucket_name\", \"discount_asked\", \"nightly_price\", \n",
    "                       \"availability\", \"price\", \"discount\",\n",
    "                       \"calendars\", \"price_requested\"]]\n",
    "\n",
    "print \"Number of observations in round 3: \", len(round3_clean)\n",
    "print \"Number of observations in round 2: \", len(round2_clean)\n",
    "print \"Number of observations in round 1: \", len(round1_clean)\n",
    "\n",
    "# round3_clean.reset_index(drop=True).head()"
   ]
  },
  {
   "cell_type": "code",
   "execution_count": 73,
   "metadata": {
    "collapsed": false
   },
   "outputs": [
    {
     "data": {
      "text/html": [
       "<div>\n",
       "<table border=\"1\" class=\"dataframe\">\n",
       "  <thead>\n",
       "    <tr style=\"text-align: right;\">\n",
       "      <th></th>\n",
       "      <th>id</th>\n",
       "      <th>host_id</th>\n",
       "      <th>host_response_rate</th>\n",
       "      <th>host_acceptance_rate</th>\n",
       "      <th>host_total_listings_count</th>\n",
       "      <th>instant_bookable</th>\n",
       "      <th>room_type</th>\n",
       "      <th>bucket_name</th>\n",
       "      <th>discount_asked</th>\n",
       "      <th>nightly_price</th>\n",
       "      <th>decision</th>\n",
       "      <th>price_agreed</th>\n",
       "      <th>percent_agreed</th>\n",
       "      <th>calendars</th>\n",
       "      <th>price_requested</th>\n",
       "    </tr>\n",
       "  </thead>\n",
       "  <tbody>\n",
       "    <tr>\n",
       "      <th>0</th>\n",
       "      <td>5557381</td>\n",
       "      <td>28811542</td>\n",
       "      <td>100%</td>\n",
       "      <td>100%</td>\n",
       "      <td>1</td>\n",
       "      <td>t</td>\n",
       "      <td>Private room</td>\n",
       "      <td>daysM_weeks1</td>\n",
       "      <td>0.7</td>\n",
       "      <td>51</td>\n",
       "      <td>0</td>\n",
       "      <td>NaN</td>\n",
       "      <td>None</td>\n",
       "      <td>{u'date': {u'24': u'2016-04-20', u'25': u'2016...</td>\n",
       "      <td>35</td>\n",
       "    </tr>\n",
       "    <tr>\n",
       "      <th>1</th>\n",
       "      <td>9147025</td>\n",
       "      <td>403032</td>\n",
       "      <td>100%</td>\n",
       "      <td>100%</td>\n",
       "      <td>1</td>\n",
       "      <td>f</td>\n",
       "      <td>Entire home/apt</td>\n",
       "      <td>days1_weeksM</td>\n",
       "      <td>0.7</td>\n",
       "      <td>134</td>\n",
       "      <td>-1</td>\n",
       "      <td>NaN</td>\n",
       "      <td>None</td>\n",
       "      <td>{u'date': {u'24': u'2016-04-20', u'25': u'2016...</td>\n",
       "      <td>90</td>\n",
       "    </tr>\n",
       "    <tr>\n",
       "      <th>10</th>\n",
       "      <td>2745620</td>\n",
       "      <td>1172202</td>\n",
       "      <td>100%</td>\n",
       "      <td>100%</td>\n",
       "      <td>5</td>\n",
       "      <td>t</td>\n",
       "      <td>Private room</td>\n",
       "      <td>days3_weeks1</td>\n",
       "      <td>0.9</td>\n",
       "      <td>41</td>\n",
       "      <td>-1</td>\n",
       "      <td>NaN</td>\n",
       "      <td>None</td>\n",
       "      <td>{u'date': {u'24': u'2016-04-20', u'25': u'2016...</td>\n",
       "      <td>35</td>\n",
       "    </tr>\n",
       "    <tr>\n",
       "      <th>100</th>\n",
       "      <td>7879486</td>\n",
       "      <td>38964485</td>\n",
       "      <td>100%</td>\n",
       "      <td>92%</td>\n",
       "      <td>2</td>\n",
       "      <td>f</td>\n",
       "      <td>Entire home/apt</td>\n",
       "      <td>days2_weeks1</td>\n",
       "      <td>0.7</td>\n",
       "      <td>101</td>\n",
       "      <td>-1</td>\n",
       "      <td>NaN</td>\n",
       "      <td>None</td>\n",
       "      <td>{u'date': {u'24': u'2016-04-20', u'25': u'2016...</td>\n",
       "      <td>70</td>\n",
       "    </tr>\n",
       "    <tr>\n",
       "      <th>101</th>\n",
       "      <td>3557570</td>\n",
       "      <td>1594959</td>\n",
       "      <td>100%</td>\n",
       "      <td>None</td>\n",
       "      <td>1</td>\n",
       "      <td>f</td>\n",
       "      <td>Private room</td>\n",
       "      <td>daysM_weeks2</td>\n",
       "      <td>0.6</td>\n",
       "      <td>65</td>\n",
       "      <td>0</td>\n",
       "      <td>NaN</td>\n",
       "      <td>None</td>\n",
       "      <td>{u'date': {u'24': u'2016-04-20', u'25': u'2016...</td>\n",
       "      <td>35</td>\n",
       "    </tr>\n",
       "  </tbody>\n",
       "</table>\n",
       "</div>"
      ],
      "text/plain": [
       "          id   host_id host_response_rate host_acceptance_rate  \\\n",
       "0    5557381  28811542               100%                 100%   \n",
       "1    9147025    403032               100%                 100%   \n",
       "10   2745620   1172202               100%                 100%   \n",
       "100  7879486  38964485               100%                  92%   \n",
       "101  3557570   1594959               100%                 None   \n",
       "\n",
       "     host_total_listings_count instant_bookable        room_type  \\\n",
       "0                            1                t     Private room   \n",
       "1                            1                f  Entire home/apt   \n",
       "10                           5                t     Private room   \n",
       "100                          2                f  Entire home/apt   \n",
       "101                          1                f     Private room   \n",
       "\n",
       "      bucket_name  discount_asked  nightly_price  decision  price_agreed  \\\n",
       "0    daysM_weeks1             0.7             51         0           NaN   \n",
       "1    days1_weeksM             0.7            134        -1           NaN   \n",
       "10   days3_weeks1             0.9             41        -1           NaN   \n",
       "100  days2_weeks1             0.7            101        -1           NaN   \n",
       "101  daysM_weeks2             0.6             65         0           NaN   \n",
       "\n",
       "    percent_agreed                                          calendars  \\\n",
       "0             None  {u'date': {u'24': u'2016-04-20', u'25': u'2016...   \n",
       "1             None  {u'date': {u'24': u'2016-04-20', u'25': u'2016...   \n",
       "10            None  {u'date': {u'24': u'2016-04-20', u'25': u'2016...   \n",
       "100           None  {u'date': {u'24': u'2016-04-20', u'25': u'2016...   \n",
       "101           None  {u'date': {u'24': u'2016-04-20', u'25': u'2016...   \n",
       "\n",
       "     price_requested  \n",
       "0                 35  \n",
       "1                 90  \n",
       "10                35  \n",
       "100               70  \n",
       "101               35  "
      ]
     },
     "execution_count": 73,
     "metadata": {},
     "output_type": "execute_result"
    }
   ],
   "source": [
    "round1_clean = round1_clean.rename(columns = {\"availability\":\"decision\", \"price\":\"price_agreed\", \"discount\":\"percent_agreed\"})\n",
    "round1_clean.head()"
   ]
  },
  {
   "cell_type": "code",
   "execution_count": 74,
   "metadata": {
    "collapsed": false
   },
   "outputs": [],
   "source": [
    "round1_clean = round1_clean.rename(columns = {\"availability\":\"decision\", \"price\":\"price_agreed\", \"discount\":\"percent_agreed\"})\n",
    "\n",
    "combined = pd.concat([round1_clean, round2_clean, round3_clean], keys=[\"round1\", \"round2\", \"round3\"], ignore_index=False)\n",
    "combined[\"source\"] = combined.index.labels[0]+1\n",
    "combined = combined.reset_index(drop=True)"
   ]
  },
  {
   "cell_type": "code",
   "execution_count": 75,
   "metadata": {
    "collapsed": false
   },
   "outputs": [
    {
     "data": {
      "text/html": [
       "<div>\n",
       "<table border=\"1\" class=\"dataframe\">\n",
       "  <thead>\n",
       "    <tr style=\"text-align: right;\">\n",
       "      <th></th>\n",
       "      <th>bucket_name</th>\n",
       "      <th>calendars</th>\n",
       "      <th>decision</th>\n",
       "      <th>discount_agreed</th>\n",
       "      <th>discount_asked</th>\n",
       "      <th>host_acceptance_rate</th>\n",
       "      <th>host_id</th>\n",
       "      <th>host_response_rate</th>\n",
       "      <th>host_total_listings_count</th>\n",
       "      <th>id</th>\n",
       "      <th>instant_bookable</th>\n",
       "      <th>nightly_price</th>\n",
       "      <th>percent_agreed</th>\n",
       "      <th>price_agreed</th>\n",
       "      <th>price_requested</th>\n",
       "      <th>room_type</th>\n",
       "      <th>source</th>\n",
       "    </tr>\n",
       "  </thead>\n",
       "  <tbody>\n",
       "    <tr>\n",
       "      <th>0</th>\n",
       "      <td>daysM_weeks1</td>\n",
       "      <td>{u'date': {u'24': u'2016-04-20', u'25': u'2016...</td>\n",
       "      <td>0</td>\n",
       "      <td>NaN</td>\n",
       "      <td>0.7</td>\n",
       "      <td>100%</td>\n",
       "      <td>28811542</td>\n",
       "      <td>100%</td>\n",
       "      <td>1</td>\n",
       "      <td>5557381</td>\n",
       "      <td>t</td>\n",
       "      <td>51</td>\n",
       "      <td>None</td>\n",
       "      <td>NaN</td>\n",
       "      <td>35</td>\n",
       "      <td>Private room</td>\n",
       "      <td>1</td>\n",
       "    </tr>\n",
       "    <tr>\n",
       "      <th>1</th>\n",
       "      <td>days1_weeksM</td>\n",
       "      <td>{u'date': {u'24': u'2016-04-20', u'25': u'2016...</td>\n",
       "      <td>-1</td>\n",
       "      <td>NaN</td>\n",
       "      <td>0.7</td>\n",
       "      <td>100%</td>\n",
       "      <td>403032</td>\n",
       "      <td>100%</td>\n",
       "      <td>1</td>\n",
       "      <td>9147025</td>\n",
       "      <td>f</td>\n",
       "      <td>134</td>\n",
       "      <td>None</td>\n",
       "      <td>NaN</td>\n",
       "      <td>90</td>\n",
       "      <td>Entire home/apt</td>\n",
       "      <td>1</td>\n",
       "    </tr>\n",
       "    <tr>\n",
       "      <th>2</th>\n",
       "      <td>days3_weeks1</td>\n",
       "      <td>{u'date': {u'24': u'2016-04-20', u'25': u'2016...</td>\n",
       "      <td>-1</td>\n",
       "      <td>NaN</td>\n",
       "      <td>0.9</td>\n",
       "      <td>100%</td>\n",
       "      <td>1172202</td>\n",
       "      <td>100%</td>\n",
       "      <td>5</td>\n",
       "      <td>2745620</td>\n",
       "      <td>t</td>\n",
       "      <td>41</td>\n",
       "      <td>None</td>\n",
       "      <td>NaN</td>\n",
       "      <td>35</td>\n",
       "      <td>Private room</td>\n",
       "      <td>1</td>\n",
       "    </tr>\n",
       "    <tr>\n",
       "      <th>3</th>\n",
       "      <td>days2_weeks1</td>\n",
       "      <td>{u'date': {u'24': u'2016-04-20', u'25': u'2016...</td>\n",
       "      <td>-1</td>\n",
       "      <td>NaN</td>\n",
       "      <td>0.7</td>\n",
       "      <td>92%</td>\n",
       "      <td>38964485</td>\n",
       "      <td>100%</td>\n",
       "      <td>2</td>\n",
       "      <td>7879486</td>\n",
       "      <td>f</td>\n",
       "      <td>101</td>\n",
       "      <td>None</td>\n",
       "      <td>NaN</td>\n",
       "      <td>70</td>\n",
       "      <td>Entire home/apt</td>\n",
       "      <td>1</td>\n",
       "    </tr>\n",
       "    <tr>\n",
       "      <th>4</th>\n",
       "      <td>daysM_weeks2</td>\n",
       "      <td>{u'date': {u'24': u'2016-04-20', u'25': u'2016...</td>\n",
       "      <td>0</td>\n",
       "      <td>NaN</td>\n",
       "      <td>0.6</td>\n",
       "      <td>None</td>\n",
       "      <td>1594959</td>\n",
       "      <td>100%</td>\n",
       "      <td>1</td>\n",
       "      <td>3557570</td>\n",
       "      <td>f</td>\n",
       "      <td>65</td>\n",
       "      <td>None</td>\n",
       "      <td>NaN</td>\n",
       "      <td>35</td>\n",
       "      <td>Private room</td>\n",
       "      <td>1</td>\n",
       "    </tr>\n",
       "  </tbody>\n",
       "</table>\n",
       "</div>"
      ],
      "text/plain": [
       "    bucket_name                                          calendars  decision  \\\n",
       "0  daysM_weeks1  {u'date': {u'24': u'2016-04-20', u'25': u'2016...         0   \n",
       "1  days1_weeksM  {u'date': {u'24': u'2016-04-20', u'25': u'2016...        -1   \n",
       "2  days3_weeks1  {u'date': {u'24': u'2016-04-20', u'25': u'2016...        -1   \n",
       "3  days2_weeks1  {u'date': {u'24': u'2016-04-20', u'25': u'2016...        -1   \n",
       "4  daysM_weeks2  {u'date': {u'24': u'2016-04-20', u'25': u'2016...         0   \n",
       "\n",
       "   discount_agreed  discount_asked host_acceptance_rate   host_id  \\\n",
       "0              NaN             0.7                 100%  28811542   \n",
       "1              NaN             0.7                 100%    403032   \n",
       "2              NaN             0.9                 100%   1172202   \n",
       "3              NaN             0.7                  92%  38964485   \n",
       "4              NaN             0.6                 None   1594959   \n",
       "\n",
       "  host_response_rate  host_total_listings_count       id instant_bookable  \\\n",
       "0               100%                          1  5557381                t   \n",
       "1               100%                          1  9147025                f   \n",
       "2               100%                          5  2745620                t   \n",
       "3               100%                          2  7879486                f   \n",
       "4               100%                          1  3557570                f   \n",
       "\n",
       "   nightly_price percent_agreed  price_agreed  price_requested  \\\n",
       "0             51           None           NaN               35   \n",
       "1            134           None           NaN               90   \n",
       "2             41           None           NaN               35   \n",
       "3            101           None           NaN               70   \n",
       "4             65           None           NaN               35   \n",
       "\n",
       "         room_type  source  \n",
       "0     Private room       1  \n",
       "1  Entire home/apt       1  \n",
       "2     Private room       1  \n",
       "3  Entire home/apt       1  \n",
       "4     Private room       1  "
      ]
     },
     "execution_count": 75,
     "metadata": {},
     "output_type": "execute_result"
    }
   ],
   "source": [
    "combined.head()"
   ]
  },
  {
   "cell_type": "code",
   "execution_count": 76,
   "metadata": {
    "collapsed": false
   },
   "outputs": [
    {
     "data": {
      "text/plain": [
       "bucket_name                    0\n",
       "calendars                      0\n",
       "decision                       0\n",
       "discount_agreed              705\n",
       "discount_asked                 0\n",
       "host_acceptance_rate          56\n",
       "host_id                        0\n",
       "host_response_rate            20\n",
       "host_total_listings_count      0\n",
       "id                             0\n",
       "instant_bookable               0\n",
       "nightly_price                  0\n",
       "percent_agreed               703\n",
       "price_agreed                 573\n",
       "price_requested              283\n",
       "room_type                      0\n",
       "source                         0\n",
       "dtype: int64"
      ]
     },
     "execution_count": 76,
     "metadata": {},
     "output_type": "execute_result"
    }
   ],
   "source": [
    "combined.isnull().sum()"
   ]
  },
  {
   "cell_type": "markdown",
   "metadata": {},
   "source": [
    "#### 2. Add useful independent variables"
   ]
  },
  {
   "cell_type": "markdown",
   "metadata": {},
   "source": [
    "Add variables from the calendars:\n",
    "* median price\n",
    "* standard deviation （normalized, using the median price)"
   ]
  },
  {
   "cell_type": "code",
   "execution_count": 77,
   "metadata": {
    "collapsed": false,
    "scrolled": true
   },
   "outputs": [],
   "source": [
    "calendar_price =  np.array([(np.median(calendar[\"price_USD\"].values()), np.std(calendar[\"price_USD\"].values()), np.max(calendar[\"price_USD\"].values())) \n",
    "                            for calendar in combined[\"calendars\"].values])\n",
    "calendar_median_price = calendar_price[:,0]\n",
    "calendar_price_std = calendar_price[:,1]\n",
    "calendar_price_high = calendar_price[:,2]\n",
    "\n",
    "combined[\"price_median\"]=calendar_median_price\n",
    "combined[\"price_std\"]=calendar_price_std/calendar_median_price\n",
    "combined[\"orig_percent_off\"]=1-combined[\"nightly_price\"]/calendar_price_high"
   ]
  },
  {
   "cell_type": "markdown",
   "metadata": {},
   "source": [
    "* 1-month occupancy rate"
   ]
  },
  {
   "cell_type": "code",
   "execution_count": 78,
   "metadata": {
    "collapsed": false
   },
   "outputs": [],
   "source": [
    "key_1m = map(str, range(30))\n",
    "calendar_occupancy = [np.mean([calendar[\"availability\"][key] for key in key_1m]) for calendar in combined[\"calendars\"].values]\n",
    "\n",
    "combined[\"occupancy_1m\"]=calendar_occupancy"
   ]
  },
  {
   "cell_type": "markdown",
   "metadata": {},
   "source": [
    "Convert string variables to numeric:\n",
    "* whether room will be shared\n",
    "* whether instant booking is turned on\n",
    "* the response rate of the host (contains nans)"
   ]
  },
  {
   "cell_type": "code",
   "execution_count": 79,
   "metadata": {
    "collapsed": false
   },
   "outputs": [],
   "source": [
    "shared = combined[\"room_type\"].values\n",
    "combined[\"shared\"] = [x!=\"Entire home/apt\" for x in shared]\n",
    "# shared_binary\n",
    "\n",
    "instant = combined[\"instant_bookable\"].values\n",
    "combined[\"instant\"] = [x==\"t\" for x in shared]\n",
    "# instant_binary"
   ]
  },
  {
   "cell_type": "code",
   "execution_count": 80,
   "metadata": {
    "collapsed": false
   },
   "outputs": [
    {
     "name": "stderr",
     "output_type": "stream",
     "text": [
      "/Users/fqian/anaconda/lib/python2.7/site-packages/sklearn/utils/validation.py:386: DeprecationWarning: Passing 1d arrays as data is deprecated in 0.17 and willraise ValueError in 0.19. Reshape your data either using X.reshape(-1, 1) if your data has a single feature or X.reshape(1, -1) if it contains a single sample.\n",
      "  DeprecationWarning)\n"
     ]
    }
   ],
   "source": [
    "response_imputer = Imputer(copy=True, missing_values='NaN', strategy='mean', axis=1)\n",
    "response_num = np.array([float(response_rate.strip('%'))/100 for response_rate in combined[\"host_response_rate\"].fillna(value=\"-100%\").values])\n",
    "response_num = np.array([np.nan if x < 0 else x for x in response_num])\n",
    "# response_imputer.fit(response_num)\n",
    "response_imputed = response_imputer.fit_transform(response_num)[0]\n",
    "\n",
    "# print len(response_imputed)\n",
    "combined[\"response_rate\"] = response_imputed"
   ]
  },
  {
   "cell_type": "markdown",
   "metadata": {},
   "source": [
    "#### 3. Add indicators for the buckets\n",
    "\n",
    "Construct 11 variables: 3 types of orphans, 2 types of advances, and 3x2=6 types of interactions"
   ]
  },
  {
   "cell_type": "code",
   "execution_count": 81,
   "metadata": {
    "collapsed": false
   },
   "outputs": [],
   "source": [
    "opening_attr = combined[\"bucket_name\"].values\n",
    "# orphan = []\n",
    "# advance = []\n",
    "N = len(opening_attr)\n",
    "orp_1 = np.zeros(N)\n",
    "orp_2 = np.zeros(N)\n",
    "orp_3 = np.zeros(N)\n",
    "adv_1 = np.zeros(N)\n",
    "adv_2 = np.zeros(N)\n",
    "\n",
    "for (i,x) in enumerate(opening_attr):\n",
    "    if x == \"days1_weeks1\":\n",
    "        orp_1[i] = 1\n",
    "        orp_2[i] = 0\n",
    "        orp_3[i] = 0\n",
    "        adv_1[i] = 1\n",
    "        adv_2[i] = 0\n",
    "    elif x == \"days1_weeks2\":\n",
    "        orp_1[i] = 1\n",
    "        orp_2[i] = 0\n",
    "        orp_3[i] = 0\n",
    "        adv_1[i] = 0\n",
    "        adv_2[i] = 1\n",
    "    elif x == \"days1_weeksM\":\n",
    "        orp_1[i] = 1\n",
    "        orp_2[i] = 0\n",
    "        orp_3[i] = 0\n",
    "        adv_1[i] = 0\n",
    "        adv_2[i] = 0\n",
    "    elif x == \"days2_weeks1\":\n",
    "        orp_1[i] = 0\n",
    "        orp_2[i] = 1\n",
    "        orp_3[i] = 0\n",
    "        adv_1[i] = 1\n",
    "        adv_2[i] = 0\n",
    "    elif x == \"days2_weeks2\":\n",
    "        orp_1[i] = 0\n",
    "        orp_2[i] = 1\n",
    "        orp_3[i] = 0\n",
    "        adv_1[i] = 0\n",
    "        adv_2[i] = 1\n",
    "    elif x == \"days2_weeksM\":\n",
    "        orp_1[i] = 0\n",
    "        orp_2[i] = 1\n",
    "        orp_3[i] = 0\n",
    "        adv_1[i] = 0\n",
    "        adv_2[i] = 0\n",
    "    elif x == \"days3_weeks1\":\n",
    "        orp_1[i] = 0\n",
    "        orp_2[i] = 0\n",
    "        orp_3[i] = 1\n",
    "        adv_1[i] = 1\n",
    "        adv_2[i] = 0\n",
    "    elif x == \"days3_weeks2\":\n",
    "        orp_1[i] = 0\n",
    "        orp_2[i] = 0\n",
    "        orp_3[i] = 1\n",
    "        adv_1[i] = 0\n",
    "        adv_2[i] = 1\n",
    "    elif x == \"days3_weeksM\":\n",
    "        orp_1[i] = 0\n",
    "        orp_2[i] = 0\n",
    "        orp_3[i] = 1\n",
    "        adv_1[i] = 0\n",
    "        adv_2[i] = 0\n",
    "    elif x == \"daysM_weeks1\":\n",
    "        orp_1[i] = 0\n",
    "        orp_2[i] = 0\n",
    "        orp_3[i] = 0\n",
    "        adv_1[i] = 1\n",
    "        adv_2[i] = 0\n",
    "    elif x == \"daysM_weeks2\":\n",
    "        orp_1[i] = 0\n",
    "        orp_2[i] = 0\n",
    "        orp_3[i] = 0\n",
    "        adv_1[i] = 0\n",
    "        adv_2[i] = 1\n",
    "    elif x == \"daysM_weeksM\":\n",
    "        orp_1[i] = 0\n",
    "        orp_2[i] = 0\n",
    "        orp_3[i] = 0\n",
    "        adv_1[i] = 0\n",
    "        adv_2[i] = 0\n",
    "        \n",
    "combined[\"orp_1\"]=orp_1\n",
    "combined[\"orp_2\"]=orp_2\n",
    "combined[\"orp_3\"]=orp_3\n",
    "combined[\"adv_1\"]=adv_1\n",
    "combined[\"adv_2\"]=adv_2"
   ]
  },
  {
   "cell_type": "code",
   "execution_count": 82,
   "metadata": {
    "collapsed": false
   },
   "outputs": [],
   "source": [
    "combined[\"orp_1, adv_1\"] = combined[\"orp_1\"]*combined[\"adv_1\"]\n",
    "combined[\"orp_1, adv_2\"] = combined[\"orp_1\"]*combined[\"adv_2\"]\n",
    "combined[\"orp_2, adv_1\"] = combined[\"orp_2\"]*combined[\"adv_1\"]\n",
    "combined[\"orp_2, adv_2\"] = combined[\"orp_2\"]*combined[\"adv_2\"]\n",
    "combined[\"orp_3, adv_1\"] = combined[\"orp_3\"]*combined[\"adv_1\"]\n",
    "combined[\"orp_3, adv_2\"] = combined[\"orp_3\"]*combined[\"adv_2\"]"
   ]
  },
  {
   "cell_type": "code",
   "execution_count": 83,
   "metadata": {
    "collapsed": false
   },
   "outputs": [
    {
     "data": {
      "text/plain": [
       "Index([              u'bucket_name',                 u'calendars',\n",
       "                        u'decision',           u'discount_agreed',\n",
       "                  u'discount_asked',      u'host_acceptance_rate',\n",
       "                         u'host_id',        u'host_response_rate',\n",
       "       u'host_total_listings_count',                        u'id',\n",
       "                u'instant_bookable',             u'nightly_price',\n",
       "                  u'percent_agreed',              u'price_agreed',\n",
       "                 u'price_requested',                 u'room_type',\n",
       "                          u'source',              u'price_median',\n",
       "                       u'price_std',          u'orig_percent_off',\n",
       "                    u'occupancy_1m',                    u'shared',\n",
       "                         u'instant',             u'response_rate',\n",
       "                           u'orp_1',                     u'orp_2',\n",
       "                           u'orp_3',                     u'adv_1',\n",
       "                           u'adv_2',              u'orp_1, adv_1',\n",
       "                    u'orp_1, adv_2',              u'orp_2, adv_1',\n",
       "                    u'orp_2, adv_2',              u'orp_3, adv_1',\n",
       "                    u'orp_3, adv_2'],\n",
       "      dtype='object')"
      ]
     },
     "execution_count": 83,
     "metadata": {},
     "output_type": "execute_result"
    }
   ],
   "source": [
    "combined.columns"
   ]
  },
  {
   "cell_type": "markdown",
   "metadata": {},
   "source": [
    "#### 4. Process the decision variables:\n",
    "\n",
    "Calculate the percentage of the discount agreed:"
   ]
  },
  {
   "cell_type": "code",
   "execution_count": 94,
   "metadata": {
    "collapsed": false
   },
   "outputs": [
    {
     "data": {
      "text/plain": [
       "decision\n",
       "-1    0.471751\n",
       " 0    0.316384\n",
       " 1    0.211864\n",
       "Name: id, dtype: float64"
      ]
     },
     "execution_count": 94,
     "metadata": {},
     "output_type": "execute_result"
    }
   ],
   "source": [
    "combined.groupby(\"decision\")[\"id\"].count()/len(combined)"
   ]
  },
  {
   "cell_type": "code",
   "execution_count": 95,
   "metadata": {
    "collapsed": false
   },
   "outputs": [],
   "source": [
    "orig_price = combined[\"nightly_price\"]\n",
    "price_agreed_percent = (np.nan_to_num(combined[\"price_agreed\"])/orig_price)\n",
    "discount_agreed1 = [0 if (d>=1 or d==0) else 1-d for d in price_agreed_percent]\n",
    "discount_agreed2 = np.nan_to_num(combined[\"discount_agreed\"]/orig_price)\n",
    "discount_agreed3 = np.nan_to_num(combined[\"percent_agreed\"])\n",
    "\n",
    "discount_obtained = np.max([discount_agreed1, discount_agreed2, discount_agreed3], axis=0)\n",
    "# print discount_agreed\n",
    "\n",
    "combined[\"discount_obtained\"] = discount_obtained"
   ]
  },
  {
   "cell_type": "markdown",
   "metadata": {},
   "source": [
    "### Again, only keep the useful columns"
   ]
  },
  {
   "cell_type": "code",
   "execution_count": 96,
   "metadata": {
    "collapsed": false
   },
   "outputs": [
    {
     "data": {
      "text/plain": [
       "Index([              u'bucket_name',                 u'calendars',\n",
       "                        u'decision',           u'discount_agreed',\n",
       "                  u'discount_asked',      u'host_acceptance_rate',\n",
       "                         u'host_id',        u'host_response_rate',\n",
       "       u'host_total_listings_count',                        u'id',\n",
       "                u'instant_bookable',             u'nightly_price',\n",
       "                  u'percent_agreed',              u'price_agreed',\n",
       "                 u'price_requested',                 u'room_type',\n",
       "                          u'source',              u'price_median',\n",
       "                       u'price_std',          u'orig_percent_off',\n",
       "                    u'occupancy_1m',                    u'shared',\n",
       "                         u'instant',             u'response_rate',\n",
       "                           u'orp_1',                     u'orp_2',\n",
       "                           u'orp_3',                     u'adv_1',\n",
       "                           u'adv_2',              u'orp_1, adv_1',\n",
       "                    u'orp_1, adv_2',              u'orp_2, adv_1',\n",
       "                    u'orp_2, adv_2',              u'orp_3, adv_1',\n",
       "                    u'orp_3, adv_2',         u'discount_obtained'],\n",
       "      dtype='object')"
      ]
     },
     "execution_count": 96,
     "metadata": {},
     "output_type": "execute_result"
    }
   ],
   "source": [
    "combined.columns"
   ]
  },
  {
   "cell_type": "code",
   "execution_count": 97,
   "metadata": {
    "collapsed": true
   },
   "outputs": [],
   "source": [
    "combined_clean = combined[[\"host_total_listings_count\", \"response_rate\", \"instant\", \"shared\", \n",
    "                               \"price_median\", \"price_std\", \"occupancy_1m\",\n",
    "                               \"orp_1\", \"orp_2\", \"orp_3\", \"adv_1\", \"adv_2\", \n",
    "                               \"orp_1, adv_1\", \"orp_1, adv_2\", \"orp_2, adv_1\", \"orp_2, adv_2\", \"orp_3, adv_1\", \"orp_3, adv_2\",\n",
    "                               \"orig_percent_off\", \"discount_asked\", \"decision\", \"discount_obtained\", \"source\"]]"
   ]
  },
  {
   "cell_type": "code",
   "execution_count": 98,
   "metadata": {
    "collapsed": false
   },
   "outputs": [
    {
     "data": {
      "text/html": [
       "<div>\n",
       "<table border=\"1\" class=\"dataframe\">\n",
       "  <thead>\n",
       "    <tr style=\"text-align: right;\">\n",
       "      <th></th>\n",
       "      <th>host_total_listings_count</th>\n",
       "      <th>response_rate</th>\n",
       "      <th>instant</th>\n",
       "      <th>shared</th>\n",
       "      <th>price_median</th>\n",
       "      <th>price_std</th>\n",
       "      <th>occupancy_1m</th>\n",
       "      <th>orp_1</th>\n",
       "      <th>orp_2</th>\n",
       "      <th>orp_3</th>\n",
       "      <th>...</th>\n",
       "      <th>orp_1, adv_2</th>\n",
       "      <th>orp_2, adv_1</th>\n",
       "      <th>orp_2, adv_2</th>\n",
       "      <th>orp_3, adv_1</th>\n",
       "      <th>orp_3, adv_2</th>\n",
       "      <th>orig_percent_off</th>\n",
       "      <th>discount_asked</th>\n",
       "      <th>decision</th>\n",
       "      <th>discount_obtained</th>\n",
       "      <th>source</th>\n",
       "    </tr>\n",
       "  </thead>\n",
       "  <tbody>\n",
       "    <tr>\n",
       "      <th>0</th>\n",
       "      <td>1</td>\n",
       "      <td>1</td>\n",
       "      <td>False</td>\n",
       "      <td>True</td>\n",
       "      <td>45</td>\n",
       "      <td>0.090351</td>\n",
       "      <td>0.433333</td>\n",
       "      <td>0</td>\n",
       "      <td>0</td>\n",
       "      <td>0</td>\n",
       "      <td>...</td>\n",
       "      <td>0</td>\n",
       "      <td>0</td>\n",
       "      <td>0</td>\n",
       "      <td>0</td>\n",
       "      <td>0</td>\n",
       "      <td>0.055556</td>\n",
       "      <td>0.7</td>\n",
       "      <td>0</td>\n",
       "      <td>0</td>\n",
       "      <td>1</td>\n",
       "    </tr>\n",
       "    <tr>\n",
       "      <th>1</th>\n",
       "      <td>1</td>\n",
       "      <td>1</td>\n",
       "      <td>False</td>\n",
       "      <td>False</td>\n",
       "      <td>106</td>\n",
       "      <td>0.144629</td>\n",
       "      <td>0.700000</td>\n",
       "      <td>1</td>\n",
       "      <td>0</td>\n",
       "      <td>0</td>\n",
       "      <td>...</td>\n",
       "      <td>0</td>\n",
       "      <td>0</td>\n",
       "      <td>0</td>\n",
       "      <td>0</td>\n",
       "      <td>0</td>\n",
       "      <td>0.000000</td>\n",
       "      <td>0.7</td>\n",
       "      <td>-1</td>\n",
       "      <td>0</td>\n",
       "      <td>1</td>\n",
       "    </tr>\n",
       "    <tr>\n",
       "      <th>2</th>\n",
       "      <td>5</td>\n",
       "      <td>1</td>\n",
       "      <td>False</td>\n",
       "      <td>True</td>\n",
       "      <td>46</td>\n",
       "      <td>0.021650</td>\n",
       "      <td>0.366667</td>\n",
       "      <td>0</td>\n",
       "      <td>0</td>\n",
       "      <td>1</td>\n",
       "      <td>...</td>\n",
       "      <td>0</td>\n",
       "      <td>0</td>\n",
       "      <td>0</td>\n",
       "      <td>1</td>\n",
       "      <td>0</td>\n",
       "      <td>0.108696</td>\n",
       "      <td>0.9</td>\n",
       "      <td>-1</td>\n",
       "      <td>0</td>\n",
       "      <td>1</td>\n",
       "    </tr>\n",
       "    <tr>\n",
       "      <th>3</th>\n",
       "      <td>2</td>\n",
       "      <td>1</td>\n",
       "      <td>False</td>\n",
       "      <td>False</td>\n",
       "      <td>120</td>\n",
       "      <td>0.095207</td>\n",
       "      <td>0.500000</td>\n",
       "      <td>0</td>\n",
       "      <td>1</td>\n",
       "      <td>0</td>\n",
       "      <td>...</td>\n",
       "      <td>0</td>\n",
       "      <td>1</td>\n",
       "      <td>0</td>\n",
       "      <td>0</td>\n",
       "      <td>0</td>\n",
       "      <td>0.246269</td>\n",
       "      <td>0.7</td>\n",
       "      <td>-1</td>\n",
       "      <td>0</td>\n",
       "      <td>1</td>\n",
       "    </tr>\n",
       "    <tr>\n",
       "      <th>4</th>\n",
       "      <td>1</td>\n",
       "      <td>1</td>\n",
       "      <td>False</td>\n",
       "      <td>True</td>\n",
       "      <td>65</td>\n",
       "      <td>0.000000</td>\n",
       "      <td>0.933333</td>\n",
       "      <td>0</td>\n",
       "      <td>0</td>\n",
       "      <td>0</td>\n",
       "      <td>...</td>\n",
       "      <td>0</td>\n",
       "      <td>0</td>\n",
       "      <td>0</td>\n",
       "      <td>0</td>\n",
       "      <td>0</td>\n",
       "      <td>0.000000</td>\n",
       "      <td>0.6</td>\n",
       "      <td>0</td>\n",
       "      <td>0</td>\n",
       "      <td>1</td>\n",
       "    </tr>\n",
       "  </tbody>\n",
       "</table>\n",
       "<p>5 rows × 23 columns</p>\n",
       "</div>"
      ],
      "text/plain": [
       "   host_total_listings_count  response_rate instant shared  price_median  \\\n",
       "0                          1              1   False   True            45   \n",
       "1                          1              1   False  False           106   \n",
       "2                          5              1   False   True            46   \n",
       "3                          2              1   False  False           120   \n",
       "4                          1              1   False   True            65   \n",
       "\n",
       "   price_std  occupancy_1m  orp_1  orp_2  orp_3   ...    orp_1, adv_2  \\\n",
       "0   0.090351      0.433333      0      0      0   ...               0   \n",
       "1   0.144629      0.700000      1      0      0   ...               0   \n",
       "2   0.021650      0.366667      0      0      1   ...               0   \n",
       "3   0.095207      0.500000      0      1      0   ...               0   \n",
       "4   0.000000      0.933333      0      0      0   ...               0   \n",
       "\n",
       "   orp_2, adv_1  orp_2, adv_2  orp_3, adv_1  orp_3, adv_2  orig_percent_off  \\\n",
       "0             0             0             0             0          0.055556   \n",
       "1             0             0             0             0          0.000000   \n",
       "2             0             0             1             0          0.108696   \n",
       "3             1             0             0             0          0.246269   \n",
       "4             0             0             0             0          0.000000   \n",
       "\n",
       "   discount_asked  decision  discount_obtained  source  \n",
       "0             0.7         0                  0       1  \n",
       "1             0.7        -1                  0       1  \n",
       "2             0.9        -1                  0       1  \n",
       "3             0.7        -1                  0       1  \n",
       "4             0.6         0                  0       1  \n",
       "\n",
       "[5 rows x 23 columns]"
      ]
     },
     "execution_count": 98,
     "metadata": {},
     "output_type": "execute_result"
    }
   ],
   "source": [
    "combined_clean.head()"
   ]
  },
  {
   "cell_type": "markdown",
   "metadata": {},
   "source": [
    "### Construct training samples\n",
    "\n",
    "For studying whether hosts are negotiable, we exclude responses that do not indicate clearly whether the host accepts negotiations.\n",
    "\n",
    "For studying how much discounts each host is willing to give, we only include hosts that gave a discount percentage."
   ]
  },
  {
   "cell_type": "code",
   "execution_count": 99,
   "metadata": {
    "collapsed": false
   },
   "outputs": [
    {
     "ename": "ValueError",
     "evalue": "The truth value of a Series is ambiguous. Use a.empty, a.bool(), a.item(), a.any() or a.all().",
     "output_type": "error",
     "traceback": [
      "\u001b[0;31m---------------------------------------------------------------------------\u001b[0m",
      "\u001b[0;31mValueError\u001b[0m                                Traceback (most recent call last)",
      "\u001b[0;32m<ipython-input-99-b60e0c7bd5e3>\u001b[0m in \u001b[0;36m<module>\u001b[0;34m()\u001b[0m\n\u001b[1;32m      1\u001b[0m \u001b[0mcombined_available\u001b[0m \u001b[0;34m=\u001b[0m \u001b[0mcombined_clean\u001b[0m\u001b[0;34m[\u001b[0m\u001b[0mcombined_clean\u001b[0m\u001b[0;34m[\u001b[0m\u001b[0;34m\"decision\"\u001b[0m\u001b[0;34m]\u001b[0m\u001b[0;34m!=\u001b[0m\u001b[0;34m-\u001b[0m\u001b[0;36m1\u001b[0m\u001b[0;34m]\u001b[0m\u001b[0;34m\u001b[0m\u001b[0m\n\u001b[0;32m----> 2\u001b[0;31m \u001b[0mcombined_agreed\u001b[0m \u001b[0;34m=\u001b[0m \u001b[0mcombined_clean\u001b[0m\u001b[0;34m[\u001b[0m\u001b[0mcombined_clean\u001b[0m\u001b[0;34m[\u001b[0m\u001b[0;34m\"discount_obtained\"\u001b[0m\u001b[0;34m]\u001b[0m\u001b[0;34m!=\u001b[0m\u001b[0;34m-\u001b[0m\u001b[0;36m1\u001b[0m \u001b[0;34m&\u001b[0m \u001b[0mcombined_clean\u001b[0m\u001b[0;34m[\u001b[0m\u001b[0;34m\"source\"\u001b[0m\u001b[0;34m]\u001b[0m\u001b[0;34m!=\u001b[0m\u001b[0;36m1\u001b[0m\u001b[0;34m]\u001b[0m\u001b[0;34m\u001b[0m\u001b[0m\n\u001b[0m\u001b[1;32m      3\u001b[0m \u001b[0;34m\u001b[0m\u001b[0m\n\u001b[1;32m      4\u001b[0m \u001b[0mcal_param\u001b[0m \u001b[0;34m=\u001b[0m \u001b[0;34m[\u001b[0m\u001b[0;34m\"orp_1\"\u001b[0m\u001b[0;34m,\u001b[0m \u001b[0;34m\"orp_2\"\u001b[0m\u001b[0;34m,\u001b[0m \u001b[0;34m\"orp_3\"\u001b[0m\u001b[0;34m,\u001b[0m \u001b[0;34m\"adv_1\"\u001b[0m\u001b[0;34m,\u001b[0m \u001b[0;34m\"adv_2\"\u001b[0m\u001b[0;34m,\u001b[0m \u001b[0;34m\"orp_1, adv_1\"\u001b[0m\u001b[0;34m,\u001b[0m \u001b[0;34m\"orp_1, adv_2\"\u001b[0m\u001b[0;34m,\u001b[0m \u001b[0;34m\"orp_2, adv_1\"\u001b[0m\u001b[0;34m,\u001b[0m \u001b[0;34m\"orp_2, adv_2\"\u001b[0m\u001b[0;34m,\u001b[0m \u001b[0;34m\"orp_3, adv_1\"\u001b[0m\u001b[0;34m,\u001b[0m \u001b[0;34m\"orp_3, adv_2\"\u001b[0m\u001b[0;34m]\u001b[0m\u001b[0;34m\u001b[0m\u001b[0m\n\u001b[1;32m      5\u001b[0m \u001b[0mhost_param\u001b[0m \u001b[0;34m=\u001b[0m \u001b[0;34m[\u001b[0m\u001b[0;34m\"orig_percent_off\"\u001b[0m\u001b[0;34m,\u001b[0m \u001b[0;34m\"host_total_listings_count\"\u001b[0m\u001b[0;34m,\u001b[0m \u001b[0;34m\"response_rate\"\u001b[0m\u001b[0;34m,\u001b[0m \u001b[0;34m\"instant\"\u001b[0m\u001b[0;34m,\u001b[0m \u001b[0;34m\"shared\"\u001b[0m\u001b[0;34m,\u001b[0m  \u001b[0;34m\"price_median\"\u001b[0m\u001b[0;34m,\u001b[0m \u001b[0;34m\"price_std\"\u001b[0m\u001b[0;34m,\u001b[0m \u001b[0;34m\"occupancy_1m\"\u001b[0m\u001b[0;34m]\u001b[0m\u001b[0;34m\u001b[0m\u001b[0m\n",
      "\u001b[0;32m/Users/fqian/anaconda/lib/python2.7/site-packages/pandas/core/generic.pyc\u001b[0m in \u001b[0;36m__nonzero__\u001b[0;34m(self)\u001b[0m\n\u001b[1;32m    729\u001b[0m         raise ValueError(\"The truth value of a {0} is ambiguous. \"\n\u001b[1;32m    730\u001b[0m                          \u001b[0;34m\"Use a.empty, a.bool(), a.item(), a.any() or a.all().\"\u001b[0m\u001b[0;34m\u001b[0m\u001b[0m\n\u001b[0;32m--> 731\u001b[0;31m                          .format(self.__class__.__name__))\n\u001b[0m\u001b[1;32m    732\u001b[0m \u001b[0;34m\u001b[0m\u001b[0m\n\u001b[1;32m    733\u001b[0m     \u001b[0m__bool__\u001b[0m \u001b[0;34m=\u001b[0m \u001b[0m__nonzero__\u001b[0m\u001b[0;34m\u001b[0m\u001b[0m\n",
      "\u001b[0;31mValueError\u001b[0m: The truth value of a Series is ambiguous. Use a.empty, a.bool(), a.item(), a.any() or a.all()."
     ]
    }
   ],
   "source": [
    "mask_available = combined_clean[\"decision\"] != -1 \n",
    "mask_agreed = combined_clean[\"decision\"]== 1 \n",
    "mask_no_source1 = combined_clean[\"source\"] != 1\n",
    "\n",
    "combined_available = combined_clean[mask_available]\n",
    "combined_agreed = combined_clean[mask_agreed]\n",
    "\n",
    "cal_param = [\"orp_1\", \"orp_2\", \"orp_3\", \"adv_1\", \"adv_2\", \"orp_1, adv_1\", \"orp_1, adv_2\", \"orp_2, adv_1\", \"orp_2, adv_2\", \"orp_3, adv_1\", \"orp_3, adv_2\"]\n",
    "host_param = [\"orig_percent_off\", \"host_total_listings_count\", \"response_rate\", \"instant\", \"shared\",  \"price_median\", \"price_std\", \"occupancy_1m\"]\n",
    "all_param = cal_param + host_param + [\"discount_asked\" ]\n",
    "all_param_no_discount_asked = cal_param + host_param\n",
    "\n",
    "X_train_negotiable = combined_available[all_param].values\n",
    "X_train_negotiable_no_discount_asked = combined_available[all_param_no_discount_asked].values\n",
    "\n",
    "Y_train_negotiable = combined_available[\"decision\"].values\n",
    "\n",
    "X_train_discount = combined_agreed[]\n",
    "Y_train_discount = combined_agreed[mask_agreed]\n",
    "\n"
   ]
  },
  {
   "cell_type": "code",
   "execution_count": 102,
   "metadata": {
    "collapsed": false
   },
   "outputs": [
    {
     "name": "stdout",
     "output_type": "stream",
     "text": [
      "0       True\n",
      "1      False\n",
      "2      False\n",
      "3      False\n",
      "4       True\n",
      "5       True\n",
      "6      False\n",
      "7       True\n",
      "8       True\n",
      "9      False\n",
      "10      True\n",
      "11     False\n",
      "12      True\n",
      "13      True\n",
      "14     False\n",
      "15     False\n",
      "16      True\n",
      "17     False\n",
      "18     False\n",
      "19      True\n",
      "20      True\n",
      "21      True\n",
      "22      True\n",
      "23     False\n",
      "24      True\n",
      "25     False\n",
      "26     False\n",
      "27     False\n",
      "28     False\n",
      "29      True\n",
      "       ...  \n",
      "678    False\n",
      "679     True\n",
      "680    False\n",
      "681    False\n",
      "682    False\n",
      "683    False\n",
      "684     True\n",
      "685    False\n",
      "686     True\n",
      "687     True\n",
      "688    False\n",
      "689    False\n",
      "690     True\n",
      "691     True\n",
      "692    False\n",
      "693    False\n",
      "694    False\n",
      "695    False\n",
      "696     True\n",
      "697    False\n",
      "698    False\n",
      "699    False\n",
      "700    False\n",
      "701     True\n",
      "702    False\n",
      "703    False\n",
      "704     True\n",
      "705    False\n",
      "706    False\n",
      "707    False\n",
      "Name: decision, dtype: bool 0      False\n",
      "1      False\n",
      "2      False\n",
      "3      False\n",
      "4      False\n",
      "5      False\n",
      "6      False\n",
      "7      False\n",
      "8      False\n",
      "9      False\n",
      "10     False\n",
      "11     False\n",
      "12     False\n",
      "13     False\n",
      "14     False\n",
      "15     False\n",
      "16     False\n",
      "17     False\n",
      "18     False\n",
      "19     False\n",
      "20     False\n",
      "21     False\n",
      "22     False\n",
      "23     False\n",
      "24     False\n",
      "25     False\n",
      "26     False\n",
      "27     False\n",
      "28     False\n",
      "29     False\n",
      "       ...  \n",
      "678     True\n",
      "679     True\n",
      "680     True\n",
      "681     True\n",
      "682     True\n",
      "683     True\n",
      "684     True\n",
      "685     True\n",
      "686     True\n",
      "687     True\n",
      "688     True\n",
      "689     True\n",
      "690     True\n",
      "691     True\n",
      "692     True\n",
      "693     True\n",
      "694     True\n",
      "695     True\n",
      "696     True\n",
      "697     True\n",
      "698     True\n",
      "699     True\n",
      "700     True\n",
      "701     True\n",
      "702     True\n",
      "703     True\n",
      "704     True\n",
      "705     True\n",
      "706     True\n",
      "707     True\n",
      "Name: source, dtype: bool\n"
     ]
    }
   ],
   "source": [
    "mask1 = combined_clean[\"decision\"]!=-1 \n",
    "mask2 = combined_clean[\"source\"]!=1\n",
    "print mask1, mask2"
   ]
  },
  {
   "cell_type": "code",
   "execution_count": 93,
   "metadata": {
    "collapsed": false
   },
   "outputs": [
    {
     "name": "stdout",
     "output_type": "stream",
     "text": [
      "374\n"
     ]
    },
    {
     "data": {
      "text/plain": [
       "host_total_listings_count      0\n",
       "response_rate                  0\n",
       "instant                        0\n",
       "shared                         0\n",
       "price_median                   0\n",
       "price_std                      0\n",
       "occupancy_1m                   0\n",
       "orp_1                          0\n",
       "orp_2                          0\n",
       "orp_3                          0\n",
       "adv_1                          0\n",
       "adv_2                          0\n",
       "orp_1, adv_1                   0\n",
       "orp_1, adv_2                   0\n",
       "orp_2, adv_1                   0\n",
       "orp_2, adv_2                   0\n",
       "orp_3, adv_1                   0\n",
       "orp_3, adv_2                   0\n",
       "orig_percent_off               0\n",
       "discount_asked                 0\n",
       "decision                       0\n",
       "discount_obtained            268\n",
       "source                         0\n",
       "dtype: int64"
      ]
     },
     "execution_count": 93,
     "metadata": {},
     "output_type": "execute_result"
    }
   ],
   "source": [
    "print len(combined_available)\n",
    "combined_available.isnull().sum()"
   ]
  },
  {
   "cell_type": "markdown",
   "metadata": {},
   "source": [
    "#### Logistic"
   ]
  },
  {
   "cell_type": "code",
   "execution_count": 282,
   "metadata": {
    "collapsed": false
   },
   "outputs": [],
   "source": [
    "logistic = LogisticRegression()\n",
    "logistic.fit(X_train, Y_train)\n",
    "# precisions=cross_validation.cross_val_score(lr, X, y, cv=kf_total, scoring='precision')\n",
    "\n",
    "lr_scores = -cross_val_score(logistic, X_train, Y_train, scoring='mean_squared_error', cv=10)"
   ]
  },
  {
   "cell_type": "code",
   "execution_count": 283,
   "metadata": {
    "collapsed": false
   },
   "outputs": [
    {
     "data": {
      "text/plain": [
       "[('orp_1', -0.059035969950110227),\n",
       " ('orp_2', 0.34528542329210077),\n",
       " ('orp_3', 0.064086007519009155),\n",
       " ('adv_1', -0.08223985054410142),\n",
       " ('adv_2', 0.046105699144746028),\n",
       " ('orp_1, adv_1', -0.49652524058797903),\n",
       " ('orp_1, adv_2', 0.84921926845429174),\n",
       " ('orp_2, adv_1', 0.2592240657629723),\n",
       " ('orp_2, adv_2', 0.17764837994945465),\n",
       " ('orp_3, adv_1', -0.51284592179090305),\n",
       " ('orp_3, adv_2', 0.081611159242060499),\n",
       " ('host_total_listings_count', 0.10738962095861969),\n",
       " ('response_rate', -0.46272900306040138),\n",
       " ('instant', 0.0),\n",
       " ('shared', -0.3556813441408837),\n",
       " ('price_median', 0.0021273199467591601),\n",
       " ('price_std', -0.012283875579207999),\n",
       " ('occupancy_1m', -0.45875361081276017)]"
      ]
     },
     "execution_count": 283,
     "metadata": {},
     "output_type": "execute_result"
    }
   ],
   "source": [
    "zip(all_param, np.ravel(logistic.coef_))"
   ]
  },
  {
   "cell_type": "code",
   "execution_count": 284,
   "metadata": {
    "collapsed": false
   },
   "outputs": [
    {
     "name": "stdout",
     "output_type": "stream",
     "text": [
      "0.652777777778\n",
      "[ 0.6         0.53333333  0.4         0.46666667  0.42857143  0.42857143\n",
      "  0.5         0.64285714  0.14285714  0.57142857]\n"
     ]
    }
   ],
   "source": [
    "print logistic.score(X_train, Y_train)\n",
    "print lr_scores"
   ]
  },
  {
   "cell_type": "markdown",
   "metadata": {},
   "source": [
    "#### Random Forest"
   ]
  },
  {
   "cell_type": "code",
   "execution_count": 285,
   "metadata": {
    "collapsed": true
   },
   "outputs": [],
   "source": [
    "rf = RandomForestRegressor(n_estimators=100)\n",
    "rf.fit(X_train, Y_train)\n",
    "# precisions=cross_validation.cross_val_score(lr, X, y, cv=kf_total, scoring='precision')\n",
    "\n",
    "rf_scores = -cross_val_score(rf, X_train, Y_train, scoring='mean_squared_error', cv=5)"
   ]
  },
  {
   "cell_type": "code",
   "execution_count": 286,
   "metadata": {
    "collapsed": false
   },
   "outputs": [
    {
     "name": "stdout",
     "output_type": "stream",
     "text": [
      "0.839861875\n",
      "[ 0.26298276  0.30393103  0.26946897  0.35293448  0.28610714]\n"
     ]
    }
   ],
   "source": [
    "print rf.score(X_train, Y_train)\n",
    "print rf_scores"
   ]
  },
  {
   "cell_type": "code",
   "execution_count": 290,
   "metadata": {
    "collapsed": false
   },
   "outputs": [
    {
     "name": "stdout",
     "output_type": "stream",
     "text": [
      "Feature ranking:\n",
      "1. price_median (feature 15, importance: 0.185904)\n",
      "2. occupancy_1m (feature 17, importance: 0.176558)\n",
      "3. price_std (feature 16, importance: 0.168804)\n",
      "4. response_rate (feature 12, importance: 0.136223)\n",
      "5. host_total_listings_count (feature 11, importance: 0.102048)\n",
      "6. shared (feature 14, importance: 0.040190)\n",
      "7. adv_2 (feature 4, importance: 0.026955)\n",
      "8. adv_1 (feature 3, importance: 0.025338)\n",
      "9. orp_2 (feature 1, importance: 0.025320)\n",
      "10. orp_1 (feature 0, importance: 0.018704)\n",
      "11. orp_1, adv_2 (feature 6, importance: 0.018313)\n",
      "12. orp_3 (feature 2, importance: 0.018081)\n",
      "13. orp_2, adv_2 (feature 8, importance: 0.015674)\n",
      "14. orp_2, adv_1 (feature 7, importance: 0.013345)\n",
      "15. orp_3, adv_1 (feature 9, importance: 0.012477)\n",
      "16. orp_3, adv_2 (feature 10, importance: 0.008718)\n",
      "17. orp_1, adv_1 (feature 5, importance: 0.007349)\n",
      "18. instant (feature 13, importance: 0.000000)\n"
     ]
    },
    {
     "data": {
      "image/png": "[encoded data removed]",
      "text/plain": [
       "<matplotlib.figure.Figure at 0x113fe4510>"
      ]
     },
     "metadata": {},
     "output_type": "display_data"
    }
   ],
   "source": [
    "from sklearn.datasets import make_classification\n",
    "from sklearn.ensemble import ExtraTreesClassifier\n",
    "\n",
    "# # Build a classification task using 3 informative features\n",
    "# X_train, Y_train = make_classification(n_samples=1000,\n",
    "#                            n_features=10,\n",
    "#                            n_informative=3,\n",
    "#                            n_redundant=0,\n",
    "#                            n_repeated=0,\n",
    "#                            n_classes=2,\n",
    "#                            random_state=0,\n",
    "#                            shuffle=False)\n",
    "\n",
    "# Build a forest and compute the feature importances\n",
    "forest = ExtraTreesClassifier(n_estimators=100,\n",
    "                              random_state=0)\n",
    "\n",
    "forest.fit(X_train, Y_train)\n",
    "importances = forest.feature_importances_\n",
    "std = np.std([tree.feature_importances_ for tree in forest.estimators_],\n",
    "             axis=0)\n",
    "indices = np.argsort(importances)[::-1]\n",
    "\n",
    "# Print the feature ranking\n",
    "print(\"Feature ranking:\")\n",
    "\n",
    "for f in range(X_train.shape[1]):\n",
    "    print(\"%d. %s (feature %d, importance: %f)\" % (f + 1, all_param[indices[f]], indices[f], importances[indices[f]]))\n",
    "\n",
    "# Plot the feature importances of the forest\n",
    "plt.figure(figsize=(12,8))\n",
    "plt.title(\"Feature importances\")\n",
    "plt.bar(range(X_train.shape[1]), importances[indices],\n",
    "       color=\"r\", yerr=std[indices], align=\"center\")\n",
    "plt.xticks(range(X_train.shape[1]), indices)\n",
    "plt.xlim([-1, X_train.shape[1]])\n",
    "plt.show()"
   ]
  },
  {
   "cell_type": "code",
   "execution_count": null,
   "metadata": {
    "collapsed": true
   },
   "outputs": [],
   "source": []
  },
  {
   "cell_type": "code",
   "execution_count": 108,
   "metadata": {
    "collapsed": true
   },
   "outputs": [],
   "source": [
    "available= pd.merge(responses[responses[\"availability\"]!=-1], inside_airbnb, how='inner',left_on=['id'], right_on=['id'])"
   ]
  },
  {
   "cell_type": "code",
   "execution_count": 109,
   "metadata": {
    "collapsed": false
   },
   "outputs": [
    {
     "name": "stdout",
     "output_type": "stream",
     "text": [
      "104\n",
      "bucket_name\n",
      "days1_weeks1    10\n",
      "days1_weeksM     9\n",
      "days2_weeks1     9\n",
      "days2_weeks2    12\n",
      "days2_weeksM    10\n",
      "days3_weeks1    11\n",
      "days3_weeks2     5\n",
      "days3_weeksM     9\n",
      "daysM_weeks1    10\n",
      "daysM_weeks2     9\n",
      "daysM_weeksM    10\n",
      "Name: id, dtype: int64\n"
     ]
    }
   ],
   "source": [
    "sample_count = available.groupby(\"bucket_name\")[\"id\"].count()\n",
    "print len(available)\n",
    "print sample_count"
   ]
  },
  {
   "cell_type": "code",
   "execution_count": 110,
   "metadata": {
    "collapsed": true
   },
   "outputs": [],
   "source": [
    "cal_param = [\"orp_1\", \"orp_2\", \"orp_3\", \"adv_1\", \"adv_2\", \"orp_1, adv_1\", \"orp_1, adv_2\", \"orp_2, adv_1\", \"orp_2, adv_2\", \"orp_3, adv_1\", \"orp_3, adv_2\"]\n",
    "all_param = cal_param + [\"discount_asked\", \"nightly_price\", \"shared\", \"instant\"]"
   ]
  },
  {
   "cell_type": "code",
   "execution_count": 111,
   "metadata": {
    "collapsed": false
   },
   "outputs": [],
   "source": [
    "X_train = available[all_param].values\n",
    "Y_train = available[\"availability\"].values"
   ]
  },
  {
   "cell_type": "markdown",
   "metadata": {},
   "source": [
    "## Logistic Regression"
   ]
  },
  {
   "cell_type": "code",
   "execution_count": 112,
   "metadata": {
    "collapsed": false
   },
   "outputs": [],
   "source": [
    "logistic = LogisticRegression()\n",
    "logistic.fit(X_train, Y_train)\n",
    "# precisions=cross_validation.cross_val_score(lr, X, y, cv=kf_total, scoring='precision')\n",
    "\n",
    "lr_scores = -cross_val_score(logistic, X_train, Y_train, scoring='mean_squared_error', cv=5)"
   ]
  },
  {
   "cell_type": "markdown",
   "metadata": {},
   "source": [
    "#### Coefficient"
   ]
  },
  {
   "cell_type": "code",
   "execution_count": 113,
   "metadata": {
    "collapsed": false
   },
   "outputs": [
    {
     "data": {
      "text/plain": [
       "[('orp_1', -0.67978310106545903),\n",
       " ('orp_2', 0.44899177569948689),\n",
       " ('orp_3', 0.48967858479423343),\n",
       " ('adv_1', -0.50649697324094611),\n",
       " ('adv_2', -0.45148027073001312),\n",
       " ('orp_1, adv_1', 0.2947336720609543),\n",
       " ('orp_1, adv_2', 0.0),\n",
       " ('orp_2, adv_1', -0.069988895069940132),\n",
       " ('orp_2, adv_2', 0.43221886011959287),\n",
       " ('orp_3, adv_1', -0.04378944953693914),\n",
       " ('orp_3, adv_2', 0.41504606143040967),\n",
       " ('discount_asked', -0.24696961430142622),\n",
       " ('nightly_price', 0.0044412580210620861),\n",
       " ('shared', 0.036177417352815128),\n",
       " ('instant', 0.0)]"
      ]
     },
     "execution_count": 113,
     "metadata": {},
     "output_type": "execute_result"
    }
   ],
   "source": [
    "zip(all_param, np.ravel(logistic.coef_))"
   ]
  },
  {
   "cell_type": "markdown",
   "metadata": {},
   "source": [
    "#### Accuracy"
   ]
  },
  {
   "cell_type": "code",
   "execution_count": 114,
   "metadata": {
    "collapsed": false
   },
   "outputs": [
    {
     "data": {
      "text/plain": [
       "0.69230769230769229"
      ]
     },
     "execution_count": 114,
     "metadata": {},
     "output_type": "execute_result"
    }
   ],
   "source": [
    "logistic.score(X_train, Y_train)"
   ]
  },
  {
   "cell_type": "code",
   "execution_count": 115,
   "metadata": {
    "collapsed": false
   },
   "outputs": [
    {
     "data": {
      "text/plain": [
       "array([ 0.36363636,  0.72727273,  0.55      ,  0.4       ,  0.3       ])"
      ]
     },
     "execution_count": 115,
     "metadata": {},
     "output_type": "execute_result"
    }
   ],
   "source": [
    "lr_scores"
   ]
  },
  {
   "cell_type": "markdown",
   "metadata": {},
   "source": [
    "#### Prediction"
   ]
  },
  {
   "cell_type": "code",
   "execution_count": 116,
   "metadata": {
    "collapsed": false,
    "scrolled": true
   },
   "outputs": [
    {
     "data": {
      "text/plain": [
       "array([[ 0.82316984,  0.17683016],\n",
       "       [ 0.84021617,  0.15978383],\n",
       "       [ 0.83849245,  0.16150755],\n",
       "       [ 0.84180909,  0.15819091],\n",
       "       [ 0.830444  ,  0.169556  ]])"
      ]
     },
     "execution_count": 116,
     "metadata": {},
     "output_type": "execute_result"
    }
   ],
   "source": [
    "logistic.predict_proba(X_train)[:5]"
   ]
  },
  {
   "cell_type": "markdown",
   "metadata": {
    "collapsed": true
   },
   "source": [
    "## Random Forest"
   ]
  },
  {
   "cell_type": "code",
   "execution_count": 146,
   "metadata": {
    "collapsed": true
   },
   "outputs": [],
   "source": [
    "rf = RandomForestRegressor(n_estimators=100)\n",
    "rf.fit(X_train, Y_train)\n",
    "# precisions=cross_validation.cross_val_score(lr, X, y, cv=kf_total, scoring='precision')\n",
    "\n",
    "rf_scores = -cross_val_score(rf, X_train, Y_train, scoring='mean_squared_error', cv=5)"
   ]
  },
  {
   "cell_type": "code",
   "execution_count": 147,
   "metadata": {
    "collapsed": false
   },
   "outputs": [
    {
     "data": {
      "text/plain": [
       "0.84335812827753132"
      ]
     },
     "execution_count": 147,
     "metadata": {},
     "output_type": "execute_result"
    }
   ],
   "source": [
    "rf.score(X_train, Y_train)"
   ]
  },
  {
   "cell_type": "code",
   "execution_count": 148,
   "metadata": {
    "collapsed": false
   },
   "outputs": [
    {
     "data": {
      "text/plain": [
       "array([ 0.16735238,  0.23689048,  0.24374762,  0.26832857,  0.28012   ])"
      ]
     },
     "execution_count": 148,
     "metadata": {},
     "output_type": "execute_result"
    }
   ],
   "source": [
    "rf_scores"
   ]
  },
  {
   "cell_type": "code",
   "execution_count": 149,
   "metadata": {
    "collapsed": false
   },
   "outputs": [
    {
     "data": {
      "text/plain": [
       "array([ 0.07,  0.02,  0.  ,  0.16,  0.  ,  0.1 ,  0.74,  0.17,  0.75,\n",
       "        0.06,  0.02,  0.69,  0.18,  0.05,  0.19,  0.13,  0.15,  0.17,\n",
       "        0.08,  0.18,  0.04,  0.04,  0.07,  0.01,  0.68,  0.93,  0.11,\n",
       "        0.93,  0.69,  0.12,  0.26,  0.68,  0.13,  0.31,  0.75,  0.19,\n",
       "        0.94,  0.85,  0.76,  0.19,  0.13,  0.76,  0.97,  0.85,  0.21,\n",
       "        0.05,  0.92,  0.92,  0.09,  0.04,  0.28,  0.03,  0.81,  0.08,\n",
       "        0.05,  0.77,  0.75,  0.3 ,  0.67,  0.03,  0.08,  0.72,  0.8 ,\n",
       "        0.83,  0.21,  0.19,  0.79,  0.09,  0.69,  0.21,  0.13,  0.26,\n",
       "        0.74,  0.83,  0.66,  0.65,  0.09,  0.04,  0.09,  0.15,  0.04,\n",
       "        0.35,  0.24,  0.03,  0.7 ,  0.16,  0.09,  0.68,  0.02,  0.08,\n",
       "        0.1 ,  0.13,  0.13,  0.13,  0.24,  0.75,  0.68,  0.2 ,  0.06,\n",
       "        0.74,  0.21,  0.71,  0.73,  0.09])"
      ]
     },
     "execution_count": 149,
     "metadata": {},
     "output_type": "execute_result"
    }
   ],
   "source": [
    "rf.predict(X_train)"
   ]
  },
  {
   "cell_type": "markdown",
   "metadata": {},
   "source": [
    "## SVM"
   ]
  },
  {
   "cell_type": "code",
   "execution_count": 134,
   "metadata": {
    "collapsed": false
   },
   "outputs": [],
   "source": [
    "clf = svm.SVC()\n",
    "clf.fit(X_train, Y_train)  \n",
    "\n",
    "clf_scores = -cross_val_score(clf, X_train, Y_train, scoring='mean_squared_error', cv=5)"
   ]
  },
  {
   "cell_type": "code",
   "execution_count": 135,
   "metadata": {
    "collapsed": false
   },
   "outputs": [
    {
     "data": {
      "text/plain": [
       "0.82692307692307687"
      ]
     },
     "execution_count": 135,
     "metadata": {},
     "output_type": "execute_result"
    }
   ],
   "source": [
    "clf.score(X_train, Y_train)"
   ]
  },
  {
   "cell_type": "code",
   "execution_count": 136,
   "metadata": {
    "collapsed": false
   },
   "outputs": [
    {
     "data": {
      "text/plain": [
       "array([ 0.45454545,  0.36363636,  0.4       ,  0.25      ,  0.35      ])"
      ]
     },
     "execution_count": 136,
     "metadata": {},
     "output_type": "execute_result"
    }
   ],
   "source": [
    "clf_scores"
   ]
  },
  {
   "cell_type": "code",
   "execution_count": 137,
   "metadata": {
    "collapsed": false
   },
   "outputs": [
    {
     "data": {
      "text/plain": [
       "array([[   1.,    0.,    0., ...,   65.,    1.,    0.],\n",
       "       [   1.,    0.,    0., ...,   32.,    1.,    0.],\n",
       "       [   1.,    0.,    0., ...,   48.,    1.,    0.],\n",
       "       ..., \n",
       "       [   0.,    0.,    0., ...,  283.,    0.,    0.],\n",
       "       [   0.,    0.,    0., ...,   69.,    1.,    0.],\n",
       "       [   0.,    0.,    0., ...,   72.,    1.,    0.]])"
      ]
     },
     "execution_count": 137,
     "metadata": {},
     "output_type": "execute_result"
    }
   ],
   "source": [
    "clf.support_vectors_"
   ]
  }
 ],
 "metadata": {
  "kernelspec": {
   "display_name": "Python 2",
   "language": "python",
   "name": "python2"
  },
  "language_info": {
   "codemirror_mode": {
    "name": "ipython",
    "version": 2
   },
   "file_extension": ".py",
   "mimetype": "text/x-python",
   "name": "python",
   "nbconvert_exporter": "python",
   "pygments_lexer": "ipython2",
   "version": "2.7.11"
  }
 },
 "nbformat": 4,
 "nbformat_minor": 0
}
