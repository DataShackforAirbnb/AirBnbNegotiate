{
 "cells": [
  {
   "cell_type": "code",
   "execution_count": 224,
   "metadata": {
    "collapsed": false
   },
   "outputs": [],
   "source": [
    "import pandas as pd\n",
    "import numpy as np\n",
    "import matplotlib.pyplot as plt\n",
    "import seaborn as sns\n",
    "%matplotlib inline  \n",
    "import datetime as dt\n",
    "\n",
    "pd.options.mode.chained_assignment = None  # default='warn'"
   ]
  },
  {
   "cell_type": "code",
   "execution_count": 225,
   "metadata": {
    "collapsed": true
   },
   "outputs": [],
   "source": [
    "from sklearn.linear_model import LinearRegression\n",
    "from sklearn.linear_model import LogisticRegression\n",
    "from sklearn.ensemble import RandomForestRegressor\n",
    "from sklearn.cross_validation import cross_val_predict\n",
    "from sklearn.cross_validation import cross_val_score\n",
    "from sklearn.preprocessing import PolynomialFeatures\n",
    "from sklearn.preprocessing import Imputer\n",
    "from sklearn import svm"
   ]
  },
  {
   "cell_type": "markdown",
   "metadata": {},
   "source": [
    "#### 1. First clean: only take the useful columns"
   ]
  },
  {
   "cell_type": "code",
   "execution_count": 226,
   "metadata": {
    "collapsed": false
   },
   "outputs": [
    {
     "name": "stdout",
     "output_type": "stream",
     "text": [
      "Index([u'Unnamed: 0', u'account', u'actions', u'availability', u'beds',\n",
      "       u'bucket_name', u'calendars', u'decision', u'discount_agreed',\n",
      "       u'discount_asked', u'discount_obtained', u'extra_people',\n",
      "       u'guests_included', u'host_acceptance_rate', u'host_id',\n",
      "       u'host_is_superhost', u'host_name', u'host_response_rate',\n",
      "       u'host_response_time', u'host_total_listings_count', u'host_url', u'id',\n",
      "       u'instant_bookable', u'listing_url', u'minimum_nights',\n",
      "       u'monthly_price', u'nightly_plus_guest_price', u'nightly_price',\n",
      "       u'nightly_price_scraped', u'number_of_reviews', u'openings',\n",
      "       u'percent_agreed', u'price_agreed', u'price_requested', u'response',\n",
      "       u'room_type'],\n",
      "      dtype='object')\n"
     ]
    },
    {
     "data": {
      "text/html": [
       "<div>\n",
       "<table border=\"1\" class=\"dataframe\">\n",
       "  <thead>\n",
       "    <tr style=\"text-align: right;\">\n",
       "      <th></th>\n",
       "      <th>id</th>\n",
       "      <th>host_id</th>\n",
       "      <th>host_response_rate</th>\n",
       "      <th>host_acceptance_rate</th>\n",
       "      <th>host_total_listings_count</th>\n",
       "      <th>instant_bookable</th>\n",
       "      <th>room_type</th>\n",
       "      <th>bucket_name</th>\n",
       "      <th>discount_asked</th>\n",
       "      <th>nightly_price</th>\n",
       "      <th>decision</th>\n",
       "      <th>price_agreed</th>\n",
       "      <th>discount_agreed</th>\n",
       "      <th>percent_agreed</th>\n",
       "      <th>calendars</th>\n",
       "      <th>price_requested</th>\n",
       "    </tr>\n",
       "  </thead>\n",
       "  <tbody>\n",
       "    <tr>\n",
       "      <th>0</th>\n",
       "      <td>755528</td>\n",
       "      <td>3684360</td>\n",
       "      <td>89%</td>\n",
       "      <td>100%</td>\n",
       "      <td>5</td>\n",
       "      <td>f</td>\n",
       "      <td>Private room</td>\n",
       "      <td>days3_weeks2</td>\n",
       "      <td>0.9</td>\n",
       "      <td>49</td>\n",
       "      <td>0</td>\n",
       "      <td>NaN</td>\n",
       "      <td>NaN</td>\n",
       "      <td>NaN</td>\n",
       "      <td>{u'date': {u'56': u'2016-06-06', u'77': u'2016...</td>\n",
       "      <td>40</td>\n",
       "    </tr>\n",
       "    <tr>\n",
       "      <th>1</th>\n",
       "      <td>5232121</td>\n",
       "      <td>3339701</td>\n",
       "      <td>100%</td>\n",
       "      <td>100%</td>\n",
       "      <td>5</td>\n",
       "      <td>t</td>\n",
       "      <td>Private room</td>\n",
       "      <td>days3_weeks2</td>\n",
       "      <td>0.7</td>\n",
       "      <td>55</td>\n",
       "      <td>0</td>\n",
       "      <td>NaN</td>\n",
       "      <td>NaN</td>\n",
       "      <td>NaN</td>\n",
       "      <td>{u'date': {u'56': u'2016-06-06', u'77': u'2016...</td>\n",
       "      <td>35</td>\n",
       "    </tr>\n",
       "    <tr>\n",
       "      <th>2</th>\n",
       "      <td>4836517</td>\n",
       "      <td>22952210</td>\n",
       "      <td>None</td>\n",
       "      <td>None</td>\n",
       "      <td>1</td>\n",
       "      <td>f</td>\n",
       "      <td>Entire home/apt</td>\n",
       "      <td>daysM_weeks2</td>\n",
       "      <td>0.9</td>\n",
       "      <td>50</td>\n",
       "      <td>0</td>\n",
       "      <td>NaN</td>\n",
       "      <td>NaN</td>\n",
       "      <td>NaN</td>\n",
       "      <td>{u'date': {u'56': u'2016-06-06', u'77': u'2016...</td>\n",
       "      <td>NaN</td>\n",
       "    </tr>\n",
       "    <tr>\n",
       "      <th>3</th>\n",
       "      <td>6835052</td>\n",
       "      <td>7768807</td>\n",
       "      <td>100%</td>\n",
       "      <td>100%</td>\n",
       "      <td>2</td>\n",
       "      <td>t</td>\n",
       "      <td>Entire home/apt</td>\n",
       "      <td>days1_weeksM</td>\n",
       "      <td>0.6</td>\n",
       "      <td>100</td>\n",
       "      <td>0</td>\n",
       "      <td>NaN</td>\n",
       "      <td>NaN</td>\n",
       "      <td>NaN</td>\n",
       "      <td>{u'date': {u'56': u'2016-06-06', u'77': u'2016...</td>\n",
       "      <td>NaN</td>\n",
       "    </tr>\n",
       "    <tr>\n",
       "      <th>4</th>\n",
       "      <td>4142752</td>\n",
       "      <td>21490002</td>\n",
       "      <td>100%</td>\n",
       "      <td>97%</td>\n",
       "      <td>2</td>\n",
       "      <td>f</td>\n",
       "      <td>Entire home/apt</td>\n",
       "      <td>days1_weeks1</td>\n",
       "      <td>0.6</td>\n",
       "      <td>50</td>\n",
       "      <td>0</td>\n",
       "      <td>NaN</td>\n",
       "      <td>NaN</td>\n",
       "      <td>NaN</td>\n",
       "      <td>{u'date': {u'56': u'2016-06-06', u'77': u'2016...</td>\n",
       "      <td>NaN</td>\n",
       "    </tr>\n",
       "  </tbody>\n",
       "</table>\n",
       "</div>"
      ],
      "text/plain": [
       "        id   host_id host_response_rate host_acceptance_rate  \\\n",
       "0   755528   3684360                89%                 100%   \n",
       "1  5232121   3339701               100%                 100%   \n",
       "2  4836517  22952210               None                 None   \n",
       "3  6835052   7768807               100%                 100%   \n",
       "4  4142752  21490002               100%                  97%   \n",
       "\n",
       "   host_total_listings_count instant_bookable        room_type   bucket_name  \\\n",
       "0                          5                f     Private room  days3_weeks2   \n",
       "1                          5                t     Private room  days3_weeks2   \n",
       "2                          1                f  Entire home/apt  daysM_weeks2   \n",
       "3                          2                t  Entire home/apt  days1_weeksM   \n",
       "4                          2                f  Entire home/apt  days1_weeks1   \n",
       "\n",
       "   discount_asked  nightly_price  decision  price_agreed  discount_agreed  \\\n",
       "0             0.9             49         0           NaN              NaN   \n",
       "1             0.7             55         0           NaN              NaN   \n",
       "2             0.9             50         0           NaN              NaN   \n",
       "3             0.6            100         0           NaN              NaN   \n",
       "4             0.6             50         0           NaN              NaN   \n",
       "\n",
       "   percent_agreed                                          calendars  \\\n",
       "0             NaN  {u'date': {u'56': u'2016-06-06', u'77': u'2016...   \n",
       "1             NaN  {u'date': {u'56': u'2016-06-06', u'77': u'2016...   \n",
       "2             NaN  {u'date': {u'56': u'2016-06-06', u'77': u'2016...   \n",
       "3             NaN  {u'date': {u'56': u'2016-06-06', u'77': u'2016...   \n",
       "4             NaN  {u'date': {u'56': u'2016-06-06', u'77': u'2016...   \n",
       "\n",
       "   price_requested  \n",
       "0               40  \n",
       "1               35  \n",
       "2              NaN  \n",
       "3              NaN  \n",
       "4              NaN  "
      ]
     },
     "execution_count": 226,
     "metadata": {},
     "output_type": "execute_result"
    }
   ],
   "source": [
    "round3 = pd.read_json(\"round3_merged.json\")\n",
    "# round3.drop([\"Unnamed: 0\", \"Unnamed: 0.1\"],axis=1, inplace=True)\n",
    "print round3.columns\n",
    "# round3.head()\n",
    "\n",
    "round3_clean = round3[[\"id\", \"host_id\", \"host_response_rate\", \"host_acceptance_rate\", \n",
    "                       \"host_total_listings_count\", \"instant_bookable\", \n",
    "                       \"room_type\", \"bucket_name\", \"discount_asked\", \"nightly_price\", \n",
    "                       \"decision\", \"price_agreed\", \"discount_agreed\", \"percent_agreed\",\n",
    "                       \"calendars\", \"price_requested\"]]\n",
    "N = len(round3_clean)\n",
    "round3_clean.reset_index(drop=True).head()"
   ]
  },
  {
   "cell_type": "markdown",
   "metadata": {},
   "source": [
    "#### 2. Add useful independent variables"
   ]
  },
  {
   "cell_type": "markdown",
   "metadata": {},
   "source": [
    "Add variables from the calendars:\n",
    "* median price\n",
    "* standard deviation （normalized, using the median price)"
   ]
  },
  {
   "cell_type": "code",
   "execution_count": 227,
   "metadata": {
    "collapsed": false,
    "scrolled": true
   },
   "outputs": [],
   "source": [
    "calendar_price =  np.array([(np.median(calendar[\"price_USD\"].values()), np.std(calendar[\"price_USD\"].values()), np.max(calendar[\"price_USD\"].values())) \n",
    "                            for calendar in round3_clean[\"calendars\"].values])\n",
    "calendar_median_price = calendar_price[:,0]\n",
    "calendar_price_std = calendar_price[:,1]\n",
    "calendar_price_high = calendar_price[:,2]\n",
    "\n",
    "round3_clean[\"price_median\"]=calendar_median_price\n",
    "round3_clean[\"price_std\"]=calendar_price_std/calendar_median_price\n",
    "round3_clean[\"orig_percent_off\"]=1-round3_clean[\"nightly_price\"]/calendar_price_high"
   ]
  },
  {
   "cell_type": "markdown",
   "metadata": {},
   "source": [
    "* 1-month occupancy rate"
   ]
  },
  {
   "cell_type": "code",
   "execution_count": 228,
   "metadata": {
    "collapsed": false
   },
   "outputs": [],
   "source": [
    "calendar_occupancy = [np.mean([calendar[\"availability\"][key] for key in key_1m]) for calendar in round3_clean[\"calendars\"].values]\n",
    "\n",
    "round3_clean[\"occupancy_1m\"]=calendar_occupancy"
   ]
  },
  {
   "cell_type": "markdown",
   "metadata": {},
   "source": [
    "Convert string variables to numeric:\n",
    "* whether room will be shared\n",
    "* whether instant booking is turned on\n",
    "* the response rate of the host (contains nans)"
   ]
  },
  {
   "cell_type": "code",
   "execution_count": 229,
   "metadata": {
    "collapsed": false
   },
   "outputs": [],
   "source": [
    "shared = round3_clean[\"room_type\"].values\n",
    "round3_clean[\"shared\"] = [x==\"Private room\" for x in shared]\n",
    "# shared_binary\n",
    "\n",
    "instant = round3_clean[\"instant_bookable\"].values\n",
    "round3_clean[\"instant\"] = [x==\"t\" for x in shared]\n",
    "# instant_binary"
   ]
  },
  {
   "cell_type": "code",
   "execution_count": 230,
   "metadata": {
    "collapsed": false
   },
   "outputs": [
    {
     "data": {
      "text/plain": [
       "288"
      ]
     },
     "execution_count": 230,
     "metadata": {},
     "output_type": "execute_result"
    }
   ],
   "source": [
    "len(round3_clean)"
   ]
  },
  {
   "cell_type": "code",
   "execution_count": 231,
   "metadata": {
    "collapsed": false
   },
   "outputs": [
    {
     "name": "stderr",
     "output_type": "stream",
     "text": [
      "/Users/fqian/anaconda/lib/python2.7/site-packages/sklearn/utils/validation.py:386: DeprecationWarning: Passing 1d arrays as data is deprecated in 0.17 and willraise ValueError in 0.19. Reshape your data either using X.reshape(-1, 1) if your data has a single feature or X.reshape(1, -1) if it contains a single sample.\n",
      "  DeprecationWarning)\n"
     ]
    }
   ],
   "source": [
    "response_imputer = Imputer(copy=True, missing_values='NaN', strategy='mean', axis=1)\n",
    "response_num = np.array([float(response_rate.strip('%'))/100 for response_rate in round3_clean[\"host_response_rate\"].fillna(value=\"-100%\").values])\n",
    "response_num = np.array([np.nan if x < 0 else x for x in response_num])\n",
    "# response_imputer.fit(response_num)\n",
    "response_imputed = response_imputer.fit_transform(response_num)[0]\n",
    "\n",
    "# print len(response_imputed)\n",
    "round3_clean[\"response_rate\"] = response_imputed"
   ]
  },
  {
   "cell_type": "markdown",
   "metadata": {},
   "source": [
    "#### 3. Add indicators for the buckets\n",
    "\n",
    "Construct 11 variables: 3 types of orphans, 2 types of advances, and 3x2=6 types of interactions"
   ]
  },
  {
   "cell_type": "code",
   "execution_count": 232,
   "metadata": {
    "collapsed": false
   },
   "outputs": [],
   "source": [
    "opening_attr = round3_clean[\"bucket_name\"].values\n",
    "# orphan = []\n",
    "# advance = []\n",
    "N = len(opening_attr)\n",
    "orp_1 = np.zeros(N)\n",
    "orp_2 = np.zeros(N)\n",
    "orp_3 = np.zeros(N)\n",
    "adv_1 = np.zeros(N)\n",
    "adv_2 = np.zeros(N)\n",
    "\n",
    "for (i,x) in enumerate(opening_attr):\n",
    "    if x == \"days1_weeks1\":\n",
    "        orp_1[i] = 1\n",
    "        orp_2[i] = 0\n",
    "        orp_3[i] = 0\n",
    "        adv_1[i] = 1\n",
    "        adv_2[i] = 0\n",
    "    elif x == \"days1_weeks2\":\n",
    "        orp_1[i] = 1\n",
    "        orp_2[i] = 0\n",
    "        orp_3[i] = 0\n",
    "        adv_1[i] = 0\n",
    "        adv_2[i] = 1\n",
    "    elif x == \"days1_weeksM\":\n",
    "        orp_1[i] = 1\n",
    "        orp_2[i] = 0\n",
    "        orp_3[i] = 0\n",
    "        adv_1[i] = 0\n",
    "        adv_2[i] = 0\n",
    "    elif x == \"days2_weeks1\":\n",
    "        orp_1[i] = 0\n",
    "        orp_2[i] = 1\n",
    "        orp_3[i] = 0\n",
    "        adv_1[i] = 1\n",
    "        adv_2[i] = 0\n",
    "    elif x == \"days2_weeks2\":\n",
    "        orp_1[i] = 0\n",
    "        orp_2[i] = 1\n",
    "        orp_3[i] = 0\n",
    "        adv_1[i] = 0\n",
    "        adv_2[i] = 1\n",
    "    elif x == \"days2_weeksM\":\n",
    "        orp_1[i] = 0\n",
    "        orp_2[i] = 1\n",
    "        orp_3[i] = 0\n",
    "        adv_1[i] = 0\n",
    "        adv_2[i] = 0\n",
    "    elif x == \"days3_weeks1\":\n",
    "        orp_1[i] = 0\n",
    "        orp_2[i] = 0\n",
    "        orp_3[i] = 1\n",
    "        adv_1[i] = 1\n",
    "        adv_2[i] = 0\n",
    "    elif x == \"days3_weeks2\":\n",
    "        orp_1[i] = 0\n",
    "        orp_2[i] = 0\n",
    "        orp_3[i] = 1\n",
    "        adv_1[i] = 0\n",
    "        adv_2[i] = 1\n",
    "    elif x == \"days3_weeksM\":\n",
    "        orp_1[i] = 0\n",
    "        orp_2[i] = 0\n",
    "        orp_3[i] = 1\n",
    "        adv_1[i] = 0\n",
    "        adv_2[i] = 0\n",
    "    elif x == \"daysM_weeks1\":\n",
    "        orp_1[i] = 0\n",
    "        orp_2[i] = 0\n",
    "        orp_3[i] = 0\n",
    "        adv_1[i] = 1\n",
    "        adv_2[i] = 0\n",
    "    elif x == \"daysM_weeks2\":\n",
    "        orp_1[i] = 0\n",
    "        orp_2[i] = 0\n",
    "        orp_3[i] = 0\n",
    "        adv_1[i] = 0\n",
    "        adv_2[i] = 1\n",
    "    elif x == \"daysM_weeksM\":\n",
    "        orp_1[i] = 0\n",
    "        orp_2[i] = 0\n",
    "        orp_3[i] = 0\n",
    "        adv_1[i] = 0\n",
    "        adv_2[i] = 0\n",
    "        \n",
    "round3_clean[\"orp_1\"]=orp_1\n",
    "round3_clean[\"orp_2\"]=orp_2\n",
    "round3_clean[\"orp_3\"]=orp_3\n",
    "round3_clean[\"adv_1\"]=adv_1\n",
    "round3_clean[\"adv_2\"]=adv_2"
   ]
  },
  {
   "cell_type": "code",
   "execution_count": 233,
   "metadata": {
    "collapsed": false
   },
   "outputs": [],
   "source": [
    "round3_clean[\"orp_1, adv_1\"] = round3_clean[\"orp_1\"]*round3_clean[\"adv_1\"]\n",
    "round3_clean[\"orp_1, adv_2\"] = round3_clean[\"orp_1\"]*round3_clean[\"adv_2\"]\n",
    "round3_clean[\"orp_2, adv_1\"] = round3_clean[\"orp_2\"]*round3_clean[\"adv_1\"]\n",
    "round3_clean[\"orp_2, adv_2\"] = round3_clean[\"orp_2\"]*round3_clean[\"adv_2\"]\n",
    "round3_clean[\"orp_3, adv_1\"] = round3_clean[\"orp_3\"]*round3_clean[\"adv_1\"]\n",
    "round3_clean[\"orp_3, adv_2\"] = round3_clean[\"orp_3\"]*round3_clean[\"adv_2\"]"
   ]
  },
  {
   "cell_type": "code",
   "execution_count": 234,
   "metadata": {
    "collapsed": false
   },
   "outputs": [
    {
     "data": {
      "text/plain": [
       "Index([                       u'id',                   u'host_id',\n",
       "              u'host_response_rate',      u'host_acceptance_rate',\n",
       "       u'host_total_listings_count',          u'instant_bookable',\n",
       "                       u'room_type',               u'bucket_name',\n",
       "                  u'discount_asked',             u'nightly_price',\n",
       "                        u'decision',              u'price_agreed',\n",
       "                 u'discount_agreed',            u'percent_agreed',\n",
       "                       u'calendars',           u'price_requested',\n",
       "                    u'price_median',                 u'price_std',\n",
       "                u'orig_percent_off',              u'occupancy_1m',\n",
       "                          u'shared',                   u'instant',\n",
       "                   u'response_rate',                     u'orp_1',\n",
       "                           u'orp_2',                     u'orp_3',\n",
       "                           u'adv_1',                     u'adv_2',\n",
       "                    u'orp_1, adv_1',              u'orp_1, adv_2',\n",
       "                    u'orp_2, adv_1',              u'orp_2, adv_2',\n",
       "                    u'orp_3, adv_1',              u'orp_3, adv_2'],\n",
       "      dtype='object')"
      ]
     },
     "execution_count": 234,
     "metadata": {},
     "output_type": "execute_result"
    }
   ],
   "source": [
    "round3_clean.columns"
   ]
  },
  {
   "cell_type": "markdown",
   "metadata": {},
   "source": [
    "#### 4. Process the decision variables:\n",
    "\n",
    "Calculate the percentage of the discount agreed:"
   ]
  },
  {
   "cell_type": "code",
   "execution_count": 235,
   "metadata": {
    "collapsed": false
   },
   "outputs": [
    {
     "data": {
      "text/plain": [
       "decision\n",
       "-1    144\n",
       " 0     80\n",
       " 1     64\n",
       "Name: id, dtype: int64"
      ]
     },
     "execution_count": 235,
     "metadata": {},
     "output_type": "execute_result"
    }
   ],
   "source": [
    "round3_clean.groupby(\"decision\")[\"id\"].count()"
   ]
  },
  {
   "cell_type": "code",
   "execution_count": 236,
   "metadata": {
    "collapsed": false
   },
   "outputs": [],
   "source": [
    "orig_price = round3_clean[\"nightly_price\"]\n",
    "price_agreed_percent = (np.nan_to_num(round3_clean[\"price_agreed\"])/orig_price)\n",
    "discount_agreed1 = [0 if (d>=1 or d==0) else 1-d for d in price_agreed_percent]\n",
    "discount_agreed2 = np.nan_to_num(round3_clean[\"discount_agreed\"]/orig_price)\n",
    "discount_agreed3 = np.nan_to_num(round3_clean[\"percent_agreed\"])\n",
    "\n",
    "discount_obtained = np.max([discount1, discount_agreed2, discount_agreed3], axis=0)\n",
    "# print discount_agreed\n",
    "\n",
    "round3_clean[\"discount_obtained\"] = discount_agreed"
   ]
  },
  {
   "cell_type": "markdown",
   "metadata": {},
   "source": [
    "### Again, only keep the useful columns"
   ]
  },
  {
   "cell_type": "code",
   "execution_count": 237,
   "metadata": {
    "collapsed": false
   },
   "outputs": [
    {
     "data": {
      "text/plain": [
       "Index([                       u'id',                   u'host_id',\n",
       "              u'host_response_rate',      u'host_acceptance_rate',\n",
       "       u'host_total_listings_count',          u'instant_bookable',\n",
       "                       u'room_type',               u'bucket_name',\n",
       "                  u'discount_asked',             u'nightly_price',\n",
       "                        u'decision',              u'price_agreed',\n",
       "                 u'discount_agreed',            u'percent_agreed',\n",
       "                       u'calendars',           u'price_requested',\n",
       "                    u'price_median',                 u'price_std',\n",
       "                u'orig_percent_off',              u'occupancy_1m',\n",
       "                          u'shared',                   u'instant',\n",
       "                   u'response_rate',                     u'orp_1',\n",
       "                           u'orp_2',                     u'orp_3',\n",
       "                           u'adv_1',                     u'adv_2',\n",
       "                    u'orp_1, adv_1',              u'orp_1, adv_2',\n",
       "                    u'orp_2, adv_1',              u'orp_2, adv_2',\n",
       "                    u'orp_3, adv_1',              u'orp_3, adv_2',\n",
       "               u'discount_obtained'],\n",
       "      dtype='object')"
      ]
     },
     "execution_count": 237,
     "metadata": {},
     "output_type": "execute_result"
    }
   ],
   "source": [
    "round3_clean.columns"
   ]
  },
  {
   "cell_type": "code",
   "execution_count": 238,
   "metadata": {
    "collapsed": true
   },
   "outputs": [],
   "source": [
    "round3_regress = round3_clean[[\"host_total_listings_count\", \"response_rate\", \"instant\", \"shared\", \n",
    "                               \"price_median\", \"price_std\", \"occupancy_1m\",\n",
    "                               \"orp_1\", \"orp_2\", \"orp_3\", \"adv_1\", \"adv_2\", \n",
    "                               \"orp_1, adv_1\", \"orp_1, adv_2\", \"orp_2, adv_1\", \"orp_2, adv_2\", \"orp_3, adv_1\", \"orp_3, adv_2\",\n",
    "                               \"orig_percent_off\", \"discount_asked\", \"decision\", \"discount_obtained\"]]"
   ]
  },
  {
   "cell_type": "code",
   "execution_count": 239,
   "metadata": {
    "collapsed": false
   },
   "outputs": [
    {
     "data": {
      "text/html": [
       "<div>\n",
       "<table border=\"1\" class=\"dataframe\">\n",
       "  <thead>\n",
       "    <tr style=\"text-align: right;\">\n",
       "      <th></th>\n",
       "      <th>host_total_listings_count</th>\n",
       "      <th>response_rate</th>\n",
       "      <th>instant</th>\n",
       "      <th>shared</th>\n",
       "      <th>price_median</th>\n",
       "      <th>price_std</th>\n",
       "      <th>occupancy_1m</th>\n",
       "      <th>orp_1</th>\n",
       "      <th>orp_2</th>\n",
       "      <th>orp_3</th>\n",
       "      <th>...</th>\n",
       "      <th>orp_1, adv_1</th>\n",
       "      <th>orp_1, adv_2</th>\n",
       "      <th>orp_2, adv_1</th>\n",
       "      <th>orp_2, adv_2</th>\n",
       "      <th>orp_3, adv_1</th>\n",
       "      <th>orp_3, adv_2</th>\n",
       "      <th>orig_percent_off</th>\n",
       "      <th>discount_asked</th>\n",
       "      <th>decision</th>\n",
       "      <th>discount_obtained</th>\n",
       "    </tr>\n",
       "  </thead>\n",
       "  <tbody>\n",
       "    <tr>\n",
       "      <th>0</th>\n",
       "      <td>5</td>\n",
       "      <td>0.890000</td>\n",
       "      <td>False</td>\n",
       "      <td>True</td>\n",
       "      <td>49</td>\n",
       "      <td>0.132639</td>\n",
       "      <td>0.100000</td>\n",
       "      <td>0</td>\n",
       "      <td>0</td>\n",
       "      <td>1</td>\n",
       "      <td>...</td>\n",
       "      <td>0</td>\n",
       "      <td>0</td>\n",
       "      <td>0</td>\n",
       "      <td>0</td>\n",
       "      <td>0</td>\n",
       "      <td>1</td>\n",
       "      <td>0.379747</td>\n",
       "      <td>0.9</td>\n",
       "      <td>0</td>\n",
       "      <td>0</td>\n",
       "    </tr>\n",
       "    <tr>\n",
       "      <th>1</th>\n",
       "      <td>5</td>\n",
       "      <td>1.000000</td>\n",
       "      <td>False</td>\n",
       "      <td>True</td>\n",
       "      <td>55</td>\n",
       "      <td>0.019470</td>\n",
       "      <td>0.600000</td>\n",
       "      <td>0</td>\n",
       "      <td>0</td>\n",
       "      <td>1</td>\n",
       "      <td>...</td>\n",
       "      <td>0</td>\n",
       "      <td>0</td>\n",
       "      <td>0</td>\n",
       "      <td>0</td>\n",
       "      <td>0</td>\n",
       "      <td>1</td>\n",
       "      <td>0.000000</td>\n",
       "      <td>0.7</td>\n",
       "      <td>0</td>\n",
       "      <td>0</td>\n",
       "    </tr>\n",
       "    <tr>\n",
       "      <th>10</th>\n",
       "      <td>1</td>\n",
       "      <td>0.910584</td>\n",
       "      <td>False</td>\n",
       "      <td>False</td>\n",
       "      <td>52</td>\n",
       "      <td>0.040914</td>\n",
       "      <td>0.533333</td>\n",
       "      <td>0</td>\n",
       "      <td>0</td>\n",
       "      <td>0</td>\n",
       "      <td>...</td>\n",
       "      <td>0</td>\n",
       "      <td>0</td>\n",
       "      <td>0</td>\n",
       "      <td>0</td>\n",
       "      <td>0</td>\n",
       "      <td>0</td>\n",
       "      <td>0.137931</td>\n",
       "      <td>0.9</td>\n",
       "      <td>0</td>\n",
       "      <td>0</td>\n",
       "    </tr>\n",
       "    <tr>\n",
       "      <th>100</th>\n",
       "      <td>2</td>\n",
       "      <td>1.000000</td>\n",
       "      <td>False</td>\n",
       "      <td>False</td>\n",
       "      <td>190</td>\n",
       "      <td>0.128456</td>\n",
       "      <td>0.033333</td>\n",
       "      <td>1</td>\n",
       "      <td>0</td>\n",
       "      <td>0</td>\n",
       "      <td>...</td>\n",
       "      <td>0</td>\n",
       "      <td>0</td>\n",
       "      <td>0</td>\n",
       "      <td>0</td>\n",
       "      <td>0</td>\n",
       "      <td>0</td>\n",
       "      <td>0.500000</td>\n",
       "      <td>0.6</td>\n",
       "      <td>0</td>\n",
       "      <td>0</td>\n",
       "    </tr>\n",
       "    <tr>\n",
       "      <th>101</th>\n",
       "      <td>2</td>\n",
       "      <td>1.000000</td>\n",
       "      <td>False</td>\n",
       "      <td>False</td>\n",
       "      <td>175</td>\n",
       "      <td>0.196970</td>\n",
       "      <td>0.200000</td>\n",
       "      <td>1</td>\n",
       "      <td>0</td>\n",
       "      <td>0</td>\n",
       "      <td>...</td>\n",
       "      <td>1</td>\n",
       "      <td>0</td>\n",
       "      <td>0</td>\n",
       "      <td>0</td>\n",
       "      <td>0</td>\n",
       "      <td>0</td>\n",
       "      <td>0.777778</td>\n",
       "      <td>0.6</td>\n",
       "      <td>0</td>\n",
       "      <td>0</td>\n",
       "    </tr>\n",
       "  </tbody>\n",
       "</table>\n",
       "<p>5 rows × 22 columns</p>\n",
       "</div>"
      ],
      "text/plain": [
       "     host_total_listings_count  response_rate instant shared  price_median  \\\n",
       "0                            5       0.890000   False   True            49   \n",
       "1                            5       1.000000   False   True            55   \n",
       "10                           1       0.910584   False  False            52   \n",
       "100                          2       1.000000   False  False           190   \n",
       "101                          2       1.000000   False  False           175   \n",
       "\n",
       "     price_std  occupancy_1m  orp_1  orp_2  orp_3        ...          \\\n",
       "0     0.132639      0.100000      0      0      1        ...           \n",
       "1     0.019470      0.600000      0      0      1        ...           \n",
       "10    0.040914      0.533333      0      0      0        ...           \n",
       "100   0.128456      0.033333      1      0      0        ...           \n",
       "101   0.196970      0.200000      1      0      0        ...           \n",
       "\n",
       "     orp_1, adv_1  orp_1, adv_2  orp_2, adv_1  orp_2, adv_2  orp_3, adv_1  \\\n",
       "0               0             0             0             0             0   \n",
       "1               0             0             0             0             0   \n",
       "10              0             0             0             0             0   \n",
       "100             0             0             0             0             0   \n",
       "101             1             0             0             0             0   \n",
       "\n",
       "     orp_3, adv_2  orig_percent_off  discount_asked  decision  \\\n",
       "0               1          0.379747             0.9         0   \n",
       "1               1          0.000000             0.7         0   \n",
       "10              0          0.137931             0.9         0   \n",
       "100             0          0.500000             0.6         0   \n",
       "101             0          0.777778             0.6         0   \n",
       "\n",
       "     discount_obtained  \n",
       "0                    0  \n",
       "1                    0  \n",
       "10                   0  \n",
       "100                  0  \n",
       "101                  0  \n",
       "\n",
       "[5 rows x 22 columns]"
      ]
     },
     "execution_count": 239,
     "metadata": {},
     "output_type": "execute_result"
    }
   ],
   "source": [
    "round3_regress.head()"
   ]
  },
  {
   "cell_type": "code",
   "execution_count": 254,
   "metadata": {
    "collapsed": false
   },
   "outputs": [],
   "source": [
    "round3_available = round3_regress[round3_regress[\"decision\"]!=-1]\n",
    "cal_param = [\"orp_1\", \"orp_2\", \"orp_3\", \"adv_1\", \"adv_2\", \"orp_1, adv_1\", \"orp_1, adv_2\", \"orp_2, adv_1\", \"orp_2, adv_2\", \"orp_3, adv_1\", \"orp_3, adv_2\"]\n",
    "all_param = cal_param + [\"host_total_listings_count\", \"response_rate\", \"instant\", \"shared\",  \"price_median\", \"price_std\", \"occupancy_1m\"]\n",
    "\n",
    "X_train = round3_available[all_param].values\n",
    "Y_train = round3_available[\"decision\"].values"
   ]
  },
  {
   "cell_type": "code",
   "execution_count": 241,
   "metadata": {
    "collapsed": false
   },
   "outputs": [
    {
     "data": {
      "text/plain": [
       "host_total_listings_count    0\n",
       "response_rate                0\n",
       "instant                      0\n",
       "shared                       0\n",
       "price_median                 0\n",
       "price_std                    0\n",
       "occupancy_1m                 0\n",
       "orp_1                        0\n",
       "orp_2                        0\n",
       "orp_3                        0\n",
       "adv_1                        0\n",
       "adv_2                        0\n",
       "orp_1, adv_1                 0\n",
       "orp_1, adv_2                 0\n",
       "orp_2, adv_1                 0\n",
       "orp_2, adv_2                 0\n",
       "orp_3, adv_1                 0\n",
       "orp_3, adv_2                 0\n",
       "orig_percent_off             0\n",
       "discount_asked               0\n",
       "decision                     0\n",
       "discount_obtained            0\n",
       "dtype: int64"
      ]
     },
     "execution_count": 241,
     "metadata": {},
     "output_type": "execute_result"
    }
   ],
   "source": [
    "round3_available.isnull().sum()"
   ]
  },
  {
   "cell_type": "markdown",
   "metadata": {},
   "source": [
    "#### Logistic"
   ]
  },
  {
   "cell_type": "code",
   "execution_count": 247,
   "metadata": {
    "collapsed": false
   },
   "outputs": [],
   "source": [
    "logistic = LogisticRegression()\n",
    "logistic.fit(X_train, Y_train)\n",
    "# precisions=cross_validation.cross_val_score(lr, X, y, cv=kf_total, scoring='precision')\n",
    "\n",
    "lr_scores = -cross_val_score(logistic, X_train, Y_train, scoring='mean_squared_error', cv=10)"
   ]
  },
  {
   "cell_type": "code",
   "execution_count": 263,
   "metadata": {
    "collapsed": false
   },
   "outputs": [
    {
     "data": {
      "text/plain": [
       "[('orp_1', -0.061088286840731906),\n",
       " ('orp_2', 0.3451419707199902),\n",
       " ('orp_3', 0.061132676365769335),\n",
       " ('adv_1', -0.078097158826914939),\n",
       " ('adv_2', 0.052609956196287944),\n",
       " ('orp_1, adv_1', -0.4988067599173357),\n",
       " ('orp_1, adv_2', 0.84242034058511639),\n",
       " ('orp_2, adv_1', 0.24888623520448791),\n",
       " ('orp_2, adv_2', 0.17593770923564028),\n",
       " ('orp_3, adv_1', -0.50883326627850534),\n",
       " ('orp_3, adv_2', 0.070327537380122193),\n",
       " ('host_total_listings_count', 0.10507800052626876),\n",
       " ('response_rate', -0.47538905036772883),\n",
       " ('instant', 0.0),\n",
       " ('shared', -0.30090044064740978),\n",
       " ('price_median', 0.0022937233958379983),\n",
       " ('price_std', -0.0076690465998536586),\n",
       " ('occupancy_1m', -0.48001036829620364)]"
      ]
     },
     "execution_count": 263,
     "metadata": {},
     "output_type": "execute_result"
    }
   ],
   "source": [
    "zip(all_param, np.ravel(logistic.coef_))"
   ]
  },
  {
   "cell_type": "code",
   "execution_count": 248,
   "metadata": {
    "collapsed": false
   },
   "outputs": [
    {
     "name": "stdout",
     "output_type": "stream",
     "text": [
      "0.659722222222\n",
      "[ 0.6         0.53333333  0.4         0.46666667  0.42857143  0.42857143\n",
      "  0.57142857  0.64285714  0.14285714  0.57142857]\n"
     ]
    }
   ],
   "source": [
    "print logistic.score(X_train, Y_train)\n",
    "print lr_scores"
   ]
  },
  {
   "cell_type": "markdown",
   "metadata": {},
   "source": [
    "#### Random Forest"
   ]
  },
  {
   "cell_type": "code",
   "execution_count": 249,
   "metadata": {
    "collapsed": true
   },
   "outputs": [],
   "source": [
    "rf = RandomForestRegressor(n_estimators=100)\n",
    "rf.fit(X_train, Y_train)\n",
    "# precisions=cross_validation.cross_val_score(lr, X, y, cv=kf_total, scoring='precision')\n",
    "\n",
    "rf_scores = -cross_val_score(rf, X_train, Y_train, scoring='mean_squared_error', cv=5)"
   ]
  },
  {
   "cell_type": "code",
   "execution_count": 250,
   "metadata": {
    "collapsed": false
   },
   "outputs": [
    {
     "name": "stdout",
     "output_type": "stream",
     "text": [
      "0.8471828125\n",
      "[ 0.25388276  0.32818966  0.25532414  0.34973448  0.27791786]\n"
     ]
    }
   ],
   "source": [
    "print rf.score(X_train, Y_train)\n",
    "print rf_scores"
   ]
  },
  {
   "cell_type": "code",
   "execution_count": 261,
   "metadata": {
    "collapsed": false
   },
   "outputs": [
    {
     "name": "stdout",
     "output_type": "stream",
     "text": [
      "Feature ranking:\n",
      "1. feature: orp_1 15 (0.185261)\n",
      "2. feature: orp_2 17 (0.174381)\n",
      "3. feature: orp_3 16 (0.168698)\n",
      "4. feature: adv_1 12 (0.130414)\n",
      "5. feature: adv_2 11 (0.106707)\n",
      "6. feature: orp_1, adv_1 14 (0.042036)\n",
      "7. feature: orp_1, adv_2 3 (0.024641)\n",
      "8. feature: orp_2, adv_1 0 (0.024373)\n",
      "9. feature: orp_2, adv_2 4 (0.023026)\n",
      "10. feature: orp_3, adv_1 1 (0.022694)\n",
      "11. feature: orp_3, adv_2 2 (0.019745)\n",
      "12. feature: host_total_listings_count 6 (0.018482)\n",
      "13. feature: response_rate 8 (0.015220)\n",
      "14. feature: instant 7 (0.015160)\n",
      "15. feature: shared 9 (0.012269)\n",
      "16. feature: price_median 10 (0.009358)\n",
      "17. feature: price_std 5 (0.007536)\n",
      "18. feature: occupancy_1m 13 (0.000000)\n"
     ]
    },
    {
     "data": {
      "image/png": "[encoded data removed]",
      "text/plain": [
       "<matplotlib.figure.Figure at 0x113aa7710>"
      ]
     },
     "metadata": {},
     "output_type": "display_data"
    }
   ],
   "source": [
    "from sklearn.datasets import make_classification\n",
    "from sklearn.ensemble import ExtraTreesClassifier\n",
    "\n",
    "# # Build a classification task using 3 informative features\n",
    "# X_train, Y_train = make_classification(n_samples=1000,\n",
    "#                            n_features=10,\n",
    "#                            n_informative=3,\n",
    "#                            n_redundant=0,\n",
    "#                            n_repeated=0,\n",
    "#                            n_classes=2,\n",
    "#                            random_state=0,\n",
    "#                            shuffle=False)\n",
    "\n",
    "# Build a forest and compute the feature importances\n",
    "forest = ExtraTreesClassifier(n_estimators=100,\n",
    "                              random_state=0)\n",
    "\n",
    "forest.fit(X_train, Y_train)\n",
    "importances = forest.feature_importances_\n",
    "std = np.std([tree.feature_importances_ for tree in forest.estimators_],\n",
    "             axis=0)\n",
    "indices = np.argsort(importances)[::-1]\n",
    "\n",
    "# Print the feature ranking\n",
    "print(\"Feature ranking:\")\n",
    "\n",
    "for f in range(X_train.shape[1]):\n",
    "    print(\"%d. feature: %s %d (%f)\" % (f + 1, all_param[f], indices[f], importances[indices[f]]))\n",
    "\n",
    "# Plot the feature importances of the forest\n",
    "plt.figure(figsize=(12,8))\n",
    "plt.title(\"Feature importances\")\n",
    "plt.bar(range(X_train.shape[1]), importances[indices],\n",
    "       color=\"r\", yerr=std[indices], align=\"center\")\n",
    "plt.xticks(range(X_train.shape[1]), indices)\n",
    "plt.xlim([-1, X_train.shape[1]])\n",
    "plt.show()"
   ]
  },
  {
   "cell_type": "code",
   "execution_count": null,
   "metadata": {
    "collapsed": true
   },
   "outputs": [],
   "source": []
  },
  {
   "cell_type": "code",
   "execution_count": 108,
   "metadata": {
    "collapsed": true
   },
   "outputs": [],
   "source": [
    "available= pd.merge(responses[responses[\"availability\"]!=-1], inside_airbnb, how='inner',left_on=['id'], right_on=['id'])"
   ]
  },
  {
   "cell_type": "code",
   "execution_count": 109,
   "metadata": {
    "collapsed": false
   },
   "outputs": [
    {
     "name": "stdout",
     "output_type": "stream",
     "text": [
      "104\n",
      "bucket_name\n",
      "days1_weeks1    10\n",
      "days1_weeksM     9\n",
      "days2_weeks1     9\n",
      "days2_weeks2    12\n",
      "days2_weeksM    10\n",
      "days3_weeks1    11\n",
      "days3_weeks2     5\n",
      "days3_weeksM     9\n",
      "daysM_weeks1    10\n",
      "daysM_weeks2     9\n",
      "daysM_weeksM    10\n",
      "Name: id, dtype: int64\n"
     ]
    }
   ],
   "source": [
    "sample_count = available.groupby(\"bucket_name\")[\"id\"].count()\n",
    "print len(available)\n",
    "print sample_count"
   ]
  },
  {
   "cell_type": "code",
   "execution_count": 110,
   "metadata": {
    "collapsed": true
   },
   "outputs": [],
   "source": [
    "cal_param = [\"orp_1\", \"orp_2\", \"orp_3\", \"adv_1\", \"adv_2\", \"orp_1, adv_1\", \"orp_1, adv_2\", \"orp_2, adv_1\", \"orp_2, adv_2\", \"orp_3, adv_1\", \"orp_3, adv_2\"]\n",
    "all_param = cal_param + [\"discount_asked\", \"nightly_price\", \"shared\", \"instant\"]"
   ]
  },
  {
   "cell_type": "code",
   "execution_count": 111,
   "metadata": {
    "collapsed": false
   },
   "outputs": [],
   "source": [
    "X_train = available[all_param].values\n",
    "Y_train = available[\"availability\"].values"
   ]
  },
  {
   "cell_type": "markdown",
   "metadata": {},
   "source": [
    "## Logistic Regression"
   ]
  },
  {
   "cell_type": "code",
   "execution_count": 112,
   "metadata": {
    "collapsed": false
   },
   "outputs": [],
   "source": [
    "logistic = LogisticRegression()\n",
    "logistic.fit(X_train, Y_train)\n",
    "# precisions=cross_validation.cross_val_score(lr, X, y, cv=kf_total, scoring='precision')\n",
    "\n",
    "lr_scores = -cross_val_score(logistic, X_train, Y_train, scoring='mean_squared_error', cv=5)"
   ]
  },
  {
   "cell_type": "markdown",
   "metadata": {},
   "source": [
    "#### Coefficient"
   ]
  },
  {
   "cell_type": "code",
   "execution_count": 113,
   "metadata": {
    "collapsed": false
   },
   "outputs": [
    {
     "data": {
      "text/plain": [
       "[('orp_1', -0.67978310106545903),\n",
       " ('orp_2', 0.44899177569948689),\n",
       " ('orp_3', 0.48967858479423343),\n",
       " ('adv_1', -0.50649697324094611),\n",
       " ('adv_2', -0.45148027073001312),\n",
       " ('orp_1, adv_1', 0.2947336720609543),\n",
       " ('orp_1, adv_2', 0.0),\n",
       " ('orp_2, adv_1', -0.069988895069940132),\n",
       " ('orp_2, adv_2', 0.43221886011959287),\n",
       " ('orp_3, adv_1', -0.04378944953693914),\n",
       " ('orp_3, adv_2', 0.41504606143040967),\n",
       " ('discount_asked', -0.24696961430142622),\n",
       " ('nightly_price', 0.0044412580210620861),\n",
       " ('shared', 0.036177417352815128),\n",
       " ('instant', 0.0)]"
      ]
     },
     "execution_count": 113,
     "metadata": {},
     "output_type": "execute_result"
    }
   ],
   "source": [
    "zip(all_param, np.ravel(logistic.coef_))"
   ]
  },
  {
   "cell_type": "markdown",
   "metadata": {},
   "source": [
    "#### Accuracy"
   ]
  },
  {
   "cell_type": "code",
   "execution_count": 114,
   "metadata": {
    "collapsed": false
   },
   "outputs": [
    {
     "data": {
      "text/plain": [
       "0.69230769230769229"
      ]
     },
     "execution_count": 114,
     "metadata": {},
     "output_type": "execute_result"
    }
   ],
   "source": [
    "logistic.score(X_train, Y_train)"
   ]
  },
  {
   "cell_type": "code",
   "execution_count": 115,
   "metadata": {
    "collapsed": false
   },
   "outputs": [
    {
     "data": {
      "text/plain": [
       "array([ 0.36363636,  0.72727273,  0.55      ,  0.4       ,  0.3       ])"
      ]
     },
     "execution_count": 115,
     "metadata": {},
     "output_type": "execute_result"
    }
   ],
   "source": [
    "lr_scores"
   ]
  },
  {
   "cell_type": "markdown",
   "metadata": {},
   "source": [
    "#### Prediction"
   ]
  },
  {
   "cell_type": "code",
   "execution_count": 116,
   "metadata": {
    "collapsed": false,
    "scrolled": true
   },
   "outputs": [
    {
     "data": {
      "text/plain": [
       "array([[ 0.82316984,  0.17683016],\n",
       "       [ 0.84021617,  0.15978383],\n",
       "       [ 0.83849245,  0.16150755],\n",
       "       [ 0.84180909,  0.15819091],\n",
       "       [ 0.830444  ,  0.169556  ]])"
      ]
     },
     "execution_count": 116,
     "metadata": {},
     "output_type": "execute_result"
    }
   ],
   "source": [
    "logistic.predict_proba(X_train)[:5]"
   ]
  },
  {
   "cell_type": "markdown",
   "metadata": {
    "collapsed": true
   },
   "source": [
    "## Random Forest"
   ]
  },
  {
   "cell_type": "code",
   "execution_count": 146,
   "metadata": {
    "collapsed": true
   },
   "outputs": [],
   "source": [
    "rf = RandomForestRegressor(n_estimators=100)\n",
    "rf.fit(X_train, Y_train)\n",
    "# precisions=cross_validation.cross_val_score(lr, X, y, cv=kf_total, scoring='precision')\n",
    "\n",
    "rf_scores = -cross_val_score(rf, X_train, Y_train, scoring='mean_squared_error', cv=5)"
   ]
  },
  {
   "cell_type": "code",
   "execution_count": 147,
   "metadata": {
    "collapsed": false
   },
   "outputs": [
    {
     "data": {
      "text/plain": [
       "0.84335812827753132"
      ]
     },
     "execution_count": 147,
     "metadata": {},
     "output_type": "execute_result"
    }
   ],
   "source": [
    "rf.score(X_train, Y_train)"
   ]
  },
  {
   "cell_type": "code",
   "execution_count": 148,
   "metadata": {
    "collapsed": false
   },
   "outputs": [
    {
     "data": {
      "text/plain": [
       "array([ 0.16735238,  0.23689048,  0.24374762,  0.26832857,  0.28012   ])"
      ]
     },
     "execution_count": 148,
     "metadata": {},
     "output_type": "execute_result"
    }
   ],
   "source": [
    "rf_scores"
   ]
  },
  {
   "cell_type": "code",
   "execution_count": 149,
   "metadata": {
    "collapsed": false
   },
   "outputs": [
    {
     "data": {
      "text/plain": [
       "array([ 0.07,  0.02,  0.  ,  0.16,  0.  ,  0.1 ,  0.74,  0.17,  0.75,\n",
       "        0.06,  0.02,  0.69,  0.18,  0.05,  0.19,  0.13,  0.15,  0.17,\n",
       "        0.08,  0.18,  0.04,  0.04,  0.07,  0.01,  0.68,  0.93,  0.11,\n",
       "        0.93,  0.69,  0.12,  0.26,  0.68,  0.13,  0.31,  0.75,  0.19,\n",
       "        0.94,  0.85,  0.76,  0.19,  0.13,  0.76,  0.97,  0.85,  0.21,\n",
       "        0.05,  0.92,  0.92,  0.09,  0.04,  0.28,  0.03,  0.81,  0.08,\n",
       "        0.05,  0.77,  0.75,  0.3 ,  0.67,  0.03,  0.08,  0.72,  0.8 ,\n",
       "        0.83,  0.21,  0.19,  0.79,  0.09,  0.69,  0.21,  0.13,  0.26,\n",
       "        0.74,  0.83,  0.66,  0.65,  0.09,  0.04,  0.09,  0.15,  0.04,\n",
       "        0.35,  0.24,  0.03,  0.7 ,  0.16,  0.09,  0.68,  0.02,  0.08,\n",
       "        0.1 ,  0.13,  0.13,  0.13,  0.24,  0.75,  0.68,  0.2 ,  0.06,\n",
       "        0.74,  0.21,  0.71,  0.73,  0.09])"
      ]
     },
     "execution_count": 149,
     "metadata": {},
     "output_type": "execute_result"
    }
   ],
   "source": [
    "rf.predict(X_train)"
   ]
  },
  {
   "cell_type": "markdown",
   "metadata": {},
   "source": [
    "## SVM"
   ]
  },
  {
   "cell_type": "code",
   "execution_count": 134,
   "metadata": {
    "collapsed": false
   },
   "outputs": [],
   "source": [
    "clf = svm.SVC()\n",
    "clf.fit(X_train, Y_train)  \n",
    "\n",
    "clf_scores = -cross_val_score(clf, X_train, Y_train, scoring='mean_squared_error', cv=5)"
   ]
  },
  {
   "cell_type": "code",
   "execution_count": 135,
   "metadata": {
    "collapsed": false
   },
   "outputs": [
    {
     "data": {
      "text/plain": [
       "0.82692307692307687"
      ]
     },
     "execution_count": 135,
     "metadata": {},
     "output_type": "execute_result"
    }
   ],
   "source": [
    "clf.score(X_train, Y_train)"
   ]
  },
  {
   "cell_type": "code",
   "execution_count": 136,
   "metadata": {
    "collapsed": false
   },
   "outputs": [
    {
     "data": {
      "text/plain": [
       "array([ 0.45454545,  0.36363636,  0.4       ,  0.25      ,  0.35      ])"
      ]
     },
     "execution_count": 136,
     "metadata": {},
     "output_type": "execute_result"
    }
   ],
   "source": [
    "clf_scores"
   ]
  },
  {
   "cell_type": "code",
   "execution_count": 137,
   "metadata": {
    "collapsed": false
   },
   "outputs": [
    {
     "data": {
      "text/plain": [
       "array([[   1.,    0.,    0., ...,   65.,    1.,    0.],\n",
       "       [   1.,    0.,    0., ...,   32.,    1.,    0.],\n",
       "       [   1.,    0.,    0., ...,   48.,    1.,    0.],\n",
       "       ..., \n",
       "       [   0.,    0.,    0., ...,  283.,    0.,    0.],\n",
       "       [   0.,    0.,    0., ...,   69.,    1.,    0.],\n",
       "       [   0.,    0.,    0., ...,   72.,    1.,    0.]])"
      ]
     },
     "execution_count": 137,
     "metadata": {},
     "output_type": "execute_result"
    }
   ],
   "source": [
    "clf.support_vectors_"
   ]
  }
 ],
 "metadata": {
  "kernelspec": {
   "display_name": "Python 2",
   "language": "python",
   "name": "python2"
  },
  "language_info": {
   "codemirror_mode": {
    "name": "ipython",
    "version": 2
   },
   "file_extension": ".py",
   "mimetype": "text/x-python",
   "name": "python",
   "nbconvert_exporter": "python",
   "pygments_lexer": "ipython2",
   "version": "2.7.11"
  }
 },
 "nbformat": 4,
 "nbformat_minor": 0
}
