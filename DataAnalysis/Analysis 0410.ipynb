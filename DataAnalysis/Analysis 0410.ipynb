{
 "cells": [
  {
   "cell_type": "code",
   "execution_count": 2,
   "metadata": {
    "collapsed": false
   },
   "outputs": [
    {
     "name": "stderr",
     "output_type": "stream",
     "text": [
      "/Users/fqian/anaconda/lib/python2.7/site-packages/matplotlib/font_manager.py:273: UserWarning: Matplotlib is building the font cache using fc-list. This may take a moment.\n",
      "  warnings.warn('Matplotlib is building the font cache using fc-list. This may take a moment.')\n"
     ]
    }
   ],
   "source": [
    "import pandas as pd\n",
    "import numpy as np\n",
    "import matplotlib.pyplot as plt\n",
    "import seaborn as sns\n",
    "%matplotlib inline  \n",
    "import datetime as dt"
   ]
  },
  {
   "cell_type": "code",
   "execution_count": 3,
   "metadata": {
    "collapsed": true
   },
   "outputs": [],
   "source": [
    "from sklearn.linear_model import LinearRegression\n",
    "from sklearn.linear_model import LogisticRegression\n",
    "from sklearn.ensemble import RandomForestRegressor\n",
    "from sklearn.cross_validation import cross_val_predict\n",
    "from sklearn.cross_validation import cross_val_score\n",
    "from sklearn.preprocessing import PolynomialFeatures\n",
    "from sklearn import svm"
   ]
  },
  {
   "cell_type": "code",
   "execution_count": 12,
   "metadata": {
    "collapsed": false
   },
   "outputs": [
    {
     "name": "stdout",
     "output_type": "stream",
     "text": [
      "Index([u'id', u'listing_url', u'host_id', u'host_url', u'host_name',\n",
      "       u'host_response_time', u'host_response_rate', u'host_acceptance_rate',\n",
      "       u'host_is_superhost', u'host_total_listings_count', u'monthly_price',\n",
      "       u'minimum_nights', u'number_of_reviews', u'instant_bookable',\n",
      "       u'room_type', u'beds', u'extra_people', u'guests_included', u'account',\n",
      "       u'actions', u'availability', u'bucket_name', u'discount_asked',\n",
      "       u'discount_obtained', u'nightly_price', u'nightly_price_scraped',\n",
      "       u'response', u'decision', u'price_agreed', u'discount_agreed',\n",
      "       u'percent_agreed', u'calendars', u'openings',\n",
      "       u'nightly_plus_guest_price', u'price_requested'],\n",
      "      dtype='object')\n"
     ]
    }
   ],
   "source": [
    "round3 = pd.read_csv(\"round3_merged.csv\")\n",
    "round3.drop([\"Unnamed: 0\", \"Unnamed: 0.1\"],axis=1, inplace=True)\n",
    "print round3.columns\n",
    "round3.head()\n",
    "\n",
    "round3_clean = round3[[\"id\", \"host_id\", \"host_response_rate\", \"host_acceptance_rate\", \"host_total_listings_count\", \"monthly_price\", \"instant_bookable\", \"room_type\", \"bucket_name\", \"discount_asked\", ]]"
   ]
  },
  {
   "cell_type": "code",
   "execution_count": 103,
   "metadata": {
    "collapsed": false
   },
   "outputs": [
    {
     "data": {
      "text/html": [
       "<div>\n",
       "<table border=\"1\" class=\"dataframe\">\n",
       "  <thead>\n",
       "    <tr style=\"text-align: right;\">\n",
       "      <th></th>\n",
       "      <th>Unnamed: 0</th>\n",
       "      <th>actions</th>\n",
       "      <th>bucket_name</th>\n",
       "      <th>discount_asked</th>\n",
       "      <th>id</th>\n",
       "      <th>nightly_price</th>\n",
       "      <th>nightly_price_scraped</th>\n",
       "      <th>response</th>\n",
       "      <th>availability</th>\n",
       "      <th>price</th>\n",
       "      <th>discount</th>\n",
       "    </tr>\n",
       "  </thead>\n",
       "  <tbody>\n",
       "    <tr>\n",
       "      <th>0</th>\n",
       "      <td>0</td>\n",
       "      <td>[&lt;span class=\"horizontal-rule-wrapper\" data-re...</td>\n",
       "      <td>days1_weeks1</td>\n",
       "      <td>0.6</td>\n",
       "      <td>8823897</td>\n",
       "      <td>55</td>\n",
       "      <td>$60</td>\n",
       "      <td>Hi Reuben, my name is Michele and I am interes...</td>\n",
       "      <td>-1</td>\n",
       "      <td>NaN</td>\n",
       "      <td>NaN</td>\n",
       "    </tr>\n",
       "    <tr>\n",
       "      <th>1</th>\n",
       "      <td>1</td>\n",
       "      <td>[]</td>\n",
       "      <td>days1_weeks1</td>\n",
       "      <td>0.7</td>\n",
       "      <td>7803063</td>\n",
       "      <td>65</td>\n",
       "      <td>$120</td>\n",
       "      <td>No can do. Cleaning fee alone is $50.  *******...</td>\n",
       "      <td>0</td>\n",
       "      <td>NaN</td>\n",
       "      <td>NaN</td>\n",
       "    </tr>\n",
       "    <tr>\n",
       "      <th>2</th>\n",
       "      <td>2</td>\n",
       "      <td>[&lt;span class=\"horizontal-rule-wrapper\" data-re...</td>\n",
       "      <td>days1_weeks1</td>\n",
       "      <td>0.8</td>\n",
       "      <td>8860745</td>\n",
       "      <td>92</td>\n",
       "      <td>$112</td>\n",
       "      <td>I arrive late* (11pm) *************** Hi Miche...</td>\n",
       "      <td>-1</td>\n",
       "      <td>NaN</td>\n",
       "      <td>NaN</td>\n",
       "    </tr>\n",
       "    <tr>\n",
       "      <th>3</th>\n",
       "      <td>3</td>\n",
       "      <td>[&lt;span class=\"horizontal-rule-wrapper\" data-re...</td>\n",
       "      <td>days1_weeks1</td>\n",
       "      <td>0.6</td>\n",
       "      <td>6038278</td>\n",
       "      <td>32</td>\n",
       "      <td>$35</td>\n",
       "      <td>Hi the room is available but the price is firm...</td>\n",
       "      <td>0</td>\n",
       "      <td>NaN</td>\n",
       "      <td>NaN</td>\n",
       "    </tr>\n",
       "    <tr>\n",
       "      <th>4</th>\n",
       "      <td>4</td>\n",
       "      <td>[]</td>\n",
       "      <td>days1_weeks1</td>\n",
       "      <td>0.7</td>\n",
       "      <td>6400170</td>\n",
       "      <td>74</td>\n",
       "      <td>$130</td>\n",
       "      <td>Hi Andres, my name is Michele and I am interes...</td>\n",
       "      <td>-1</td>\n",
       "      <td>NaN</td>\n",
       "      <td>NaN</td>\n",
       "    </tr>\n",
       "  </tbody>\n",
       "</table>\n",
       "</div>"
      ],
      "text/plain": [
       "   Unnamed: 0                                            actions  \\\n",
       "0           0  [<span class=\"horizontal-rule-wrapper\" data-re...   \n",
       "1           1                                                 []   \n",
       "2           2  [<span class=\"horizontal-rule-wrapper\" data-re...   \n",
       "3           3  [<span class=\"horizontal-rule-wrapper\" data-re...   \n",
       "4           4                                                 []   \n",
       "\n",
       "    bucket_name  discount_asked       id  nightly_price nightly_price_scraped  \\\n",
       "0  days1_weeks1             0.6  8823897             55                  $60    \n",
       "1  days1_weeks1             0.7  7803063             65                 $120    \n",
       "2  days1_weeks1             0.8  8860745             92                 $112    \n",
       "3  days1_weeks1             0.6  6038278             32                  $35    \n",
       "4  days1_weeks1             0.7  6400170             74                 $130    \n",
       "\n",
       "                                            response  availability  price  \\\n",
       "0  Hi Reuben, my name is Michele and I am interes...            -1    NaN   \n",
       "1  No can do. Cleaning fee alone is $50.  *******...             0    NaN   \n",
       "2  I arrive late* (11pm) *************** Hi Miche...            -1    NaN   \n",
       "3  Hi the room is available but the price is firm...             0    NaN   \n",
       "4  Hi Andres, my name is Michele and I am interes...            -1    NaN   \n",
       "\n",
       "  discount  \n",
       "0      NaN  \n",
       "1      NaN  \n",
       "2      NaN  \n",
       "3      NaN  \n",
       "4      NaN  "
      ]
     },
     "execution_count": 103,
     "metadata": {},
     "output_type": "execute_result"
    }
   ],
   "source": [
    "responses = pd.read_csv('Responses Full 0328.csv')\n",
    "responses.head()"
   ]
  },
  {
   "cell_type": "markdown",
   "metadata": {},
   "source": [
    "#### Construct 11 variables: 3 types of orphans, 2 types of advances, and 3x2=6 types of interactions"
   ]
  },
  {
   "cell_type": "code",
   "execution_count": 104,
   "metadata": {
    "collapsed": false
   },
   "outputs": [],
   "source": [
    "opening_attr = responses[\"bucket_name\"].values\n",
    "# orphan = []\n",
    "# advance = []\n",
    "N = len(opening_attr)\n",
    "orp_1 = np.zeros(N)\n",
    "orp_2 = np.zeros(N)\n",
    "orp_3 = np.zeros(N)\n",
    "adv_1 = np.zeros(N)\n",
    "adv_2 = np.zeros(N)\n",
    "\n",
    "for (i,x) in enumerate(opening_attr):\n",
    "    if x == \"days1_weeks1\":\n",
    "        orp_1[i] = 1\n",
    "        orp_2[i] = 0\n",
    "        orp_3[i] = 0\n",
    "        adv_1[i] = 1\n",
    "        adv_2[i] = 0\n",
    "    elif x == \"days1_weeks2\":\n",
    "        orp_1[i] = 1\n",
    "        orp_2[i] = 0\n",
    "        orp_3[i] = 0\n",
    "        adv_1[i] = 0\n",
    "        adv_2[i] = 1\n",
    "    elif x == \"days1_weeksM\":\n",
    "        orp_1[i] = 1\n",
    "        orp_2[i] = 0\n",
    "        orp_3[i] = 0\n",
    "        adv_1[i] = 0\n",
    "        adv_2[i] = 0\n",
    "    elif x == \"days2_weeks1\":\n",
    "        orp_1[i] = 0\n",
    "        orp_2[i] = 1\n",
    "        orp_3[i] = 0\n",
    "        adv_1[i] = 1\n",
    "        adv_2[i] = 0\n",
    "    elif x == \"days2_weeks2\":\n",
    "        orp_1[i] = 0\n",
    "        orp_2[i] = 1\n",
    "        orp_3[i] = 0\n",
    "        adv_1[i] = 0\n",
    "        adv_2[i] = 1\n",
    "    elif x == \"days2_weeksM\":\n",
    "        orp_1[i] = 0\n",
    "        orp_2[i] = 1\n",
    "        orp_3[i] = 0\n",
    "        adv_1[i] = 0\n",
    "        adv_2[i] = 0\n",
    "    elif x == \"days3_weeks1\":\n",
    "        orp_1[i] = 0\n",
    "        orp_2[i] = 0\n",
    "        orp_3[i] = 1\n",
    "        adv_1[i] = 1\n",
    "        adv_2[i] = 0\n",
    "    elif x == \"days3_weeks2\":\n",
    "        orp_1[i] = 0\n",
    "        orp_2[i] = 0\n",
    "        orp_3[i] = 1\n",
    "        adv_1[i] = 0\n",
    "        adv_2[i] = 1\n",
    "    elif x == \"days3_weeksM\":\n",
    "        orp_1[i] = 0\n",
    "        orp_2[i] = 0\n",
    "        orp_3[i] = 1\n",
    "        adv_1[i] = 0\n",
    "        adv_2[i] = 0\n",
    "    elif x == \"daysM_weeks1\":\n",
    "        orp_1[i] = 0\n",
    "        orp_2[i] = 0\n",
    "        orp_3[i] = 0\n",
    "        adv_1[i] = 1\n",
    "        adv_2[i] = 0\n",
    "    elif x == \"daysM_weeks2\":\n",
    "        orp_1[i] = 0\n",
    "        orp_2[i] = 0\n",
    "        orp_3[i] = 0\n",
    "        adv_1[i] = 0\n",
    "        adv_2[i] = 1\n",
    "    elif x == \"daysM_weeksM\":\n",
    "        orp_1[i] = 0\n",
    "        orp_2[i] = 0\n",
    "        orp_3[i] = 0\n",
    "        adv_1[i] = 0\n",
    "        adv_2[i] = 0\n",
    "        \n",
    "responses[\"orp_1\"]=orp_1\n",
    "responses[\"orp_2\"]=orp_2\n",
    "responses[\"orp_3\"]=orp_3\n",
    "responses[\"adv_1\"]=adv_1\n",
    "responses[\"adv_2\"]=adv_2"
   ]
  },
  {
   "cell_type": "code",
   "execution_count": 105,
   "metadata": {
    "collapsed": true
   },
   "outputs": [],
   "source": [
    "responses[\"orp_1, adv_1\"] = responses[\"orp_1\"]*responses[\"adv_1\"]\n",
    "responses[\"orp_1, adv_2\"] = responses[\"orp_1\"]*responses[\"adv_2\"]\n",
    "responses[\"orp_2, adv_1\"] = responses[\"orp_2\"]*responses[\"adv_1\"]\n",
    "responses[\"orp_2, adv_2\"] = responses[\"orp_2\"]*responses[\"adv_2\"]\n",
    "responses[\"orp_3, adv_1\"] = responses[\"orp_3\"]*responses[\"adv_1\"]\n",
    "responses[\"orp_3, adv_2\"] = responses[\"orp_3\"]*responses[\"adv_2\"]"
   ]
  },
  {
   "cell_type": "code",
   "execution_count": 106,
   "metadata": {
    "collapsed": false,
    "scrolled": true
   },
   "outputs": [
    {
     "data": {
      "text/html": [
       "<div>\n",
       "<table border=\"1\" class=\"dataframe\">\n",
       "  <thead>\n",
       "    <tr style=\"text-align: right;\">\n",
       "      <th></th>\n",
       "      <th>Unnamed: 0</th>\n",
       "      <th>actions</th>\n",
       "      <th>bucket_name</th>\n",
       "      <th>discount_asked</th>\n",
       "      <th>id</th>\n",
       "      <th>nightly_price</th>\n",
       "      <th>nightly_price_scraped</th>\n",
       "      <th>response</th>\n",
       "      <th>availability</th>\n",
       "      <th>price</th>\n",
       "      <th>...</th>\n",
       "      <th>orp_2</th>\n",
       "      <th>orp_3</th>\n",
       "      <th>adv_1</th>\n",
       "      <th>adv_2</th>\n",
       "      <th>orp_1, adv_1</th>\n",
       "      <th>orp_1, adv_2</th>\n",
       "      <th>orp_2, adv_1</th>\n",
       "      <th>orp_2, adv_2</th>\n",
       "      <th>orp_3, adv_1</th>\n",
       "      <th>orp_3, adv_2</th>\n",
       "    </tr>\n",
       "  </thead>\n",
       "  <tbody>\n",
       "    <tr>\n",
       "      <th>0</th>\n",
       "      <td>0</td>\n",
       "      <td>[&lt;span class=\"horizontal-rule-wrapper\" data-re...</td>\n",
       "      <td>days1_weeks1</td>\n",
       "      <td>0.6</td>\n",
       "      <td>8823897</td>\n",
       "      <td>55</td>\n",
       "      <td>$60</td>\n",
       "      <td>Hi Reuben, my name is Michele and I am interes...</td>\n",
       "      <td>-1</td>\n",
       "      <td>NaN</td>\n",
       "      <td>...</td>\n",
       "      <td>0</td>\n",
       "      <td>0</td>\n",
       "      <td>1</td>\n",
       "      <td>0</td>\n",
       "      <td>1</td>\n",
       "      <td>0</td>\n",
       "      <td>0</td>\n",
       "      <td>0</td>\n",
       "      <td>0</td>\n",
       "      <td>0</td>\n",
       "    </tr>\n",
       "    <tr>\n",
       "      <th>1</th>\n",
       "      <td>1</td>\n",
       "      <td>[]</td>\n",
       "      <td>days1_weeks1</td>\n",
       "      <td>0.7</td>\n",
       "      <td>7803063</td>\n",
       "      <td>65</td>\n",
       "      <td>$120</td>\n",
       "      <td>No can do. Cleaning fee alone is $50.  *******...</td>\n",
       "      <td>0</td>\n",
       "      <td>NaN</td>\n",
       "      <td>...</td>\n",
       "      <td>0</td>\n",
       "      <td>0</td>\n",
       "      <td>1</td>\n",
       "      <td>0</td>\n",
       "      <td>1</td>\n",
       "      <td>0</td>\n",
       "      <td>0</td>\n",
       "      <td>0</td>\n",
       "      <td>0</td>\n",
       "      <td>0</td>\n",
       "    </tr>\n",
       "    <tr>\n",
       "      <th>2</th>\n",
       "      <td>2</td>\n",
       "      <td>[&lt;span class=\"horizontal-rule-wrapper\" data-re...</td>\n",
       "      <td>days1_weeks1</td>\n",
       "      <td>0.8</td>\n",
       "      <td>8860745</td>\n",
       "      <td>92</td>\n",
       "      <td>$112</td>\n",
       "      <td>I arrive late* (11pm) *************** Hi Miche...</td>\n",
       "      <td>-1</td>\n",
       "      <td>NaN</td>\n",
       "      <td>...</td>\n",
       "      <td>0</td>\n",
       "      <td>0</td>\n",
       "      <td>1</td>\n",
       "      <td>0</td>\n",
       "      <td>1</td>\n",
       "      <td>0</td>\n",
       "      <td>0</td>\n",
       "      <td>0</td>\n",
       "      <td>0</td>\n",
       "      <td>0</td>\n",
       "    </tr>\n",
       "    <tr>\n",
       "      <th>3</th>\n",
       "      <td>3</td>\n",
       "      <td>[&lt;span class=\"horizontal-rule-wrapper\" data-re...</td>\n",
       "      <td>days1_weeks1</td>\n",
       "      <td>0.6</td>\n",
       "      <td>6038278</td>\n",
       "      <td>32</td>\n",
       "      <td>$35</td>\n",
       "      <td>Hi the room is available but the price is firm...</td>\n",
       "      <td>0</td>\n",
       "      <td>NaN</td>\n",
       "      <td>...</td>\n",
       "      <td>0</td>\n",
       "      <td>0</td>\n",
       "      <td>1</td>\n",
       "      <td>0</td>\n",
       "      <td>1</td>\n",
       "      <td>0</td>\n",
       "      <td>0</td>\n",
       "      <td>0</td>\n",
       "      <td>0</td>\n",
       "      <td>0</td>\n",
       "    </tr>\n",
       "    <tr>\n",
       "      <th>4</th>\n",
       "      <td>4</td>\n",
       "      <td>[]</td>\n",
       "      <td>days1_weeks1</td>\n",
       "      <td>0.7</td>\n",
       "      <td>6400170</td>\n",
       "      <td>74</td>\n",
       "      <td>$130</td>\n",
       "      <td>Hi Andres, my name is Michele and I am interes...</td>\n",
       "      <td>-1</td>\n",
       "      <td>NaN</td>\n",
       "      <td>...</td>\n",
       "      <td>0</td>\n",
       "      <td>0</td>\n",
       "      <td>1</td>\n",
       "      <td>0</td>\n",
       "      <td>1</td>\n",
       "      <td>0</td>\n",
       "      <td>0</td>\n",
       "      <td>0</td>\n",
       "      <td>0</td>\n",
       "      <td>0</td>\n",
       "    </tr>\n",
       "  </tbody>\n",
       "</table>\n",
       "<p>5 rows × 22 columns</p>\n",
       "</div>"
      ],
      "text/plain": [
       "   Unnamed: 0                                            actions  \\\n",
       "0           0  [<span class=\"horizontal-rule-wrapper\" data-re...   \n",
       "1           1                                                 []   \n",
       "2           2  [<span class=\"horizontal-rule-wrapper\" data-re...   \n",
       "3           3  [<span class=\"horizontal-rule-wrapper\" data-re...   \n",
       "4           4                                                 []   \n",
       "\n",
       "    bucket_name  discount_asked       id  nightly_price nightly_price_scraped  \\\n",
       "0  days1_weeks1             0.6  8823897             55                  $60    \n",
       "1  days1_weeks1             0.7  7803063             65                 $120    \n",
       "2  days1_weeks1             0.8  8860745             92                 $112    \n",
       "3  days1_weeks1             0.6  6038278             32                  $35    \n",
       "4  days1_weeks1             0.7  6400170             74                 $130    \n",
       "\n",
       "                                            response  availability  price  \\\n",
       "0  Hi Reuben, my name is Michele and I am interes...            -1    NaN   \n",
       "1  No can do. Cleaning fee alone is $50.  *******...             0    NaN   \n",
       "2  I arrive late* (11pm) *************** Hi Miche...            -1    NaN   \n",
       "3  Hi the room is available but the price is firm...             0    NaN   \n",
       "4  Hi Andres, my name is Michele and I am interes...            -1    NaN   \n",
       "\n",
       "       ...      orp_2  orp_3  adv_1  adv_2  orp_1, adv_1  orp_1, adv_2  \\\n",
       "0      ...          0      0      1      0             1             0   \n",
       "1      ...          0      0      1      0             1             0   \n",
       "2      ...          0      0      1      0             1             0   \n",
       "3      ...          0      0      1      0             1             0   \n",
       "4      ...          0      0      1      0             1             0   \n",
       "\n",
       "   orp_2, adv_1  orp_2, adv_2  orp_3, adv_1  orp_3, adv_2  \n",
       "0             0             0             0             0  \n",
       "1             0             0             0             0  \n",
       "2             0             0             0             0  \n",
       "3             0             0             0             0  \n",
       "4             0             0             0             0  \n",
       "\n",
       "[5 rows x 22 columns]"
      ]
     },
     "execution_count": 106,
     "metadata": {},
     "output_type": "execute_result"
    }
   ],
   "source": [
    "responses.head()"
   ]
  },
  {
   "cell_type": "code",
   "execution_count": 107,
   "metadata": {
    "collapsed": false
   },
   "outputs": [],
   "source": [
    "inside_airbnb = pd.read_csv('listings_nyc.csv')\n",
    "\n",
    "shared = inside_airbnb[\"room_type\"].values\n",
    "inside_airbnb[\"shared\"] = [x==\"Private room\" for x in shared]\n",
    "# shared_binary\n",
    "\n",
    "instant = inside_airbnb[\"instant_bookable\"].values\n",
    "inside_airbnb[\"instant\"]  = [x==\"t\" for x in shared]\n",
    "# instant_binary"
   ]
  },
  {
   "cell_type": "code",
   "execution_count": 108,
   "metadata": {
    "collapsed": true
   },
   "outputs": [],
   "source": [
    "available= pd.merge(responses[responses[\"availability\"]!=-1], inside_airbnb, how='inner',left_on=['id'], right_on=['id'])"
   ]
  },
  {
   "cell_type": "code",
   "execution_count": 109,
   "metadata": {
    "collapsed": false
   },
   "outputs": [
    {
     "name": "stdout",
     "output_type": "stream",
     "text": [
      "104\n",
      "bucket_name\n",
      "days1_weeks1    10\n",
      "days1_weeksM     9\n",
      "days2_weeks1     9\n",
      "days2_weeks2    12\n",
      "days2_weeksM    10\n",
      "days3_weeks1    11\n",
      "days3_weeks2     5\n",
      "days3_weeksM     9\n",
      "daysM_weeks1    10\n",
      "daysM_weeks2     9\n",
      "daysM_weeksM    10\n",
      "Name: id, dtype: int64\n"
     ]
    }
   ],
   "source": [
    "sample_count = available.groupby(\"bucket_name\")[\"id\"].count()\n",
    "print len(available)\n",
    "print sample_count"
   ]
  },
  {
   "cell_type": "code",
   "execution_count": 110,
   "metadata": {
    "collapsed": true
   },
   "outputs": [],
   "source": [
    "cal_param = [\"orp_1\", \"orp_2\", \"orp_3\", \"adv_1\", \"adv_2\", \"orp_1, adv_1\", \"orp_1, adv_2\", \"orp_2, adv_1\", \"orp_2, adv_2\", \"orp_3, adv_1\", \"orp_3, adv_2\"]\n",
    "all_param = cal_param + [\"discount_asked\", \"nightly_price\", \"shared\", \"instant\"]"
   ]
  },
  {
   "cell_type": "code",
   "execution_count": 111,
   "metadata": {
    "collapsed": false
   },
   "outputs": [],
   "source": [
    "X_train = available[all_param].values\n",
    "Y_train = available[\"availability\"].values"
   ]
  },
  {
   "cell_type": "markdown",
   "metadata": {},
   "source": [
    "## Logistic Regression"
   ]
  },
  {
   "cell_type": "code",
   "execution_count": 112,
   "metadata": {
    "collapsed": false
   },
   "outputs": [],
   "source": [
    "logistic = LogisticRegression()\n",
    "logistic.fit(X_train, Y_train)\n",
    "# precisions=cross_validation.cross_val_score(lr, X, y, cv=kf_total, scoring='precision')\n",
    "\n",
    "lr_scores = -cross_val_score(logistic, X_train, Y_train, scoring='mean_squared_error', cv=5)"
   ]
  },
  {
   "cell_type": "markdown",
   "metadata": {},
   "source": [
    "#### Coefficient"
   ]
  },
  {
   "cell_type": "code",
   "execution_count": 113,
   "metadata": {
    "collapsed": false
   },
   "outputs": [
    {
     "data": {
      "text/plain": [
       "[('orp_1', -0.67978310106545903),\n",
       " ('orp_2', 0.44899177569948689),\n",
       " ('orp_3', 0.48967858479423343),\n",
       " ('adv_1', -0.50649697324094611),\n",
       " ('adv_2', -0.45148027073001312),\n",
       " ('orp_1, adv_1', 0.2947336720609543),\n",
       " ('orp_1, adv_2', 0.0),\n",
       " ('orp_2, adv_1', -0.069988895069940132),\n",
       " ('orp_2, adv_2', 0.43221886011959287),\n",
       " ('orp_3, adv_1', -0.04378944953693914),\n",
       " ('orp_3, adv_2', 0.41504606143040967),\n",
       " ('discount_asked', -0.24696961430142622),\n",
       " ('nightly_price', 0.0044412580210620861),\n",
       " ('shared', 0.036177417352815128),\n",
       " ('instant', 0.0)]"
      ]
     },
     "execution_count": 113,
     "metadata": {},
     "output_type": "execute_result"
    }
   ],
   "source": [
    "zip(all_param, np.ravel(logistic.coef_))"
   ]
  },
  {
   "cell_type": "markdown",
   "metadata": {},
   "source": [
    "#### Accuracy"
   ]
  },
  {
   "cell_type": "code",
   "execution_count": 114,
   "metadata": {
    "collapsed": false
   },
   "outputs": [
    {
     "data": {
      "text/plain": [
       "0.69230769230769229"
      ]
     },
     "execution_count": 114,
     "metadata": {},
     "output_type": "execute_result"
    }
   ],
   "source": [
    "logistic.score(X_train, Y_train)"
   ]
  },
  {
   "cell_type": "code",
   "execution_count": 115,
   "metadata": {
    "collapsed": false
   },
   "outputs": [
    {
     "data": {
      "text/plain": [
       "array([ 0.36363636,  0.72727273,  0.55      ,  0.4       ,  0.3       ])"
      ]
     },
     "execution_count": 115,
     "metadata": {},
     "output_type": "execute_result"
    }
   ],
   "source": [
    "lr_scores"
   ]
  },
  {
   "cell_type": "markdown",
   "metadata": {},
   "source": [
    "#### Prediction"
   ]
  },
  {
   "cell_type": "code",
   "execution_count": 116,
   "metadata": {
    "collapsed": false,
    "scrolled": true
   },
   "outputs": [
    {
     "data": {
      "text/plain": [
       "array([[ 0.82316984,  0.17683016],\n",
       "       [ 0.84021617,  0.15978383],\n",
       "       [ 0.83849245,  0.16150755],\n",
       "       [ 0.84180909,  0.15819091],\n",
       "       [ 0.830444  ,  0.169556  ]])"
      ]
     },
     "execution_count": 116,
     "metadata": {},
     "output_type": "execute_result"
    }
   ],
   "source": [
    "logistic.predict_proba(X_train)[:5]"
   ]
  },
  {
   "cell_type": "markdown",
   "metadata": {
    "collapsed": true
   },
   "source": [
    "## Random Forest"
   ]
  },
  {
   "cell_type": "code",
   "execution_count": 146,
   "metadata": {
    "collapsed": true
   },
   "outputs": [],
   "source": [
    "rf = RandomForestRegressor(n_estimators=100)\n",
    "rf.fit(X_train, Y_train)\n",
    "# precisions=cross_validation.cross_val_score(lr, X, y, cv=kf_total, scoring='precision')\n",
    "\n",
    "rf_scores = -cross_val_score(rf, X_train, Y_train, scoring='mean_squared_error', cv=5)"
   ]
  },
  {
   "cell_type": "code",
   "execution_count": 147,
   "metadata": {
    "collapsed": false
   },
   "outputs": [
    {
     "data": {
      "text/plain": [
       "0.84335812827753132"
      ]
     },
     "execution_count": 147,
     "metadata": {},
     "output_type": "execute_result"
    }
   ],
   "source": [
    "rf.score(X_train, Y_train)"
   ]
  },
  {
   "cell_type": "code",
   "execution_count": 148,
   "metadata": {
    "collapsed": false
   },
   "outputs": [
    {
     "data": {
      "text/plain": [
       "array([ 0.16735238,  0.23689048,  0.24374762,  0.26832857,  0.28012   ])"
      ]
     },
     "execution_count": 148,
     "metadata": {},
     "output_type": "execute_result"
    }
   ],
   "source": [
    "rf_scores"
   ]
  },
  {
   "cell_type": "code",
   "execution_count": 149,
   "metadata": {
    "collapsed": false
   },
   "outputs": [
    {
     "data": {
      "text/plain": [
       "array([ 0.07,  0.02,  0.  ,  0.16,  0.  ,  0.1 ,  0.74,  0.17,  0.75,\n",
       "        0.06,  0.02,  0.69,  0.18,  0.05,  0.19,  0.13,  0.15,  0.17,\n",
       "        0.08,  0.18,  0.04,  0.04,  0.07,  0.01,  0.68,  0.93,  0.11,\n",
       "        0.93,  0.69,  0.12,  0.26,  0.68,  0.13,  0.31,  0.75,  0.19,\n",
       "        0.94,  0.85,  0.76,  0.19,  0.13,  0.76,  0.97,  0.85,  0.21,\n",
       "        0.05,  0.92,  0.92,  0.09,  0.04,  0.28,  0.03,  0.81,  0.08,\n",
       "        0.05,  0.77,  0.75,  0.3 ,  0.67,  0.03,  0.08,  0.72,  0.8 ,\n",
       "        0.83,  0.21,  0.19,  0.79,  0.09,  0.69,  0.21,  0.13,  0.26,\n",
       "        0.74,  0.83,  0.66,  0.65,  0.09,  0.04,  0.09,  0.15,  0.04,\n",
       "        0.35,  0.24,  0.03,  0.7 ,  0.16,  0.09,  0.68,  0.02,  0.08,\n",
       "        0.1 ,  0.13,  0.13,  0.13,  0.24,  0.75,  0.68,  0.2 ,  0.06,\n",
       "        0.74,  0.21,  0.71,  0.73,  0.09])"
      ]
     },
     "execution_count": 149,
     "metadata": {},
     "output_type": "execute_result"
    }
   ],
   "source": [
    "rf.predict(X_train)"
   ]
  },
  {
   "cell_type": "markdown",
   "metadata": {},
   "source": [
    "## SVM"
   ]
  },
  {
   "cell_type": "code",
   "execution_count": 134,
   "metadata": {
    "collapsed": false
   },
   "outputs": [],
   "source": [
    "clf = svm.SVC()\n",
    "clf.fit(X_train, Y_train)  \n",
    "\n",
    "clf_scores = -cross_val_score(clf, X_train, Y_train, scoring='mean_squared_error', cv=5)"
   ]
  },
  {
   "cell_type": "code",
   "execution_count": 135,
   "metadata": {
    "collapsed": false
   },
   "outputs": [
    {
     "data": {
      "text/plain": [
       "0.82692307692307687"
      ]
     },
     "execution_count": 135,
     "metadata": {},
     "output_type": "execute_result"
    }
   ],
   "source": [
    "clf.score(X_train, Y_train)"
   ]
  },
  {
   "cell_type": "code",
   "execution_count": 136,
   "metadata": {
    "collapsed": false
   },
   "outputs": [
    {
     "data": {
      "text/plain": [
       "array([ 0.45454545,  0.36363636,  0.4       ,  0.25      ,  0.35      ])"
      ]
     },
     "execution_count": 136,
     "metadata": {},
     "output_type": "execute_result"
    }
   ],
   "source": [
    "clf_scores"
   ]
  },
  {
   "cell_type": "code",
   "execution_count": 137,
   "metadata": {
    "collapsed": false
   },
   "outputs": [
    {
     "data": {
      "text/plain": [
       "array([[   1.,    0.,    0., ...,   65.,    1.,    0.],\n",
       "       [   1.,    0.,    0., ...,   32.,    1.,    0.],\n",
       "       [   1.,    0.,    0., ...,   48.,    1.,    0.],\n",
       "       ..., \n",
       "       [   0.,    0.,    0., ...,  283.,    0.,    0.],\n",
       "       [   0.,    0.,    0., ...,   69.,    1.,    0.],\n",
       "       [   0.,    0.,    0., ...,   72.,    1.,    0.]])"
      ]
     },
     "execution_count": 137,
     "metadata": {},
     "output_type": "execute_result"
    }
   ],
   "source": [
    "clf.support_vectors_"
   ]
  }
 ],
 "metadata": {
  "kernelspec": {
   "display_name": "Python 2",
   "language": "python",
   "name": "python2"
  },
  "language_info": {
   "codemirror_mode": {
    "name": "ipython",
    "version": 2
   },
   "file_extension": ".py",
   "mimetype": "text/x-python",
   "name": "python",
   "nbconvert_exporter": "python",
   "pygments_lexer": "ipython2",
   "version": "2.7.11"
  }
 },
 "nbformat": 4,
 "nbformat_minor": 0
}
